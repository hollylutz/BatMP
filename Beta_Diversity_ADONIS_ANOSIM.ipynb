{
 "cells": [
  {
   "cell_type": "markdown",
   "metadata": {},
   "source": [
    "## Beta Diversity Measures"
   ]
  },
  {
   "cell_type": "code",
   "execution_count": 2,
   "metadata": {},
   "outputs": [],
   "source": [
    "library(phyloseq)\n",
    "library(ggplot2)\n",
    "library(vegan)\n",
    "library(readr)\n",
    "library(data.table)\n",
    "library(dplyr)\n",
    "library(stats)\n",
    "library(plotly)"
   ]
  },
  {
   "cell_type": "code",
   "execution_count": 3,
   "metadata": {
    "collapsed": true
   },
   "outputs": [],
   "source": [
    "#Read in Data\n",
    "\n",
    "batfecal_.00 = readRDS(\"/group/gilbert-lab/Lutz/Batmicrobiome/batrun_finaldata_for_phyloseq_Oct2017/RDSfiles/batfecal_.00.rds\")\n",
    "batoral_.00 = readRDS(\"/group/gilbert-lab/Lutz/Batmicrobiome/batrun_finaldata_for_phyloseq_Oct2017/RDSfiles/batoral_.00.rds\")\n",
    "batskin_.00 = readRDS(\"/group/gilbert-lab/Lutz/Batmicrobiome/batrun_finaldata_for_phyloseq_Oct2017/RDSfiles/batskin_.00.rds\")\n",
    "\n",
    "bats_all = readRDS(\"/group/gilbert-lab/Lutz/Batmicrobiome/batrun_finaldata_for_phyloseq_Oct2017/RDSfiles/new_bats.00.rds\")\n"
   ]
  },
  {
   "cell_type": "code",
   "execution_count": 4,
   "metadata": {},
   "outputs": [
    {
     "name": "stderr",
     "output_type": "stream",
     "text": [
      "Warning message in UniFrac(physeq, weighted = TRUE, ...):\n",
      "“Randomly assigning root as -- TACGTAGGGCGCAAGCGTTGTCCGGAATTATTGGGCGTAAAGAGCTTGTAGGTGGCTTGTCGCGTCTGCCGTGAAAACCCGAGGCTCAACTTCGGGCGTGCGGTGGGTACGGGCAGGCTAGAGTGTGGTAGGGGAGACTGGAACTCCTGG -- in the phylogenetic tree in the data you provided.”Warning message in UniFrac(physeq, weighted = TRUE, ...):\n",
      "“Randomly assigning root as -- TACGTAGGGGGCAAGCGTTGTCCGGAATCATTGGGCGTAAAGAGCTCGTAGGCGGTTCAGTAAGTCGGGTGTGAAAGCTCCGAGCTCAACTCGGAGAGGCCACTCGATACTGCTGTGACTAGAATCCAGTAGGGGAGCGTGGAACTCCTG -- in the phylogenetic tree in the data you provided.”Warning message in UniFrac(physeq, weighted = TRUE, ...):\n",
      "“Randomly assigning root as -- TACGTAGATGGCAAGCGTTGTCCGGATTTATTGGGCGTAAAGCGAGCGCAGGCGGTTCTTTAAGTCTGATGTGAAAGCCCCCAGCTCAACTGGGGAAGGTCATTGGAAACTGGGGAACTTGAGTGCAGAAGAGGAGAGTGGAATTCCACG -- in the phylogenetic tree in the data you provided.”Warning message in UniFrac(physeq, ...):\n",
      "“Randomly assigning root as -- TACGTAGGTGGCGAGCGTTGTCCGGAATTACTGGGTGTAAAGGGAGTGTAGGCGGGAAGGCAAGTCAGAAGTGAAAATTATGGGCTCAACCCATAACCTGCTTTTGAAACTGTTTTTCTTGAGTGAAGTAGAGGCAAGCGGAATTCCTAG -- in the phylogenetic tree in the data you provided.”Warning message in UniFrac(physeq, ...):\n",
      "“Randomly assigning root as -- TACGTAGGGTGCAAGCGTTAATCGGAATTACTGGGCGTAAAGCGTGCGCAGGCGGTCGTGCAAGACAGATGTGAAATCCCCGGGCTCAACCTGGGAACTGCATTTGTGACTGCACGGCTGGAGTGCGGCAGAGGGGGATGGAATTCCGCG -- in the phylogenetic tree in the data you provided.”Warning message in UniFrac(physeq, ...):\n",
      "“Randomly assigning root as -- TACAGAGGGTGCAAGCGTTAATCGGAATTACTGGGCGTAAAGCGCGCGTAGGTGGTTCGTTAAGTTGGATGTGAAAGCCCCGGGCTCAACCTGGGAACTGCATCCAAAACTGGCGAGCTAGAGTAGGGCAGAGGGTGGTGGAATTTCCTG -- in the phylogenetic tree in the data you provided.”"
     ]
    }
   ],
   "source": [
    "# Weighted Unifrac\n",
    "batfecal.00.dist.wunif = distance(batfecal_.00, method = \"wunifrac\", type = \"samples\")\n",
    "batoral.00.dist.wunif = distance(batoral_.00, method = \"wunifrac\", type = \"samples\")\n",
    "batskin.00.dist.wunif = distance(batskin_.00, method = \"wunifrac\", type = \"samples\")\n",
    "\n",
    "# Unifrac\n",
    "batfecal.00.dist.unif = distance(batfecal_.00, method = \"unifrac\", type = \"samples\")\n",
    "batoral.00.dist.unif = distance(batoral_.00, method = \"unifrac\", type = \"samples\")\n",
    "batskin.00.dist.unif = distance(batskin_.00, method = \"unifrac\", type = \"samples\")\n",
    "\n",
    "# Bray-Curtis\n",
    "batfecal.00.dist.bc = distance(batfecal_.00, method = \"bray\", type = \"samples\")\n",
    "batoral.00.dist.bc = distance(batoral_.00, method = \"bray\", type = \"samples\")\n",
    "batskin.00.dist.bc = distance(batskin_.00, method = \"bray\", type = \"samples\")\n"
   ]
  },
  {
   "cell_type": "code",
   "execution_count": null,
   "metadata": {},
   "outputs": [
    {
     "name": "stderr",
     "output_type": "stream",
     "text": [
      "Warning message in UniFrac(physeq, weighted = TRUE, ...):\n",
      "“Randomly assigning root as -- TACGAAAGGTGCGAGCGTTAATCGGAATTACTGGGCGTAAAGCGTGCGTAGGTGGTTATTTAAGTTGGATGTGAAAGCCCCGGGCTCAACCTGGGAGGGGCATCCAATACTGAGTAACTAGAGTATGGTAGAGGGAAGCGGAATTTCCAG -- in the phylogenetic tree in the data you provided.”"
     ]
    }
   ],
   "source": [
    "batsall.00.dist.wunif = distance(bats_all, method = \"wunifrac\", type = \"samples\")\n",
    "saveRDS(batsall.00.dist.wunif, \"/group/gilbert-lab/Lutz/Batmicrobiome/batrun_finaldata_for_phyloseq_Oct2017/Bdiv/adonis/batsall.00.dist.wunif\")"
   ]
  },
  {
   "cell_type": "code",
   "execution_count": 17,
   "metadata": {
    "collapsed": true
   },
   "outputs": [],
   "source": [
    "saveRDS(batfecal.00.dist.wunif, \"/group/gilbert-lab/Lutz/Batmicrobiome/batrun_finaldata_for_phyloseq_Oct2017/Adiv/batfecal.00.dist.wunif.rds\")\n",
    "saveRDS(batoral.00.dist.wunif, \"/group/gilbert-lab/Lutz/Batmicrobiome/batrun_finaldata_for_phyloseq_Oct2017/Adiv/batoral.00.dist.wunif.rds\")\n",
    "saveRDS(batskin.00.dist.wunif, \"/group/gilbert-lab/Lutz/Batmicrobiome/batrun_finaldata_for_phyloseq_Oct2017/Adiv/batskin.00.dist.wunif.rds\")\n",
    "saveRDS(batfecal.00.dist.unif, \"/group/gilbert-lab/Lutz/Batmicrobiome/batrun_finaldata_for_phyloseq_Oct2017/Adiv/batfecal.00.dist.unif.rds\")\n",
    "saveRDS(batoral.00.dist.unif, \"/group/gilbert-lab/Lutz/Batmicrobiome/batrun_finaldata_for_phyloseq_Oct2017/Adiv/batoral.00.dist.unif.rds\")\n",
    "saveRDS(batskin.00.dist.unif, \"/group/gilbert-lab/Lutz/Batmicrobiome/batrun_finaldata_for_phyloseq_Oct2017/Adiv/batskin.00.dist.unif.rds\")\n",
    "saveRDS(batfecal.00.dist.bc, \"/group/gilbert-lab/Lutz/Batmicrobiome/batrun_finaldata_for_phyloseq_Oct2017/Adiv/batfecal.00.dist.bc.rds\")\n",
    "saveRDS(batoral.00.dist.bc, \"/group/gilbert-lab/Lutz/Batmicrobiome/batrun_finaldata_for_phyloseq_Oct2017/Adiv/batoral.00.dist.bc.rds\")\n",
    "saveRDS(batskin.00.dist.bc, \"/group/gilbert-lab/Lutz/Batmicrobiome/batrun_finaldata_for_phyloseq_Oct2017/Adiv/batskin.00.dist.bc.rds\")"
   ]
  },
  {
   "cell_type": "code",
   "execution_count": 7,
   "metadata": {
    "collapsed": true
   },
   "outputs": [],
   "source": [
    "#Convert to data frame from ADONIS tests\n",
    "\n",
    "batfecal.df = data.frame(sample_data(batfecal_.00))\n",
    "batoral.df = data.frame(sample_data(batoral_.00))\n",
    "batskin.df = data.frame(sample_data(batskin_.00))"
   ]
  },
  {
   "cell_type": "code",
   "execution_count": 11,
   "metadata": {
    "collapsed": true
   },
   "outputs": [
    {
     "data": {
      "text/html": [
       "<table>\n",
       "<thead><tr><th></th><th scope=col>Df</th><th scope=col>SumOfSqs</th><th scope=col>F</th><th scope=col>Pr(&gt;F)</th></tr></thead>\n",
       "<tbody>\n",
       "\t<tr><th scope=row>Ecto_status</th><td>  1        </td><td> 0.02346617</td><td>0.4683427  </td><td>0.912      </td></tr>\n",
       "\t<tr><th scope=row>Haem_status</th><td>  1        </td><td> 0.06707530</td><td>1.3387026  </td><td>0.210      </td></tr>\n",
       "\t<tr><th scope=row>Host_Genus:Host_species</th><td> 14        </td><td> 2.99531535</td><td>4.2700799  </td><td>0.001      </td></tr>\n",
       "\t<tr><th scope=row>Residual</th><td>368        </td><td>18.43853157</td><td>       NA  </td><td>   NA      </td></tr>\n",
       "</tbody>\n",
       "</table>\n"
      ],
      "text/latex": [
       "\\begin{tabular}{r|llll}\n",
       "  & Df & SumOfSqs & F & Pr(>F)\\\\\n",
       "\\hline\n",
       "\tEcto\\_status &   1         &  0.02346617 & 0.4683427   & 0.912      \\\\\n",
       "\tHaem\\_status &   1         &  0.06707530 & 1.3387026   & 0.210      \\\\\n",
       "\tHost\\_Genus:Host\\_species &  14         &  2.99531535 & 4.2700799   & 0.001      \\\\\n",
       "\tResidual & 368         & 18.43853157 &        NA   &    NA      \\\\\n",
       "\\end{tabular}\n"
      ],
      "text/markdown": [
       "\n",
       "| <!--/--> | Df | SumOfSqs | F | Pr(>F) | \n",
       "|---|---|---|---|\n",
       "| Ecto_status |   1         |  0.02346617 | 0.4683427   | 0.912       | \n",
       "| Haem_status |   1         |  0.06707530 | 1.3387026   | 0.210       | \n",
       "| Host_Genus:Host_species |  14         |  2.99531535 | 4.2700799   | 0.001       | \n",
       "| Residual | 368         | 18.43853157 |        NA   |    NA       | \n",
       "\n",
       "\n"
      ],
      "text/plain": [
       "                        Df  SumOfSqs    F         Pr(>F)\n",
       "Ecto_status               1  0.02346617 0.4683427 0.912 \n",
       "Haem_status               1  0.06707530 1.3387026 0.210 \n",
       "Host_Genus:Host_species  14  2.99531535 4.2700799 0.001 \n",
       "Residual                368 18.43853157        NA    NA "
      ]
     },
     "metadata": {},
     "output_type": "display_data"
    },
    {
     "data": {
      "text/html": [
       "<table>\n",
       "<thead><tr><th></th><th scope=col>Df</th><th scope=col>SumOfSqs</th><th scope=col>F</th><th scope=col>Pr(&gt;F)</th></tr></thead>\n",
       "<tbody>\n",
       "\t<tr><th scope=row>Ecto_status</th><td>  1        </td><td> 0.01873268</td><td>0.506284   </td><td>0.836      </td></tr>\n",
       "\t<tr><th scope=row>Haem_status</th><td>  1        </td><td> 0.10289420</td><td>2.780900   </td><td>0.015      </td></tr>\n",
       "\t<tr><th scope=row>Host_Genus:Host_species</th><td> 14        </td><td> 3.53314448</td><td>6.820681   </td><td>0.001      </td></tr>\n",
       "\t<tr><th scope=row>Residual</th><td>342        </td><td>12.65411332</td><td>      NA   </td><td>   NA      </td></tr>\n",
       "</tbody>\n",
       "</table>\n"
      ],
      "text/latex": [
       "\\begin{tabular}{r|llll}\n",
       "  & Df & SumOfSqs & F & Pr(>F)\\\\\n",
       "\\hline\n",
       "\tEcto\\_status &   1         &  0.01873268 & 0.506284    & 0.836      \\\\\n",
       "\tHaem\\_status &   1         &  0.10289420 & 2.780900    & 0.015      \\\\\n",
       "\tHost\\_Genus:Host\\_species &  14         &  3.53314448 & 6.820681    & 0.001      \\\\\n",
       "\tResidual & 342         & 12.65411332 &       NA    &    NA      \\\\\n",
       "\\end{tabular}\n"
      ],
      "text/markdown": [
       "\n",
       "| <!--/--> | Df | SumOfSqs | F | Pr(>F) | \n",
       "|---|---|---|---|\n",
       "| Ecto_status |   1         |  0.01873268 | 0.506284    | 0.836       | \n",
       "| Haem_status |   1         |  0.10289420 | 2.780900    | 0.015       | \n",
       "| Host_Genus:Host_species |  14         |  3.53314448 | 6.820681    | 0.001       | \n",
       "| Residual | 342         | 12.65411332 |       NA    |    NA       | \n",
       "\n",
       "\n"
      ],
      "text/plain": [
       "                        Df  SumOfSqs    F        Pr(>F)\n",
       "Ecto_status               1  0.01873268 0.506284 0.836 \n",
       "Haem_status               1  0.10289420 2.780900 0.015 \n",
       "Host_Genus:Host_species  14  3.53314448 6.820681 0.001 \n",
       "Residual                342 12.65411332       NA    NA "
      ]
     },
     "metadata": {},
     "output_type": "display_data"
    },
    {
     "data": {
      "text/html": [
       "<table>\n",
       "<thead><tr><th></th><th scope=col>Df</th><th scope=col>SumOfSqs</th><th scope=col>F</th><th scope=col>Pr(&gt;F)</th></tr></thead>\n",
       "<tbody>\n",
       "\t<tr><th scope=row>Ecto_status</th><td>  1        </td><td> 0.11784861</td><td>2.4240780  </td><td>0.010      </td></tr>\n",
       "\t<tr><th scope=row>Haem_status</th><td>  1        </td><td> 0.04475801</td><td>0.9206465  </td><td>0.513      </td></tr>\n",
       "\t<tr><th scope=row>Host_Genus:Host_species</th><td> 18        </td><td> 6.72038477</td><td>7.6796909  </td><td>0.001      </td></tr>\n",
       "\t<tr><th scope=row>Residual</th><td>420        </td><td>20.41865746</td><td>       NA  </td><td>   NA      </td></tr>\n",
       "</tbody>\n",
       "</table>\n"
      ],
      "text/latex": [
       "\\begin{tabular}{r|llll}\n",
       "  & Df & SumOfSqs & F & Pr(>F)\\\\\n",
       "\\hline\n",
       "\tEcto\\_status &   1         &  0.11784861 & 2.4240780   & 0.010      \\\\\n",
       "\tHaem\\_status &   1         &  0.04475801 & 0.9206465   & 0.513      \\\\\n",
       "\tHost\\_Genus:Host\\_species &  18         &  6.72038477 & 7.6796909   & 0.001      \\\\\n",
       "\tResidual & 420         & 20.41865746 &        NA   &    NA      \\\\\n",
       "\\end{tabular}\n"
      ],
      "text/markdown": [
       "\n",
       "| <!--/--> | Df | SumOfSqs | F | Pr(>F) | \n",
       "|---|---|---|---|\n",
       "| Ecto_status |   1         |  0.11784861 | 2.4240780   | 0.010       | \n",
       "| Haem_status |   1         |  0.04475801 | 0.9206465   | 0.513       | \n",
       "| Host_Genus:Host_species |  18         |  6.72038477 | 7.6796909   | 0.001       | \n",
       "| Residual | 420         | 20.41865746 |        NA   |    NA       | \n",
       "\n",
       "\n"
      ],
      "text/plain": [
       "                        Df  SumOfSqs    F         Pr(>F)\n",
       "Ecto_status               1  0.11784861 2.4240780 0.010 \n",
       "Haem_status               1  0.04475801 0.9206465 0.513 \n",
       "Host_Genus:Host_species  18  6.72038477 7.6796909 0.001 \n",
       "Residual                420 20.41865746        NA    NA "
      ]
     },
     "metadata": {},
     "output_type": "display_data"
    },
    {
     "data": {
      "text/plain": [
       "\n",
       "Permutation test for homogeneity of multivariate dispersions\n",
       "Permutation: free\n",
       "Number of permutations: 999\n",
       "\n",
       "Response: Distances\n",
       "           Df Sum Sq  Mean Sq      F N.Perm Pr(>F)\n",
       "Groups      2 0.0392 0.019616 1.2638    999   0.32\n",
       "Residuals 399 6.1928 0.015521                     "
      ]
     },
     "metadata": {},
     "output_type": "display_data"
    },
    {
     "data": {
      "text/plain": [
       "\n",
       "Permutation test for homogeneity of multivariate dispersions\n",
       "Permutation: free\n",
       "Number of permutations: 999\n",
       "\n",
       "Response: Distances\n",
       "           Df Sum Sq  Mean Sq      F N.Perm Pr(>F)  \n",
       "Groups      2 0.0973 0.048660 3.5024    999  0.024 *\n",
       "Residuals 373 5.1822 0.013893                       \n",
       "---\n",
       "Signif. codes:  0 ‘***’ 0.001 ‘**’ 0.01 ‘*’ 0.05 ‘.’ 0.1 ‘ ’ 1"
      ]
     },
     "metadata": {},
     "output_type": "display_data"
    },
    {
     "data": {
      "text/plain": [
       "\n",
       "Permutation test for homogeneity of multivariate dispersions\n",
       "Permutation: free\n",
       "Number of permutations: 999\n",
       "\n",
       "Response: Distances\n",
       "           Df  Sum Sq   Mean Sq      F N.Perm Pr(>F)\n",
       "Groups      2 0.00587 0.0029350 0.7121    999  0.496\n",
       "Residuals 455 1.87544 0.0041218                     "
      ]
     },
     "metadata": {},
     "output_type": "display_data"
    }
   ],
   "source": [
    "# WEIGHTED UNIFRAC - ADONIS\n",
    "\n",
    "#Fecal\n",
    "batfecal.00.wunif.adtest = adonis2(batfecal.00.dist.wunif ~ Host_Genus/Host_species + Ecto_status + Haem_status, strata= Locality, by = \"margin\", data=batfecal.df)\n",
    "saveRDS(batfecal.00.wunif.adtest, file=\"/group/gilbert-lab/Lutz/Batmicrobiome/batrun_finaldata_for_phyloseq_Oct2017/Bdiv/adonis/batfecal.00.wunif.adtest.rds\")\n",
    "#Oral\n",
    "batoral.00.wunif.adtest = adonis2(batoral.00.dist.wunif ~ Host_Genus/Host_species + Ecto_status + Haem_status, strata= Locality, by = \"margin\", data=batoral.df)\n",
    "saveRDS(batoral.00.wunif.adtest, file=\"/group/gilbert-lab/Lutz/Batmicrobiome/batrun_finaldata_for_phyloseq_Oct2017/Bdiv/adonis/batoral.00.wunif.adtest.rds\")\n",
    "#Skin\n",
    "batskin.00.wunif.adtest = adonis2(batskin.00.dist.wunif ~ Host_Genus/Host_species + Ecto_status + Haem_status, strata= Locality, by = \"margin\", data=batskin.df)\n",
    "saveRDS(batskin.00.wunif.adtest, file=\"/group/gilbert-lab/Lutz/Batmicrobiome/batrun_finaldata_for_phyloseq_Oct2017/Bdiv/adonis/batskin.00.wunif.adtest.rds\")\n",
    "\n",
    "# Dispersion permutests\n",
    "fecal.beta.disp.wunif = betadisper(batfecal.00.dist.wunif,group = sample_data(batfecal_.00)$Ecto_status)\n",
    "fecal.wunif.permutest = permutest(fecal.beta.disp.wunif)\n",
    "oral.beta.disp.wunif = betadisper(batoral.00.dist.wunif,group = sample_data(batoral_.00)$Ecto_status)\n",
    "oral.wunif.permutest = permutest(oral.beta.disp.wunif)\n",
    "skin.beta.disp.wunif = betadisper(batskin.00.dist.wunif,group = sample_data(batskin_.00)$Ecto_status)\n",
    "skin.wunif.permutest = permutest(skin.beta.disp.wunif)\n",
    "\n",
    "\n",
    "#Print ADONIS results\n",
    "batfecal.00.wunif.adtest\n",
    "batoral.00.wunif.adtest\n",
    "batskin.00.wunif.adtest\n",
    "\n",
    "#Print Permutest results\n",
    "fecal.wunif.permutest\n",
    "oral.wunif.permutest\n",
    "skin.wunif.permutest"
   ]
  },
  {
   "cell_type": "code",
   "execution_count": 21,
   "metadata": {
    "collapsed": true
   },
   "outputs": [],
   "source": []
  },
  {
   "cell_type": "code",
   "execution_count": 13,
   "metadata": {
    "collapsed": true
   },
   "outputs": [
    {
     "data": {
      "text/html": [
       "<table>\n",
       "<thead><tr><th></th><th scope=col>Df</th><th scope=col>SumOfSqs</th><th scope=col>F</th><th scope=col>Pr(&gt;F)</th></tr></thead>\n",
       "<tbody>\n",
       "\t<tr><th scope=row>Ecto_status</th><td>  1       </td><td> 0.2930603</td><td>1.423283  </td><td>0.048     </td></tr>\n",
       "\t<tr><th scope=row>Haem_status</th><td>  1       </td><td> 0.2737993</td><td>1.329740  </td><td>0.077     </td></tr>\n",
       "\t<tr><th scope=row>Host_Genus:Host_species</th><td> 14       </td><td> 9.0932165</td><td>3.154452  </td><td>0.001     </td></tr>\n",
       "\t<tr><th scope=row>Residual</th><td>368       </td><td>75.7728183</td><td>      NA  </td><td>   NA     </td></tr>\n",
       "</tbody>\n",
       "</table>\n"
      ],
      "text/latex": [
       "\\begin{tabular}{r|llll}\n",
       "  & Df & SumOfSqs & F & Pr(>F)\\\\\n",
       "\\hline\n",
       "\tEcto\\_status &   1        &  0.2930603 & 1.423283   & 0.048     \\\\\n",
       "\tHaem\\_status &   1        &  0.2737993 & 1.329740   & 0.077     \\\\\n",
       "\tHost\\_Genus:Host\\_species &  14        &  9.0932165 & 3.154452   & 0.001     \\\\\n",
       "\tResidual & 368        & 75.7728183 &       NA   &    NA     \\\\\n",
       "\\end{tabular}\n"
      ],
      "text/markdown": [
       "\n",
       "| <!--/--> | Df | SumOfSqs | F | Pr(>F) | \n",
       "|---|---|---|---|\n",
       "| Ecto_status |   1        |  0.2930603 | 1.423283   | 0.048      | \n",
       "| Haem_status |   1        |  0.2737993 | 1.329740   | 0.077      | \n",
       "| Host_Genus:Host_species |  14        |  9.0932165 | 3.154452   | 0.001      | \n",
       "| Residual | 368        | 75.7728183 |       NA   |    NA      | \n",
       "\n",
       "\n"
      ],
      "text/plain": [
       "                        Df  SumOfSqs   F        Pr(>F)\n",
       "Ecto_status               1  0.2930603 1.423283 0.048 \n",
       "Haem_status               1  0.2737993 1.329740 0.077 \n",
       "Host_Genus:Host_species  14  9.0932165 3.154452 0.001 \n",
       "Residual                368 75.7728183       NA    NA "
      ]
     },
     "metadata": {},
     "output_type": "display_data"
    },
    {
     "data": {
      "text/html": [
       "<table>\n",
       "<thead><tr><th></th><th scope=col>Df</th><th scope=col>SumOfSqs</th><th scope=col>F</th><th scope=col>Pr(&gt;F)</th></tr></thead>\n",
       "<tbody>\n",
       "\t<tr><th scope=row>Ecto_status</th><td>  1       </td><td> 0.3226492</td><td>1.413664  </td><td>0.057     </td></tr>\n",
       "\t<tr><th scope=row>Haem_status</th><td>  1       </td><td> 0.2676828</td><td>1.172833  </td><td>0.200     </td></tr>\n",
       "\t<tr><th scope=row>Host_Genus:Host_species</th><td> 14       </td><td>11.1984214</td><td>3.504648  </td><td>0.001     </td></tr>\n",
       "\t<tr><th scope=row>Residual</th><td>342       </td><td>78.0567605</td><td>      NA  </td><td>   NA     </td></tr>\n",
       "</tbody>\n",
       "</table>\n"
      ],
      "text/latex": [
       "\\begin{tabular}{r|llll}\n",
       "  & Df & SumOfSqs & F & Pr(>F)\\\\\n",
       "\\hline\n",
       "\tEcto\\_status &   1        &  0.3226492 & 1.413664   & 0.057     \\\\\n",
       "\tHaem\\_status &   1        &  0.2676828 & 1.172833   & 0.200     \\\\\n",
       "\tHost\\_Genus:Host\\_species &  14        & 11.1984214 & 3.504648   & 0.001     \\\\\n",
       "\tResidual & 342        & 78.0567605 &       NA   &    NA     \\\\\n",
       "\\end{tabular}\n"
      ],
      "text/markdown": [
       "\n",
       "| <!--/--> | Df | SumOfSqs | F | Pr(>F) | \n",
       "|---|---|---|---|\n",
       "| Ecto_status |   1        |  0.3226492 | 1.413664   | 0.057      | \n",
       "| Haem_status |   1        |  0.2676828 | 1.172833   | 0.200      | \n",
       "| Host_Genus:Host_species |  14        | 11.1984214 | 3.504648   | 0.001      | \n",
       "| Residual | 342        | 78.0567605 |       NA   |    NA      | \n",
       "\n",
       "\n"
      ],
      "text/plain": [
       "                        Df  SumOfSqs   F        Pr(>F)\n",
       "Ecto_status               1  0.3226492 1.413664 0.057 \n",
       "Haem_status               1  0.2676828 1.172833 0.200 \n",
       "Host_Genus:Host_species  14 11.1984214 3.504648 0.001 \n",
       "Residual                342 78.0567605       NA    NA "
      ]
     },
     "metadata": {},
     "output_type": "display_data"
    },
    {
     "data": {
      "text/html": [
       "<table>\n",
       "<thead><tr><th></th><th scope=col>Df</th><th scope=col>SumOfSqs</th><th scope=col>F</th><th scope=col>Pr(&gt;F)</th></tr></thead>\n",
       "<tbody>\n",
       "\t<tr><th scope=row>Ecto_status</th><td>  1       </td><td> 0.3240273</td><td>1.535668  </td><td>0.020     </td></tr>\n",
       "\t<tr><th scope=row>Haem_status</th><td>  1       </td><td> 0.2145459</td><td>1.016801  </td><td>0.363     </td></tr>\n",
       "\t<tr><th scope=row>Host_Genus:Host_species</th><td> 18       </td><td>15.0999063</td><td>3.975736  </td><td>0.001     </td></tr>\n",
       "\t<tr><th scope=row>Residual</th><td>420       </td><td>88.6203678</td><td>      NA  </td><td>   NA     </td></tr>\n",
       "</tbody>\n",
       "</table>\n"
      ],
      "text/latex": [
       "\\begin{tabular}{r|llll}\n",
       "  & Df & SumOfSqs & F & Pr(>F)\\\\\n",
       "\\hline\n",
       "\tEcto\\_status &   1        &  0.3240273 & 1.535668   & 0.020     \\\\\n",
       "\tHaem\\_status &   1        &  0.2145459 & 1.016801   & 0.363     \\\\\n",
       "\tHost\\_Genus:Host\\_species &  18        & 15.0999063 & 3.975736   & 0.001     \\\\\n",
       "\tResidual & 420        & 88.6203678 &       NA   &    NA     \\\\\n",
       "\\end{tabular}\n"
      ],
      "text/markdown": [
       "\n",
       "| <!--/--> | Df | SumOfSqs | F | Pr(>F) | \n",
       "|---|---|---|---|\n",
       "| Ecto_status |   1        |  0.3240273 | 1.535668   | 0.020      | \n",
       "| Haem_status |   1        |  0.2145459 | 1.016801   | 0.363      | \n",
       "| Host_Genus:Host_species |  18        | 15.0999063 | 3.975736   | 0.001      | \n",
       "| Residual | 420        | 88.6203678 |       NA   |    NA      | \n",
       "\n",
       "\n"
      ],
      "text/plain": [
       "                        Df  SumOfSqs   F        Pr(>F)\n",
       "Ecto_status               1  0.3240273 1.535668 0.020 \n",
       "Haem_status               1  0.2145459 1.016801 0.363 \n",
       "Host_Genus:Host_species  18 15.0999063 3.975736 0.001 \n",
       "Residual                420 88.6203678       NA    NA "
      ]
     },
     "metadata": {},
     "output_type": "display_data"
    },
    {
     "data": {
      "text/plain": [
       "\n",
       "Permutation test for homogeneity of multivariate dispersions\n",
       "Permutation: free\n",
       "Number of permutations: 999\n",
       "\n",
       "Response: Distances\n",
       "           Df  Sum Sq Mean Sq      F N.Perm Pr(>F)    \n",
       "Groups      2 0.23789 0.11895 16.498    999  0.001 ***\n",
       "Residuals 399 2.87663 0.00721                         \n",
       "---\n",
       "Signif. codes:  0 ‘***’ 0.001 ‘**’ 0.01 ‘*’ 0.05 ‘.’ 0.1 ‘ ’ 1"
      ]
     },
     "metadata": {},
     "output_type": "display_data"
    },
    {
     "data": {
      "text/plain": [
       "\n",
       "Permutation test for homogeneity of multivariate dispersions\n",
       "Permutation: free\n",
       "Number of permutations: 999\n",
       "\n",
       "Response: Distances\n",
       "           Df  Sum Sq  Mean Sq      F N.Perm Pr(>F)    \n",
       "Groups      2 0.23376 0.116881 30.464    999  0.001 ***\n",
       "Residuals 373 1.43110 0.003837                         \n",
       "---\n",
       "Signif. codes:  0 ‘***’ 0.001 ‘**’ 0.01 ‘*’ 0.05 ‘.’ 0.1 ‘ ’ 1"
      ]
     },
     "metadata": {},
     "output_type": "display_data"
    },
    {
     "data": {
      "text/plain": [
       "\n",
       "Permutation test for homogeneity of multivariate dispersions\n",
       "Permutation: free\n",
       "Number of permutations: 999\n",
       "\n",
       "Response: Distances\n",
       "           Df  Sum Sq   Mean Sq      F N.Perm Pr(>F)  \n",
       "Groups      2 0.01677 0.0083841 3.7066    999  0.035 *\n",
       "Residuals 455 1.02918 0.0022619                       \n",
       "---\n",
       "Signif. codes:  0 ‘***’ 0.001 ‘**’ 0.01 ‘*’ 0.05 ‘.’ 0.1 ‘ ’ 1"
      ]
     },
     "metadata": {},
     "output_type": "display_data"
    }
   ],
   "source": [
    "# UNIFRAC - ADONIS\n",
    "\n",
    "#Fecal\n",
    "batfecal.00.unif.adtest = adonis2(batfecal.00.dist.unif ~ Host_Genus/Host_species + Ecto_status + Haem_status, strata= Locality, by = \"margin\", data=batfecal.df)\n",
    "saveRDS(batfecal.00.unif.adtest, file=\"/group/gilbert-lab/Lutz/Batmicrobiome/batrun_finaldata_for_phyloseq_Oct2017/Bdiv/adonis/batfecal.00.unif.adtest.rds\")\n",
    "#Oral\n",
    "batoral.00.unif.adtest = adonis2(batoral.00.dist.unif ~ Host_Genus/Host_species + Ecto_status + Haem_status, strata= Locality, by = \"margin\", data=batoral.df)\n",
    "saveRDS(batoral.00.unif.adtest, file=\"/group/gilbert-lab/Lutz/Batmicrobiome/batrun_finaldata_for_phyloseq_Oct2017/Bdiv/adonis/batoral.00.unif.adtest.rds\")\n",
    "#Skin\n",
    "batskin.00.unif.adtest = adonis2(batskin.00.dist.unif ~ Host_Genus/Host_species + Ecto_status + Haem_status, strata= Locality, by = \"margin\", data=batskin.df)\n",
    "saveRDS(batskin.00.unif.adtest, file=\"/group/gilbert-lab/Lutz/Batmicrobiome/batrun_finaldata_for_phyloseq_Oct2017/Bdiv/adonis/batskin.00.unif.adtest.rds\")\n",
    "\n",
    "# Dispersion permutests\n",
    "fecal.beta.disp.unif = betadisper(batfecal.00.dist.unif,group = sample_data(batfecal_.00)$Ecto_status)\n",
    "fecal.unif.permutest = permutest(fecal.beta.disp.unif)\n",
    "oral.beta.disp.unif = betadisper(batoral.00.dist.unif,group = sample_data(batoral_.00)$Ecto_status)\n",
    "oral.unif.permutest = permutest(oral.beta.disp.unif)\n",
    "skin.beta.disp.unif = betadisper(batskin.00.dist.unif,group = sample_data(batskin_.00)$Ecto_status)\n",
    "skin.unif.permutest = permutest(skin.beta.disp.unif)\n",
    "\n",
    "\n",
    "#Print ADONIS results\n",
    "batfecal.00.unif.adtest\n",
    "batoral.00.unif.adtest\n",
    "batskin.00.unif.adtest\n",
    "\n",
    "#Print Permutest results\n",
    "fecal.unif.permutest\n",
    "oral.unif.permutest\n",
    "skin.unif.permutest"
   ]
  },
  {
   "cell_type": "code",
   "execution_count": 22,
   "metadata": {
    "collapsed": true
   },
   "outputs": [
    {
     "data": {
      "text/html": [
       "<table>\n",
       "<thead><tr><th></th><th scope=col>Df</th><th scope=col>SumOfSqs</th><th scope=col>F</th><th scope=col>Pr(&gt;F)</th></tr></thead>\n",
       "<tbody>\n",
       "\t<tr><th scope=row>Ecto_status</th><td>  1        </td><td>  0.4891323</td><td>1.397322   </td><td>0.097      </td></tr>\n",
       "\t<tr><th scope=row>Haem_status</th><td>  1        </td><td>  0.6932014</td><td>1.980294   </td><td>0.011      </td></tr>\n",
       "\t<tr><th scope=row>Host_Genus:Host_species</th><td> 14        </td><td> 14.1388007</td><td>2.885059   </td><td>0.001      </td></tr>\n",
       "\t<tr><th scope=row>Residual</th><td>368        </td><td>128.8183358</td><td>      NA   </td><td>   NA      </td></tr>\n",
       "</tbody>\n",
       "</table>\n"
      ],
      "text/latex": [
       "\\begin{tabular}{r|llll}\n",
       "  & Df & SumOfSqs & F & Pr(>F)\\\\\n",
       "\\hline\n",
       "\tEcto\\_status &   1         &   0.4891323 & 1.397322    & 0.097      \\\\\n",
       "\tHaem\\_status &   1         &   0.6932014 & 1.980294    & 0.011      \\\\\n",
       "\tHost\\_Genus:Host\\_species &  14         &  14.1388007 & 2.885059    & 0.001      \\\\\n",
       "\tResidual & 368         & 128.8183358 &       NA    &    NA      \\\\\n",
       "\\end{tabular}\n"
      ],
      "text/markdown": [
       "\n",
       "| <!--/--> | Df | SumOfSqs | F | Pr(>F) | \n",
       "|---|---|---|---|\n",
       "| Ecto_status |   1         |   0.4891323 | 1.397322    | 0.097       | \n",
       "| Haem_status |   1         |   0.6932014 | 1.980294    | 0.011       | \n",
       "| Host_Genus:Host_species |  14         |  14.1388007 | 2.885059    | 0.001       | \n",
       "| Residual | 368         | 128.8183358 |       NA    |    NA       | \n",
       "\n",
       "\n"
      ],
      "text/plain": [
       "                        Df  SumOfSqs    F        Pr(>F)\n",
       "Ecto_status               1   0.4891323 1.397322 0.097 \n",
       "Haem_status               1   0.6932014 1.980294 0.011 \n",
       "Host_Genus:Host_species  14  14.1388007 2.885059 0.001 \n",
       "Residual                368 128.8183358       NA    NA "
      ]
     },
     "metadata": {},
     "output_type": "display_data"
    },
    {
     "data": {
      "text/html": [
       "<table>\n",
       "<thead><tr><th></th><th scope=col>Df</th><th scope=col>SumOfSqs</th><th scope=col>F</th><th scope=col>Pr(&gt;F)</th></tr></thead>\n",
       "<tbody>\n",
       "\t<tr><th scope=row>Ecto_status</th><td>  1       </td><td> 0.2198949</td><td>0.9969949 </td><td>0.447     </td></tr>\n",
       "\t<tr><th scope=row>Haem_status</th><td>  1       </td><td> 0.4360239</td><td>1.9769152 </td><td>0.019     </td></tr>\n",
       "\t<tr><th scope=row>Host_Genus:Host_species</th><td> 14       </td><td>20.6715554</td><td>6.6945728 </td><td>0.001     </td></tr>\n",
       "\t<tr><th scope=row>Residual</th><td>342       </td><td>75.4307378</td><td>       NA </td><td>   NA     </td></tr>\n",
       "</tbody>\n",
       "</table>\n"
      ],
      "text/latex": [
       "\\begin{tabular}{r|llll}\n",
       "  & Df & SumOfSqs & F & Pr(>F)\\\\\n",
       "\\hline\n",
       "\tEcto\\_status &   1        &  0.2198949 & 0.9969949  & 0.447     \\\\\n",
       "\tHaem\\_status &   1        &  0.4360239 & 1.9769152  & 0.019     \\\\\n",
       "\tHost\\_Genus:Host\\_species &  14        & 20.6715554 & 6.6945728  & 0.001     \\\\\n",
       "\tResidual & 342        & 75.4307378 &        NA  &    NA     \\\\\n",
       "\\end{tabular}\n"
      ],
      "text/markdown": [
       "\n",
       "| <!--/--> | Df | SumOfSqs | F | Pr(>F) | \n",
       "|---|---|---|---|\n",
       "| Ecto_status |   1        |  0.2198949 | 0.9969949  | 0.447      | \n",
       "| Haem_status |   1        |  0.4360239 | 1.9769152  | 0.019      | \n",
       "| Host_Genus:Host_species |  14        | 20.6715554 | 6.6945728  | 0.001      | \n",
       "| Residual | 342        | 75.4307378 |        NA  |    NA      | \n",
       "\n",
       "\n"
      ],
      "text/plain": [
       "                        Df  SumOfSqs   F         Pr(>F)\n",
       "Ecto_status               1  0.2198949 0.9969949 0.447 \n",
       "Haem_status               1  0.4360239 1.9769152 0.019 \n",
       "Host_Genus:Host_species  14 20.6715554 6.6945728 0.001 \n",
       "Residual                342 75.4307378        NA    NA "
      ]
     },
     "metadata": {},
     "output_type": "display_data"
    },
    {
     "data": {
      "text/html": [
       "<table>\n",
       "<thead><tr><th></th><th scope=col>Df</th><th scope=col>SumOfSqs</th><th scope=col>F</th><th scope=col>Pr(&gt;F)</th></tr></thead>\n",
       "<tbody>\n",
       "\t<tr><th scope=row>Ecto_status</th><td>  1        </td><td>  0.6275651</td><td>2.073251   </td><td>0.001      </td></tr>\n",
       "\t<tr><th scope=row>Haem_status</th><td>  1        </td><td>  0.3209062</td><td>1.060160   </td><td>0.320      </td></tr>\n",
       "\t<tr><th scope=row>Host_Genus:Host_species</th><td> 18        </td><td> 30.5358499</td><td>5.604421   </td><td>0.001      </td></tr>\n",
       "\t<tr><th scope=row>Residual</th><td>420        </td><td>127.1323505</td><td>      NA   </td><td>   NA      </td></tr>\n",
       "</tbody>\n",
       "</table>\n"
      ],
      "text/latex": [
       "\\begin{tabular}{r|llll}\n",
       "  & Df & SumOfSqs & F & Pr(>F)\\\\\n",
       "\\hline\n",
       "\tEcto\\_status &   1         &   0.6275651 & 2.073251    & 0.001      \\\\\n",
       "\tHaem\\_status &   1         &   0.3209062 & 1.060160    & 0.320      \\\\\n",
       "\tHost\\_Genus:Host\\_species &  18         &  30.5358499 & 5.604421    & 0.001      \\\\\n",
       "\tResidual & 420         & 127.1323505 &       NA    &    NA      \\\\\n",
       "\\end{tabular}\n"
      ],
      "text/markdown": [
       "\n",
       "| <!--/--> | Df | SumOfSqs | F | Pr(>F) | \n",
       "|---|---|---|---|\n",
       "| Ecto_status |   1         |   0.6275651 | 2.073251    | 0.001       | \n",
       "| Haem_status |   1         |   0.3209062 | 1.060160    | 0.320       | \n",
       "| Host_Genus:Host_species |  18         |  30.5358499 | 5.604421    | 0.001       | \n",
       "| Residual | 420         | 127.1323505 |       NA    |    NA       | \n",
       "\n",
       "\n"
      ],
      "text/plain": [
       "                        Df  SumOfSqs    F        Pr(>F)\n",
       "Ecto_status               1   0.6275651 2.073251 0.001 \n",
       "Haem_status               1   0.3209062 1.060160 0.320 \n",
       "Host_Genus:Host_species  18  30.5358499 5.604421 0.001 \n",
       "Residual                420 127.1323505       NA    NA "
      ]
     },
     "metadata": {},
     "output_type": "display_data"
    },
    {
     "data": {
      "text/plain": [
       "\n",
       "Permutation test for homogeneity of multivariate dispersions\n",
       "Permutation: free\n",
       "Number of permutations: 999\n",
       "\n",
       "Response: Distances\n",
       "           Df  Sum Sq   Mean Sq     F N.Perm Pr(>F)\n",
       "Groups      2 0.02195 0.0109769 1.905    999  0.168\n",
       "Residuals 399 2.29915 0.0057623                    "
      ]
     },
     "metadata": {},
     "output_type": "display_data"
    },
    {
     "data": {
      "text/plain": [
       "\n",
       "Permutation test for homogeneity of multivariate dispersions\n",
       "Permutation: free\n",
       "Number of permutations: 999\n",
       "\n",
       "Response: Distances\n",
       "           Df  Sum Sq  Mean Sq      F N.Perm Pr(>F)    \n",
       "Groups      2 0.11414 0.057071 31.655    999  0.001 ***\n",
       "Residuals 373 0.67249 0.001803                         \n",
       "---\n",
       "Signif. codes:  0 ‘***’ 0.001 ‘**’ 0.01 ‘*’ 0.05 ‘.’ 0.1 ‘ ’ 1"
      ]
     },
     "metadata": {},
     "output_type": "display_data"
    },
    {
     "data": {
      "text/plain": [
       "\n",
       "Permutation test for homogeneity of multivariate dispersions\n",
       "Permutation: free\n",
       "Number of permutations: 999\n",
       "\n",
       "Response: Distances\n",
       "           Df  Sum Sq  Mean Sq      F N.Perm Pr(>F)    \n",
       "Groups      2 0.16937 0.084683 85.707    999  0.001 ***\n",
       "Residuals 455 0.44956 0.000988                         \n",
       "---\n",
       "Signif. codes:  0 ‘***’ 0.001 ‘**’ 0.01 ‘*’ 0.05 ‘.’ 0.1 ‘ ’ 1"
      ]
     },
     "metadata": {},
     "output_type": "display_data"
    }
   ],
   "source": [
    "# BRAY-CURTIS - ADONIS\n",
    "\n",
    "#Fecal\n",
    "batfecal.00.bc.adtest = adonis2(batfecal.00.dist.bc ~ Host_Genus/Host_species + Ecto_status + Haem_status, strata= Locality, by = \"margin\", data=batfecal.df)\n",
    "saveRDS(batfecal.00.bc.adtest, file=\"/group/gilbert-lab/Lutz/Batmicrobiome/batrun_finaldata_for_phyloseq_Oct2017/Bdiv/adonis/batfecal.00.bc.adtest.rds\")\n",
    "#Oral\n",
    "batoral.00.bc.adtest = adonis2(batoral.00.dist.bc ~ Host_Genus/Host_species + Ecto_status + Haem_status, strata= Locality, by = \"margin\", data=batoral.df)\n",
    "saveRDS(batoral.00.bc.adtest, file=\"/group/gilbert-lab/Lutz/Batmicrobiome/batrun_finaldata_for_phyloseq_Oct2017/Bdiv/adonis/batoral.00.bc.adtest.rds\")\n",
    "#Skin\n",
    "batskin.00.bc.adtest = adonis2(batskin.00.dist.bc ~ Host_Genus/Host_species + Ecto_status + Haem_status, strata= Locality, by = \"margin\", data=batskin.df)\n",
    "saveRDS(batskin.00.bc.adtest, file=\"/group/gilbert-lab/Lutz/Batmicrobiome/batrun_finaldata_for_phyloseq_Oct2017/Bdiv/adonis/batskin.00.bc.adtest.rds\")\n",
    "\n",
    "# Dispersion permutests\n",
    "fecal.beta.disp.bc = betadisper(batfecal.00.dist.bc,group = sample_data(batfecal_.00)$Ecto_status)\n",
    "fecal.bc.permutest = permutest(fecal.beta.disp.bc)\n",
    "oral.beta.disp.bc = betadisper(batoral.00.dist.bc,group = sample_data(batoral_.00)$Ecto_status)\n",
    "oral.bc.permutest = permutest(oral.beta.disp.bc)\n",
    "skin.beta.disp.bc = betadisper(batskin.00.dist.bc,group = sample_data(batskin_.00)$Ecto_status)\n",
    "skin.bc.permutest = permutest(skin.beta.disp.bc)\n",
    "\n",
    "\n",
    "#Print ADONIS results\n",
    "batfecal.00.bc.adtest\n",
    "batoral.00.bc.adtest\n",
    "batskin.00.bc.adtest\n",
    "\n",
    "#Print Permutest results\n",
    "fecal.bc.permutest\n",
    "oral.bc.permutest\n",
    "skin.bc.permutest"
   ]
  },
  {
   "cell_type": "code",
   "execution_count": null,
   "metadata": {
    "collapsed": true
   },
   "outputs": [],
   "source": [
    "saveRDS(fecal.wunif.permutest, \"/group/gilbert-lab/Lutz/Batmicrobiome/batrun_finaldata_for_phyloseq_Oct2017/Adiv/stats_results/batfecal.wunif.permutest.rds\")\n",
    "saveRDS(oral.wunif.permutest, \"/group/gilbert-lab/Lutz/Batmicrobiome/batrun_finaldata_for_phyloseq_Oct2017/Adiv/stats_results/batoral.wunif.permutest.rds\")\n",
    "saveRDS(skin.wunif.permutest, \"/group/gilbert-lab/Lutz/Batmicrobiome/batrun_finaldata_for_phyloseq_Oct2017/Adiv/stats_results/batskin.wunif.permutest.rds\")\n",
    "saveRDS(fecal.unif.permutest, \"/group/gilbert-lab/Lutz/Batmicrobiome/batrun_finaldata_for_phyloseq_Oct2017/Adiv/stats_results/batfecal.unif.permutest.rds\")\n",
    "saveRDS(oral.unif.permutest, \"/group/gilbert-lab/Lutz/Batmicrobiome/batrun_finaldata_for_phyloseq_Oct2017/Adiv/stats_results/batoral.unif.permutest.rds\")\n",
    "saveRDS(skin.unif.permutest, \"/group/gilbert-lab/Lutz/Batmicrobiome/batrun_finaldata_for_phyloseq_Oct2017/Adiv/stats_results/batskin.unif.permutest.rds\")\n",
    "saveRDS(fecal.bc.permutest, \"/group/gilbert-lab/Lutz/Batmicrobiome/batrun_finaldata_for_phyloseq_Oct2017/Adiv/stats_results/batfecal.bc.permutest.rds\")\n",
    "saveRDS(oral.bc.permutest, \"/group/gilbert-lab/Lutz/Batmicrobiome/batrun_finaldata_for_phyloseq_Oct2017/Adiv/stats_results/batoral.bc.permutest.rds\")\n",
    "saveRDS(skin.bc.permutest, \"/group/gilbert-lab/Lutz/Batmicrobiome/batrun_finaldata_for_phyloseq_Oct2017/Adiv/stats_results/batskin.bc.permutest.rds\")"
   ]
  },
  {
   "cell_type": "code",
   "execution_count": 23,
   "metadata": {
    "collapsed": true
   },
   "outputs": [],
   "source": [
    "write.csv(batfecal.00.bc.adtest, \"/group/gilbert-lab/Lutz/Batmicrobiome/batrun_finaldata_for_phyloseq_Oct2017/Adiv/stats_results/batfecal.00.bc.adtest.csv\")\n",
    "write.csv(batoral.00.bc.adtest, \"/group/gilbert-lab/Lutz/Batmicrobiome/batrun_finaldata_for_phyloseq_Oct2017/Adiv/stats_results/batoral.00.bc.adtest.csv\")\n",
    "write.csv(batskin.00.bc.adtest, \"/group/gilbert-lab/Lutz/Batmicrobiome/batrun_finaldata_for_phyloseq_Oct2017/Adiv/stats_results/batskin.00.bc.adtest.csv\")"
   ]
  },
  {
   "cell_type": "code",
   "execution_count": 26,
   "metadata": {},
   "outputs": [
    {
     "data": {
      "text/html": [
       "<ol class=list-inline>\n",
       "\t<li>0.003</li>\n",
       "\t<li>0.144</li>\n",
       "\t<li>0.231</li>\n",
       "</ol>\n"
      ],
      "text/latex": [
       "\\begin{enumerate*}\n",
       "\\item 0.003\n",
       "\\item 0.144\n",
       "\\item 0.231\n",
       "\\end{enumerate*}\n"
      ],
      "text/markdown": [
       "1. 0.003\n",
       "2. 0.144\n",
       "3. 0.231\n",
       "\n",
       "\n"
      ],
      "text/plain": [
       "[1] 0.003 0.144 0.231"
      ]
     },
     "metadata": {},
     "output_type": "display_data"
    }
   ],
   "source": [
    "# Bonferroni Corrections\n",
    "pval = c(\"0.001\", \"0.048\", \"0.077\")\n",
    "corr.makact.ad.test = p.adjust(pval, method = \"bonferroni\")\n",
    "corr.makact.ad.test"
   ]
  },
  {
   "cell_type": "markdown",
   "metadata": {},
   "source": [
    "## Alpha Diversity Plots"
   ]
  },
  {
   "cell_type": "markdown",
   "metadata": {
    "collapsed": true
   },
   "source": [
    "### Weighted UniFrac"
   ]
  },
  {
   "cell_type": "code",
   "execution_count": null,
   "metadata": {
    "collapsed": true
   },
   "outputs": [],
   "source": [
    "bats_all = readRDS(\"/group/gilbert-lab/Lutz/Batmicrobiome/batrun_finaldata_for_phyloseq_Oct2017/RDSfiles/new_bats_.00.rds\")\n",
    "batsall.00.wunif.adtest = distance(bats_all, method = \"wunifrac\", type = \"samples\")\n",
    "batsall.00.wunif.log = ordinate(batsall_.00, method = \"PCoA\", distance = \"wunifrac\")\n",
    "batsall.00.wunif.evals = batsall.00.wunif.log$values$Eigenvalues\n",
    "batsall.00.wunif.pcoa = plot_ordination(batsall_.00, batsall.00.wunif.log, color = \"Locality\") + ggtitle(\"Bat sall Wuf\") + geom_point(size=2) + coord_fixed(sqrt(batsall.00.wunif.evals[2] / batsall.00.wunif.evals[1]))\n"
   ]
  },
  {
   "cell_type": "code",
   "execution_count": null,
   "metadata": {
    "collapsed": true
   },
   "outputs": [],
   "source": [
    "batfecal_.00 = readRDS(\"/group/gilbert-lab/Lutz/Batmicrobiome/batrun_finaldata_for_phyloseq_Oct2017/RDSfiles/batfecal_.00.rds\")\n",
    "batfecal.00.wunif.adtest = readRDS(\"/group/gilbert-lab/Lutz/Batmicrobiome/batrun_finaldata_for_phyloseq_Oct2017/Bdiv/adonis/batfecal.00.wunif.adtest.rds\")\n",
    "batfecal.00.wunif.log = ordinate(batfecal_.00, method = \"PCoA\", distance = \"wunifrac\")\n",
    "batfecal.00.wunif.evals = batfecal.00.wunif.log$values$Eigenvalues\n",
    "batfecal.00.wunif.pcoa = plot_ordination(batfecal_.00, batfecal.00.wunif.log, color = \"Locality\") + ggtitle(\"Bat Fecal Wuf\") + geom_point(size=2) + coord_fixed(sqrt(batfecal.00.wunif.evals[2] / batfecal.00.wunif.evals[1]))\n"
   ]
  },
  {
   "cell_type": "code",
   "execution_count": null,
   "metadata": {
    "collapsed": true
   },
   "outputs": [],
   "source": [
    "batoral_.00 = readRDS(\"/group/gilbert-lab/Lutz/Batmicrobiome/batrun_finaldata_for_phyloseq_Oct2017/RDSfiles/batoral_.00.rds\")\n",
    "batoral.00.wunif.adtest = readRDS(\"/group/gilbert-lab/Lutz/Batmicrobiome/batrun_finaldata_for_phyloseq_Oct2017/Bdiv/adonis/batoral.00.wunif.adtest.rds\")\n",
    "batoral.00.wunif.log = ordinate(batoral_.00, method = \"PCoA\", distance = \"wunifrac\")\n",
    "batoral.00.wunif.evals = batoral.00.wunif.log$values$Eigenvalues\n",
    "batoral.00.wunif.pcoa = plot_ordination(batoral_.00, batoral.00.wunif.log, color = \"Locality\") + ggtitle(\"Bat Oral Wuf\") + geom_point(size=2) + coord_fixed(sqrt(batoral.00.wunif.evals[2] / batoral.00.wunif.evals[1]))\n"
   ]
  },
  {
   "cell_type": "code",
   "execution_count": null,
   "metadata": {
    "collapsed": true
   },
   "outputs": [],
   "source": [
    "batskin_.00 = readRDS(\"/group/gilbert-lab/Lutz/Batmicrobiome/batrun_finaldata_for_phyloseq_Oct2017/RDSfiles/batskin_.00.rds\")\n",
    "batskin.00.wunif.adtest = readRDS(\"/group/gilbert-lab/Lutz/Batmicrobiome/batrun_finaldata_for_phyloseq_Oct2017/Bdiv/adonis/batskin.00.wunif.adtest.rds\")\n",
    "batskin.00.wunif.log = ordinate(batskin_.00, method = \"PCoA\", distance = \"wunifrac\")\n",
    "batskin.00.wunif.evals = batskin.00.wunif.log$values$Eigenvalues\n",
    "batskin.00.wunif.pcoa = plot_ordination(batskin_.00, batskin.00.wunif.log, color = \"Locality\") + ggtitle(\"Bat Skin Wuf\") + geom_point(size=2) + coord_fixed(sqrt(batskin.00.wunif.evals[2] / batskin.00.wunif.evals[1]))\n"
   ]
  },
  {
   "cell_type": "markdown",
   "metadata": {},
   "source": [
    "### Unweighted UniFrac"
   ]
  },
  {
   "cell_type": "code",
   "execution_count": null,
   "metadata": {
    "collapsed": true
   },
   "outputs": [],
   "source": [
    "bats_all = readRDS(\"/group/gilbert-lab/Lutz/Batmicrobiome/batrun_finaldata_for_phyloseq_Oct2017/RDSfiles/new_bats_.00.rds\")\n",
    "batsall.00.wunif.adtest = distance(bats_all, method = \"wunifrac\", type = \"samples\")\n",
    "batsall.00.wunif.log = ordinate(batsall_.00, method = \"PCoA\", distance = \"wunifrac\")\n",
    "batsall.00.wunif.evals = batsall.00.wunif.log$values$Eigenvalues\n",
    "batsall.00.wunif.pcoa = plot_ordination(batsall_.00, batsall.00.wunif.log, color = \"Locality\") + ggtitle(\"Bat sall Wuf\") + geom_point(size=2) + coord_fixed(sqrt(batsall.00.wunif.evals[2] / batsall.00.wunif.evals[1]))\n"
   ]
  },
  {
   "cell_type": "code",
   "execution_count": null,
   "metadata": {
    "collapsed": true
   },
   "outputs": [],
   "source": [
    "batfecal_.00 = readRDS(\"/group/gilbert-lab/Lutz/Batmicrobiome/batrun_finaldata_for_phyloseq_Oct2017/RDSfiles/batfecal_.00.rds\")\n",
    "batfecal.00.wunif.adtest = readRDS(\"/group/gilbert-lab/Lutz/Batmicrobiome/batrun_finaldata_for_phyloseq_Oct2017/Bdiv/adonis/batfecal.00.wunif.adtest.rds\")\n",
    "batfecal.00.wunif.log = ordinate(batfecal_.00, method = \"PCoA\", distance = \"wunifrac\")\n",
    "batfecal.00.wunif.evals = batfecal.00.wunif.log$values$Eigenvalues\n",
    "batfecal.00.wunif.pcoa = plot_ordination(batfecal_.00, batfecal.00.wunif.log, color = \"Locality\") + ggtitle(\"Bat Fecal Wuf\") + geom_point(size=2) + coord_fixed(sqrt(batfecal.00.wunif.evals[2] / batfecal.00.wunif.evals[1]))\n"
   ]
  },
  {
   "cell_type": "code",
   "execution_count": null,
   "metadata": {
    "collapsed": true
   },
   "outputs": [],
   "source": [
    "batoral_.00 = readRDS(\"/group/gilbert-lab/Lutz/Batmicrobiome/batrun_finaldata_for_phyloseq_Oct2017/RDSfiles/batoral_.00.rds\")\n",
    "batoral.00.wunif.adtest = readRDS(\"/group/gilbert-lab/Lutz/Batmicrobiome/batrun_finaldata_for_phyloseq_Oct2017/Bdiv/adonis/batoral.00.wunif.adtest.rds\")\n",
    "batoral.00.wunif.log = ordinate(batoral_.00, method = \"PCoA\", distance = \"wunifrac\")\n",
    "batoral.00.wunif.evals = batoral.00.wunif.log$values$Eigenvalues\n",
    "batoral.00.wunif.pcoa = plot_ordination(batoral_.00, batoral.00.wunif.log, color = \"Locality\") + ggtitle(\"Bat Oral Wuf\") + geom_point(size=2) + coord_fixed(sqrt(batoral.00.wunif.evals[2] / batoral.00.wunif.evals[1]))\n"
   ]
  },
  {
   "cell_type": "code",
   "execution_count": null,
   "metadata": {
    "collapsed": true
   },
   "outputs": [],
   "source": [
    "batskin_.00 = readRDS(\"/group/gilbert-lab/Lutz/Batmicrobiome/batrun_finaldata_for_phyloseq_Oct2017/RDSfiles/batskin_.00.rds\")\n",
    "batskin.00.wunif.adtest = readRDS(\"/group/gilbert-lab/Lutz/Batmicrobiome/batrun_finaldata_for_phyloseq_Oct2017/Bdiv/adonis/batskin.00.wunif.adtest.rds\")\n",
    "batskin.00.wunif.log = ordinate(batskin_.00, method = \"PCoA\", distance = \"wunifrac\")\n",
    "batskin.00.wunif.evals = batskin.00.wunif.log$values$Eigenvalues\n",
    "batskin.00.wunif.pcoa = plot_ordination(batskin_.00, batskin.00.wunif.log, color = \"Locality\") + ggtitle(\"Bat Skin Wuf\") + geom_point(size=2) + coord_fixed(sqrt(batskin.00.wunif.evals[2] / batskin.00.wunif.evals[1]))\n"
   ]
  },
  {
   "cell_type": "markdown",
   "metadata": {},
   "source": [
    "## Plotting microbial community dissimilary against host phylogenetic divergence"
   ]
  },
  {
   "cell_type": "markdown",
   "metadata": {},
   "source": [
    "### Fecal Microbial Dissimilarity * ML Branch Lengths"
   ]
  },
  {
   "cell_type": "code",
   "execution_count": 25,
   "metadata": {},
   "outputs": [],
   "source": [
    "batfecal.00.dist.unif = readRDS(\"/group/gilbert-lab/Lutz/Batmicrobiome/batrun_finaldata_for_phyloseq_Oct2017/Adiv/batfecal.00.dist.unif.rds\")\n",
    "#library(reshape)\n",
    "#wuf_dist = melt(as.matrix(batfecal.00.dist.wunif))\n",
    "uf_dist = read.csv(\"/group/gilbert-lab/Lutz/Batmicrobiome/batrun_finaldata_for_phyloseq_Oct2017/Adiv/CSVfiles/batfecal_uf_dist.csv\")"
   ]
  },
  {
   "cell_type": "code",
   "execution_count": 27,
   "metadata": {
    "collapsed": true
   },
   "outputs": [],
   "source": [
    "batfecal_ID = read.csv(\"/group/gilbert-lab/Lutz/Batmicrobiome/batrun_finaldata_for_phyloseq_Oct2017/Adiv/CSVfiles/batfecal_IDs.csv\")"
   ]
  },
  {
   "cell_type": "code",
   "execution_count": 37,
   "metadata": {},
   "outputs": [
    {
     "data": {
      "text/html": [
       "<table>\n",
       "<thead><tr><th scope=col>X</th><th scope=col>c1</th><th scope=col>Host_names</th><th scope=col>uf_dist</th><th scope=col>ST</th><th scope=col>Host1</th></tr></thead>\n",
       "<tbody>\n",
       "\t<tr><td>1                    </td><td>PWW.3632.FecalFTA    </td><td>PWW.3632.FecalFTA    </td><td>0.0000000            </td><td>FecalFTA             </td><td>Rousettus_aegyptiacus</td></tr>\n",
       "\t<tr><td>2                    </td><td>PWW.3635.FecalFTA    </td><td>PWW.3632.FecalFTA    </td><td>0.4919007            </td><td>FecalFTA             </td><td>Rousettus_aegyptiacus</td></tr>\n",
       "\t<tr><td>3                    </td><td>PWW.3374.FecalFTA    </td><td>PWW.3632.FecalFTA    </td><td>0.6573002            </td><td>FecalFTA             </td><td>Triaenops_afer       </td></tr>\n",
       "\t<tr><td>4                    </td><td>JCK.10357.FecalFTA   </td><td>PWW.3632.FecalFTA    </td><td>0.5179268            </td><td>FecalFTA             </td><td>Rhinolophus_clivosus </td></tr>\n",
       "\t<tr><td>5                    </td><td>PWW.3523.FecalFTA    </td><td>PWW.3632.FecalFTA    </td><td>0.6607082            </td><td>FecalFTA             </td><td>Hipposideros_caffer  </td></tr>\n",
       "\t<tr><td>6                    </td><td>PWW.3465.FecalFTA    </td><td>PWW.3632.FecalFTA    </td><td>0.6112565            </td><td>FecalFTA             </td><td>Rhinolophus_eloquens </td></tr>\n",
       "</tbody>\n",
       "</table>\n"
      ],
      "text/latex": [
       "\\begin{tabular}{r|llllll}\n",
       " X & c1 & Host\\_names & uf\\_dist & ST & Host1\\\\\n",
       "\\hline\n",
       "\t 1                       & PWW.3632.FecalFTA       & PWW.3632.FecalFTA       & 0.0000000               & FecalFTA                & Rousettus\\_aegyptiacus\\\\\n",
       "\t 2                       & PWW.3635.FecalFTA       & PWW.3632.FecalFTA       & 0.4919007               & FecalFTA                & Rousettus\\_aegyptiacus\\\\\n",
       "\t 3                       & PWW.3374.FecalFTA       & PWW.3632.FecalFTA       & 0.6573002               & FecalFTA                & Triaenops\\_afer       \\\\\n",
       "\t 4                       & JCK.10357.FecalFTA      & PWW.3632.FecalFTA       & 0.5179268               & FecalFTA                & Rhinolophus\\_clivosus \\\\\n",
       "\t 5                       & PWW.3523.FecalFTA       & PWW.3632.FecalFTA       & 0.6607082               & FecalFTA                & Hipposideros\\_caffer  \\\\\n",
       "\t 6                       & PWW.3465.FecalFTA       & PWW.3632.FecalFTA       & 0.6112565               & FecalFTA                & Rhinolophus\\_eloquens \\\\\n",
       "\\end{tabular}\n"
      ],
      "text/markdown": [
       "\n",
       "X | c1 | Host_names | uf_dist | ST | Host1 | \n",
       "|---|---|---|---|---|---|\n",
       "| 1                     | PWW.3632.FecalFTA     | PWW.3632.FecalFTA     | 0.0000000             | FecalFTA              | Rousettus_aegyptiacus | \n",
       "| 2                     | PWW.3635.FecalFTA     | PWW.3632.FecalFTA     | 0.4919007             | FecalFTA              | Rousettus_aegyptiacus | \n",
       "| 3                     | PWW.3374.FecalFTA     | PWW.3632.FecalFTA     | 0.6573002             | FecalFTA              | Triaenops_afer        | \n",
       "| 4                     | JCK.10357.FecalFTA    | PWW.3632.FecalFTA     | 0.5179268             | FecalFTA              | Rhinolophus_clivosus  | \n",
       "| 5                     | PWW.3523.FecalFTA     | PWW.3632.FecalFTA     | 0.6607082             | FecalFTA              | Hipposideros_caffer   | \n",
       "| 6                     | PWW.3465.FecalFTA     | PWW.3632.FecalFTA     | 0.6112565             | FecalFTA              | Rhinolophus_eloquens  | \n",
       "\n",
       "\n"
      ],
      "text/plain": [
       "  X c1                 Host_names        uf_dist   ST      \n",
       "1 1 PWW.3632.FecalFTA  PWW.3632.FecalFTA 0.0000000 FecalFTA\n",
       "2 2 PWW.3635.FecalFTA  PWW.3632.FecalFTA 0.4919007 FecalFTA\n",
       "3 3 PWW.3374.FecalFTA  PWW.3632.FecalFTA 0.6573002 FecalFTA\n",
       "4 4 JCK.10357.FecalFTA PWW.3632.FecalFTA 0.5179268 FecalFTA\n",
       "5 5 PWW.3523.FecalFTA  PWW.3632.FecalFTA 0.6607082 FecalFTA\n",
       "6 6 PWW.3465.FecalFTA  PWW.3632.FecalFTA 0.6112565 FecalFTA\n",
       "  Host1                \n",
       "1 Rousettus_aegyptiacus\n",
       "2 Rousettus_aegyptiacus\n",
       "3 Triaenops_afer       \n",
       "4 Rhinolophus_clivosus \n",
       "5 Hipposideros_caffer  \n",
       "6 Rhinolophus_eloquens "
      ]
     },
     "metadata": {},
     "output_type": "display_data"
    }
   ],
   "source": [
    "names(batfecal.uf.2.df) <- c(\"X\",  \"c1\", \"Host_names\", \"uf_dist\", \"ST\", \"Host1\")\n",
    "head(batfecal.uf.2.df)"
   ]
  },
  {
   "cell_type": "code",
   "execution_count": 28,
   "metadata": {},
   "outputs": [
    {
     "data": {
      "text/html": [
       "<table>\n",
       "<thead><tr><th scope=col>Host_names</th><th scope=col>X</th><th scope=col>names</th></tr></thead>\n",
       "<tbody>\n",
       "\t<tr><td>BN.593.FecalFTA      </td><td>FecalFTA             </td><td>Chaerephon_bivitattus</td></tr>\n",
       "\t<tr><td>BN.594.FecalFTA      </td><td>FecalFTA             </td><td>Chaerephon_bivitattus</td></tr>\n",
       "\t<tr><td>BN.595.FecalFTA      </td><td>FecalFTA             </td><td>Chaerephon_bivitattus</td></tr>\n",
       "\t<tr><td>BN.596.FecalFTA      </td><td>FecalFTA             </td><td>Chaerephon_bivitattus</td></tr>\n",
       "\t<tr><td>BN.597.FecalFTA      </td><td>FecalFTA             </td><td>Chaerephon_bivitattus</td></tr>\n",
       "\t<tr><td>BN.598.FecalFTA      </td><td>FecalFTA             </td><td>Chaerephon_bivitattus</td></tr>\n",
       "</tbody>\n",
       "</table>\n"
      ],
      "text/latex": [
       "\\begin{tabular}{r|lll}\n",
       " Host\\_names & X & names\\\\\n",
       "\\hline\n",
       "\t BN.593.FecalFTA         & FecalFTA                & Chaerephon\\_bivitattus\\\\\n",
       "\t BN.594.FecalFTA         & FecalFTA                & Chaerephon\\_bivitattus\\\\\n",
       "\t BN.595.FecalFTA         & FecalFTA                & Chaerephon\\_bivitattus\\\\\n",
       "\t BN.596.FecalFTA         & FecalFTA                & Chaerephon\\_bivitattus\\\\\n",
       "\t BN.597.FecalFTA         & FecalFTA                & Chaerephon\\_bivitattus\\\\\n",
       "\t BN.598.FecalFTA         & FecalFTA                & Chaerephon\\_bivitattus\\\\\n",
       "\\end{tabular}\n"
      ],
      "text/markdown": [
       "\n",
       "Host_names | X | names | \n",
       "|---|---|---|---|---|---|\n",
       "| BN.593.FecalFTA       | FecalFTA              | Chaerephon_bivitattus | \n",
       "| BN.594.FecalFTA       | FecalFTA              | Chaerephon_bivitattus | \n",
       "| BN.595.FecalFTA       | FecalFTA              | Chaerephon_bivitattus | \n",
       "| BN.596.FecalFTA       | FecalFTA              | Chaerephon_bivitattus | \n",
       "| BN.597.FecalFTA       | FecalFTA              | Chaerephon_bivitattus | \n",
       "| BN.598.FecalFTA       | FecalFTA              | Chaerephon_bivitattus | \n",
       "\n",
       "\n"
      ],
      "text/plain": [
       "  Host_names      X        names                \n",
       "1 BN.593.FecalFTA FecalFTA Chaerephon_bivitattus\n",
       "2 BN.594.FecalFTA FecalFTA Chaerephon_bivitattus\n",
       "3 BN.595.FecalFTA FecalFTA Chaerephon_bivitattus\n",
       "4 BN.596.FecalFTA FecalFTA Chaerephon_bivitattus\n",
       "5 BN.597.FecalFTA FecalFTA Chaerephon_bivitattus\n",
       "6 BN.598.FecalFTA FecalFTA Chaerephon_bivitattus"
      ]
     },
     "metadata": {},
     "output_type": "display_data"
    }
   ],
   "source": [
    "names(batfecal_ID) <- c(\"Host_names\", \"X\", \"names\")\n",
    "head(batfecal_ID)"
   ]
  },
  {
   "cell_type": "code",
   "execution_count": 38,
   "metadata": {},
   "outputs": [
    {
     "name": "stderr",
     "output_type": "stream",
     "text": [
      "Warning message:\n",
      "“Column `Host_names` joining factors with different levels, coercing to character vector”"
     ]
    }
   ],
   "source": [
    "batfecal.uf.2.df = inner_join(batfecal.uf.1.df, batfecal_ID, by=\"Host_names\")"
   ]
  },
  {
   "cell_type": "code",
   "execution_count": 39,
   "metadata": {
    "collapsed": true
   },
   "outputs": [],
   "source": [
    "#names(batfecal.wuf.1.df) <- c(\"C1\", \"Host_names\", \"wuf_dist\", \"ST\", \"names\")\n",
    "write.csv(batfecal.uf.2.df, \"/group/gilbert-lab/Lutz/Batmicrobiome/batrun_finaldata_for_phyloseq_Oct2017/Adiv/CSVfiles/batfecal_uf_dist_wnames.csv\")"
   ]
  },
  {
   "cell_type": "code",
   "execution_count": 69,
   "metadata": {
    "collapsed": true
   },
   "outputs": [],
   "source": [
    "batfecal.unif = read.csv(\"/group/gilbert-lab/Lutz/Batmicrobiome/batrun_finaldata_for_phyloseq_Oct2017/Adiv/CSVfiles/batfecal_uf_dist_wnames.csv\")\n",
    "branches = read.csv(\"/group/gilbert-lab/Lutz/Batmicrobiome/batrun_finaldata_for_phyloseq_Oct2017/Adiv/CSVfiles/brlen.df.csv\")"
   ]
  },
  {
   "cell_type": "code",
   "execution_count": 44,
   "metadata": {},
   "outputs": [
    {
     "data": {
      "text/html": [
       "<table>\n",
       "<thead><tr><th scope=col>Host_names</th><th scope=col>Host1</th><th scope=col>Host2</th><th scope=col>uf_dist</th></tr></thead>\n",
       "<tbody>\n",
       "\t<tr><td>Rousettus_aegyptiacus_Rousettus_aegyptiacus</td><td>PWW.3632.FecalFTA                          </td><td>PWW.3632.FecalFTA                          </td><td>0.0000000                                  </td></tr>\n",
       "\t<tr><td>Rousettus_aegyptiacus_Rousettus_aegyptiacus</td><td>PWW.3635.FecalFTA                          </td><td>PWW.3632.FecalFTA                          </td><td>0.4919007                                  </td></tr>\n",
       "\t<tr><td>Triaenops_afer_Rousettus_aegyptiacus       </td><td>PWW.3374.FecalFTA                          </td><td>PWW.3632.FecalFTA                          </td><td>0.6573002                                  </td></tr>\n",
       "\t<tr><td>Rhinolophus_clivosus_Rousettus_aegyptiacus </td><td>JCK.10357.FecalFTA                         </td><td>PWW.3632.FecalFTA                          </td><td>0.5179268                                  </td></tr>\n",
       "\t<tr><td>Hipposideros_caffer_Rousettus_aegyptiacus  </td><td>PWW.3523.FecalFTA                          </td><td>PWW.3632.FecalFTA                          </td><td>0.6607082                                  </td></tr>\n",
       "\t<tr><td>Rhinolophus_eloquens_Rousettus_aegyptiacus </td><td>PWW.3465.FecalFTA                          </td><td>PWW.3632.FecalFTA                          </td><td>0.6112565                                  </td></tr>\n",
       "</tbody>\n",
       "</table>\n"
      ],
      "text/latex": [
       "\\begin{tabular}{r|llll}\n",
       " Host\\_names & Host1 & Host2 & uf\\_dist\\\\\n",
       "\\hline\n",
       "\t Rousettus\\_aegyptiacus\\_Rousettus\\_aegyptiacus & PWW.3632.FecalFTA                                 & PWW.3632.FecalFTA                                 & 0.0000000                                        \\\\\n",
       "\t Rousettus\\_aegyptiacus\\_Rousettus\\_aegyptiacus & PWW.3635.FecalFTA                                 & PWW.3632.FecalFTA                                 & 0.4919007                                        \\\\\n",
       "\t Triaenops\\_afer\\_Rousettus\\_aegyptiacus        & PWW.3374.FecalFTA                                 & PWW.3632.FecalFTA                                 & 0.6573002                                        \\\\\n",
       "\t Rhinolophus\\_clivosus\\_Rousettus\\_aegyptiacus  & JCK.10357.FecalFTA                                & PWW.3632.FecalFTA                                 & 0.5179268                                        \\\\\n",
       "\t Hipposideros\\_caffer\\_Rousettus\\_aegyptiacus   & PWW.3523.FecalFTA                                 & PWW.3632.FecalFTA                                 & 0.6607082                                        \\\\\n",
       "\t Rhinolophus\\_eloquens\\_Rousettus\\_aegyptiacus  & PWW.3465.FecalFTA                                 & PWW.3632.FecalFTA                                 & 0.6112565                                        \\\\\n",
       "\\end{tabular}\n"
      ],
      "text/markdown": [
       "\n",
       "Host_names | Host1 | Host2 | uf_dist | \n",
       "|---|---|---|---|---|---|\n",
       "| Rousettus_aegyptiacus_Rousettus_aegyptiacus | PWW.3632.FecalFTA                           | PWW.3632.FecalFTA                           | 0.0000000                                   | \n",
       "| Rousettus_aegyptiacus_Rousettus_aegyptiacus | PWW.3635.FecalFTA                           | PWW.3632.FecalFTA                           | 0.4919007                                   | \n",
       "| Triaenops_afer_Rousettus_aegyptiacus        | PWW.3374.FecalFTA                           | PWW.3632.FecalFTA                           | 0.6573002                                   | \n",
       "| Rhinolophus_clivosus_Rousettus_aegyptiacus  | JCK.10357.FecalFTA                          | PWW.3632.FecalFTA                           | 0.5179268                                   | \n",
       "| Hipposideros_caffer_Rousettus_aegyptiacus   | PWW.3523.FecalFTA                           | PWW.3632.FecalFTA                           | 0.6607082                                   | \n",
       "| Rhinolophus_eloquens_Rousettus_aegyptiacus  | PWW.3465.FecalFTA                           | PWW.3632.FecalFTA                           | 0.6112565                                   | \n",
       "\n",
       "\n"
      ],
      "text/plain": [
       "  Host_names                                  Host1             \n",
       "1 Rousettus_aegyptiacus_Rousettus_aegyptiacus PWW.3632.FecalFTA \n",
       "2 Rousettus_aegyptiacus_Rousettus_aegyptiacus PWW.3635.FecalFTA \n",
       "3 Triaenops_afer_Rousettus_aegyptiacus        PWW.3374.FecalFTA \n",
       "4 Rhinolophus_clivosus_Rousettus_aegyptiacus  JCK.10357.FecalFTA\n",
       "5 Hipposideros_caffer_Rousettus_aegyptiacus   PWW.3523.FecalFTA \n",
       "6 Rhinolophus_eloquens_Rousettus_aegyptiacus  PWW.3465.FecalFTA \n",
       "  Host2             uf_dist  \n",
       "1 PWW.3632.FecalFTA 0.0000000\n",
       "2 PWW.3632.FecalFTA 0.4919007\n",
       "3 PWW.3632.FecalFTA 0.6573002\n",
       "4 PWW.3632.FecalFTA 0.5179268\n",
       "5 PWW.3632.FecalFTA 0.6607082\n",
       "6 PWW.3632.FecalFTA 0.6112565"
      ]
     },
     "metadata": {},
     "output_type": "display_data"
    }
   ],
   "source": [
    "head(batfecal.unif)"
   ]
  },
  {
   "cell_type": "code",
   "execution_count": 7,
   "metadata": {},
   "outputs": [
    {
     "data": {
      "text/html": [
       "<table>\n",
       "<thead><tr><th scope=col>Host_names</th><th scope=col>brlen</th></tr></thead>\n",
       "<tbody>\n",
       "\t<tr><td>Epomophorus_labiatus_Micropteropus_pusillus</td><td>0.01439787                                 </td></tr>\n",
       "\t<tr><td>Micropteropus_pusillus_Epomophorus_labiatus</td><td>0.01439787                                 </td></tr>\n",
       "\t<tr><td>Rhinolophus_clivosus_Rhinolophus_eloquens  </td><td>0.03030532                                 </td></tr>\n",
       "\t<tr><td>Rhinolophus_eloquens_Rhinolophus_clivosus  </td><td>0.03030532                                 </td></tr>\n",
       "\t<tr><td>Epomophorus_labiatus_Epomophorus_wahlbergi </td><td>0.05369780                                 </td></tr>\n",
       "\t<tr><td>Epomophorus_wahlbergi_Epomophorus_labiatus </td><td>0.05369780                                 </td></tr>\n",
       "</tbody>\n",
       "</table>\n"
      ],
      "text/latex": [
       "\\begin{tabular}{r|ll}\n",
       " Host\\_names & brlen\\\\\n",
       "\\hline\n",
       "\t Epomophorus\\_labiatus\\_Micropteropus\\_pusillus & 0.01439787                                       \\\\\n",
       "\t Micropteropus\\_pusillus\\_Epomophorus\\_labiatus & 0.01439787                                       \\\\\n",
       "\t Rhinolophus\\_clivosus\\_Rhinolophus\\_eloquens   & 0.03030532                                       \\\\\n",
       "\t Rhinolophus\\_eloquens\\_Rhinolophus\\_clivosus   & 0.03030532                                       \\\\\n",
       "\t Epomophorus\\_labiatus\\_Epomophorus\\_wahlbergi  & 0.05369780                                       \\\\\n",
       "\t Epomophorus\\_wahlbergi\\_Epomophorus\\_labiatus  & 0.05369780                                       \\\\\n",
       "\\end{tabular}\n"
      ],
      "text/markdown": [
       "\n",
       "Host_names | brlen | \n",
       "|---|---|---|---|---|---|\n",
       "| Epomophorus_labiatus_Micropteropus_pusillus | 0.01439787                                  | \n",
       "| Micropteropus_pusillus_Epomophorus_labiatus | 0.01439787                                  | \n",
       "| Rhinolophus_clivosus_Rhinolophus_eloquens   | 0.03030532                                  | \n",
       "| Rhinolophus_eloquens_Rhinolophus_clivosus   | 0.03030532                                  | \n",
       "| Epomophorus_labiatus_Epomophorus_wahlbergi  | 0.05369780                                  | \n",
       "| Epomophorus_wahlbergi_Epomophorus_labiatus  | 0.05369780                                  | \n",
       "\n",
       "\n"
      ],
      "text/plain": [
       "  Host_names                                  brlen     \n",
       "1 Epomophorus_labiatus_Micropteropus_pusillus 0.01439787\n",
       "2 Micropteropus_pusillus_Epomophorus_labiatus 0.01439787\n",
       "3 Rhinolophus_clivosus_Rhinolophus_eloquens   0.03030532\n",
       "4 Rhinolophus_eloquens_Rhinolophus_clivosus   0.03030532\n",
       "5 Epomophorus_labiatus_Epomophorus_wahlbergi  0.05369780\n",
       "6 Epomophorus_wahlbergi_Epomophorus_labiatus  0.05369780"
      ]
     },
     "metadata": {},
     "output_type": "display_data"
    }
   ],
   "source": [
    "head(branches)"
   ]
  },
  {
   "cell_type": "code",
   "execution_count": 70,
   "metadata": {},
   "outputs": [
    {
     "name": "stderr",
     "output_type": "stream",
     "text": [
      "Warning message:\n",
      "“Column `Host_names` joining factors with different levels, coercing to character vector”"
     ]
    }
   ],
   "source": [
    "batfecal_brlen.unif = inner_join(batfecal.unif, branches, by=\"Host_names\")"
   ]
  },
  {
   "cell_type": "code",
   "execution_count": 46,
   "metadata": {
    "collapsed": true
   },
   "outputs": [],
   "source": [
    "write.csv(batfecal_brlen.unif, \"/group/gilbert-lab/Lutz/Batmicrobiome/batrun_finaldata_for_phyloseq_Oct2017/Adiv/CSVfiles/batfecal_brlen.unif.csv\")"
   ]
  },
  {
   "cell_type": "code",
   "execution_count": 71,
   "metadata": {
    "collapsed": true
   },
   "outputs": [],
   "source": [
    "avg_obs <- aggregate(uf_dist ~ Host_names, data = batfecal_brlen.unif, mean)"
   ]
  },
  {
   "cell_type": "code",
   "execution_count": 72,
   "metadata": {},
   "outputs": [
    {
     "data": {
      "text/html": [
       "<table>\n",
       "<thead><tr><th scope=col>Host_names</th><th scope=col>uf_dist</th></tr></thead>\n",
       "<tbody>\n",
       "\t<tr><td>Coleura_afra_Epomophorus_labiatus     </td><td>0.5826819                             </td></tr>\n",
       "\t<tr><td>Coleura_afra_Epomophorus_wahlbergi    </td><td>0.6235194                             </td></tr>\n",
       "\t<tr><td>Coleura_afra_Hipposideros_caffer      </td><td>0.6644229                             </td></tr>\n",
       "\t<tr><td>Coleura_afra_Hipposideros_camerunensis</td><td>0.7257280                             </td></tr>\n",
       "\t<tr><td>Coleura_afra_Hipposideros_ruber       </td><td>0.6232086                             </td></tr>\n",
       "\t<tr><td>Coleura_afra_Hipposideros_vittatus    </td><td>0.6613455                             </td></tr>\n",
       "</tbody>\n",
       "</table>\n"
      ],
      "text/latex": [
       "\\begin{tabular}{r|ll}\n",
       " Host\\_names & uf\\_dist\\\\\n",
       "\\hline\n",
       "\t Coleura\\_afra\\_Epomophorus\\_labiatus      & 0.5826819                                   \\\\\n",
       "\t Coleura\\_afra\\_Epomophorus\\_wahlbergi     & 0.6235194                                   \\\\\n",
       "\t Coleura\\_afra\\_Hipposideros\\_caffer       & 0.6644229                                   \\\\\n",
       "\t Coleura\\_afra\\_Hipposideros\\_camerunensis & 0.7257280                                   \\\\\n",
       "\t Coleura\\_afra\\_Hipposideros\\_ruber        & 0.6232086                                   \\\\\n",
       "\t Coleura\\_afra\\_Hipposideros\\_vittatus     & 0.6613455                                   \\\\\n",
       "\\end{tabular}\n"
      ],
      "text/markdown": [
       "\n",
       "Host_names | uf_dist | \n",
       "|---|---|---|---|---|---|\n",
       "| Coleura_afra_Epomophorus_labiatus      | 0.5826819                              | \n",
       "| Coleura_afra_Epomophorus_wahlbergi     | 0.6235194                              | \n",
       "| Coleura_afra_Hipposideros_caffer       | 0.6644229                              | \n",
       "| Coleura_afra_Hipposideros_camerunensis | 0.7257280                              | \n",
       "| Coleura_afra_Hipposideros_ruber        | 0.6232086                              | \n",
       "| Coleura_afra_Hipposideros_vittatus     | 0.6613455                              | \n",
       "\n",
       "\n"
      ],
      "text/plain": [
       "  Host_names                             uf_dist  \n",
       "1 Coleura_afra_Epomophorus_labiatus      0.5826819\n",
       "2 Coleura_afra_Epomophorus_wahlbergi     0.6235194\n",
       "3 Coleura_afra_Hipposideros_caffer       0.6644229\n",
       "4 Coleura_afra_Hipposideros_camerunensis 0.7257280\n",
       "5 Coleura_afra_Hipposideros_ruber        0.6232086\n",
       "6 Coleura_afra_Hipposideros_vittatus     0.6613455"
      ]
     },
     "metadata": {},
     "output_type": "display_data"
    }
   ],
   "source": [
    "head(avg_obs)"
   ]
  },
  {
   "cell_type": "code",
   "execution_count": 73,
   "metadata": {},
   "outputs": [
    {
     "name": "stderr",
     "output_type": "stream",
     "text": [
      "Warning message:\n",
      "“Column `Host_names` joining character vector and factor, coercing into character vector”"
     ]
    }
   ],
   "source": [
    "batfecal_uf = inner_join(avg_obs, branches, by=\"Host_names\")"
   ]
  },
  {
   "cell_type": "code",
   "execution_count": 157,
   "metadata": {},
   "outputs": [],
   "source": [
    "write.csv(batfecal_wuf, \"/group/gilbert-lab/Lutz/Batmicrobiome/batrun_finaldata_for_phyloseq_Oct2017/Adiv/CSVfiles_for_final_plots/batfecal.wuf.brlen.csv\")"
   ]
  },
  {
   "cell_type": "code",
   "execution_count": 102,
   "metadata": {},
   "outputs": [
    {
     "name": "stderr",
     "output_type": "stream",
     "text": [
      "Warning message:\n",
      "“Computation failed in `stat_smooth()`:\n",
      "object 'weight' not found”"
     ]
    },
    {
     "data": {},
     "metadata": {},
     "output_type": "display_data"
    },
    {
     "data": {
      "image/png": "[encoded data removed]",
      "text/plain": [
       "plot without title"
      ]
     },
     "metadata": {},
     "output_type": "display_data"
    }
   ],
   "source": [
    "p = ggplot(batfecal_wuf, aes(x=brlen, y=wuf_dist)) + geom_point() + ggtitle(\"Fecal Microbiome Dissimilarity (Weighted Unifrac) \\n by ML Host Phylogenetic Divergence\")\n",
    "p = p + geom_smooth(method = \"\", se=TRUE, alpha=0.2)\n",
    "p = p + theme_minimal() + theme(plot.title = element_text(hjust = 0.5))\n",
    "p"
   ]
  },
  {
   "cell_type": "code",
   "execution_count": 75,
   "metadata": {},
   "outputs": [
    {
     "data": {
      "text/plain": [
       "\n",
       "Call:\n",
       "lm(formula = brlen ~ uf_dist, data = batfecal_uf)\n",
       "\n",
       "Residuals:\n",
       "     Min       1Q   Median       3Q      Max \n",
       "-0.51124 -0.05668  0.04475  0.10003  0.21898 \n",
       "\n",
       "Coefficients:\n",
       "            Estimate Std. Error t value Pr(>|t|)    \n",
       "(Intercept)  0.31864    0.09565   3.331 0.000941 ***\n",
       "uf_dist      0.34235    0.13610   2.515 0.012261 *  \n",
       "---\n",
       "Signif. codes:  0 ‘***’ 0.001 ‘**’ 0.01 ‘*’ 0.05 ‘.’ 0.1 ‘ ’ 1\n",
       "\n",
       "Residual standard error: 0.1544 on 418 degrees of freedom\n",
       "Multiple R-squared:  0.01491,\tAdjusted R-squared:  0.01256 \n",
       "F-statistic: 6.328 on 1 and 418 DF,  p-value: 0.01226\n"
      ]
     },
     "metadata": {},
     "output_type": "display_data"
    }
   ],
   "source": [
    "fit <- lm(brlen ~ uf_dist, data = batfecal_uf)\n",
    "summary(fit)"
   ]
  },
  {
   "cell_type": "markdown",
   "metadata": {},
   "source": [
    "### Oral Microbial Dissimilarity * ML Branch Lengths"
   ]
  },
  {
   "cell_type": "code",
   "execution_count": 105,
   "metadata": {
    "collapsed": true
   },
   "outputs": [],
   "source": [
    "batoral.00.dist.wunif = readRDS(\"/group/gilbert-lab/Lutz/Batmicrobiome/batrun_finaldata_for_phyloseq_Oct2017/Adiv/batoral.00.dist.wunif.rds\")\n",
    "#library(reshape)\n",
    "#wuf_dist = melt(as.matrix(batoral.00.dist.wunif))\n",
    "wuf_dist = read.csv(\"/group/gilbert-lab/Lutz/Batmicrobiome/batrun_finaldata_for_phyloseq_Oct2017/Adiv/CSVfiles/batoral_wuf_dist.csv\")"
   ]
  },
  {
   "cell_type": "code",
   "execution_count": 106,
   "metadata": {
    "collapsed": true
   },
   "outputs": [],
   "source": [
    "oral_IDs = read.csv(\"/group/gilbert-lab/Lutz/Batmicrobiome/batrun_finaldata_for_phyloseq_Oct2017/Adiv/CSVfiles/oral_IDs.csv\")"
   ]
  },
  {
   "cell_type": "code",
   "execution_count": 111,
   "metadata": {},
   "outputs": [
    {
     "data": {
      "text/html": [
       "<table>\n",
       "<thead><tr><th scope=col>X</th><th scope=col>Host_names</th><th scope=col>c1</th><th scope=col>wuf_dist</th><th scope=col>ST</th><th scope=col>Host1</th></tr></thead>\n",
       "<tbody>\n",
       "\t<tr><td>1                     </td><td>PWW.3622.TongueEtOH   </td><td>PWW.3622.TongueEtOH   </td><td>0.00000000            </td><td>TongueEtOH            </td><td>Rhinolophus_clivosus  </td></tr>\n",
       "\t<tr><td>2                     </td><td>PWW.3527.TongueEtOH   </td><td>PWW.3622.TongueEtOH   </td><td>0.08710737            </td><td>TongueEtOH            </td><td>Rhinolophus_clivosus  </td></tr>\n",
       "\t<tr><td>3                     </td><td>PWW.3512.TongueEtOH   </td><td>PWW.3622.TongueEtOH   </td><td>0.09645523            </td><td>TongueEtOH            </td><td>Rhinolophus_clivosus  </td></tr>\n",
       "\t<tr><td>4                     </td><td>JCK.10259.TongueEtOH  </td><td>PWW.3622.TongueEtOH   </td><td>0.23389499            </td><td>TongueEtOH            </td><td>Rhinolophus_clivosus  </td></tr>\n",
       "\t<tr><td>5                     </td><td>JCK.10329.TongueEtOH.2</td><td>PWW.3622.TongueEtOH   </td><td>0.14436501            </td><td>TongueEtOH            </td><td>Rhinolophus_clivosus  </td></tr>\n",
       "\t<tr><td>6                     </td><td>PWW.3330.TongueEtOH   </td><td>PWW.3622.TongueEtOH   </td><td>0.14203208            </td><td>TongueEtOH            </td><td>Rhinolophus_clivosus  </td></tr>\n",
       "</tbody>\n",
       "</table>\n"
      ],
      "text/latex": [
       "\\begin{tabular}{r|llllll}\n",
       " X & Host\\_names & c1 & wuf\\_dist & ST & Host1\\\\\n",
       "\\hline\n",
       "\t 1                      & PWW.3622.TongueEtOH    & PWW.3622.TongueEtOH    & 0.00000000             & TongueEtOH             & Rhinolophus\\_clivosus\\\\\n",
       "\t 2                      & PWW.3527.TongueEtOH    & PWW.3622.TongueEtOH    & 0.08710737             & TongueEtOH             & Rhinolophus\\_clivosus\\\\\n",
       "\t 3                      & PWW.3512.TongueEtOH    & PWW.3622.TongueEtOH    & 0.09645523             & TongueEtOH             & Rhinolophus\\_clivosus\\\\\n",
       "\t 4                      & JCK.10259.TongueEtOH   & PWW.3622.TongueEtOH    & 0.23389499             & TongueEtOH             & Rhinolophus\\_clivosus\\\\\n",
       "\t 5                      & JCK.10329.TongueEtOH.2 & PWW.3622.TongueEtOH    & 0.14436501             & TongueEtOH             & Rhinolophus\\_clivosus\\\\\n",
       "\t 6                      & PWW.3330.TongueEtOH    & PWW.3622.TongueEtOH    & 0.14203208             & TongueEtOH             & Rhinolophus\\_clivosus\\\\\n",
       "\\end{tabular}\n"
      ],
      "text/markdown": [
       "\n",
       "X | Host_names | c1 | wuf_dist | ST | Host1 | \n",
       "|---|---|---|---|---|---|\n",
       "| 1                      | PWW.3622.TongueEtOH    | PWW.3622.TongueEtOH    | 0.00000000             | TongueEtOH             | Rhinolophus_clivosus   | \n",
       "| 2                      | PWW.3527.TongueEtOH    | PWW.3622.TongueEtOH    | 0.08710737             | TongueEtOH             | Rhinolophus_clivosus   | \n",
       "| 3                      | PWW.3512.TongueEtOH    | PWW.3622.TongueEtOH    | 0.09645523             | TongueEtOH             | Rhinolophus_clivosus   | \n",
       "| 4                      | JCK.10259.TongueEtOH   | PWW.3622.TongueEtOH    | 0.23389499             | TongueEtOH             | Rhinolophus_clivosus   | \n",
       "| 5                      | JCK.10329.TongueEtOH.2 | PWW.3622.TongueEtOH    | 0.14436501             | TongueEtOH             | Rhinolophus_clivosus   | \n",
       "| 6                      | PWW.3330.TongueEtOH    | PWW.3622.TongueEtOH    | 0.14203208             | TongueEtOH             | Rhinolophus_clivosus   | \n",
       "\n",
       "\n"
      ],
      "text/plain": [
       "  X Host_names             c1                  wuf_dist   ST        \n",
       "1 1 PWW.3622.TongueEtOH    PWW.3622.TongueEtOH 0.00000000 TongueEtOH\n",
       "2 2 PWW.3527.TongueEtOH    PWW.3622.TongueEtOH 0.08710737 TongueEtOH\n",
       "3 3 PWW.3512.TongueEtOH    PWW.3622.TongueEtOH 0.09645523 TongueEtOH\n",
       "4 4 JCK.10259.TongueEtOH   PWW.3622.TongueEtOH 0.23389499 TongueEtOH\n",
       "5 5 JCK.10329.TongueEtOH.2 PWW.3622.TongueEtOH 0.14436501 TongueEtOH\n",
       "6 6 PWW.3330.TongueEtOH    PWW.3622.TongueEtOH 0.14203208 TongueEtOH\n",
       "  Host1               \n",
       "1 Rhinolophus_clivosus\n",
       "2 Rhinolophus_clivosus\n",
       "3 Rhinolophus_clivosus\n",
       "4 Rhinolophus_clivosus\n",
       "5 Rhinolophus_clivosus\n",
       "6 Rhinolophus_clivosus"
      ]
     },
     "metadata": {},
     "output_type": "display_data"
    }
   ],
   "source": [
    "names(batoral.wuf.1.df) <- c(\"X\", \"Host_names\",\"c1\", \"wuf_dist\", \"ST\", \"Host1\")\n",
    "head(batoral.wuf.1.df)"
   ]
  },
  {
   "cell_type": "code",
   "execution_count": 109,
   "metadata": {},
   "outputs": [
    {
     "data": {
      "text/html": [
       "<table>\n",
       "<thead><tr><th scope=col>Host_names</th><th scope=col>X</th><th scope=col>names</th></tr></thead>\n",
       "<tbody>\n",
       "\t<tr><td>BN.593.TongueEtOH    </td><td>TongueEtOH           </td><td>Chaerephon_bivitattus</td></tr>\n",
       "\t<tr><td>BN.594.TongueEtOH    </td><td>TongueEtOH           </td><td>Chaerephon_bivitattus</td></tr>\n",
       "\t<tr><td>BN.595.TongueEtOH    </td><td>TongueEtOH           </td><td>Chaerephon_bivitattus</td></tr>\n",
       "\t<tr><td>BN.596.TongueEtOH    </td><td>TongueEtOH           </td><td>Chaerephon_bivitattus</td></tr>\n",
       "\t<tr><td>BN.597.TongueEtOH    </td><td>TongueEtOH           </td><td>Chaerephon_bivitattus</td></tr>\n",
       "\t<tr><td>BN.598.TongueEtOH    </td><td>TongueEtOH           </td><td>Chaerephon_bivitattus</td></tr>\n",
       "</tbody>\n",
       "</table>\n"
      ],
      "text/latex": [
       "\\begin{tabular}{r|lll}\n",
       " Host\\_names & X & names\\\\\n",
       "\\hline\n",
       "\t BN.593.TongueEtOH       & TongueEtOH              & Chaerephon\\_bivitattus\\\\\n",
       "\t BN.594.TongueEtOH       & TongueEtOH              & Chaerephon\\_bivitattus\\\\\n",
       "\t BN.595.TongueEtOH       & TongueEtOH              & Chaerephon\\_bivitattus\\\\\n",
       "\t BN.596.TongueEtOH       & TongueEtOH              & Chaerephon\\_bivitattus\\\\\n",
       "\t BN.597.TongueEtOH       & TongueEtOH              & Chaerephon\\_bivitattus\\\\\n",
       "\t BN.598.TongueEtOH       & TongueEtOH              & Chaerephon\\_bivitattus\\\\\n",
       "\\end{tabular}\n"
      ],
      "text/markdown": [
       "\n",
       "Host_names | X | names | \n",
       "|---|---|---|---|---|---|\n",
       "| BN.593.TongueEtOH     | TongueEtOH            | Chaerephon_bivitattus | \n",
       "| BN.594.TongueEtOH     | TongueEtOH            | Chaerephon_bivitattus | \n",
       "| BN.595.TongueEtOH     | TongueEtOH            | Chaerephon_bivitattus | \n",
       "| BN.596.TongueEtOH     | TongueEtOH            | Chaerephon_bivitattus | \n",
       "| BN.597.TongueEtOH     | TongueEtOH            | Chaerephon_bivitattus | \n",
       "| BN.598.TongueEtOH     | TongueEtOH            | Chaerephon_bivitattus | \n",
       "\n",
       "\n"
      ],
      "text/plain": [
       "  Host_names        X          names                \n",
       "1 BN.593.TongueEtOH TongueEtOH Chaerephon_bivitattus\n",
       "2 BN.594.TongueEtOH TongueEtOH Chaerephon_bivitattus\n",
       "3 BN.595.TongueEtOH TongueEtOH Chaerephon_bivitattus\n",
       "4 BN.596.TongueEtOH TongueEtOH Chaerephon_bivitattus\n",
       "5 BN.597.TongueEtOH TongueEtOH Chaerephon_bivitattus\n",
       "6 BN.598.TongueEtOH TongueEtOH Chaerephon_bivitattus"
      ]
     },
     "metadata": {},
     "output_type": "display_data"
    }
   ],
   "source": [
    "names(oral_IDs) <- c(\"Host_names\", \"X\", \"names\")\n",
    "head(oral_IDs)"
   ]
  },
  {
   "cell_type": "code",
   "execution_count": 112,
   "metadata": {},
   "outputs": [
    {
     "name": "stderr",
     "output_type": "stream",
     "text": [
      "Warning message:\n",
      "“Column `Host_names` joining factors with different levels, coercing to character vector”"
     ]
    },
    {
     "data": {
      "text/html": [
       "<table>\n",
       "<thead><tr><th scope=col>X.x</th><th scope=col>Host_names</th><th scope=col>c1</th><th scope=col>wuf_dist</th><th scope=col>ST</th><th scope=col>Host1</th><th scope=col>X.y</th><th scope=col>names</th></tr></thead>\n",
       "<tbody>\n",
       "\t<tr><td>1                     </td><td>PWW.3622.TongueEtOH   </td><td>PWW.3622.TongueEtOH   </td><td>0.00000000            </td><td>TongueEtOH            </td><td>Rhinolophus_clivosus  </td><td>TongueEtOH            </td><td>Rhinolophus_clivosus  </td></tr>\n",
       "\t<tr><td>2                     </td><td>PWW.3527.TongueEtOH   </td><td>PWW.3622.TongueEtOH   </td><td>0.08710737            </td><td>TongueEtOH            </td><td>Rhinolophus_clivosus  </td><td>TongueEtOH            </td><td>Hipposideros_caffer   </td></tr>\n",
       "\t<tr><td>3                     </td><td>PWW.3512.TongueEtOH   </td><td>PWW.3622.TongueEtOH   </td><td>0.09645523            </td><td>TongueEtOH            </td><td>Rhinolophus_clivosus  </td><td>TongueEtOH            </td><td>Hipposideros_caffer   </td></tr>\n",
       "\t<tr><td>4                     </td><td>JCK.10259.TongueEtOH  </td><td>PWW.3622.TongueEtOH   </td><td>0.23389499            </td><td>TongueEtOH            </td><td>Rhinolophus_clivosus  </td><td>TongueEtOH            </td><td>Myotis_tricolor       </td></tr>\n",
       "\t<tr><td>5                     </td><td>JCK.10329.TongueEtOH.2</td><td>PWW.3622.TongueEtOH   </td><td>0.14436501            </td><td>TongueEtOH            </td><td>Rhinolophus_clivosus  </td><td>TongueEtOH            </td><td>Epomophorus_wahlbergi </td></tr>\n",
       "\t<tr><td>6                     </td><td>PWW.3330.TongueEtOH   </td><td>PWW.3622.TongueEtOH   </td><td>0.14203208            </td><td>TongueEtOH            </td><td>Rhinolophus_clivosus  </td><td>TongueEtOH            </td><td>Otomops_martiensseni  </td></tr>\n",
       "</tbody>\n",
       "</table>\n"
      ],
      "text/latex": [
       "\\begin{tabular}{r|llllllll}\n",
       " X.x & Host\\_names & c1 & wuf\\_dist & ST & Host1 & X.y & names\\\\\n",
       "\\hline\n",
       "\t 1                       & PWW.3622.TongueEtOH     & PWW.3622.TongueEtOH     & 0.00000000              & TongueEtOH              & Rhinolophus\\_clivosus  & TongueEtOH              & Rhinolophus\\_clivosus \\\\\n",
       "\t 2                       & PWW.3527.TongueEtOH     & PWW.3622.TongueEtOH     & 0.08710737              & TongueEtOH              & Rhinolophus\\_clivosus  & TongueEtOH              & Hipposideros\\_caffer  \\\\\n",
       "\t 3                       & PWW.3512.TongueEtOH     & PWW.3622.TongueEtOH     & 0.09645523              & TongueEtOH              & Rhinolophus\\_clivosus  & TongueEtOH              & Hipposideros\\_caffer  \\\\\n",
       "\t 4                       & JCK.10259.TongueEtOH    & PWW.3622.TongueEtOH     & 0.23389499              & TongueEtOH              & Rhinolophus\\_clivosus  & TongueEtOH              & Myotis\\_tricolor      \\\\\n",
       "\t 5                       & JCK.10329.TongueEtOH.2  & PWW.3622.TongueEtOH     & 0.14436501              & TongueEtOH              & Rhinolophus\\_clivosus  & TongueEtOH              & Epomophorus\\_wahlbergi\\\\\n",
       "\t 6                       & PWW.3330.TongueEtOH     & PWW.3622.TongueEtOH     & 0.14203208              & TongueEtOH              & Rhinolophus\\_clivosus  & TongueEtOH              & Otomops\\_martiensseni \\\\\n",
       "\\end{tabular}\n"
      ],
      "text/markdown": [
       "\n",
       "X.x | Host_names | c1 | wuf_dist | ST | Host1 | X.y | names | \n",
       "|---|---|---|---|---|---|\n",
       "| 1                      | PWW.3622.TongueEtOH    | PWW.3622.TongueEtOH    | 0.00000000             | TongueEtOH             | Rhinolophus_clivosus   | TongueEtOH             | Rhinolophus_clivosus   | \n",
       "| 2                      | PWW.3527.TongueEtOH    | PWW.3622.TongueEtOH    | 0.08710737             | TongueEtOH             | Rhinolophus_clivosus   | TongueEtOH             | Hipposideros_caffer    | \n",
       "| 3                      | PWW.3512.TongueEtOH    | PWW.3622.TongueEtOH    | 0.09645523             | TongueEtOH             | Rhinolophus_clivosus   | TongueEtOH             | Hipposideros_caffer    | \n",
       "| 4                      | JCK.10259.TongueEtOH   | PWW.3622.TongueEtOH    | 0.23389499             | TongueEtOH             | Rhinolophus_clivosus   | TongueEtOH             | Myotis_tricolor        | \n",
       "| 5                      | JCK.10329.TongueEtOH.2 | PWW.3622.TongueEtOH    | 0.14436501             | TongueEtOH             | Rhinolophus_clivosus   | TongueEtOH             | Epomophorus_wahlbergi  | \n",
       "| 6                      | PWW.3330.TongueEtOH    | PWW.3622.TongueEtOH    | 0.14203208             | TongueEtOH             | Rhinolophus_clivosus   | TongueEtOH             | Otomops_martiensseni   | \n",
       "\n",
       "\n"
      ],
      "text/plain": [
       "  X.x Host_names             c1                  wuf_dist   ST        \n",
       "1 1   PWW.3622.TongueEtOH    PWW.3622.TongueEtOH 0.00000000 TongueEtOH\n",
       "2 2   PWW.3527.TongueEtOH    PWW.3622.TongueEtOH 0.08710737 TongueEtOH\n",
       "3 3   PWW.3512.TongueEtOH    PWW.3622.TongueEtOH 0.09645523 TongueEtOH\n",
       "4 4   JCK.10259.TongueEtOH   PWW.3622.TongueEtOH 0.23389499 TongueEtOH\n",
       "5 5   JCK.10329.TongueEtOH.2 PWW.3622.TongueEtOH 0.14436501 TongueEtOH\n",
       "6 6   PWW.3330.TongueEtOH    PWW.3622.TongueEtOH 0.14203208 TongueEtOH\n",
       "  Host1                X.y        names                \n",
       "1 Rhinolophus_clivosus TongueEtOH Rhinolophus_clivosus \n",
       "2 Rhinolophus_clivosus TongueEtOH Hipposideros_caffer  \n",
       "3 Rhinolophus_clivosus TongueEtOH Hipposideros_caffer  \n",
       "4 Rhinolophus_clivosus TongueEtOH Myotis_tricolor      \n",
       "5 Rhinolophus_clivosus TongueEtOH Epomophorus_wahlbergi\n",
       "6 Rhinolophus_clivosus TongueEtOH Otomops_martiensseni "
      ]
     },
     "metadata": {},
     "output_type": "display_data"
    }
   ],
   "source": [
    "batoral.wuf.2.df = inner_join(batoral.wuf.1.df, oral_IDs, by=\"Host_names\")\n",
    "head(batoral.wuf.2.df)"
   ]
  },
  {
   "cell_type": "code",
   "execution_count": 114,
   "metadata": {},
   "outputs": [],
   "source": [
    "names(batoral.wuf.2.df) <- c(\"X\", \"Host1\",\"Host2\",\"uf_dist\",\"ST\",\"Hostname1\",\"ST\",\"Hostname2\")\n",
    "write.csv(batoral.wuf.2.df, \"/group/gilbert-lab/Lutz/Batmicrobiome/batrun_finaldata_for_phyloseq_Oct2017/Adiv/CSVfiles/batoral_Wuf_dist_wnames.csv\")"
   ]
  },
  {
   "cell_type": "code",
   "execution_count": 127,
   "metadata": {},
   "outputs": [
    {
     "data": {
      "text/html": [
       "<table>\n",
       "<thead><tr><th scope=col>Host_names</th><th scope=col>Host1</th><th scope=col>Host2</th><th scope=col>wuf_dist</th></tr></thead>\n",
       "<tbody>\n",
       "\t<tr><td>Rhinolophus_clivosus_Rhinolophus_clivosus </td><td>PWW.3622.TongueEtOH                       </td><td>PWW.3622.TongueEtOH                       </td><td>0.00000000                                </td></tr>\n",
       "\t<tr><td>Rhinolophus_clivosus_Hipposideros_caffer  </td><td>PWW.3527.TongueEtOH                       </td><td>PWW.3622.TongueEtOH                       </td><td>0.08710737                                </td></tr>\n",
       "\t<tr><td>Rhinolophus_clivosus_Hipposideros_caffer  </td><td>PWW.3512.TongueEtOH                       </td><td>PWW.3622.TongueEtOH                       </td><td>0.09645523                                </td></tr>\n",
       "\t<tr><td>Rhinolophus_clivosus_Myotis_tricolor      </td><td>JCK.10259.TongueEtOH                      </td><td>PWW.3622.TongueEtOH                       </td><td>0.23389499                                </td></tr>\n",
       "\t<tr><td>Rhinolophus_clivosus_Epomophorus_wahlbergi</td><td>JCK.10329.TongueEtOH.2                    </td><td>PWW.3622.TongueEtOH                       </td><td>0.14436501                                </td></tr>\n",
       "\t<tr><td>Rhinolophus_clivosus_Otomops_martiensseni </td><td>PWW.3330.TongueEtOH                       </td><td>PWW.3622.TongueEtOH                       </td><td>0.14203208                                </td></tr>\n",
       "</tbody>\n",
       "</table>\n"
      ],
      "text/latex": [
       "\\begin{tabular}{r|llll}\n",
       " Host\\_names & Host1 & Host2 & wuf\\_dist\\\\\n",
       "\\hline\n",
       "\t Rhinolophus\\_clivosus\\_Rhinolophus\\_clivosus  & PWW.3622.TongueEtOH                              & PWW.3622.TongueEtOH                              & 0.00000000                                      \\\\\n",
       "\t Rhinolophus\\_clivosus\\_Hipposideros\\_caffer   & PWW.3527.TongueEtOH                              & PWW.3622.TongueEtOH                              & 0.08710737                                      \\\\\n",
       "\t Rhinolophus\\_clivosus\\_Hipposideros\\_caffer   & PWW.3512.TongueEtOH                              & PWW.3622.TongueEtOH                              & 0.09645523                                      \\\\\n",
       "\t Rhinolophus\\_clivosus\\_Myotis\\_tricolor       & JCK.10259.TongueEtOH                             & PWW.3622.TongueEtOH                              & 0.23389499                                      \\\\\n",
       "\t Rhinolophus\\_clivosus\\_Epomophorus\\_wahlbergi & JCK.10329.TongueEtOH.2                           & PWW.3622.TongueEtOH                              & 0.14436501                                      \\\\\n",
       "\t Rhinolophus\\_clivosus\\_Otomops\\_martiensseni  & PWW.3330.TongueEtOH                              & PWW.3622.TongueEtOH                              & 0.14203208                                      \\\\\n",
       "\\end{tabular}\n"
      ],
      "text/markdown": [
       "\n",
       "Host_names | Host1 | Host2 | wuf_dist | \n",
       "|---|---|---|---|---|---|\n",
       "| Rhinolophus_clivosus_Rhinolophus_clivosus  | PWW.3622.TongueEtOH                        | PWW.3622.TongueEtOH                        | 0.00000000                                 | \n",
       "| Rhinolophus_clivosus_Hipposideros_caffer   | PWW.3527.TongueEtOH                        | PWW.3622.TongueEtOH                        | 0.08710737                                 | \n",
       "| Rhinolophus_clivosus_Hipposideros_caffer   | PWW.3512.TongueEtOH                        | PWW.3622.TongueEtOH                        | 0.09645523                                 | \n",
       "| Rhinolophus_clivosus_Myotis_tricolor       | JCK.10259.TongueEtOH                       | PWW.3622.TongueEtOH                        | 0.23389499                                 | \n",
       "| Rhinolophus_clivosus_Epomophorus_wahlbergi | JCK.10329.TongueEtOH.2                     | PWW.3622.TongueEtOH                        | 0.14436501                                 | \n",
       "| Rhinolophus_clivosus_Otomops_martiensseni  | PWW.3330.TongueEtOH                        | PWW.3622.TongueEtOH                        | 0.14203208                                 | \n",
       "\n",
       "\n"
      ],
      "text/plain": [
       "  Host_names                                 Host1                 \n",
       "1 Rhinolophus_clivosus_Rhinolophus_clivosus  PWW.3622.TongueEtOH   \n",
       "2 Rhinolophus_clivosus_Hipposideros_caffer   PWW.3527.TongueEtOH   \n",
       "3 Rhinolophus_clivosus_Hipposideros_caffer   PWW.3512.TongueEtOH   \n",
       "4 Rhinolophus_clivosus_Myotis_tricolor       JCK.10259.TongueEtOH  \n",
       "5 Rhinolophus_clivosus_Epomophorus_wahlbergi JCK.10329.TongueEtOH.2\n",
       "6 Rhinolophus_clivosus_Otomops_martiensseni  PWW.3330.TongueEtOH   \n",
       "  Host2               wuf_dist  \n",
       "1 PWW.3622.TongueEtOH 0.00000000\n",
       "2 PWW.3622.TongueEtOH 0.08710737\n",
       "3 PWW.3622.TongueEtOH 0.09645523\n",
       "4 PWW.3622.TongueEtOH 0.23389499\n",
       "5 PWW.3622.TongueEtOH 0.14436501\n",
       "6 PWW.3622.TongueEtOH 0.14203208"
      ]
     },
     "metadata": {},
     "output_type": "display_data"
    }
   ],
   "source": [
    "write.csv(batoral_wuf, \"/group/gilbert-lab/Lutz/Batmicrobiome/batrun_finaldata_for_phyloseq_Oct2017/Adiv/CSVfiles/batoral_Wuf_dist_wnames.csv\")\n",
    "head(batoral_wuf)"
   ]
  },
  {
   "cell_type": "code",
   "execution_count": 128,
   "metadata": {},
   "outputs": [
    {
     "name": "stderr",
     "output_type": "stream",
     "text": [
      "Warning message:\n",
      "“Column `Host_names` joining factors with different levels, coercing to character vector”"
     ]
    },
    {
     "data": {
      "text/html": [
       "<table>\n",
       "<thead><tr><th scope=col>Host_names</th><th scope=col>Host1</th><th scope=col>Host2</th><th scope=col>wuf_dist</th><th scope=col>brlen</th></tr></thead>\n",
       "<tbody>\n",
       "\t<tr><td>Rhinolophus_clivosus_Hipposideros_caffer  </td><td>PWW.3527.TongueEtOH                       </td><td>PWW.3622.TongueEtOH                       </td><td>0.08710737                                </td><td>0.3920276                                 </td></tr>\n",
       "\t<tr><td>Rhinolophus_clivosus_Hipposideros_caffer  </td><td>PWW.3512.TongueEtOH                       </td><td>PWW.3622.TongueEtOH                       </td><td>0.09645523                                </td><td>0.3920276                                 </td></tr>\n",
       "\t<tr><td>Rhinolophus_clivosus_Myotis_tricolor      </td><td>JCK.10259.TongueEtOH                      </td><td>PWW.3622.TongueEtOH                       </td><td>0.23389499                                </td><td>0.7030223                                 </td></tr>\n",
       "\t<tr><td>Rhinolophus_clivosus_Epomophorus_wahlbergi</td><td>JCK.10329.TongueEtOH.2                    </td><td>PWW.3622.TongueEtOH                       </td><td>0.14436501                                </td><td>0.5360604                                 </td></tr>\n",
       "\t<tr><td>Rhinolophus_clivosus_Myotis_tricolor      </td><td>JCK.10029.TongueEtOH                      </td><td>PWW.3622.TongueEtOH                       </td><td>0.25986632                                </td><td>0.7030223                                 </td></tr>\n",
       "\t<tr><td>Rhinolophus_clivosus_Hipposideros_vittatus</td><td>PWW.3424.TongueEtOH.1                     </td><td>PWW.3622.TongueEtOH                       </td><td>0.28039450                                </td><td>0.4631255                                 </td></tr>\n",
       "</tbody>\n",
       "</table>\n"
      ],
      "text/latex": [
       "\\begin{tabular}{r|lllll}\n",
       " Host\\_names & Host1 & Host2 & wuf\\_dist & brlen\\\\\n",
       "\\hline\n",
       "\t Rhinolophus\\_clivosus\\_Hipposideros\\_caffer   & PWW.3527.TongueEtOH                              & PWW.3622.TongueEtOH                              & 0.08710737                                       & 0.3920276                                       \\\\\n",
       "\t Rhinolophus\\_clivosus\\_Hipposideros\\_caffer   & PWW.3512.TongueEtOH                              & PWW.3622.TongueEtOH                              & 0.09645523                                       & 0.3920276                                       \\\\\n",
       "\t Rhinolophus\\_clivosus\\_Myotis\\_tricolor       & JCK.10259.TongueEtOH                             & PWW.3622.TongueEtOH                              & 0.23389499                                       & 0.7030223                                       \\\\\n",
       "\t Rhinolophus\\_clivosus\\_Epomophorus\\_wahlbergi & JCK.10329.TongueEtOH.2                           & PWW.3622.TongueEtOH                              & 0.14436501                                       & 0.5360604                                       \\\\\n",
       "\t Rhinolophus\\_clivosus\\_Myotis\\_tricolor       & JCK.10029.TongueEtOH                             & PWW.3622.TongueEtOH                              & 0.25986632                                       & 0.7030223                                       \\\\\n",
       "\t Rhinolophus\\_clivosus\\_Hipposideros\\_vittatus & PWW.3424.TongueEtOH.1                            & PWW.3622.TongueEtOH                              & 0.28039450                                       & 0.4631255                                       \\\\\n",
       "\\end{tabular}\n"
      ],
      "text/markdown": [
       "\n",
       "Host_names | Host1 | Host2 | wuf_dist | brlen | \n",
       "|---|---|---|---|---|---|\n",
       "| Rhinolophus_clivosus_Hipposideros_caffer   | PWW.3527.TongueEtOH                        | PWW.3622.TongueEtOH                        | 0.08710737                                 | 0.3920276                                  | \n",
       "| Rhinolophus_clivosus_Hipposideros_caffer   | PWW.3512.TongueEtOH                        | PWW.3622.TongueEtOH                        | 0.09645523                                 | 0.3920276                                  | \n",
       "| Rhinolophus_clivosus_Myotis_tricolor       | JCK.10259.TongueEtOH                       | PWW.3622.TongueEtOH                        | 0.23389499                                 | 0.7030223                                  | \n",
       "| Rhinolophus_clivosus_Epomophorus_wahlbergi | JCK.10329.TongueEtOH.2                     | PWW.3622.TongueEtOH                        | 0.14436501                                 | 0.5360604                                  | \n",
       "| Rhinolophus_clivosus_Myotis_tricolor       | JCK.10029.TongueEtOH                       | PWW.3622.TongueEtOH                        | 0.25986632                                 | 0.7030223                                  | \n",
       "| Rhinolophus_clivosus_Hipposideros_vittatus | PWW.3424.TongueEtOH.1                      | PWW.3622.TongueEtOH                        | 0.28039450                                 | 0.4631255                                  | \n",
       "\n",
       "\n"
      ],
      "text/plain": [
       "  Host_names                                 Host1                 \n",
       "1 Rhinolophus_clivosus_Hipposideros_caffer   PWW.3527.TongueEtOH   \n",
       "2 Rhinolophus_clivosus_Hipposideros_caffer   PWW.3512.TongueEtOH   \n",
       "3 Rhinolophus_clivosus_Myotis_tricolor       JCK.10259.TongueEtOH  \n",
       "4 Rhinolophus_clivosus_Epomophorus_wahlbergi JCK.10329.TongueEtOH.2\n",
       "5 Rhinolophus_clivosus_Myotis_tricolor       JCK.10029.TongueEtOH  \n",
       "6 Rhinolophus_clivosus_Hipposideros_vittatus PWW.3424.TongueEtOH.1 \n",
       "  Host2               wuf_dist   brlen    \n",
       "1 PWW.3622.TongueEtOH 0.08710737 0.3920276\n",
       "2 PWW.3622.TongueEtOH 0.09645523 0.3920276\n",
       "3 PWW.3622.TongueEtOH 0.23389499 0.7030223\n",
       "4 PWW.3622.TongueEtOH 0.14436501 0.5360604\n",
       "5 PWW.3622.TongueEtOH 0.25986632 0.7030223\n",
       "6 PWW.3622.TongueEtOH 0.28039450 0.4631255"
      ]
     },
     "metadata": {},
     "output_type": "display_data"
    }
   ],
   "source": [
    "batoral_wunif.brlen = inner_join(batoral_wuf, branches, by =\"Host_names\")\n",
    "head(batoral_wunif.brlen)"
   ]
  },
  {
   "cell_type": "code",
   "execution_count": 129,
   "metadata": {},
   "outputs": [],
   "source": [
    "avg_obs <- aggregate(wuf_dist ~ Host_names, data = batoral_wunif.brlen, mean)"
   ]
  },
  {
   "cell_type": "code",
   "execution_count": 130,
   "metadata": {},
   "outputs": [
    {
     "data": {
      "text/html": [
       "<table>\n",
       "<thead><tr><th scope=col>Host_names</th><th scope=col>Host1</th><th scope=col>Host2</th><th scope=col>wuf_dist</th></tr></thead>\n",
       "<tbody>\n",
       "\t<tr><td>Rhinolophus_clivosus_Rhinolophus_clivosus </td><td>PWW.3622.TongueEtOH                       </td><td>PWW.3622.TongueEtOH                       </td><td>0.00000000                                </td></tr>\n",
       "\t<tr><td>Rhinolophus_clivosus_Hipposideros_caffer  </td><td>PWW.3527.TongueEtOH                       </td><td>PWW.3622.TongueEtOH                       </td><td>0.08710737                                </td></tr>\n",
       "\t<tr><td>Rhinolophus_clivosus_Hipposideros_caffer  </td><td>PWW.3512.TongueEtOH                       </td><td>PWW.3622.TongueEtOH                       </td><td>0.09645523                                </td></tr>\n",
       "\t<tr><td>Rhinolophus_clivosus_Myotis_tricolor      </td><td>JCK.10259.TongueEtOH                      </td><td>PWW.3622.TongueEtOH                       </td><td>0.23389499                                </td></tr>\n",
       "\t<tr><td>Rhinolophus_clivosus_Epomophorus_wahlbergi</td><td>JCK.10329.TongueEtOH.2                    </td><td>PWW.3622.TongueEtOH                       </td><td>0.14436501                                </td></tr>\n",
       "\t<tr><td>Rhinolophus_clivosus_Otomops_martiensseni </td><td>PWW.3330.TongueEtOH                       </td><td>PWW.3622.TongueEtOH                       </td><td>0.14203208                                </td></tr>\n",
       "</tbody>\n",
       "</table>\n"
      ],
      "text/latex": [
       "\\begin{tabular}{r|llll}\n",
       " Host\\_names & Host1 & Host2 & wuf\\_dist\\\\\n",
       "\\hline\n",
       "\t Rhinolophus\\_clivosus\\_Rhinolophus\\_clivosus  & PWW.3622.TongueEtOH                              & PWW.3622.TongueEtOH                              & 0.00000000                                      \\\\\n",
       "\t Rhinolophus\\_clivosus\\_Hipposideros\\_caffer   & PWW.3527.TongueEtOH                              & PWW.3622.TongueEtOH                              & 0.08710737                                      \\\\\n",
       "\t Rhinolophus\\_clivosus\\_Hipposideros\\_caffer   & PWW.3512.TongueEtOH                              & PWW.3622.TongueEtOH                              & 0.09645523                                      \\\\\n",
       "\t Rhinolophus\\_clivosus\\_Myotis\\_tricolor       & JCK.10259.TongueEtOH                             & PWW.3622.TongueEtOH                              & 0.23389499                                      \\\\\n",
       "\t Rhinolophus\\_clivosus\\_Epomophorus\\_wahlbergi & JCK.10329.TongueEtOH.2                           & PWW.3622.TongueEtOH                              & 0.14436501                                      \\\\\n",
       "\t Rhinolophus\\_clivosus\\_Otomops\\_martiensseni  & PWW.3330.TongueEtOH                              & PWW.3622.TongueEtOH                              & 0.14203208                                      \\\\\n",
       "\\end{tabular}\n"
      ],
      "text/markdown": [
       "\n",
       "Host_names | Host1 | Host2 | wuf_dist | \n",
       "|---|---|---|---|---|---|\n",
       "| Rhinolophus_clivosus_Rhinolophus_clivosus  | PWW.3622.TongueEtOH                        | PWW.3622.TongueEtOH                        | 0.00000000                                 | \n",
       "| Rhinolophus_clivosus_Hipposideros_caffer   | PWW.3527.TongueEtOH                        | PWW.3622.TongueEtOH                        | 0.08710737                                 | \n",
       "| Rhinolophus_clivosus_Hipposideros_caffer   | PWW.3512.TongueEtOH                        | PWW.3622.TongueEtOH                        | 0.09645523                                 | \n",
       "| Rhinolophus_clivosus_Myotis_tricolor       | JCK.10259.TongueEtOH                       | PWW.3622.TongueEtOH                        | 0.23389499                                 | \n",
       "| Rhinolophus_clivosus_Epomophorus_wahlbergi | JCK.10329.TongueEtOH.2                     | PWW.3622.TongueEtOH                        | 0.14436501                                 | \n",
       "| Rhinolophus_clivosus_Otomops_martiensseni  | PWW.3330.TongueEtOH                        | PWW.3622.TongueEtOH                        | 0.14203208                                 | \n",
       "\n",
       "\n"
      ],
      "text/plain": [
       "  Host_names                                 Host1                 \n",
       "1 Rhinolophus_clivosus_Rhinolophus_clivosus  PWW.3622.TongueEtOH   \n",
       "2 Rhinolophus_clivosus_Hipposideros_caffer   PWW.3527.TongueEtOH   \n",
       "3 Rhinolophus_clivosus_Hipposideros_caffer   PWW.3512.TongueEtOH   \n",
       "4 Rhinolophus_clivosus_Myotis_tricolor       JCK.10259.TongueEtOH  \n",
       "5 Rhinolophus_clivosus_Epomophorus_wahlbergi JCK.10329.TongueEtOH.2\n",
       "6 Rhinolophus_clivosus_Otomops_martiensseni  PWW.3330.TongueEtOH   \n",
       "  Host2               wuf_dist  \n",
       "1 PWW.3622.TongueEtOH 0.00000000\n",
       "2 PWW.3622.TongueEtOH 0.08710737\n",
       "3 PWW.3622.TongueEtOH 0.09645523\n",
       "4 PWW.3622.TongueEtOH 0.23389499\n",
       "5 PWW.3622.TongueEtOH 0.14436501\n",
       "6 PWW.3622.TongueEtOH 0.14203208"
      ]
     },
     "metadata": {},
     "output_type": "display_data"
    }
   ],
   "source": [
    "head(batoral_wuf)"
   ]
  },
  {
   "cell_type": "code",
   "execution_count": 131,
   "metadata": {},
   "outputs": [
    {
     "name": "stderr",
     "output_type": "stream",
     "text": [
      "Warning message:\n",
      "“Column `Host_names` joining character vector and factor, coercing into character vector”"
     ]
    }
   ],
   "source": [
    "batoral_wuf = inner_join(avg_obs, branches, by=\"Host_names\")"
   ]
  },
  {
   "cell_type": "code",
   "execution_count": 132,
   "metadata": {
    "collapsed": true
   },
   "outputs": [],
   "source": [
    "write.csv(batoral_wuf, \"/group/gilbert-lab/Lutz/Batmicrobiome/batrun_finaldata_for_phyloseq_Oct2017/Adiv/CSVfiles_for_final_plots/batoral.wuf.brlen.csv\")"
   ]
  },
  {
   "cell_type": "code",
   "execution_count": 156,
   "metadata": {
    "scrolled": true
   },
   "outputs": [
    {
     "data": {},
     "metadata": {},
     "output_type": "display_data"
    },
    {
     "data": {
      "image/png": "[encoded data removed]",
      "text/plain": [
       "plot without title"
      ]
     },
     "metadata": {},
     "output_type": "display_data"
    }
   ],
   "source": [
    "p = ggplot(batoral_uf, aes(x=brlen, y=uf_dist)) + geom_point() + ggtitle(\"Oral Microbiome Dissimilarity (Unweighted Unifrac) \\n by ML Host Phylogenetic Divergence\")\n",
    "p = p + geom_smooth(method = \"lm\", se=TRUE, alpha=.2)\n",
    "p = p + theme_minimal() + theme(plot.title = element_text(hjust = 0.5))\n",
    "p"
   ]
  },
  {
   "cell_type": "code",
   "execution_count": 155,
   "metadata": {},
   "outputs": [
    {
     "data": {
      "text/plain": [
       "\n",
       "Call:\n",
       "lm(formula = brlen ~ wuf_dist, data = batoral_wuf)\n",
       "\n",
       "Residuals:\n",
       "     Min       1Q   Median       3Q      Max \n",
       "-0.54353 -0.04756  0.05091  0.09528  0.20407 \n",
       "\n",
       "Coefficients:\n",
       "            Estimate Std. Error t value Pr(>|t|)    \n",
       "(Intercept)  0.60892    0.03713  16.401   <2e-16 ***\n",
       "wuf_dist    -0.12064    0.10790  -1.118    0.264    \n",
       "---\n",
       "Signif. codes:  0 ‘***’ 0.001 ‘**’ 0.01 ‘*’ 0.05 ‘.’ 0.1 ‘ ’ 1\n",
       "\n",
       "Residual standard error: 0.1555 on 340 degrees of freedom\n",
       "Multiple R-squared:  0.003663,\tAdjusted R-squared:  0.000733 \n",
       "F-statistic:  1.25 on 1 and 340 DF,  p-value: 0.2643\n"
      ]
     },
     "metadata": {},
     "output_type": "display_data"
    }
   ],
   "source": [
    "fit <- lm(brlen ~ wuf_dist, data = batoral_wuf)\n",
    "summary(fit)"
   ]
  },
  {
   "cell_type": "markdown",
   "metadata": {},
   "source": [
    "### Skin Microbial Dissimilarity * ML Branch Lengths"
   ]
  },
  {
   "cell_type": "code",
   "execution_count": 134,
   "metadata": {
    "collapsed": true
   },
   "outputs": [],
   "source": [
    "batskin.00.dist.wunif = readRDS(\"/group/gilbert-lab/Lutz/Batmicrobiome/batrun_finaldata_for_phyloseq_Oct2017/Adiv/batskin.00.dist.wunif.rds\")\n",
    "#library(reshape)\n",
    "#skinwuf_dist = melt(as.matrix(batskin.00.dist.wunif))\n",
    "skinwuf_dist = read.csv(\"/group/gilbert-lab/Lutz/Batmicrobiome/batrun_finaldata_for_phyloseq_Oct2017/Adiv/CSVfiles/batskin_wuf_dist.csv\")"
   ]
  },
  {
   "cell_type": "code",
   "execution_count": 88,
   "metadata": {
    "collapsed": true
   },
   "outputs": [],
   "source": [
    "skin_IDs = read.csv(\"/group/gilbert-lab/Lutz/Batmicrobiome/batrun_finaldata_for_phyloseq_Oct2017/Adiv/CSVfiles/skin_IDs.csv\")"
   ]
  },
  {
   "cell_type": "code",
   "execution_count": 140,
   "metadata": {},
   "outputs": [
    {
     "data": {
      "text/html": [
       "<table>\n",
       "<thead><tr><th scope=col>x</th><th scope=col>c1</th><th scope=col>Host_names</th><th scope=col>uf_dist</th><th scope=col>ST</th><th scope=col>Host1</th></tr></thead>\n",
       "<tbody>\n",
       "\t<tr><td>1                       </td><td>PWW.3575.SkinEtOH       </td><td>PWW.3575.SkinEtOH       </td><td>0.0000000               </td><td>SkinEtOH                </td><td>Otomops_martiensseni    </td></tr>\n",
       "\t<tr><td>2                       </td><td>JCK.10068.SkinEtOH      </td><td>PWW.3575.SkinEtOH       </td><td>0.4461969               </td><td>SkinEtOH                </td><td>Rhinolophus_hildebrandti</td></tr>\n",
       "\t<tr><td>3                       </td><td>JCK.10106.SkinEtOH      </td><td>PWW.3575.SkinEtOH       </td><td>0.4957211               </td><td>SkinEtOH                </td><td>Rhinolophus_clivosus    </td></tr>\n",
       "\t<tr><td>4                       </td><td>JCK.10033.SkinEtOH      </td><td>PWW.3575.SkinEtOH       </td><td>0.4321164               </td><td>SkinEtOH                </td><td>Rousettus_aegyptiacus   </td></tr>\n",
       "\t<tr><td>5                       </td><td>BN.597.SkinEtOH         </td><td>PWW.3575.SkinEtOH       </td><td>0.3770994               </td><td>SkinEtOH                </td><td>Chaerephon_bivitattus   </td></tr>\n",
       "\t<tr><td>6                       </td><td>PWW.3512.SkinEtOH       </td><td>PWW.3575.SkinEtOH       </td><td>0.4527211               </td><td>SkinEtOH                </td><td>Hipposideros_caffer     </td></tr>\n",
       "</tbody>\n",
       "</table>\n"
      ],
      "text/latex": [
       "\\begin{tabular}{r|llllll}\n",
       " x & c1 & Host\\_names & uf\\_dist & ST & Host1\\\\\n",
       "\\hline\n",
       "\t 1                          & PWW.3575.SkinEtOH          & PWW.3575.SkinEtOH          & 0.0000000                  & SkinEtOH                   & Otomops\\_martiensseni    \\\\\n",
       "\t 2                          & JCK.10068.SkinEtOH         & PWW.3575.SkinEtOH          & 0.4461969                  & SkinEtOH                   & Rhinolophus\\_hildebrandti\\\\\n",
       "\t 3                          & JCK.10106.SkinEtOH         & PWW.3575.SkinEtOH          & 0.4957211                  & SkinEtOH                   & Rhinolophus\\_clivosus    \\\\\n",
       "\t 4                          & JCK.10033.SkinEtOH         & PWW.3575.SkinEtOH          & 0.4321164                  & SkinEtOH                   & Rousettus\\_aegyptiacus   \\\\\n",
       "\t 5                          & BN.597.SkinEtOH            & PWW.3575.SkinEtOH          & 0.3770994                  & SkinEtOH                   & Chaerephon\\_bivitattus   \\\\\n",
       "\t 6                          & PWW.3512.SkinEtOH          & PWW.3575.SkinEtOH          & 0.4527211                  & SkinEtOH                   & Hipposideros\\_caffer     \\\\\n",
       "\\end{tabular}\n"
      ],
      "text/markdown": [
       "\n",
       "x | c1 | Host_names | uf_dist | ST | Host1 | \n",
       "|---|---|---|---|---|---|\n",
       "| 1                        | PWW.3575.SkinEtOH        | PWW.3575.SkinEtOH        | 0.0000000                | SkinEtOH                 | Otomops_martiensseni     | \n",
       "| 2                        | JCK.10068.SkinEtOH       | PWW.3575.SkinEtOH        | 0.4461969                | SkinEtOH                 | Rhinolophus_hildebrandti | \n",
       "| 3                        | JCK.10106.SkinEtOH       | PWW.3575.SkinEtOH        | 0.4957211                | SkinEtOH                 | Rhinolophus_clivosus     | \n",
       "| 4                        | JCK.10033.SkinEtOH       | PWW.3575.SkinEtOH        | 0.4321164                | SkinEtOH                 | Rousettus_aegyptiacus    | \n",
       "| 5                        | BN.597.SkinEtOH          | PWW.3575.SkinEtOH        | 0.3770994                | SkinEtOH                 | Chaerephon_bivitattus    | \n",
       "| 6                        | PWW.3512.SkinEtOH        | PWW.3575.SkinEtOH        | 0.4527211                | SkinEtOH                 | Hipposideros_caffer      | \n",
       "\n",
       "\n"
      ],
      "text/plain": [
       "  x c1                 Host_names        uf_dist   ST      \n",
       "1 1 PWW.3575.SkinEtOH  PWW.3575.SkinEtOH 0.0000000 SkinEtOH\n",
       "2 2 JCK.10068.SkinEtOH PWW.3575.SkinEtOH 0.4461969 SkinEtOH\n",
       "3 3 JCK.10106.SkinEtOH PWW.3575.SkinEtOH 0.4957211 SkinEtOH\n",
       "4 4 JCK.10033.SkinEtOH PWW.3575.SkinEtOH 0.4321164 SkinEtOH\n",
       "5 5 BN.597.SkinEtOH    PWW.3575.SkinEtOH 0.3770994 SkinEtOH\n",
       "6 6 PWW.3512.SkinEtOH  PWW.3575.SkinEtOH 0.4527211 SkinEtOH\n",
       "  Host1                   \n",
       "1 Otomops_martiensseni    \n",
       "2 Rhinolophus_hildebrandti\n",
       "3 Rhinolophus_clivosus    \n",
       "4 Rousettus_aegyptiacus   \n",
       "5 Chaerephon_bivitattus   \n",
       "6 Hipposideros_caffer     "
      ]
     },
     "metadata": {},
     "output_type": "display_data"
    }
   ],
   "source": [
    "names(batskin.wuf.1.df) <- c(\"x\", \"c1\", \"Host_names\",\"uf_dist\", \"ST\", \"Host1\")\n",
    "head(batskin.wuf.1.df)"
   ]
  },
  {
   "cell_type": "code",
   "execution_count": 90,
   "metadata": {},
   "outputs": [
    {
     "data": {
      "text/html": [
       "<table>\n",
       "<thead><tr><th scope=col>Host_names</th><th scope=col>X</th><th scope=col>names</th></tr></thead>\n",
       "<tbody>\n",
       "\t<tr><td>BN.593.SkinEtOH      </td><td>SkinEtOH             </td><td>Chaerephon_bivitattus</td></tr>\n",
       "\t<tr><td>BN.594.SkinEtOH      </td><td>SkinEtOH             </td><td>Chaerephon_bivitattus</td></tr>\n",
       "\t<tr><td>BN.595.SkinEtOH      </td><td>SkinEtOH             </td><td>Chaerephon_bivitattus</td></tr>\n",
       "\t<tr><td>BN.596.SkinEtOH      </td><td>SkinEtOH             </td><td>Chaerephon_bivitattus</td></tr>\n",
       "\t<tr><td>BN.597.SkinEtOH      </td><td>SkinEtOH             </td><td>Chaerephon_bivitattus</td></tr>\n",
       "\t<tr><td>BN.598.SkinEtOH      </td><td>SkinEtOH             </td><td>Chaerephon_bivitattus</td></tr>\n",
       "</tbody>\n",
       "</table>\n"
      ],
      "text/latex": [
       "\\begin{tabular}{r|lll}\n",
       " Host\\_names & X & names\\\\\n",
       "\\hline\n",
       "\t BN.593.SkinEtOH         & SkinEtOH                & Chaerephon\\_bivitattus\\\\\n",
       "\t BN.594.SkinEtOH         & SkinEtOH                & Chaerephon\\_bivitattus\\\\\n",
       "\t BN.595.SkinEtOH         & SkinEtOH                & Chaerephon\\_bivitattus\\\\\n",
       "\t BN.596.SkinEtOH         & SkinEtOH                & Chaerephon\\_bivitattus\\\\\n",
       "\t BN.597.SkinEtOH         & SkinEtOH                & Chaerephon\\_bivitattus\\\\\n",
       "\t BN.598.SkinEtOH         & SkinEtOH                & Chaerephon\\_bivitattus\\\\\n",
       "\\end{tabular}\n"
      ],
      "text/markdown": [
       "\n",
       "Host_names | X | names | \n",
       "|---|---|---|---|---|---|\n",
       "| BN.593.SkinEtOH       | SkinEtOH              | Chaerephon_bivitattus | \n",
       "| BN.594.SkinEtOH       | SkinEtOH              | Chaerephon_bivitattus | \n",
       "| BN.595.SkinEtOH       | SkinEtOH              | Chaerephon_bivitattus | \n",
       "| BN.596.SkinEtOH       | SkinEtOH              | Chaerephon_bivitattus | \n",
       "| BN.597.SkinEtOH       | SkinEtOH              | Chaerephon_bivitattus | \n",
       "| BN.598.SkinEtOH       | SkinEtOH              | Chaerephon_bivitattus | \n",
       "\n",
       "\n"
      ],
      "text/plain": [
       "  Host_names      X        names                \n",
       "1 BN.593.SkinEtOH SkinEtOH Chaerephon_bivitattus\n",
       "2 BN.594.SkinEtOH SkinEtOH Chaerephon_bivitattus\n",
       "3 BN.595.SkinEtOH SkinEtOH Chaerephon_bivitattus\n",
       "4 BN.596.SkinEtOH SkinEtOH Chaerephon_bivitattus\n",
       "5 BN.597.SkinEtOH SkinEtOH Chaerephon_bivitattus\n",
       "6 BN.598.SkinEtOH SkinEtOH Chaerephon_bivitattus"
      ]
     },
     "metadata": {},
     "output_type": "display_data"
    }
   ],
   "source": [
    "names(skin_IDs) <- c(\"Host_names\", \"X\", \"names\")\n",
    "head(skin_IDs)"
   ]
  },
  {
   "cell_type": "code",
   "execution_count": 141,
   "metadata": {},
   "outputs": [
    {
     "name": "stderr",
     "output_type": "stream",
     "text": [
      "Warning message:\n",
      "“Column `Host_names` joining factors with different levels, coercing to character vector”"
     ]
    },
    {
     "data": {
      "text/html": [
       "<table>\n",
       "<thead><tr><th scope=col>x</th><th scope=col>c1</th><th scope=col>Host_names</th><th scope=col>uf_dist</th><th scope=col>ST</th><th scope=col>Host1</th><th scope=col>X</th><th scope=col>names</th></tr></thead>\n",
       "<tbody>\n",
       "\t<tr><td>1                       </td><td>PWW.3575.SkinEtOH       </td><td>PWW.3575.SkinEtOH       </td><td>0.0000000               </td><td>SkinEtOH                </td><td>Otomops_martiensseni    </td><td>SkinEtOH                </td><td>Otomops_martiensseni    </td></tr>\n",
       "\t<tr><td>2                       </td><td>JCK.10068.SkinEtOH      </td><td>PWW.3575.SkinEtOH       </td><td>0.4461969               </td><td>SkinEtOH                </td><td>Rhinolophus_hildebrandti</td><td>SkinEtOH                </td><td>Otomops_martiensseni    </td></tr>\n",
       "\t<tr><td>3                       </td><td>JCK.10106.SkinEtOH      </td><td>PWW.3575.SkinEtOH       </td><td>0.4957211               </td><td>SkinEtOH                </td><td>Rhinolophus_clivosus    </td><td>SkinEtOH                </td><td>Otomops_martiensseni    </td></tr>\n",
       "\t<tr><td>4                       </td><td>JCK.10033.SkinEtOH      </td><td>PWW.3575.SkinEtOH       </td><td>0.4321164               </td><td>SkinEtOH                </td><td>Rousettus_aegyptiacus   </td><td>SkinEtOH                </td><td>Otomops_martiensseni    </td></tr>\n",
       "\t<tr><td>5                       </td><td>BN.597.SkinEtOH         </td><td>PWW.3575.SkinEtOH       </td><td>0.3770994               </td><td>SkinEtOH                </td><td>Chaerephon_bivitattus   </td><td>SkinEtOH                </td><td>Otomops_martiensseni    </td></tr>\n",
       "\t<tr><td>6                       </td><td>PWW.3512.SkinEtOH       </td><td>PWW.3575.SkinEtOH       </td><td>0.4527211               </td><td>SkinEtOH                </td><td>Hipposideros_caffer     </td><td>SkinEtOH                </td><td>Otomops_martiensseni    </td></tr>\n",
       "</tbody>\n",
       "</table>\n"
      ],
      "text/latex": [
       "\\begin{tabular}{r|llllllll}\n",
       " x & c1 & Host\\_names & uf\\_dist & ST & Host1 & X & names\\\\\n",
       "\\hline\n",
       "\t 1                          & PWW.3575.SkinEtOH          & PWW.3575.SkinEtOH          & 0.0000000                  & SkinEtOH                   & Otomops\\_martiensseni     & SkinEtOH                   & Otomops\\_martiensseni    \\\\\n",
       "\t 2                          & JCK.10068.SkinEtOH         & PWW.3575.SkinEtOH          & 0.4461969                  & SkinEtOH                   & Rhinolophus\\_hildebrandti & SkinEtOH                   & Otomops\\_martiensseni    \\\\\n",
       "\t 3                          & JCK.10106.SkinEtOH         & PWW.3575.SkinEtOH          & 0.4957211                  & SkinEtOH                   & Rhinolophus\\_clivosus     & SkinEtOH                   & Otomops\\_martiensseni    \\\\\n",
       "\t 4                          & JCK.10033.SkinEtOH         & PWW.3575.SkinEtOH          & 0.4321164                  & SkinEtOH                   & Rousettus\\_aegyptiacus    & SkinEtOH                   & Otomops\\_martiensseni    \\\\\n",
       "\t 5                          & BN.597.SkinEtOH            & PWW.3575.SkinEtOH          & 0.3770994                  & SkinEtOH                   & Chaerephon\\_bivitattus    & SkinEtOH                   & Otomops\\_martiensseni    \\\\\n",
       "\t 6                          & PWW.3512.SkinEtOH          & PWW.3575.SkinEtOH          & 0.4527211                  & SkinEtOH                   & Hipposideros\\_caffer      & SkinEtOH                   & Otomops\\_martiensseni    \\\\\n",
       "\\end{tabular}\n"
      ],
      "text/markdown": [
       "\n",
       "x | c1 | Host_names | uf_dist | ST | Host1 | X | names | \n",
       "|---|---|---|---|---|---|\n",
       "| 1                        | PWW.3575.SkinEtOH        | PWW.3575.SkinEtOH        | 0.0000000                | SkinEtOH                 | Otomops_martiensseni     | SkinEtOH                 | Otomops_martiensseni     | \n",
       "| 2                        | JCK.10068.SkinEtOH       | PWW.3575.SkinEtOH        | 0.4461969                | SkinEtOH                 | Rhinolophus_hildebrandti | SkinEtOH                 | Otomops_martiensseni     | \n",
       "| 3                        | JCK.10106.SkinEtOH       | PWW.3575.SkinEtOH        | 0.4957211                | SkinEtOH                 | Rhinolophus_clivosus     | SkinEtOH                 | Otomops_martiensseni     | \n",
       "| 4                        | JCK.10033.SkinEtOH       | PWW.3575.SkinEtOH        | 0.4321164                | SkinEtOH                 | Rousettus_aegyptiacus    | SkinEtOH                 | Otomops_martiensseni     | \n",
       "| 5                        | BN.597.SkinEtOH          | PWW.3575.SkinEtOH        | 0.3770994                | SkinEtOH                 | Chaerephon_bivitattus    | SkinEtOH                 | Otomops_martiensseni     | \n",
       "| 6                        | PWW.3512.SkinEtOH        | PWW.3575.SkinEtOH        | 0.4527211                | SkinEtOH                 | Hipposideros_caffer      | SkinEtOH                 | Otomops_martiensseni     | \n",
       "\n",
       "\n"
      ],
      "text/plain": [
       "  x c1                 Host_names        uf_dist   ST      \n",
       "1 1 PWW.3575.SkinEtOH  PWW.3575.SkinEtOH 0.0000000 SkinEtOH\n",
       "2 2 JCK.10068.SkinEtOH PWW.3575.SkinEtOH 0.4461969 SkinEtOH\n",
       "3 3 JCK.10106.SkinEtOH PWW.3575.SkinEtOH 0.4957211 SkinEtOH\n",
       "4 4 JCK.10033.SkinEtOH PWW.3575.SkinEtOH 0.4321164 SkinEtOH\n",
       "5 5 BN.597.SkinEtOH    PWW.3575.SkinEtOH 0.3770994 SkinEtOH\n",
       "6 6 PWW.3512.SkinEtOH  PWW.3575.SkinEtOH 0.4527211 SkinEtOH\n",
       "  Host1                    X        names               \n",
       "1 Otomops_martiensseni     SkinEtOH Otomops_martiensseni\n",
       "2 Rhinolophus_hildebrandti SkinEtOH Otomops_martiensseni\n",
       "3 Rhinolophus_clivosus     SkinEtOH Otomops_martiensseni\n",
       "4 Rousettus_aegyptiacus    SkinEtOH Otomops_martiensseni\n",
       "5 Chaerephon_bivitattus    SkinEtOH Otomops_martiensseni\n",
       "6 Hipposideros_caffer      SkinEtOH Otomops_martiensseni"
      ]
     },
     "metadata": {},
     "output_type": "display_data"
    }
   ],
   "source": [
    "batskin.wuf.2.df = inner_join(batskin.wuf.1.df, skin_IDs, by=\"Host_names\")\n",
    "head(batskin.wuf.2.df)"
   ]
  },
  {
   "cell_type": "code",
   "execution_count": 142,
   "metadata": {
    "collapsed": true
   },
   "outputs": [],
   "source": [
    "names(batskin.wuf.2.df) <- c(\"X\", \"Host1\",\"Host2\",\"uf_dist\",\"ST\",\"Hostname1\",\"ST\",\"Hostname2\")\n",
    "write.csv(batskin.wuf.2.df, \"/group/gilbert-lab/Lutz/Batmicrobiome/batrun_finaldata_for_phyloseq_Oct2017/Adiv/CSVfiles/batskin_Wuf_dist_wnames.csv\")"
   ]
  },
  {
   "cell_type": "code",
   "execution_count": 149,
   "metadata": {
    "collapsed": true
   },
   "outputs": [],
   "source": [
    "batskin.wunif = read.csv(\"/group/gilbert-lab/Lutz/Batmicrobiome/batrun_finaldata_for_phyloseq_Oct2017/Adiv/CSVfiles/batskin_Wuf_dist_wnames.csv\")"
   ]
  },
  {
   "cell_type": "code",
   "execution_count": 150,
   "metadata": {},
   "outputs": [
    {
     "name": "stderr",
     "output_type": "stream",
     "text": [
      "Warning message:\n",
      "“Column `Host_names` joining factors with different levels, coercing to character vector”"
     ]
    },
    {
     "data": {
      "text/html": [
       "<table>\n",
       "<thead><tr><th scope=col>Host_names</th><th scope=col>Host1</th><th scope=col>Host2</th><th scope=col>wuf_dist</th><th scope=col>brlen</th></tr></thead>\n",
       "<tbody>\n",
       "\t<tr><td>Rousettus_aegyptiacus_Rhinolophus_clivosus </td><td>JCK.10033.SkinEtOH                         </td><td>JCK.10106.SkinEtOH                         </td><td>0.3677657                                  </td><td>0.64214773                                 </td></tr>\n",
       "\t<tr><td>Hipposideros_caffer_Rhinolophus_clivosus   </td><td>PWW.3512.SkinEtOH                          </td><td>JCK.10106.SkinEtOH                         </td><td>0.2963584                                  </td><td>0.39202758                                 </td></tr>\n",
       "\t<tr><td>Miniopterus_africanus_Rhinolophus_clivosus </td><td>PWW.3429.SkinEtOH                          </td><td>JCK.10106.SkinEtOH                         </td><td>0.4258942                                  </td><td>0.63924587                                 </td></tr>\n",
       "\t<tr><td>Rhinolophus_eloquens_Rhinolophus_clivosus  </td><td>PWW.3542.SkinEtOH                          </td><td>JCK.10106.SkinEtOH                         </td><td>0.5197323                                  </td><td>0.03030532                                 </td></tr>\n",
       "\t<tr><td>Hipposideros_ruber_Rhinolophus_clivosus    </td><td>PWW.3554.SkinEtOH                          </td><td>JCK.10106.SkinEtOH                         </td><td>0.3012834                                  </td><td>0.41173543                                 </td></tr>\n",
       "\t<tr><td>Miniopterus_natalensis_Rhinolophus_clivosus</td><td>PWW.3455.SkinEtOH                          </td><td>JCK.10106.SkinEtOH                         </td><td>0.3743215                                  </td><td>0.63215826                                 </td></tr>\n",
       "</tbody>\n",
       "</table>\n"
      ],
      "text/latex": [
       "\\begin{tabular}{r|lllll}\n",
       " Host\\_names & Host1 & Host2 & wuf\\_dist & brlen\\\\\n",
       "\\hline\n",
       "\t Rousettus\\_aegyptiacus\\_Rhinolophus\\_clivosus  & JCK.10033.SkinEtOH                                & JCK.10106.SkinEtOH                                & 0.3677657                                         & 0.64214773                                       \\\\\n",
       "\t Hipposideros\\_caffer\\_Rhinolophus\\_clivosus    & PWW.3512.SkinEtOH                                 & JCK.10106.SkinEtOH                                & 0.2963584                                         & 0.39202758                                       \\\\\n",
       "\t Miniopterus\\_africanus\\_Rhinolophus\\_clivosus  & PWW.3429.SkinEtOH                                 & JCK.10106.SkinEtOH                                & 0.4258942                                         & 0.63924587                                       \\\\\n",
       "\t Rhinolophus\\_eloquens\\_Rhinolophus\\_clivosus   & PWW.3542.SkinEtOH                                 & JCK.10106.SkinEtOH                                & 0.5197323                                         & 0.03030532                                       \\\\\n",
       "\t Hipposideros\\_ruber\\_Rhinolophus\\_clivosus     & PWW.3554.SkinEtOH                                 & JCK.10106.SkinEtOH                                & 0.3012834                                         & 0.41173543                                       \\\\\n",
       "\t Miniopterus\\_natalensis\\_Rhinolophus\\_clivosus & PWW.3455.SkinEtOH                                 & JCK.10106.SkinEtOH                                & 0.3743215                                         & 0.63215826                                       \\\\\n",
       "\\end{tabular}\n"
      ],
      "text/markdown": [
       "\n",
       "Host_names | Host1 | Host2 | wuf_dist | brlen | \n",
       "|---|---|---|---|---|---|\n",
       "| Rousettus_aegyptiacus_Rhinolophus_clivosus  | JCK.10033.SkinEtOH                          | JCK.10106.SkinEtOH                          | 0.3677657                                   | 0.64214773                                  | \n",
       "| Hipposideros_caffer_Rhinolophus_clivosus    | PWW.3512.SkinEtOH                           | JCK.10106.SkinEtOH                          | 0.2963584                                   | 0.39202758                                  | \n",
       "| Miniopterus_africanus_Rhinolophus_clivosus  | PWW.3429.SkinEtOH                           | JCK.10106.SkinEtOH                          | 0.4258942                                   | 0.63924587                                  | \n",
       "| Rhinolophus_eloquens_Rhinolophus_clivosus   | PWW.3542.SkinEtOH                           | JCK.10106.SkinEtOH                          | 0.5197323                                   | 0.03030532                                  | \n",
       "| Hipposideros_ruber_Rhinolophus_clivosus     | PWW.3554.SkinEtOH                           | JCK.10106.SkinEtOH                          | 0.3012834                                   | 0.41173543                                  | \n",
       "| Miniopterus_natalensis_Rhinolophus_clivosus | PWW.3455.SkinEtOH                           | JCK.10106.SkinEtOH                          | 0.3743215                                   | 0.63215826                                  | \n",
       "\n",
       "\n"
      ],
      "text/plain": [
       "  Host_names                                  Host1             \n",
       "1 Rousettus_aegyptiacus_Rhinolophus_clivosus  JCK.10033.SkinEtOH\n",
       "2 Hipposideros_caffer_Rhinolophus_clivosus    PWW.3512.SkinEtOH \n",
       "3 Miniopterus_africanus_Rhinolophus_clivosus  PWW.3429.SkinEtOH \n",
       "4 Rhinolophus_eloquens_Rhinolophus_clivosus   PWW.3542.SkinEtOH \n",
       "5 Hipposideros_ruber_Rhinolophus_clivosus     PWW.3554.SkinEtOH \n",
       "6 Miniopterus_natalensis_Rhinolophus_clivosus PWW.3455.SkinEtOH \n",
       "  Host2              wuf_dist  brlen     \n",
       "1 JCK.10106.SkinEtOH 0.3677657 0.64214773\n",
       "2 JCK.10106.SkinEtOH 0.2963584 0.39202758\n",
       "3 JCK.10106.SkinEtOH 0.4258942 0.63924587\n",
       "4 JCK.10106.SkinEtOH 0.5197323 0.03030532\n",
       "5 JCK.10106.SkinEtOH 0.3012834 0.41173543\n",
       "6 JCK.10106.SkinEtOH 0.3743215 0.63215826"
      ]
     },
     "metadata": {},
     "output_type": "display_data"
    }
   ],
   "source": [
    "batskin_wunif.brlen = inner_join(batskin.wunif, branches, by =\"Host_names\")\n",
    "head(batskin_wunif.brlen)"
   ]
  },
  {
   "cell_type": "code",
   "execution_count": 151,
   "metadata": {},
   "outputs": [
    {
     "name": "stderr",
     "output_type": "stream",
     "text": [
      "Warning message:\n",
      "“Column `Host_names` joining character vector and factor, coercing into character vector”"
     ]
    }
   ],
   "source": [
    "skin_avg_obs <- aggregate(wuf_dist ~ Host_names, data = batskin_wunif.brlen, mean)\n",
    "batskin_wuf = inner_join(skin_avg_obs, branches, by=\"Host_names\")"
   ]
  },
  {
   "cell_type": "code",
   "execution_count": 152,
   "metadata": {
    "collapsed": true
   },
   "outputs": [],
   "source": [
    "write.csv(batskin_wuf, \"/group/gilbert-lab/Lutz/Batmicrobiome/batrun_finaldata_for_phyloseq_Oct2017/Adiv/CSVfiles_for_final_plots/batskin.wuf.brlen.csv\")"
   ]
  },
  {
   "cell_type": "code",
   "execution_count": 153,
   "metadata": {},
   "outputs": [
    {
     "data": {},
     "metadata": {},
     "output_type": "display_data"
    },
    {
     "data": {
      "image/png": "[encoded data removed]",
      "text/plain": [
       "plot without title"
      ]
     },
     "metadata": {},
     "output_type": "display_data"
    }
   ],
   "source": [
    "p = ggplot(batskin_wuf, aes(x=brlen, y=wuf_dist)) + geom_point() + ggtitle(\"Skin Microbiome Dissimilarity (Weighted Unifrac) \\n by ML Host Phylogenetic Divergence\")\n",
    "p = p + geom_smooth(method = \"lm\", se=TRUE, alpha=.2)\n",
    "p = p + theme_minimal() + theme(plot.title = element_text(hjust = 0.5))\n",
    "p"
   ]
  },
  {
   "cell_type": "code",
   "execution_count": 154,
   "metadata": {},
   "outputs": [
    {
     "data": {
      "text/plain": [
       "\n",
       "Call:\n",
       "lm(formula = log(brlen) ~ wuf_dist, data = batskin_wuf)\n",
       "\n",
       "Residuals:\n",
       "    Min      1Q  Median      3Q     Max \n",
       "-3.5919 -0.0024  0.1497  0.2524  0.4191 \n",
       "\n",
       "Coefficients:\n",
       "            Estimate Std. Error t value Pr(>|t|)    \n",
       "(Intercept)  -0.7657     0.1622  -4.721  3.2e-06 ***\n",
       "wuf_dist      0.2534     0.3952   0.641    0.522    \n",
       "---\n",
       "Signif. codes:  0 ‘***’ 0.001 ‘**’ 0.01 ‘*’ 0.05 ‘.’ 0.1 ‘ ’ 1\n",
       "\n",
       "Residual standard error: 0.5145 on 418 degrees of freedom\n",
       "Multiple R-squared:  0.0009827,\tAdjusted R-squared:  -0.001407 \n",
       "F-statistic: 0.4112 on 1 and 418 DF,  p-value: 0.5217\n"
      ]
     },
     "metadata": {},
     "output_type": "display_data"
    }
   ],
   "source": [
    "fit <- lm(log(brlen) ~ wuf_dist, data = batskin_wuf)\n",
    "summary(fit)"
   ]
  }
 ],
 "metadata": {
  "kernelspec": {
   "display_name": "R 3.4.1",
   "language": "R",
   "name": "ir3.4.1"
  },
  "language_info": {
   "codemirror_mode": "r",
   "file_extension": ".r",
   "mimetype": "text/x-r-source",
   "name": "R",
   "pygments_lexer": "r",
   "version": "3.4.1"
  }
 },
 "nbformat": 4,
 "nbformat_minor": 2
}
