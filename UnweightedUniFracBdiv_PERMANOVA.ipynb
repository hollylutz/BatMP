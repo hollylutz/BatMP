{
 "cells": [
  {
   "cell_type": "code",
   "execution_count": 2,
   "metadata": {},
   "outputs": [],
   "source": [
    "library(phyloseq)\n",
    "library(ggplot2)\n",
    "library(vegan)\n",
    "library(readr)\n",
    "library(data.table)\n",
    "library(dplyr)\n",
    "library(stats)\n",
    "library(plotly)\n",
    "library(RColorBrewer)\n",
    "library(ape)\n",
    "library(nlme)\n",
    "library(micropower)\n",
    "library(reshape2)"
   ]
  },
  {
   "cell_type": "markdown",
   "metadata": {},
   "source": [
    "### Full Data"
   ]
  },
  {
   "cell_type": "code",
   "execution_count": 23,
   "metadata": {},
   "outputs": [],
   "source": [
    "fecal.unif = readRDS(\"/gpfs/data/gilbert-lab/Lutz/Batmicrobiome/Nature_data_results/Bdiv/nona_updates_19April2019/fecal.nona.unif.rds\")\n",
    "oral.unif = readRDS(\"/gpfs/data/gilbert-lab/Lutz/Batmicrobiome/Nature_data_results/Bdiv/nona_updates_19April2019/oral.nona.unif.rds\")\n",
    "skin.unif = readRDS(\"/gpfs/data/gilbert-lab/Lutz/Batmicrobiome/Nature_data_results/Bdiv/nona_updates_19April2019/skin.nona.unif.rds\")\n"
   ]
  },
  {
   "cell_type": "code",
   "execution_count": 15,
   "metadata": {},
   "outputs": [],
   "source": [
    "fecal = readRDS(\"/gpfs/data/gilbert-lab/Lutz/Batmicrobiome/Nature_data_results/RDSfiles/fecal_t.nona.rds\")\n",
    "oral = readRDS(\"/gpfs/data/gilbert-lab/Lutz/Batmicrobiome/Nature_data_results/RDSfiles/oral_t.nona.rds\")\n",
    "skin = readRDS(\"/gpfs/data/gilbert-lab/Lutz/Batmicrobiome/Nature_data_results/RDSfiles/skin_t.nona.rds\")"
   ]
  },
  {
   "cell_type": "code",
   "execution_count": 20,
   "metadata": {},
   "outputs": [],
   "source": [
    "fecal.df = read.csv(\"/gpfs/data/gilbert-lab/Lutz/Batmicrobiome/Nature_data_results/RDSfiles/fecal_t.nona.df.csv\")\n",
    "oral.df = read.csv(\"/gpfs/data/gilbert-lab/Lutz/Batmicrobiome/Nature_data_results/RDSfiles/oral_t.nona.df.csv\")\n",
    "skin.df = read.csv(\"/gpfs/data/gilbert-lab/Lutz/Batmicrobiome/Nature_data_results/RDSfiles/skin_t.nona.df.csv\")"
   ]
  },
  {
   "cell_type": "code",
   "execution_count": 21,
   "metadata": {},
   "outputs": [
    {
     "data": {
      "text/html": [
       "26"
      ],
      "text/latex": [
       "26"
      ],
      "text/markdown": [
       "26"
      ],
      "text/plain": [
       "[1] 26"
      ]
     },
     "metadata": {},
     "output_type": "display_data"
    },
    {
     "data": {
      "text/html": [
       "28"
      ],
      "text/latex": [
       "28"
      ],
      "text/markdown": [
       "28"
      ],
      "text/plain": [
       "[1] 28"
      ]
     },
     "metadata": {},
     "output_type": "display_data"
    },
    {
     "data": {
      "text/html": [
       "28"
      ],
      "text/latex": [
       "28"
      ],
      "text/markdown": [
       "28"
      ],
      "text/plain": [
       "[1] 28"
      ]
     },
     "metadata": {},
     "output_type": "display_data"
    }
   ],
   "source": [
    "df1 <- uniqueN(fecal.df$Host_species)\n",
    "df1\n",
    "\n",
    "df2 <- uniqueN(oral.df$Host_species)\n",
    "df2\n",
    "\n",
    "df3 <- uniqueN(skin.df$Host_species)\n",
    "df3"
   ]
  },
  {
   "cell_type": "markdown",
   "metadata": {},
   "source": [
    "### PERMANOVA of taxonomic ranks, nested"
   ]
  },
  {
   "cell_type": "code",
   "execution_count": 6,
   "metadata": {},
   "outputs": [
    {
     "data": {
      "text/html": [
       "<table>\n",
       "<thead><tr><th></th><th scope=col>Df</th><th scope=col>SumOfSqs</th><th scope=col>R2</th><th scope=col>F</th><th scope=col>Pr(&gt;F)</th></tr></thead>\n",
       "<tbody>\n",
       "\t<tr><th scope=row>Host_Family</th><td>  8      </td><td> 6.349566</td><td>0.0751342</td><td>3.411994 </td><td>0.001    </td></tr>\n",
       "\t<tr><th scope=row>Residual</th><td>336      </td><td>78.160097</td><td>0.9248658</td><td>      NA </td><td>   NA    </td></tr>\n",
       "\t<tr><th scope=row>Total</th><td>344      </td><td>84.509663</td><td>1.0000000</td><td>      NA </td><td>   NA    </td></tr>\n",
       "</tbody>\n",
       "</table>\n"
      ],
      "text/latex": [
       "\\begin{tabular}{r|lllll}\n",
       "  & Df & SumOfSqs & R2 & F & Pr(>F)\\\\\n",
       "\\hline\n",
       "\tHost\\_Family &   8       &  6.349566 & 0.0751342 & 3.411994  & 0.001    \\\\\n",
       "\tResidual & 336       & 78.160097 & 0.9248658 &       NA  &    NA    \\\\\n",
       "\tTotal & 344       & 84.509663 & 1.0000000 &       NA  &    NA    \\\\\n",
       "\\end{tabular}\n"
      ],
      "text/markdown": [
       "\n",
       "| <!--/--> | Df | SumOfSqs | R2 | F | Pr(>F) |\n",
       "|---|---|---|---|---|---|\n",
       "| Host_Family |   8       |  6.349566 | 0.0751342 | 3.411994  | 0.001     |\n",
       "| Residual | 336       | 78.160097 | 0.9248658 |       NA  |    NA     |\n",
       "| Total | 344       | 84.509663 | 1.0000000 |       NA  |    NA     |\n",
       "\n"
      ],
      "text/plain": [
       "            Df  SumOfSqs  R2        F        Pr(>F)\n",
       "Host_Family   8  6.349566 0.0751342 3.411994 0.001 \n",
       "Residual    336 78.160097 0.9248658       NA    NA \n",
       "Total       344 84.509663 1.0000000       NA    NA "
      ]
     },
     "metadata": {},
     "output_type": "display_data"
    },
    {
     "data": {
      "text/html": [
       "<table>\n",
       "<thead><tr><th></th><th scope=col>Df</th><th scope=col>SumOfSqs</th><th scope=col>R2</th><th scope=col>F</th><th scope=col>Pr(&gt;F)</th></tr></thead>\n",
       "<tbody>\n",
       "\t<tr><th scope=row>Host_Family:Host_Genus</th><td> 17     </td><td>10.80481</td><td>0.127853</td><td>2.819811</td><td>0.001   </td></tr>\n",
       "\t<tr><th scope=row>Residual</th><td>327     </td><td>73.70485</td><td>0.872147</td><td>      NA</td><td>   NA   </td></tr>\n",
       "\t<tr><th scope=row>Total</th><td>344     </td><td>84.50966</td><td>1.000000</td><td>      NA</td><td>   NA   </td></tr>\n",
       "</tbody>\n",
       "</table>\n"
      ],
      "text/latex": [
       "\\begin{tabular}{r|lllll}\n",
       "  & Df & SumOfSqs & R2 & F & Pr(>F)\\\\\n",
       "\\hline\n",
       "\tHost\\_Family:Host\\_Genus &  17      & 10.80481 & 0.127853 & 2.819811 & 0.001   \\\\\n",
       "\tResidual & 327      & 73.70485 & 0.872147 &       NA &    NA   \\\\\n",
       "\tTotal & 344      & 84.50966 & 1.000000 &       NA &    NA   \\\\\n",
       "\\end{tabular}\n"
      ],
      "text/markdown": [
       "\n",
       "| <!--/--> | Df | SumOfSqs | R2 | F | Pr(>F) |\n",
       "|---|---|---|---|---|---|\n",
       "| Host_Family:Host_Genus |  17      | 10.80481 | 0.127853 | 2.819811 | 0.001    |\n",
       "| Residual | 327      | 73.70485 | 0.872147 |       NA |    NA    |\n",
       "| Total | 344      | 84.50966 | 1.000000 |       NA |    NA    |\n",
       "\n"
      ],
      "text/plain": [
       "                       Df  SumOfSqs R2       F        Pr(>F)\n",
       "Host_Family:Host_Genus  17 10.80481 0.127853 2.819811 0.001 \n",
       "Residual               327 73.70485 0.872147       NA    NA \n",
       "Total                  344 84.50966 1.000000       NA    NA "
      ]
     },
     "metadata": {},
     "output_type": "display_data"
    },
    {
     "data": {
      "text/html": [
       "<table>\n",
       "<thead><tr><th></th><th scope=col>Df</th><th scope=col>SumOfSqs</th><th scope=col>R2</th><th scope=col>F</th><th scope=col>Pr(&gt;F)</th></tr></thead>\n",
       "<tbody>\n",
       "\t<tr><th scope=row>Host_Family:Host_Genus:Host_species</th><td> 25     </td><td>15.85106</td><td>0.187565</td><td>2.945872</td><td>0.001   </td></tr>\n",
       "\t<tr><th scope=row>Residual</th><td>319     </td><td>68.65861</td><td>0.812435</td><td>      NA</td><td>   NA   </td></tr>\n",
       "\t<tr><th scope=row>Total</th><td>344     </td><td>84.50966</td><td>1.000000</td><td>      NA</td><td>   NA   </td></tr>\n",
       "</tbody>\n",
       "</table>\n"
      ],
      "text/latex": [
       "\\begin{tabular}{r|lllll}\n",
       "  & Df & SumOfSqs & R2 & F & Pr(>F)\\\\\n",
       "\\hline\n",
       "\tHost\\_Family:Host\\_Genus:Host\\_species &  25      & 15.85106 & 0.187565 & 2.945872 & 0.001   \\\\\n",
       "\tResidual & 319      & 68.65861 & 0.812435 &       NA &    NA   \\\\\n",
       "\tTotal & 344      & 84.50966 & 1.000000 &       NA &    NA   \\\\\n",
       "\\end{tabular}\n"
      ],
      "text/markdown": [
       "\n",
       "| <!--/--> | Df | SumOfSqs | R2 | F | Pr(>F) |\n",
       "|---|---|---|---|---|---|\n",
       "| Host_Family:Host_Genus:Host_species |  25      | 15.85106 | 0.187565 | 2.945872 | 0.001    |\n",
       "| Residual | 319      | 68.65861 | 0.812435 |       NA |    NA    |\n",
       "| Total | 344      | 84.50966 | 1.000000 |       NA |    NA    |\n",
       "\n"
      ],
      "text/plain": [
       "                                    Df  SumOfSqs R2       F        Pr(>F)\n",
       "Host_Family:Host_Genus:Host_species  25 15.85106 0.187565 2.945872 0.001 \n",
       "Residual                            319 68.65861 0.812435       NA    NA \n",
       "Total                               344 84.50966 1.000000       NA    NA "
      ]
     },
     "metadata": {},
     "output_type": "display_data"
    }
   ],
   "source": [
    "# FECAL\n",
    "adonis2(fecal.unif ~ Host_Family, nperm=999, data=fecal.df)\n",
    "adonis2(fecal.unif ~ Host_Family:Host_Genus, nperm=999, data=fecal.df)\n",
    "adonis2(fecal.unif ~ Host_Family:Host_Genus:Host_species, nperm=999, data=fecal.df)\n"
   ]
  },
  {
   "cell_type": "code",
   "execution_count": 13,
   "metadata": {},
   "outputs": [
    {
     "data": {
      "text/html": [
       "<table>\n",
       "<thead><tr><th></th><th scope=col>Df</th><th scope=col>SumOfSqs</th><th scope=col>R2</th><th scope=col>F</th><th scope=col>Pr(&gt;F)</th></tr></thead>\n",
       "<tbody>\n",
       "\t<tr><th scope=row>Host_Family</th><td>  8      </td><td>10.04616 </td><td>0.1110133</td><td>4.776517 </td><td>0.001    </td></tr>\n",
       "\t<tr><th scope=row>Residual</th><td>306      </td><td>80.44890 </td><td>0.8889867</td><td>      NA </td><td>   NA    </td></tr>\n",
       "\t<tr><th scope=row>Total</th><td>314      </td><td>90.49506 </td><td>1.0000000</td><td>      NA </td><td>   NA    </td></tr>\n",
       "</tbody>\n",
       "</table>\n"
      ],
      "text/latex": [
       "\\begin{tabular}{r|lllll}\n",
       "  & Df & SumOfSqs & R2 & F & Pr(>F)\\\\\n",
       "\\hline\n",
       "\tHost\\_Family &   8       & 10.04616  & 0.1110133 & 4.776517  & 0.001    \\\\\n",
       "\tResidual & 306       & 80.44890  & 0.8889867 &       NA  &    NA    \\\\\n",
       "\tTotal & 314       & 90.49506  & 1.0000000 &       NA  &    NA    \\\\\n",
       "\\end{tabular}\n"
      ],
      "text/markdown": [
       "\n",
       "| <!--/--> | Df | SumOfSqs | R2 | F | Pr(>F) |\n",
       "|---|---|---|---|---|---|\n",
       "| Host_Family |   8       | 10.04616  | 0.1110133 | 4.776517  | 0.001     |\n",
       "| Residual | 306       | 80.44890  | 0.8889867 |       NA  |    NA     |\n",
       "| Total | 314       | 90.49506  | 1.0000000 |       NA  |    NA     |\n",
       "\n"
      ],
      "text/plain": [
       "            Df  SumOfSqs R2        F        Pr(>F)\n",
       "Host_Family   8 10.04616 0.1110133 4.776517 0.001 \n",
       "Residual    306 80.44890 0.8889867       NA    NA \n",
       "Total       314 90.49506 1.0000000       NA    NA "
      ]
     },
     "metadata": {},
     "output_type": "display_data"
    },
    {
     "data": {
      "text/html": [
       "<table>\n",
       "<thead><tr><th></th><th scope=col>Df</th><th scope=col>SumOfSqs</th><th scope=col>R2</th><th scope=col>F</th><th scope=col>Pr(&gt;F)</th></tr></thead>\n",
       "<tbody>\n",
       "\t<tr><th scope=row>Host_Family:Host_Genus</th><td> 17      </td><td>15.46785 </td><td>0.1709249</td><td>3.601794 </td><td>0.001    </td></tr>\n",
       "\t<tr><th scope=row>Residual</th><td>297      </td><td>75.02721 </td><td>0.8290751</td><td>      NA </td><td>   NA    </td></tr>\n",
       "\t<tr><th scope=row>Total</th><td>314      </td><td>90.49506 </td><td>1.0000000</td><td>      NA </td><td>   NA    </td></tr>\n",
       "</tbody>\n",
       "</table>\n"
      ],
      "text/latex": [
       "\\begin{tabular}{r|lllll}\n",
       "  & Df & SumOfSqs & R2 & F & Pr(>F)\\\\\n",
       "\\hline\n",
       "\tHost\\_Family:Host\\_Genus &  17       & 15.46785  & 0.1709249 & 3.601794  & 0.001    \\\\\n",
       "\tResidual & 297       & 75.02721  & 0.8290751 &       NA  &    NA    \\\\\n",
       "\tTotal & 314       & 90.49506  & 1.0000000 &       NA  &    NA    \\\\\n",
       "\\end{tabular}\n"
      ],
      "text/markdown": [
       "\n",
       "| <!--/--> | Df | SumOfSqs | R2 | F | Pr(>F) |\n",
       "|---|---|---|---|---|---|\n",
       "| Host_Family:Host_Genus |  17       | 15.46785  | 0.1709249 | 3.601794  | 0.001     |\n",
       "| Residual | 297       | 75.02721  | 0.8290751 |       NA  |    NA     |\n",
       "| Total | 314       | 90.49506  | 1.0000000 |       NA  |    NA     |\n",
       "\n"
      ],
      "text/plain": [
       "                       Df  SumOfSqs R2        F        Pr(>F)\n",
       "Host_Family:Host_Genus  17 15.46785 0.1709249 3.601794 0.001 \n",
       "Residual               297 75.02721 0.8290751       NA    NA \n",
       "Total                  314 90.49506 1.0000000       NA    NA "
      ]
     },
     "metadata": {},
     "output_type": "display_data"
    },
    {
     "data": {
      "text/html": [
       "<table>\n",
       "<thead><tr><th></th><th scope=col>Df</th><th scope=col>SumOfSqs</th><th scope=col>R2</th><th scope=col>F</th><th scope=col>Pr(&gt;F)</th></tr></thead>\n",
       "<tbody>\n",
       "\t<tr><th scope=row>Host_Family:Host_Genus:Host_species</th><td> 27     </td><td>21.57584</td><td>0.23842 </td><td>3.327709</td><td>0.001   </td></tr>\n",
       "\t<tr><th scope=row>Residual</th><td>287     </td><td>68.91922</td><td>0.76158 </td><td>      NA</td><td>   NA   </td></tr>\n",
       "\t<tr><th scope=row>Total</th><td>314     </td><td>90.49506</td><td>1.00000 </td><td>      NA</td><td>   NA   </td></tr>\n",
       "</tbody>\n",
       "</table>\n"
      ],
      "text/latex": [
       "\\begin{tabular}{r|lllll}\n",
       "  & Df & SumOfSqs & R2 & F & Pr(>F)\\\\\n",
       "\\hline\n",
       "\tHost\\_Family:Host\\_Genus:Host\\_species &  27      & 21.57584 & 0.23842  & 3.327709 & 0.001   \\\\\n",
       "\tResidual & 287      & 68.91922 & 0.76158  &       NA &    NA   \\\\\n",
       "\tTotal & 314      & 90.49506 & 1.00000  &       NA &    NA   \\\\\n",
       "\\end{tabular}\n"
      ],
      "text/markdown": [
       "\n",
       "| <!--/--> | Df | SumOfSqs | R2 | F | Pr(>F) |\n",
       "|---|---|---|---|---|---|\n",
       "| Host_Family:Host_Genus:Host_species |  27      | 21.57584 | 0.23842  | 3.327709 | 0.001    |\n",
       "| Residual | 287      | 68.91922 | 0.76158  |       NA |    NA    |\n",
       "| Total | 314      | 90.49506 | 1.00000  |       NA |    NA    |\n",
       "\n"
      ],
      "text/plain": [
       "                                    Df  SumOfSqs R2      F        Pr(>F)\n",
       "Host_Family:Host_Genus:Host_species  27 21.57584 0.23842 3.327709 0.001 \n",
       "Residual                            287 68.91922 0.76158       NA    NA \n",
       "Total                               314 90.49506 1.00000       NA    NA "
      ]
     },
     "metadata": {},
     "output_type": "display_data"
    }
   ],
   "source": [
    "# ORAL\n",
    "adonis2(oral.unif ~ Host_Family, nperm=999, data=oral.df)\n",
    "adonis2(oral.unif ~ Host_Family:Host_Genus, nperm=999, data=oral.df)\n",
    "adonis2(oral.unif ~ Host_Family:Host_Genus:Host_species, nperm=999, data=oral.df)\n"
   ]
  },
  {
   "cell_type": "code",
   "execution_count": 14,
   "metadata": {},
   "outputs": [
    {
     "data": {
      "text/html": [
       "<table>\n",
       "<thead><tr><th></th><th scope=col>Df</th><th scope=col>SumOfSqs</th><th scope=col>R2</th><th scope=col>F</th><th scope=col>Pr(&gt;F)</th></tr></thead>\n",
       "<tbody>\n",
       "\t<tr><th scope=row>Host_Family</th><td>  8      </td><td>11.93468 </td><td>0.1205795</td><td>6.118645 </td><td>0.001    </td></tr>\n",
       "\t<tr><th scope=row>Residual</th><td>357      </td><td>87.04295 </td><td>0.8794205</td><td>      NA </td><td>   NA    </td></tr>\n",
       "\t<tr><th scope=row>Total</th><td>365      </td><td>98.97763 </td><td>1.0000000</td><td>      NA </td><td>   NA    </td></tr>\n",
       "</tbody>\n",
       "</table>\n"
      ],
      "text/latex": [
       "\\begin{tabular}{r|lllll}\n",
       "  & Df & SumOfSqs & R2 & F & Pr(>F)\\\\\n",
       "\\hline\n",
       "\tHost\\_Family &   8       & 11.93468  & 0.1205795 & 6.118645  & 0.001    \\\\\n",
       "\tResidual & 357       & 87.04295  & 0.8794205 &       NA  &    NA    \\\\\n",
       "\tTotal & 365       & 98.97763  & 1.0000000 &       NA  &    NA    \\\\\n",
       "\\end{tabular}\n"
      ],
      "text/markdown": [
       "\n",
       "| <!--/--> | Df | SumOfSqs | R2 | F | Pr(>F) |\n",
       "|---|---|---|---|---|---|\n",
       "| Host_Family |   8       | 11.93468  | 0.1205795 | 6.118645  | 0.001     |\n",
       "| Residual | 357       | 87.04295  | 0.8794205 |       NA  |    NA     |\n",
       "| Total | 365       | 98.97763  | 1.0000000 |       NA  |    NA     |\n",
       "\n"
      ],
      "text/plain": [
       "            Df  SumOfSqs R2        F        Pr(>F)\n",
       "Host_Family   8 11.93468 0.1205795 6.118645 0.001 \n",
       "Residual    357 87.04295 0.8794205       NA    NA \n",
       "Total       365 98.97763 1.0000000       NA    NA "
      ]
     },
     "metadata": {},
     "output_type": "display_data"
    },
    {
     "data": {
      "text/html": [
       "<table>\n",
       "<thead><tr><th></th><th scope=col>Df</th><th scope=col>SumOfSqs</th><th scope=col>R2</th><th scope=col>F</th><th scope=col>Pr(&gt;F)</th></tr></thead>\n",
       "<tbody>\n",
       "\t<tr><th scope=row>Host_Family:Host_Genus</th><td> 16      </td><td>16.31869 </td><td>0.1648725</td><td>4.306267 </td><td>0.001    </td></tr>\n",
       "\t<tr><th scope=row>Residual</th><td>349      </td><td>82.65894 </td><td>0.8351275</td><td>      NA </td><td>   NA    </td></tr>\n",
       "\t<tr><th scope=row>Total</th><td>365      </td><td>98.97763 </td><td>1.0000000</td><td>      NA </td><td>   NA    </td></tr>\n",
       "</tbody>\n",
       "</table>\n"
      ],
      "text/latex": [
       "\\begin{tabular}{r|lllll}\n",
       "  & Df & SumOfSqs & R2 & F & Pr(>F)\\\\\n",
       "\\hline\n",
       "\tHost\\_Family:Host\\_Genus &  16       & 16.31869  & 0.1648725 & 4.306267  & 0.001    \\\\\n",
       "\tResidual & 349       & 82.65894  & 0.8351275 &       NA  &    NA    \\\\\n",
       "\tTotal & 365       & 98.97763  & 1.0000000 &       NA  &    NA    \\\\\n",
       "\\end{tabular}\n"
      ],
      "text/markdown": [
       "\n",
       "| <!--/--> | Df | SumOfSqs | R2 | F | Pr(>F) |\n",
       "|---|---|---|---|---|---|\n",
       "| Host_Family:Host_Genus |  16       | 16.31869  | 0.1648725 | 4.306267  | 0.001     |\n",
       "| Residual | 349       | 82.65894  | 0.8351275 |       NA  |    NA     |\n",
       "| Total | 365       | 98.97763  | 1.0000000 |       NA  |    NA     |\n",
       "\n"
      ],
      "text/plain": [
       "                       Df  SumOfSqs R2        F        Pr(>F)\n",
       "Host_Family:Host_Genus  16 16.31869 0.1648725 4.306267 0.001 \n",
       "Residual               349 82.65894 0.8351275       NA    NA \n",
       "Total                  365 98.97763 1.0000000       NA    NA "
      ]
     },
     "metadata": {},
     "output_type": "display_data"
    },
    {
     "data": {
      "text/html": [
       "<table>\n",
       "<thead><tr><th></th><th scope=col>Df</th><th scope=col>SumOfSqs</th><th scope=col>R2</th><th scope=col>F</th><th scope=col>Pr(&gt;F)</th></tr></thead>\n",
       "<tbody>\n",
       "\t<tr><th scope=row>Host_Family:Host_Genus:Host_species</th><td> 27      </td><td>23.83521 </td><td>0.2408142</td><td>3.970881 </td><td>0.001    </td></tr>\n",
       "\t<tr><th scope=row>Residual</th><td>338      </td><td>75.14241 </td><td>0.7591858</td><td>      NA </td><td>   NA    </td></tr>\n",
       "\t<tr><th scope=row>Total</th><td>365      </td><td>98.97763 </td><td>1.0000000</td><td>      NA </td><td>   NA    </td></tr>\n",
       "</tbody>\n",
       "</table>\n"
      ],
      "text/latex": [
       "\\begin{tabular}{r|lllll}\n",
       "  & Df & SumOfSqs & R2 & F & Pr(>F)\\\\\n",
       "\\hline\n",
       "\tHost\\_Family:Host\\_Genus:Host\\_species &  27       & 23.83521  & 0.2408142 & 3.970881  & 0.001    \\\\\n",
       "\tResidual & 338       & 75.14241  & 0.7591858 &       NA  &    NA    \\\\\n",
       "\tTotal & 365       & 98.97763  & 1.0000000 &       NA  &    NA    \\\\\n",
       "\\end{tabular}\n"
      ],
      "text/markdown": [
       "\n",
       "| <!--/--> | Df | SumOfSqs | R2 | F | Pr(>F) |\n",
       "|---|---|---|---|---|---|\n",
       "| Host_Family:Host_Genus:Host_species |  27       | 23.83521  | 0.2408142 | 3.970881  | 0.001     |\n",
       "| Residual | 338       | 75.14241  | 0.7591858 |       NA  |    NA     |\n",
       "| Total | 365       | 98.97763  | 1.0000000 |       NA  |    NA     |\n",
       "\n"
      ],
      "text/plain": [
       "                                    Df  SumOfSqs R2        F        Pr(>F)\n",
       "Host_Family:Host_Genus:Host_species  27 23.83521 0.2408142 3.970881 0.001 \n",
       "Residual                            338 75.14241 0.7591858       NA    NA \n",
       "Total                               365 98.97763 1.0000000       NA    NA "
      ]
     },
     "metadata": {},
     "output_type": "display_data"
    }
   ],
   "source": [
    "# SKIN\n",
    "adonis2(skin.unif ~ Host_Family, nperm=999, data=skin.df)\n",
    "adonis2(skin.unif ~ Host_Family:Host_Genus, nperm=999, data=skin.df)\n",
    "adonis2(skin.unif ~ Host_Family:Host_Genus:Host_species, nperm=999, data=skin.df)\n"
   ]
  },
  {
   "cell_type": "markdown",
   "metadata": {},
   "source": [
    "### PERMANOVA of host variables"
   ]
  },
  {
   "cell_type": "code",
   "execution_count": 7,
   "metadata": {},
   "outputs": [
    {
     "data": {
      "text/html": [
       "<table>\n",
       "<thead><tr><th></th><th scope=col>Df</th><th scope=col>SumOfSqs</th><th scope=col>R2</th><th scope=col>F</th><th scope=col>Pr(&gt;F)</th></tr></thead>\n",
       "<tbody>\n",
       "\t<tr><th scope=row>Site_name</th><td> 16      </td><td>13.16609 </td><td>0.1557939</td><td>3.783171 </td><td>0.001    </td></tr>\n",
       "\t<tr><th scope=row>Residual</th><td>328      </td><td>71.34357 </td><td>0.8442061</td><td>      NA </td><td>   NA    </td></tr>\n",
       "\t<tr><th scope=row>Total</th><td>344      </td><td>84.50966 </td><td>1.0000000</td><td>      NA </td><td>   NA    </td></tr>\n",
       "</tbody>\n",
       "</table>\n"
      ],
      "text/latex": [
       "\\begin{tabular}{r|lllll}\n",
       "  & Df & SumOfSqs & R2 & F & Pr(>F)\\\\\n",
       "\\hline\n",
       "\tSite\\_name &  16       & 13.16609  & 0.1557939 & 3.783171  & 0.001    \\\\\n",
       "\tResidual & 328       & 71.34357  & 0.8442061 &       NA  &    NA    \\\\\n",
       "\tTotal & 344       & 84.50966  & 1.0000000 &       NA  &    NA    \\\\\n",
       "\\end{tabular}\n"
      ],
      "text/markdown": [
       "\n",
       "| <!--/--> | Df | SumOfSqs | R2 | F | Pr(>F) |\n",
       "|---|---|---|---|---|---|\n",
       "| Site_name |  16       | 13.16609  | 0.1557939 | 3.783171  | 0.001     |\n",
       "| Residual | 328       | 71.34357  | 0.8442061 |       NA  |    NA     |\n",
       "| Total | 344       | 84.50966  | 1.0000000 |       NA  |    NA     |\n",
       "\n"
      ],
      "text/plain": [
       "          Df  SumOfSqs R2        F        Pr(>F)\n",
       "Site_name  16 13.16609 0.1557939 3.783171 0.001 \n",
       "Residual  328 71.34357 0.8442061       NA    NA \n",
       "Total     344 84.50966 1.0000000       NA    NA "
      ]
     },
     "metadata": {},
     "output_type": "display_data"
    },
    {
     "data": {
      "text/html": [
       "<table>\n",
       "<thead><tr><th></th><th scope=col>Df</th><th scope=col>SumOfSqs</th><th scope=col>R2</th><th scope=col>F</th><th scope=col>Pr(&gt;F)</th></tr></thead>\n",
       "<tbody>\n",
       "\t<tr><th scope=row>Diet</th><td>  1       </td><td> 2.143857 </td><td>0.02536818</td><td>8.927768  </td><td>0.001     </td></tr>\n",
       "\t<tr><th scope=row>Residual</th><td>343       </td><td>82.365806 </td><td>0.97463182</td><td>      NA  </td><td>   NA     </td></tr>\n",
       "\t<tr><th scope=row>Total</th><td>344       </td><td>84.509663 </td><td>1.00000000</td><td>      NA  </td><td>   NA     </td></tr>\n",
       "</tbody>\n",
       "</table>\n"
      ],
      "text/latex": [
       "\\begin{tabular}{r|lllll}\n",
       "  & Df & SumOfSqs & R2 & F & Pr(>F)\\\\\n",
       "\\hline\n",
       "\tDiet &   1        &  2.143857  & 0.02536818 & 8.927768   & 0.001     \\\\\n",
       "\tResidual & 343        & 82.365806  & 0.97463182 &       NA   &    NA     \\\\\n",
       "\tTotal & 344        & 84.509663  & 1.00000000 &       NA   &    NA     \\\\\n",
       "\\end{tabular}\n"
      ],
      "text/markdown": [
       "\n",
       "| <!--/--> | Df | SumOfSqs | R2 | F | Pr(>F) |\n",
       "|---|---|---|---|---|---|\n",
       "| Diet |   1        |  2.143857  | 0.02536818 | 8.927768   | 0.001      |\n",
       "| Residual | 343        | 82.365806  | 0.97463182 |       NA   |    NA      |\n",
       "| Total | 344        | 84.509663  | 1.00000000 |       NA   |    NA      |\n",
       "\n"
      ],
      "text/plain": [
       "         Df  SumOfSqs  R2         F        Pr(>F)\n",
       "Diet       1  2.143857 0.02536818 8.927768 0.001 \n",
       "Residual 343 82.365806 0.97463182       NA    NA \n",
       "Total    344 84.509663 1.00000000       NA    NA "
      ]
     },
     "metadata": {},
     "output_type": "display_data"
    },
    {
     "data": {
      "text/html": [
       "<table>\n",
       "<thead><tr><th></th><th scope=col>Df</th><th scope=col>SumOfSqs</th><th scope=col>R2</th><th scope=col>F</th><th scope=col>Pr(&gt;F)</th></tr></thead>\n",
       "<tbody>\n",
       "\t<tr><th scope=row>Site_name</th><td> 15       </td><td> 7.346523 </td><td>0.08693116</td><td>2.428388  </td><td>0.001     </td></tr>\n",
       "\t<tr><th scope=row>Host_species</th><td> 24       </td><td>10.031485 </td><td>0.11870222</td><td>2.072438  </td><td>0.001     </td></tr>\n",
       "\t<tr><th scope=row>Residual</th><td>304       </td><td>61.312084 </td><td>0.72550383</td><td>      NA  </td><td>   NA     </td></tr>\n",
       "\t<tr><th scope=row>Total</th><td>344       </td><td>84.509663 </td><td>1.00000000</td><td>      NA  </td><td>   NA     </td></tr>\n",
       "</tbody>\n",
       "</table>\n"
      ],
      "text/latex": [
       "\\begin{tabular}{r|lllll}\n",
       "  & Df & SumOfSqs & R2 & F & Pr(>F)\\\\\n",
       "\\hline\n",
       "\tSite\\_name &  15        &  7.346523  & 0.08693116 & 2.428388   & 0.001     \\\\\n",
       "\tHost\\_species &  24        & 10.031485  & 0.11870222 & 2.072438   & 0.001     \\\\\n",
       "\tResidual & 304        & 61.312084  & 0.72550383 &       NA   &    NA     \\\\\n",
       "\tTotal & 344        & 84.509663  & 1.00000000 &       NA   &    NA     \\\\\n",
       "\\end{tabular}\n"
      ],
      "text/markdown": [
       "\n",
       "| <!--/--> | Df | SumOfSqs | R2 | F | Pr(>F) |\n",
       "|---|---|---|---|---|---|\n",
       "| Site_name |  15        |  7.346523  | 0.08693116 | 2.428388   | 0.001      |\n",
       "| Host_species |  24        | 10.031485  | 0.11870222 | 2.072438   | 0.001      |\n",
       "| Residual | 304        | 61.312084  | 0.72550383 |       NA   |    NA      |\n",
       "| Total | 344        | 84.509663  | 1.00000000 |       NA   |    NA      |\n",
       "\n"
      ],
      "text/plain": [
       "             Df  SumOfSqs  R2         F        Pr(>F)\n",
       "Site_name     15  7.346523 0.08693116 2.428388 0.001 \n",
       "Host_species  24 10.031485 0.11870222 2.072438 0.001 \n",
       "Residual     304 61.312084 0.72550383       NA    NA \n",
       "Total        344 84.509663 1.00000000       NA    NA "
      ]
     },
     "metadata": {},
     "output_type": "display_data"
    },
    {
     "data": {
      "text/html": [
       "<table>\n",
       "<thead><tr><th></th><th scope=col>Df</th><th scope=col>SumOfSqs</th><th scope=col>R2</th><th scope=col>F</th><th scope=col>Pr(&gt;F)</th></tr></thead>\n",
       "<tbody>\n",
       "\t<tr><th scope=row>Age</th><td>  2        </td><td> 0.7496715 </td><td>0.008870837</td><td>1.567993   </td><td>0.010      </td></tr>\n",
       "\t<tr><th scope=row>Sex</th><td>  1        </td><td> 0.4594875 </td><td>0.005437100</td><td>1.922104   </td><td>0.007      </td></tr>\n",
       "\t<tr><th scope=row>Weight</th><td>  1        </td><td> 1.7768350 </td><td>0.021025229</td><td>7.432762   </td><td>0.001      </td></tr>\n",
       "\t<tr><th scope=row>Residual</th><td>340        </td><td>81.2785155 </td><td>0.961765942</td><td>      NA   </td><td>   NA      </td></tr>\n",
       "\t<tr><th scope=row>Total</th><td>344        </td><td>84.5096629 </td><td>1.000000000</td><td>      NA   </td><td>   NA      </td></tr>\n",
       "</tbody>\n",
       "</table>\n"
      ],
      "text/latex": [
       "\\begin{tabular}{r|lllll}\n",
       "  & Df & SumOfSqs & R2 & F & Pr(>F)\\\\\n",
       "\\hline\n",
       "\tAge &   2         &  0.7496715  & 0.008870837 & 1.567993    & 0.010      \\\\\n",
       "\tSex &   1         &  0.4594875  & 0.005437100 & 1.922104    & 0.007      \\\\\n",
       "\tWeight &   1         &  1.7768350  & 0.021025229 & 7.432762    & 0.001      \\\\\n",
       "\tResidual & 340         & 81.2785155  & 0.961765942 &       NA    &    NA      \\\\\n",
       "\tTotal & 344         & 84.5096629  & 1.000000000 &       NA    &    NA      \\\\\n",
       "\\end{tabular}\n"
      ],
      "text/markdown": [
       "\n",
       "| <!--/--> | Df | SumOfSqs | R2 | F | Pr(>F) |\n",
       "|---|---|---|---|---|---|\n",
       "| Age |   2         |  0.7496715  | 0.008870837 | 1.567993    | 0.010       |\n",
       "| Sex |   1         |  0.4594875  | 0.005437100 | 1.922104    | 0.007       |\n",
       "| Weight |   1         |  1.7768350  | 0.021025229 | 7.432762    | 0.001       |\n",
       "| Residual | 340         | 81.2785155  | 0.961765942 |       NA    |    NA       |\n",
       "| Total | 344         | 84.5096629  | 1.000000000 |       NA    |    NA       |\n",
       "\n"
      ],
      "text/plain": [
       "         Df  SumOfSqs   R2          F        Pr(>F)\n",
       "Age        2  0.7496715 0.008870837 1.567993 0.010 \n",
       "Sex        1  0.4594875 0.005437100 1.922104 0.007 \n",
       "Weight     1  1.7768350 0.021025229 7.432762 0.001 \n",
       "Residual 340 81.2785155 0.961765942       NA    NA \n",
       "Total    344 84.5096629 1.000000000       NA    NA "
      ]
     },
     "metadata": {},
     "output_type": "display_data"
    }
   ],
   "source": [
    "# FECAL\n",
    "adonis2(fecal.unif ~ Site_name, nperm=999, data=fecal.df)\n",
    "adonis2(fecal.unif ~ Diet, strata = Site_name, nperm=999, data=fecal.df)\n",
    "adonis2(fecal.unif ~ Site_name + Host_species, by=\"margin\", nperm=999, data=fecal.df)\n",
    "adonis2(fecal.unif ~ Age + Sex + Weight, strata = Host_species, by=\"margin\", nperm=999, data=fecal.df)"
   ]
  },
  {
   "cell_type": "code",
   "execution_count": 16,
   "metadata": {},
   "outputs": [
    {
     "data": {
      "text/html": [
       "<ol class=list-inline>\n",
       "\t<li>0.011</li>\n",
       "\t<li>0.009</li>\n",
       "\t<li>0.003</li>\n",
       "</ol>\n"
      ],
      "text/latex": [
       "\\begin{enumerate*}\n",
       "\\item 0.011\n",
       "\\item 0.009\n",
       "\\item 0.003\n",
       "\\end{enumerate*}\n"
      ],
      "text/markdown": [
       "1. 0.011\n",
       "2. 0.009\n",
       "3. 0.003\n",
       "\n",
       "\n"
      ],
      "text/plain": [
       "[1] 0.011 0.009 0.003"
      ]
     },
     "metadata": {},
     "output_type": "display_data"
    }
   ],
   "source": [
    "#FDR p-value correction\n",
    "p = c(\"0.011\",\"0.006\",\"0.001\")\n",
    "p.adjust(p, method = \"fdr\", n = length(p))"
   ]
  },
  {
   "cell_type": "code",
   "execution_count": 8,
   "metadata": {},
   "outputs": [
    {
     "data": {
      "text/html": [
       "<table>\n",
       "<thead><tr><th></th><th scope=col>Df</th><th scope=col>SumOfSqs</th><th scope=col>R2</th><th scope=col>F</th><th scope=col>Pr(&gt;F)</th></tr></thead>\n",
       "<tbody>\n",
       "\t<tr><th scope=row>Site_name</th><td> 15      </td><td>17.05456 </td><td>0.1884585</td><td>4.628975 </td><td>0.001    </td></tr>\n",
       "\t<tr><th scope=row>Residual</th><td>299      </td><td>73.44050 </td><td>0.8115415</td><td>      NA </td><td>   NA    </td></tr>\n",
       "\t<tr><th scope=row>Total</th><td>314      </td><td>90.49506 </td><td>1.0000000</td><td>      NA </td><td>   NA    </td></tr>\n",
       "</tbody>\n",
       "</table>\n"
      ],
      "text/latex": [
       "\\begin{tabular}{r|lllll}\n",
       "  & Df & SumOfSqs & R2 & F & Pr(>F)\\\\\n",
       "\\hline\n",
       "\tSite\\_name &  15       & 17.05456  & 0.1884585 & 4.628975  & 0.001    \\\\\n",
       "\tResidual & 299       & 73.44050  & 0.8115415 &       NA  &    NA    \\\\\n",
       "\tTotal & 314       & 90.49506  & 1.0000000 &       NA  &    NA    \\\\\n",
       "\\end{tabular}\n"
      ],
      "text/markdown": [
       "\n",
       "| <!--/--> | Df | SumOfSqs | R2 | F | Pr(>F) |\n",
       "|---|---|---|---|---|---|\n",
       "| Site_name |  15       | 17.05456  | 0.1884585 | 4.628975  | 0.001     |\n",
       "| Residual | 299       | 73.44050  | 0.8115415 |       NA  |    NA     |\n",
       "| Total | 314       | 90.49506  | 1.0000000 |       NA  |    NA     |\n",
       "\n"
      ],
      "text/plain": [
       "          Df  SumOfSqs R2        F        Pr(>F)\n",
       "Site_name  15 17.05456 0.1884585 4.628975 0.001 \n",
       "Residual  299 73.44050 0.8115415       NA    NA \n",
       "Total     314 90.49506 1.0000000       NA    NA "
      ]
     },
     "metadata": {},
     "output_type": "display_data"
    },
    {
     "data": {
      "text/html": [
       "<table>\n",
       "<thead><tr><th></th><th scope=col>Df</th><th scope=col>SumOfSqs</th><th scope=col>R2</th><th scope=col>F</th><th scope=col>Pr(&gt;F)</th></tr></thead>\n",
       "<tbody>\n",
       "\t<tr><th scope=row>Diet</th><td>  1       </td><td> 1.926021 </td><td>0.02128316</td><td>6.806492  </td><td>0.001     </td></tr>\n",
       "\t<tr><th scope=row>Residual</th><td>313       </td><td>88.569039 </td><td>0.97871684</td><td>      NA  </td><td>   NA     </td></tr>\n",
       "\t<tr><th scope=row>Total</th><td>314       </td><td>90.495060 </td><td>1.00000000</td><td>      NA  </td><td>   NA     </td></tr>\n",
       "</tbody>\n",
       "</table>\n"
      ],
      "text/latex": [
       "\\begin{tabular}{r|lllll}\n",
       "  & Df & SumOfSqs & R2 & F & Pr(>F)\\\\\n",
       "\\hline\n",
       "\tDiet &   1        &  1.926021  & 0.02128316 & 6.806492   & 0.001     \\\\\n",
       "\tResidual & 313        & 88.569039  & 0.97871684 &       NA   &    NA     \\\\\n",
       "\tTotal & 314        & 90.495060  & 1.00000000 &       NA   &    NA     \\\\\n",
       "\\end{tabular}\n"
      ],
      "text/markdown": [
       "\n",
       "| <!--/--> | Df | SumOfSqs | R2 | F | Pr(>F) |\n",
       "|---|---|---|---|---|---|\n",
       "| Diet |   1        |  1.926021  | 0.02128316 | 6.806492   | 0.001      |\n",
       "| Residual | 313        | 88.569039  | 0.97871684 |       NA   |    NA      |\n",
       "| Total | 314        | 90.495060  | 1.00000000 |       NA   |    NA      |\n",
       "\n"
      ],
      "text/plain": [
       "         Df  SumOfSqs  R2         F        Pr(>F)\n",
       "Diet       1  1.926021 0.02128316 6.806492 0.001 \n",
       "Residual 313 88.569039 0.97871684       NA    NA \n",
       "Total    314 90.495060 1.00000000       NA    NA "
      ]
     },
     "metadata": {},
     "output_type": "display_data"
    },
    {
     "data": {
      "text/html": [
       "<table>\n",
       "<thead><tr><th></th><th scope=col>Df</th><th scope=col>SumOfSqs</th><th scope=col>R2</th><th scope=col>F</th><th scope=col>Pr(&gt;F)</th></tr></thead>\n",
       "<tbody>\n",
       "\t<tr><th scope=row>Site_name</th><td> 13       </td><td> 7.622198 </td><td>0.08422778</td><td>2.620885  </td><td>0.001     </td></tr>\n",
       "\t<tr><th scope=row>Host_species</th><td> 25       </td><td>12.143472 </td><td>0.13418934</td><td>2.171271  </td><td>0.001     </td></tr>\n",
       "\t<tr><th scope=row>Residual</th><td>274       </td><td>61.297026 </td><td>0.67735218</td><td>      NA  </td><td>   NA     </td></tr>\n",
       "\t<tr><th scope=row>Total</th><td>314       </td><td>90.495060 </td><td>1.00000000</td><td>      NA  </td><td>   NA     </td></tr>\n",
       "</tbody>\n",
       "</table>\n"
      ],
      "text/latex": [
       "\\begin{tabular}{r|lllll}\n",
       "  & Df & SumOfSqs & R2 & F & Pr(>F)\\\\\n",
       "\\hline\n",
       "\tSite\\_name &  13        &  7.622198  & 0.08422778 & 2.620885   & 0.001     \\\\\n",
       "\tHost\\_species &  25        & 12.143472  & 0.13418934 & 2.171271   & 0.001     \\\\\n",
       "\tResidual & 274        & 61.297026  & 0.67735218 &       NA   &    NA     \\\\\n",
       "\tTotal & 314        & 90.495060  & 1.00000000 &       NA   &    NA     \\\\\n",
       "\\end{tabular}\n"
      ],
      "text/markdown": [
       "\n",
       "| <!--/--> | Df | SumOfSqs | R2 | F | Pr(>F) |\n",
       "|---|---|---|---|---|---|\n",
       "| Site_name |  13        |  7.622198  | 0.08422778 | 2.620885   | 0.001      |\n",
       "| Host_species |  25        | 12.143472  | 0.13418934 | 2.171271   | 0.001      |\n",
       "| Residual | 274        | 61.297026  | 0.67735218 |       NA   |    NA      |\n",
       "| Total | 314        | 90.495060  | 1.00000000 |       NA   |    NA      |\n",
       "\n"
      ],
      "text/plain": [
       "             Df  SumOfSqs  R2         F        Pr(>F)\n",
       "Site_name     13  7.622198 0.08422778 2.620885 0.001 \n",
       "Host_species  25 12.143472 0.13418934 2.171271 0.001 \n",
       "Residual     274 61.297026 0.67735218       NA    NA \n",
       "Total        314 90.495060 1.00000000       NA    NA "
      ]
     },
     "metadata": {},
     "output_type": "display_data"
    },
    {
     "data": {
      "text/html": [
       "<table>\n",
       "<thead><tr><th></th><th scope=col>Df</th><th scope=col>SumOfSqs</th><th scope=col>R2</th><th scope=col>F</th><th scope=col>Pr(&gt;F)</th></tr></thead>\n",
       "<tbody>\n",
       "\t<tr><th scope=row>Age</th><td>  2        </td><td> 1.5075698 </td><td>0.016659139</td><td>2.690223   </td><td>0.001      </td></tr>\n",
       "\t<tr><th scope=row>Sex</th><td>  1        </td><td> 0.3053897 </td><td>0.003374656</td><td>1.089921   </td><td>0.298      </td></tr>\n",
       "\t<tr><th scope=row>Weight</th><td>  1        </td><td> 1.7142018 </td><td>0.018942490</td><td>6.117906   </td><td>0.001      </td></tr>\n",
       "\t<tr><th scope=row>Residual</th><td>310        </td><td>86.8602020 </td><td>0.959833631</td><td>      NA   </td><td>   NA      </td></tr>\n",
       "\t<tr><th scope=row>Total</th><td>314        </td><td>90.4950600 </td><td>1.000000000</td><td>      NA   </td><td>   NA      </td></tr>\n",
       "</tbody>\n",
       "</table>\n"
      ],
      "text/latex": [
       "\\begin{tabular}{r|lllll}\n",
       "  & Df & SumOfSqs & R2 & F & Pr(>F)\\\\\n",
       "\\hline\n",
       "\tAge &   2         &  1.5075698  & 0.016659139 & 2.690223    & 0.001      \\\\\n",
       "\tSex &   1         &  0.3053897  & 0.003374656 & 1.089921    & 0.298      \\\\\n",
       "\tWeight &   1         &  1.7142018  & 0.018942490 & 6.117906    & 0.001      \\\\\n",
       "\tResidual & 310         & 86.8602020  & 0.959833631 &       NA    &    NA      \\\\\n",
       "\tTotal & 314         & 90.4950600  & 1.000000000 &       NA    &    NA      \\\\\n",
       "\\end{tabular}\n"
      ],
      "text/markdown": [
       "\n",
       "| <!--/--> | Df | SumOfSqs | R2 | F | Pr(>F) |\n",
       "|---|---|---|---|---|---|\n",
       "| Age |   2         |  1.5075698  | 0.016659139 | 2.690223    | 0.001       |\n",
       "| Sex |   1         |  0.3053897  | 0.003374656 | 1.089921    | 0.298       |\n",
       "| Weight |   1         |  1.7142018  | 0.018942490 | 6.117906    | 0.001       |\n",
       "| Residual | 310         | 86.8602020  | 0.959833631 |       NA    |    NA       |\n",
       "| Total | 314         | 90.4950600  | 1.000000000 |       NA    |    NA       |\n",
       "\n"
      ],
      "text/plain": [
       "         Df  SumOfSqs   R2          F        Pr(>F)\n",
       "Age        2  1.5075698 0.016659139 2.690223 0.001 \n",
       "Sex        1  0.3053897 0.003374656 1.089921 0.298 \n",
       "Weight     1  1.7142018 0.018942490 6.117906 0.001 \n",
       "Residual 310 86.8602020 0.959833631       NA    NA \n",
       "Total    314 90.4950600 1.000000000       NA    NA "
      ]
     },
     "metadata": {},
     "output_type": "display_data"
    }
   ],
   "source": [
    "# ORAL\n",
    "adonis2(oral.unif ~ Site_name, nperm=999, data=oral.df)\n",
    "adonis2(oral.unif ~ Diet, strata = Site_name, nperm=999, data=oral.df)\n",
    "adonis2(oral.unif ~ Site_name + Host_species, by=\"margin\", nperm=999, data=oral.df)\n",
    "adonis2(oral.unif ~ Age + Sex + Weight, strata = Host_species, by=\"margin\", nperm=999, data=oral.df)"
   ]
  },
  {
   "cell_type": "code",
   "execution_count": 6,
   "metadata": {},
   "outputs": [
    {
     "data": {
      "text/html": [
       "<ol class=list-inline>\n",
       "\t<li>0.0015</li>\n",
       "\t<li>0.293</li>\n",
       "\t<li>0.0015</li>\n",
       "</ol>\n"
      ],
      "text/latex": [
       "\\begin{enumerate*}\n",
       "\\item 0.0015\n",
       "\\item 0.293\n",
       "\\item 0.0015\n",
       "\\end{enumerate*}\n"
      ],
      "text/markdown": [
       "1. 0.0015\n",
       "2. 0.293\n",
       "3. 0.0015\n",
       "\n",
       "\n"
      ],
      "text/plain": [
       "[1] 0.0015 0.2930 0.0015"
      ]
     },
     "metadata": {},
     "output_type": "display_data"
    }
   ],
   "source": [
    "#FDR p-value correction\n",
    "p = c(\"0.001\",\"0.293\",\"0.001\")\n",
    "p.adjust(p, method = \"fdr\", n = length(p))"
   ]
  },
  {
   "cell_type": "code",
   "execution_count": 26,
   "metadata": {},
   "outputs": [
    {
     "data": {
      "text/html": [
       "<table>\n",
       "<thead><tr><th></th><th scope=col>Df</th><th scope=col>SumOfSqs</th><th scope=col>R2</th><th scope=col>F</th><th scope=col>Pr(&gt;F)</th></tr></thead>\n",
       "<tbody>\n",
       "\t<tr><th scope=row>Site_name</th><td> 16      </td><td>25.01642 </td><td>0.2527482</td><td>7.377795 </td><td>0.001    </td></tr>\n",
       "\t<tr><th scope=row>Residual</th><td>349      </td><td>73.96121 </td><td>0.7472518</td><td>      NA </td><td>   NA    </td></tr>\n",
       "\t<tr><th scope=row>Total</th><td>365      </td><td>98.97763 </td><td>1.0000000</td><td>      NA </td><td>   NA    </td></tr>\n",
       "</tbody>\n",
       "</table>\n"
      ],
      "text/latex": [
       "\\begin{tabular}{r|lllll}\n",
       "  & Df & SumOfSqs & R2 & F & Pr(>F)\\\\\n",
       "\\hline\n",
       "\tSite\\_name &  16       & 25.01642  & 0.2527482 & 7.377795  & 0.001    \\\\\n",
       "\tResidual & 349       & 73.96121  & 0.7472518 &       NA  &    NA    \\\\\n",
       "\tTotal & 365       & 98.97763  & 1.0000000 &       NA  &    NA    \\\\\n",
       "\\end{tabular}\n"
      ],
      "text/markdown": [
       "\n",
       "| <!--/--> | Df | SumOfSqs | R2 | F | Pr(>F) |\n",
       "|---|---|---|---|---|---|\n",
       "| Site_name |  16       | 25.01642  | 0.2527482 | 7.377795  | 0.001     |\n",
       "| Residual | 349       | 73.96121  | 0.7472518 |       NA  |    NA     |\n",
       "| Total | 365       | 98.97763  | 1.0000000 |       NA  |    NA     |\n",
       "\n"
      ],
      "text/plain": [
       "          Df  SumOfSqs R2        F        Pr(>F)\n",
       "Site_name  16 25.01642 0.2527482 7.377795 0.001 \n",
       "Residual  349 73.96121 0.7472518       NA    NA \n",
       "Total     365 98.97763 1.0000000       NA    NA "
      ]
     },
     "metadata": {},
     "output_type": "display_data"
    },
    {
     "data": {
      "text/html": [
       "<table>\n",
       "<thead><tr><th></th><th scope=col>Df</th><th scope=col>SumOfSqs</th><th scope=col>R2</th><th scope=col>F</th><th scope=col>Pr(&gt;F)</th></tr></thead>\n",
       "<tbody>\n",
       "\t<tr><th scope=row>Diet</th><td>  1       </td><td> 5.282499 </td><td>0.05337064</td><td>20.52219  </td><td>0.001     </td></tr>\n",
       "\t<tr><th scope=row>Residual</th><td>364       </td><td>93.695127 </td><td>0.94662936</td><td>      NA  </td><td>   NA     </td></tr>\n",
       "\t<tr><th scope=row>Total</th><td>365       </td><td>98.977626 </td><td>1.00000000</td><td>      NA  </td><td>   NA     </td></tr>\n",
       "</tbody>\n",
       "</table>\n"
      ],
      "text/latex": [
       "\\begin{tabular}{r|lllll}\n",
       "  & Df & SumOfSqs & R2 & F & Pr(>F)\\\\\n",
       "\\hline\n",
       "\tDiet &   1        &  5.282499  & 0.05337064 & 20.52219   & 0.001     \\\\\n",
       "\tResidual & 364        & 93.695127  & 0.94662936 &       NA   &    NA     \\\\\n",
       "\tTotal & 365        & 98.977626  & 1.00000000 &       NA   &    NA     \\\\\n",
       "\\end{tabular}\n"
      ],
      "text/markdown": [
       "\n",
       "| <!--/--> | Df | SumOfSqs | R2 | F | Pr(>F) |\n",
       "|---|---|---|---|---|---|\n",
       "| Diet |   1        |  5.282499  | 0.05337064 | 20.52219   | 0.001      |\n",
       "| Residual | 364        | 93.695127  | 0.94662936 |       NA   |    NA      |\n",
       "| Total | 365        | 98.977626  | 1.00000000 |       NA   |    NA      |\n",
       "\n"
      ],
      "text/plain": [
       "         Df  SumOfSqs  R2         F        Pr(>F)\n",
       "Diet       1  5.282499 0.05337064 20.52219 0.001 \n",
       "Residual 364 93.695127 0.94662936       NA    NA \n",
       "Total    365 98.977626 1.00000000       NA    NA "
      ]
     },
     "metadata": {},
     "output_type": "display_data"
    },
    {
     "data": {
      "text/html": [
       "<table>\n",
       "<thead><tr><th></th><th scope=col>Df</th><th scope=col>SumOfSqs</th><th scope=col>R2</th><th scope=col>F</th><th scope=col>Pr(&gt;F)</th></tr></thead>\n",
       "<tbody>\n",
       "\t<tr><th scope=row>Site_name</th><td> 15      </td><td>11.27658 </td><td>0.1139306</td><td>3.802071 </td><td>0.001    </td></tr>\n",
       "\t<tr><th scope=row>Host_species</th><td> 26      </td><td>10.09538 </td><td>0.1019966</td><td>1.963737 </td><td>0.001    </td></tr>\n",
       "\t<tr><th scope=row>Residual</th><td>323      </td><td>63.86583 </td><td>0.6452552</td><td>      NA </td><td>   NA    </td></tr>\n",
       "\t<tr><th scope=row>Total</th><td>365      </td><td>98.97763 </td><td>1.0000000</td><td>      NA </td><td>   NA    </td></tr>\n",
       "</tbody>\n",
       "</table>\n"
      ],
      "text/latex": [
       "\\begin{tabular}{r|lllll}\n",
       "  & Df & SumOfSqs & R2 & F & Pr(>F)\\\\\n",
       "\\hline\n",
       "\tSite\\_name &  15       & 11.27658  & 0.1139306 & 3.802071  & 0.001    \\\\\n",
       "\tHost\\_species &  26       & 10.09538  & 0.1019966 & 1.963737  & 0.001    \\\\\n",
       "\tResidual & 323       & 63.86583  & 0.6452552 &       NA  &    NA    \\\\\n",
       "\tTotal & 365       & 98.97763  & 1.0000000 &       NA  &    NA    \\\\\n",
       "\\end{tabular}\n"
      ],
      "text/markdown": [
       "\n",
       "| <!--/--> | Df | SumOfSqs | R2 | F | Pr(>F) |\n",
       "|---|---|---|---|---|---|\n",
       "| Site_name |  15       | 11.27658  | 0.1139306 | 3.802071  | 0.001     |\n",
       "| Host_species |  26       | 10.09538  | 0.1019966 | 1.963737  | 0.001     |\n",
       "| Residual | 323       | 63.86583  | 0.6452552 |       NA  |    NA     |\n",
       "| Total | 365       | 98.97763  | 1.0000000 |       NA  |    NA     |\n",
       "\n"
      ],
      "text/plain": [
       "             Df  SumOfSqs R2        F        Pr(>F)\n",
       "Site_name     15 11.27658 0.1139306 3.802071 0.001 \n",
       "Host_species  26 10.09538 0.1019966 1.963737 0.001 \n",
       "Residual     323 63.86583 0.6452552       NA    NA \n",
       "Total        365 98.97763 1.0000000       NA    NA "
      ]
     },
     "metadata": {},
     "output_type": "display_data"
    },
    {
     "data": {
      "text/html": [
       "<table>\n",
       "<thead><tr><th></th><th scope=col>Df</th><th scope=col>SumOfSqs</th><th scope=col>R2</th><th scope=col>F</th><th scope=col>Pr(&gt;F)</th></tr></thead>\n",
       "<tbody>\n",
       "\t<tr><th scope=row>Age</th><td>  2        </td><td> 2.0494844 </td><td>0.020706542</td><td> 4.017894  </td><td>0.001      </td></tr>\n",
       "\t<tr><th scope=row>Sex</th><td>  1        </td><td> 0.3358454 </td><td>0.003393144</td><td> 1.316810  </td><td>0.052      </td></tr>\n",
       "\t<tr><th scope=row>Weight</th><td>  1        </td><td> 3.3240358 </td><td>0.033583709</td><td>13.033154  </td><td>0.001      </td></tr>\n",
       "\t<tr><th scope=row>Residual</th><td>361        </td><td>92.0711063 </td><td>0.930221404</td><td>       NA  </td><td>   NA      </td></tr>\n",
       "\t<tr><th scope=row>Total</th><td>365        </td><td>98.9776260 </td><td>1.000000000</td><td>       NA  </td><td>   NA      </td></tr>\n",
       "</tbody>\n",
       "</table>\n"
      ],
      "text/latex": [
       "\\begin{tabular}{r|lllll}\n",
       "  & Df & SumOfSqs & R2 & F & Pr(>F)\\\\\n",
       "\\hline\n",
       "\tAge &   2         &  2.0494844  & 0.020706542 &  4.017894   & 0.001      \\\\\n",
       "\tSex &   1         &  0.3358454  & 0.003393144 &  1.316810   & 0.052      \\\\\n",
       "\tWeight &   1         &  3.3240358  & 0.033583709 & 13.033154   & 0.001      \\\\\n",
       "\tResidual & 361         & 92.0711063  & 0.930221404 &        NA   &    NA      \\\\\n",
       "\tTotal & 365         & 98.9776260  & 1.000000000 &        NA   &    NA      \\\\\n",
       "\\end{tabular}\n"
      ],
      "text/markdown": [
       "\n",
       "| <!--/--> | Df | SumOfSqs | R2 | F | Pr(>F) |\n",
       "|---|---|---|---|---|---|\n",
       "| Age |   2         |  2.0494844  | 0.020706542 |  4.017894   | 0.001       |\n",
       "| Sex |   1         |  0.3358454  | 0.003393144 |  1.316810   | 0.052       |\n",
       "| Weight |   1         |  3.3240358  | 0.033583709 | 13.033154   | 0.001       |\n",
       "| Residual | 361         | 92.0711063  | 0.930221404 |        NA   |    NA       |\n",
       "| Total | 365         | 98.9776260  | 1.000000000 |        NA   |    NA       |\n",
       "\n"
      ],
      "text/plain": [
       "         Df  SumOfSqs   R2          F         Pr(>F)\n",
       "Age        2  2.0494844 0.020706542  4.017894 0.001 \n",
       "Sex        1  0.3358454 0.003393144  1.316810 0.052 \n",
       "Weight     1  3.3240358 0.033583709 13.033154 0.001 \n",
       "Residual 361 92.0711063 0.930221404        NA    NA \n",
       "Total    365 98.9776260 1.000000000        NA    NA "
      ]
     },
     "metadata": {},
     "output_type": "display_data"
    }
   ],
   "source": [
    "# SKIN\n",
    "adonis2(skin.unif ~ Site_name, nperm=999, data=skin.df)\n",
    "adonis2(skin.unif ~ Diet, strata = Site_name, nperm=999, data=skin.df)\n",
    "adonis2(skin.unif ~ Site_name + Host_species, by=\"margin\", nperm=999, data=skin.df)\n",
    "adonis2(skin.unif ~ Age + Sex + Weight, strata = Host_species, by=\"margin\", nperm=999, data=skin.df)"
   ]
  },
  {
   "cell_type": "code",
   "execution_count": 38,
   "metadata": {},
   "outputs": [
    {
     "data": {
      "text/html": [
       "<ol class=list-inline>\n",
       "\t<li>0.0015</li>\n",
       "\t<li>0.148</li>\n",
       "\t<li>0.0015</li>\n",
       "</ol>\n"
      ],
      "text/latex": [
       "\\begin{enumerate*}\n",
       "\\item 0.0015\n",
       "\\item 0.148\n",
       "\\item 0.0015\n",
       "\\end{enumerate*}\n"
      ],
      "text/markdown": [
       "1. 0.0015\n",
       "2. 0.148\n",
       "3. 0.0015\n",
       "\n",
       "\n"
      ],
      "text/plain": [
       "[1] 0.0015 0.1480 0.0015"
      ]
     },
     "metadata": {},
     "output_type": "display_data"
    }
   ],
   "source": [
    "#FDR p-value correction\n",
    "p = c(\"0.001\",\"0.148\",\"0.001\")\n",
    "p.adjust(p, method = \"fdr\", n = length(p))"
   ]
  },
  {
   "cell_type": "markdown",
   "metadata": {},
   "source": [
    "### Restricting samples to species for which N >= 10"
   ]
  },
  {
   "cell_type": "code",
   "execution_count": 6,
   "metadata": {},
   "outputs": [],
   "source": [
    "fecal.10.unif = readRDS(\"/gpfs/data/gilbert-lab/Lutz/Batmicrobiome/Nature_data_results/Bdiv/nona_updates_19April2019/fecal.10.nona.unif.rds\")\n",
    "oral.10.unif = readRDS(\"/gpfs/data/gilbert-lab/Lutz/Batmicrobiome/Nature_data_results/Bdiv/nona_updates_19April2019/oral.10.nona.unif.rds\")\n",
    "skin.10.unif = readRDS(\"/gpfs/data/gilbert-lab/Lutz/Batmicrobiome/Nature_data_results/Bdiv/nona_updates_19April2019/skin.10.nona.unif.rds\")\n"
   ]
  },
  {
   "cell_type": "code",
   "execution_count": 3,
   "metadata": {},
   "outputs": [],
   "source": [
    "batfecal.10.df = read.csv(\"/gpfs/data/gilbert-lab/Lutz/Batmicrobiome/Nature_data_results/CSVfiles/batfecal.10.df.csv\")\n",
    "batoral.10.df = read.csv(\"/gpfs/data/gilbert-lab/Lutz/Batmicrobiome/Nature_data_results/CSVfiles/batoral.10.df.csv\")\n",
    "batskin.10.df = read.csv(\"/gpfs/data/gilbert-lab/Lutz/Batmicrobiome/Nature_data_results/CSVfiles/batskin.10.df.csv\")\n"
   ]
  },
  {
   "cell_type": "code",
   "execution_count": 17,
   "metadata": {},
   "outputs": [
    {
     "data": {
      "text/html": [
       "17"
      ],
      "text/latex": [
       "17"
      ],
      "text/markdown": [
       "17"
      ],
      "text/plain": [
       "[1] 17"
      ]
     },
     "metadata": {},
     "output_type": "display_data"
    },
    {
     "data": {
      "text/html": [
       "17"
      ],
      "text/latex": [
       "17"
      ],
      "text/markdown": [
       "17"
      ],
      "text/plain": [
       "[1] 17"
      ]
     },
     "metadata": {},
     "output_type": "display_data"
    },
    {
     "data": {
      "text/html": [
       "17"
      ],
      "text/latex": [
       "17"
      ],
      "text/markdown": [
       "17"
      ],
      "text/plain": [
       "[1] 17"
      ]
     },
     "metadata": {},
     "output_type": "display_data"
    }
   ],
   "source": [
    "df1 <- uniqueN(batfecal.10.df$Host_species)\n",
    "df1\n",
    "\n",
    "df2 <- uniqueN(batoral.10.df$Host_species)\n",
    "df2\n",
    "\n",
    "df3 <- uniqueN(batskin.10.df$Host_species)\n",
    "df3"
   ]
  },
  {
   "cell_type": "markdown",
   "metadata": {},
   "source": [
    "#### FECAL"
   ]
  },
  {
   "cell_type": "code",
   "execution_count": 9,
   "metadata": {},
   "outputs": [
    {
     "data": {
      "text/html": [
       "<table>\n",
       "<thead><tr><th></th><th scope=col>Df</th><th scope=col>SumOfSqs</th><th scope=col>R2</th><th scope=col>F</th><th scope=col>Pr(&gt;F)</th></tr></thead>\n",
       "<tbody>\n",
       "\t<tr><th scope=row>Host_Family</th><td>  7       </td><td> 5.955237 </td><td>0.07605842</td><td>3.680858  </td><td>0.001     </td></tr>\n",
       "\t<tr><th scope=row>Residual</th><td>313       </td><td>72.342963 </td><td>0.92394158</td><td>      NA  </td><td>   NA     </td></tr>\n",
       "\t<tr><th scope=row>Total</th><td>320       </td><td>78.298200 </td><td>1.00000000</td><td>      NA  </td><td>   NA     </td></tr>\n",
       "</tbody>\n",
       "</table>\n"
      ],
      "text/latex": [
       "\\begin{tabular}{r|lllll}\n",
       "  & Df & SumOfSqs & R2 & F & Pr(>F)\\\\\n",
       "\\hline\n",
       "\tHost\\_Family &   7        &  5.955237  & 0.07605842 & 3.680858   & 0.001     \\\\\n",
       "\tResidual & 313        & 72.342963  & 0.92394158 &       NA   &    NA     \\\\\n",
       "\tTotal & 320        & 78.298200  & 1.00000000 &       NA   &    NA     \\\\\n",
       "\\end{tabular}\n"
      ],
      "text/markdown": [
       "\n",
       "| <!--/--> | Df | SumOfSqs | R2 | F | Pr(>F) |\n",
       "|---|---|---|---|---|---|\n",
       "| Host_Family |   7        |  5.955237  | 0.07605842 | 3.680858   | 0.001      |\n",
       "| Residual | 313        | 72.342963  | 0.92394158 |       NA   |    NA      |\n",
       "| Total | 320        | 78.298200  | 1.00000000 |       NA   |    NA      |\n",
       "\n"
      ],
      "text/plain": [
       "            Df  SumOfSqs  R2         F        Pr(>F)\n",
       "Host_Family   7  5.955237 0.07605842 3.680858 0.001 \n",
       "Residual    313 72.342963 0.92394158       NA    NA \n",
       "Total       320 78.298200 1.00000000       NA    NA "
      ]
     },
     "metadata": {},
     "output_type": "display_data"
    },
    {
     "data": {
      "text/html": [
       "<table>\n",
       "<thead><tr><th></th><th scope=col>Df</th><th scope=col>SumOfSqs</th><th scope=col>R2</th><th scope=col>F</th><th scope=col>Pr(&gt;F)</th></tr></thead>\n",
       "<tbody>\n",
       "\t<tr><th scope=row>Host_Family:Host_Genus</th><td>  9      </td><td> 8.154292</td><td>0.1041441</td><td>4.017114 </td><td>0.001    </td></tr>\n",
       "\t<tr><th scope=row>Residual</th><td>311      </td><td>70.143908</td><td>0.8958559</td><td>      NA </td><td>   NA    </td></tr>\n",
       "\t<tr><th scope=row>Total</th><td>320      </td><td>78.298200</td><td>1.0000000</td><td>      NA </td><td>   NA    </td></tr>\n",
       "</tbody>\n",
       "</table>\n"
      ],
      "text/latex": [
       "\\begin{tabular}{r|lllll}\n",
       "  & Df & SumOfSqs & R2 & F & Pr(>F)\\\\\n",
       "\\hline\n",
       "\tHost\\_Family:Host\\_Genus &   9       &  8.154292 & 0.1041441 & 4.017114  & 0.001    \\\\\n",
       "\tResidual & 311       & 70.143908 & 0.8958559 &       NA  &    NA    \\\\\n",
       "\tTotal & 320       & 78.298200 & 1.0000000 &       NA  &    NA    \\\\\n",
       "\\end{tabular}\n"
      ],
      "text/markdown": [
       "\n",
       "| <!--/--> | Df | SumOfSqs | R2 | F | Pr(>F) |\n",
       "|---|---|---|---|---|---|\n",
       "| Host_Family:Host_Genus |   9       |  8.154292 | 0.1041441 | 4.017114  | 0.001     |\n",
       "| Residual | 311       | 70.143908 | 0.8958559 |       NA  |    NA     |\n",
       "| Total | 320       | 78.298200 | 1.0000000 |       NA  |    NA     |\n",
       "\n"
      ],
      "text/plain": [
       "                       Df  SumOfSqs  R2        F        Pr(>F)\n",
       "Host_Family:Host_Genus   9  8.154292 0.1041441 4.017114 0.001 \n",
       "Residual               311 70.143908 0.8958559       NA    NA \n",
       "Total                  320 78.298200 1.0000000       NA    NA "
      ]
     },
     "metadata": {},
     "output_type": "display_data"
    },
    {
     "data": {
      "text/html": [
       "<table>\n",
       "<thead><tr><th></th><th scope=col>Df</th><th scope=col>SumOfSqs</th><th scope=col>R2</th><th scope=col>F</th><th scope=col>Pr(&gt;F)</th></tr></thead>\n",
       "<tbody>\n",
       "\t<tr><th scope=row>Host_Family:Host_Genus:Host_species</th><td> 16      </td><td>12.80635 </td><td>0.1635587</td><td>3.715282 </td><td>0.001    </td></tr>\n",
       "\t<tr><th scope=row>Residual</th><td>304      </td><td>65.49185 </td><td>0.8364413</td><td>      NA </td><td>   NA    </td></tr>\n",
       "\t<tr><th scope=row>Total</th><td>320      </td><td>78.29820 </td><td>1.0000000</td><td>      NA </td><td>   NA    </td></tr>\n",
       "</tbody>\n",
       "</table>\n"
      ],
      "text/latex": [
       "\\begin{tabular}{r|lllll}\n",
       "  & Df & SumOfSqs & R2 & F & Pr(>F)\\\\\n",
       "\\hline\n",
       "\tHost\\_Family:Host\\_Genus:Host\\_species &  16       & 12.80635  & 0.1635587 & 3.715282  & 0.001    \\\\\n",
       "\tResidual & 304       & 65.49185  & 0.8364413 &       NA  &    NA    \\\\\n",
       "\tTotal & 320       & 78.29820  & 1.0000000 &       NA  &    NA    \\\\\n",
       "\\end{tabular}\n"
      ],
      "text/markdown": [
       "\n",
       "| <!--/--> | Df | SumOfSqs | R2 | F | Pr(>F) |\n",
       "|---|---|---|---|---|---|\n",
       "| Host_Family:Host_Genus:Host_species |  16       | 12.80635  | 0.1635587 | 3.715282  | 0.001     |\n",
       "| Residual | 304       | 65.49185  | 0.8364413 |       NA  |    NA     |\n",
       "| Total | 320       | 78.29820  | 1.0000000 |       NA  |    NA     |\n",
       "\n"
      ],
      "text/plain": [
       "                                    Df  SumOfSqs R2        F        Pr(>F)\n",
       "Host_Family:Host_Genus:Host_species  16 12.80635 0.1635587 3.715282 0.001 \n",
       "Residual                            304 65.49185 0.8364413       NA    NA \n",
       "Total                               320 78.29820 1.0000000       NA    NA "
      ]
     },
     "metadata": {},
     "output_type": "display_data"
    }
   ],
   "source": [
    "adonis2(fecal.10.unif ~ Host_Family, nperm=999, data=batfecal.10.df)\n",
    "adonis2(fecal.10.unif ~ Host_Family:Host_Genus, nperm=999, data=batfecal.10.df)\n",
    "adonis2(fecal.10.unif ~ Host_Family:Host_Genus:Host_species, nperm=999, data=batfecal.10.df) "
   ]
  },
  {
   "cell_type": "code",
   "execution_count": 8,
   "metadata": {},
   "outputs": [
    {
     "data": {
      "text/html": [
       "<table>\n",
       "<thead><tr><th></th><th scope=col>Df</th><th scope=col>SumOfSqs</th><th scope=col>R2</th><th scope=col>F</th><th scope=col>Pr(&gt;F)</th></tr></thead>\n",
       "<tbody>\n",
       "\t<tr><th scope=row>Site_name</th><td> 14     </td><td>12.09981</td><td>0.154535</td><td>3.995072</td><td>0.001   </td></tr>\n",
       "\t<tr><th scope=row>Residual</th><td>306     </td><td>66.19839</td><td>0.845465</td><td>      NA</td><td>   NA   </td></tr>\n",
       "\t<tr><th scope=row>Total</th><td>320     </td><td>78.29820</td><td>1.000000</td><td>      NA</td><td>   NA   </td></tr>\n",
       "</tbody>\n",
       "</table>\n"
      ],
      "text/latex": [
       "\\begin{tabular}{r|lllll}\n",
       "  & Df & SumOfSqs & R2 & F & Pr(>F)\\\\\n",
       "\\hline\n",
       "\tSite\\_name &  14      & 12.09981 & 0.154535 & 3.995072 & 0.001   \\\\\n",
       "\tResidual & 306      & 66.19839 & 0.845465 &       NA &    NA   \\\\\n",
       "\tTotal & 320      & 78.29820 & 1.000000 &       NA &    NA   \\\\\n",
       "\\end{tabular}\n"
      ],
      "text/markdown": [
       "\n",
       "| <!--/--> | Df | SumOfSqs | R2 | F | Pr(>F) |\n",
       "|---|---|---|---|---|---|\n",
       "| Site_name |  14      | 12.09981 | 0.154535 | 3.995072 | 0.001    |\n",
       "| Residual | 306      | 66.19839 | 0.845465 |       NA |    NA    |\n",
       "| Total | 320      | 78.29820 | 1.000000 |       NA |    NA    |\n",
       "\n"
      ],
      "text/plain": [
       "          Df  SumOfSqs R2       F        Pr(>F)\n",
       "Site_name  14 12.09981 0.154535 3.995072 0.001 \n",
       "Residual  306 66.19839 0.845465       NA    NA \n",
       "Total     320 78.29820 1.000000       NA    NA "
      ]
     },
     "metadata": {},
     "output_type": "display_data"
    },
    {
     "data": {
      "text/html": [
       "<table>\n",
       "<thead><tr><th></th><th scope=col>Df</th><th scope=col>SumOfSqs</th><th scope=col>R2</th><th scope=col>F</th><th scope=col>Pr(&gt;F)</th></tr></thead>\n",
       "<tbody>\n",
       "\t<tr><th scope=row>Diet</th><td>  1       </td><td> 2.146411 </td><td>0.02741329</td><td>8.991321  </td><td>0.001     </td></tr>\n",
       "\t<tr><th scope=row>Residual</th><td>319       </td><td>76.151789 </td><td>0.97258671</td><td>      NA  </td><td>   NA     </td></tr>\n",
       "\t<tr><th scope=row>Total</th><td>320       </td><td>78.298200 </td><td>1.00000000</td><td>      NA  </td><td>   NA     </td></tr>\n",
       "</tbody>\n",
       "</table>\n"
      ],
      "text/latex": [
       "\\begin{tabular}{r|lllll}\n",
       "  & Df & SumOfSqs & R2 & F & Pr(>F)\\\\\n",
       "\\hline\n",
       "\tDiet &   1        &  2.146411  & 0.02741329 & 8.991321   & 0.001     \\\\\n",
       "\tResidual & 319        & 76.151789  & 0.97258671 &       NA   &    NA     \\\\\n",
       "\tTotal & 320        & 78.298200  & 1.00000000 &       NA   &    NA     \\\\\n",
       "\\end{tabular}\n"
      ],
      "text/markdown": [
       "\n",
       "| <!--/--> | Df | SumOfSqs | R2 | F | Pr(>F) |\n",
       "|---|---|---|---|---|---|\n",
       "| Diet |   1        |  2.146411  | 0.02741329 | 8.991321   | 0.001      |\n",
       "| Residual | 319        | 76.151789  | 0.97258671 |       NA   |    NA      |\n",
       "| Total | 320        | 78.298200  | 1.00000000 |       NA   |    NA      |\n",
       "\n"
      ],
      "text/plain": [
       "         Df  SumOfSqs  R2         F        Pr(>F)\n",
       "Diet       1  2.146411 0.02741329 8.991321 0.001 \n",
       "Residual 319 76.151789 0.97258671       NA    NA \n",
       "Total    320 78.298200 1.00000000       NA    NA "
      ]
     },
     "metadata": {},
     "output_type": "display_data"
    },
    {
     "data": {
      "text/html": [
       "<table>\n",
       "<thead><tr><th></th><th scope=col>Df</th><th scope=col>SumOfSqs</th><th scope=col>R2</th><th scope=col>F</th><th scope=col>Pr(&gt;F)</th></tr></thead>\n",
       "<tbody>\n",
       "\t<tr><th scope=row>Site_name</th><td> 13       </td><td> 6.819563 </td><td>0.08709731</td><td>2.601795  </td><td>0.001     </td></tr>\n",
       "\t<tr><th scope=row>Host_species</th><td> 15       </td><td> 7.526101 </td><td>0.09612099</td><td>2.488506  </td><td>0.001     </td></tr>\n",
       "\t<tr><th scope=row>Residual</th><td>291       </td><td>58.672287 </td><td>0.74934400</td><td>      NA  </td><td>   NA     </td></tr>\n",
       "\t<tr><th scope=row>Total</th><td>320       </td><td>78.298200 </td><td>1.00000000</td><td>      NA  </td><td>   NA     </td></tr>\n",
       "</tbody>\n",
       "</table>\n"
      ],
      "text/latex": [
       "\\begin{tabular}{r|lllll}\n",
       "  & Df & SumOfSqs & R2 & F & Pr(>F)\\\\\n",
       "\\hline\n",
       "\tSite\\_name &  13        &  6.819563  & 0.08709731 & 2.601795   & 0.001     \\\\\n",
       "\tHost\\_species &  15        &  7.526101  & 0.09612099 & 2.488506   & 0.001     \\\\\n",
       "\tResidual & 291        & 58.672287  & 0.74934400 &       NA   &    NA     \\\\\n",
       "\tTotal & 320        & 78.298200  & 1.00000000 &       NA   &    NA     \\\\\n",
       "\\end{tabular}\n"
      ],
      "text/markdown": [
       "\n",
       "| <!--/--> | Df | SumOfSqs | R2 | F | Pr(>F) |\n",
       "|---|---|---|---|---|---|\n",
       "| Site_name |  13        |  6.819563  | 0.08709731 | 2.601795   | 0.001      |\n",
       "| Host_species |  15        |  7.526101  | 0.09612099 | 2.488506   | 0.001      |\n",
       "| Residual | 291        | 58.672287  | 0.74934400 |       NA   |    NA      |\n",
       "| Total | 320        | 78.298200  | 1.00000000 |       NA   |    NA      |\n",
       "\n"
      ],
      "text/plain": [
       "             Df  SumOfSqs  R2         F        Pr(>F)\n",
       "Site_name     13  6.819563 0.08709731 2.601795 0.001 \n",
       "Host_species  15  7.526101 0.09612099 2.488506 0.001 \n",
       "Residual     291 58.672287 0.74934400       NA    NA \n",
       "Total        320 78.298200 1.00000000       NA    NA "
      ]
     },
     "metadata": {},
     "output_type": "display_data"
    },
    {
     "data": {
      "text/html": [
       "<table>\n",
       "<thead><tr><th></th><th scope=col>Df</th><th scope=col>SumOfSqs</th><th scope=col>R2</th><th scope=col>F</th><th scope=col>Pr(&gt;F)</th></tr></thead>\n",
       "<tbody>\n",
       "\t<tr><th scope=row>Age</th><td>  2       </td><td> 0.7916519</td><td>0.01011073</td><td>1.667426  </td><td>0.005     </td></tr>\n",
       "\t<tr><th scope=row>Sex</th><td>  1       </td><td> 0.5526092</td><td>0.00705775</td><td>2.327879  </td><td>0.004     </td></tr>\n",
       "\t<tr><th scope=row>Weight</th><td>  1       </td><td> 1.7520034</td><td>0.02237604</td><td>7.380355  </td><td>0.001     </td></tr>\n",
       "\t<tr><th scope=row>Residual</th><td>316       </td><td>75.0144303</td><td>0.95806072</td><td>      NA  </td><td>   NA     </td></tr>\n",
       "\t<tr><th scope=row>Total</th><td>320       </td><td>78.2982001</td><td>1.00000000</td><td>      NA  </td><td>   NA     </td></tr>\n",
       "</tbody>\n",
       "</table>\n"
      ],
      "text/latex": [
       "\\begin{tabular}{r|lllll}\n",
       "  & Df & SumOfSqs & R2 & F & Pr(>F)\\\\\n",
       "\\hline\n",
       "\tAge &   2        &  0.7916519 & 0.01011073 & 1.667426   & 0.005     \\\\\n",
       "\tSex &   1        &  0.5526092 & 0.00705775 & 2.327879   & 0.004     \\\\\n",
       "\tWeight &   1        &  1.7520034 & 0.02237604 & 7.380355   & 0.001     \\\\\n",
       "\tResidual & 316        & 75.0144303 & 0.95806072 &       NA   &    NA     \\\\\n",
       "\tTotal & 320        & 78.2982001 & 1.00000000 &       NA   &    NA     \\\\\n",
       "\\end{tabular}\n"
      ],
      "text/markdown": [
       "\n",
       "| <!--/--> | Df | SumOfSqs | R2 | F | Pr(>F) |\n",
       "|---|---|---|---|---|---|\n",
       "| Age |   2        |  0.7916519 | 0.01011073 | 1.667426   | 0.005      |\n",
       "| Sex |   1        |  0.5526092 | 0.00705775 | 2.327879   | 0.004      |\n",
       "| Weight |   1        |  1.7520034 | 0.02237604 | 7.380355   | 0.001      |\n",
       "| Residual | 316        | 75.0144303 | 0.95806072 |       NA   |    NA      |\n",
       "| Total | 320        | 78.2982001 | 1.00000000 |       NA   |    NA      |\n",
       "\n"
      ],
      "text/plain": [
       "         Df  SumOfSqs   R2         F        Pr(>F)\n",
       "Age        2  0.7916519 0.01011073 1.667426 0.005 \n",
       "Sex        1  0.5526092 0.00705775 2.327879 0.004 \n",
       "Weight     1  1.7520034 0.02237604 7.380355 0.001 \n",
       "Residual 316 75.0144303 0.95806072       NA    NA \n",
       "Total    320 78.2982001 1.00000000       NA    NA "
      ]
     },
     "metadata": {},
     "output_type": "display_data"
    }
   ],
   "source": [
    "adonis2(fecal.10.unif ~ Site_name, nperm=999, data=batfecal.10.df)\n",
    "adonis2(fecal.10.unif ~ Diet, strata=Site_name, nperm=999, data=batfecal.10.df)\n",
    "adonis2(fecal.10.unif ~ Site_name + Host_species, by=\"margin\", nperm=999, data=batfecal.10.df)\n",
    "adonis2(fecal.10.unif ~ Age + Sex + Weight, strata = Host_species, by=\"margin\", nperm=999, data=batfecal.10.df)"
   ]
  },
  {
   "cell_type": "code",
   "execution_count": 15,
   "metadata": {},
   "outputs": [
    {
     "data": {
      "text/html": [
       "<ol class=list-inline>\n",
       "\t<li>0.005</li>\n",
       "\t<li>0.005</li>\n",
       "\t<li>0.003</li>\n",
       "</ol>\n"
      ],
      "text/latex": [
       "\\begin{enumerate*}\n",
       "\\item 0.005\n",
       "\\item 0.005\n",
       "\\item 0.003\n",
       "\\end{enumerate*}\n"
      ],
      "text/markdown": [
       "1. 0.005\n",
       "2. 0.005\n",
       "3. 0.003\n",
       "\n",
       "\n"
      ],
      "text/plain": [
       "[1] 0.005 0.005 0.003"
      ]
     },
     "metadata": {},
     "output_type": "display_data"
    }
   ],
   "source": [
    "#FDR p-value correction\n",
    "p = c(\"0.005\",\"0.004\",\"0.001\")\n",
    "p.adjust(p, method = \"fdr\", n = length(p))"
   ]
  },
  {
   "cell_type": "markdown",
   "metadata": {},
   "source": [
    "#### ORAL"
   ]
  },
  {
   "cell_type": "code",
   "execution_count": 12,
   "metadata": {},
   "outputs": [
    {
     "data": {
      "text/html": [
       "<table>\n",
       "<thead><tr><th></th><th scope=col>Df</th><th scope=col>SumOfSqs</th><th scope=col>R2</th><th scope=col>F</th><th scope=col>Pr(&gt;F)</th></tr></thead>\n",
       "<tbody>\n",
       "\t<tr><th scope=row>Host_Family</th><td>  7      </td><td> 9.232999</td><td>0.1140388</td><td>5.093537 </td><td>0.001    </td></tr>\n",
       "\t<tr><th scope=row>Residual</th><td>277      </td><td>71.730695</td><td>0.8859612</td><td>      NA </td><td>   NA    </td></tr>\n",
       "\t<tr><th scope=row>Total</th><td>284      </td><td>80.963694</td><td>1.0000000</td><td>      NA </td><td>   NA    </td></tr>\n",
       "</tbody>\n",
       "</table>\n"
      ],
      "text/latex": [
       "\\begin{tabular}{r|lllll}\n",
       "  & Df & SumOfSqs & R2 & F & Pr(>F)\\\\\n",
       "\\hline\n",
       "\tHost\\_Family &   7       &  9.232999 & 0.1140388 & 5.093537  & 0.001    \\\\\n",
       "\tResidual & 277       & 71.730695 & 0.8859612 &       NA  &    NA    \\\\\n",
       "\tTotal & 284       & 80.963694 & 1.0000000 &       NA  &    NA    \\\\\n",
       "\\end{tabular}\n"
      ],
      "text/markdown": [
       "\n",
       "| <!--/--> | Df | SumOfSqs | R2 | F | Pr(>F) |\n",
       "|---|---|---|---|---|---|\n",
       "| Host_Family |   7       |  9.232999 | 0.1140388 | 5.093537  | 0.001     |\n",
       "| Residual | 277       | 71.730695 | 0.8859612 |       NA  |    NA     |\n",
       "| Total | 284       | 80.963694 | 1.0000000 |       NA  |    NA     |\n",
       "\n"
      ],
      "text/plain": [
       "            Df  SumOfSqs  R2        F        Pr(>F)\n",
       "Host_Family   7  9.232999 0.1140388 5.093537 0.001 \n",
       "Residual    277 71.730695 0.8859612       NA    NA \n",
       "Total       284 80.963694 1.0000000       NA    NA "
      ]
     },
     "metadata": {},
     "output_type": "display_data"
    },
    {
     "data": {
      "text/html": [
       "<table>\n",
       "<thead><tr><th></th><th scope=col>Df</th><th scope=col>SumOfSqs</th><th scope=col>R2</th><th scope=col>F</th><th scope=col>Pr(&gt;F)</th></tr></thead>\n",
       "<tbody>\n",
       "\t<tr><th scope=row>Host_Family:Host_Genus</th><td>  9      </td><td>11.85324 </td><td>0.1464019</td><td>5.240631 </td><td>0.001    </td></tr>\n",
       "\t<tr><th scope=row>Residual</th><td>275      </td><td>69.11045 </td><td>0.8535981</td><td>      NA </td><td>   NA    </td></tr>\n",
       "\t<tr><th scope=row>Total</th><td>284      </td><td>80.96369 </td><td>1.0000000</td><td>      NA </td><td>   NA    </td></tr>\n",
       "</tbody>\n",
       "</table>\n"
      ],
      "text/latex": [
       "\\begin{tabular}{r|lllll}\n",
       "  & Df & SumOfSqs & R2 & F & Pr(>F)\\\\\n",
       "\\hline\n",
       "\tHost\\_Family:Host\\_Genus &   9       & 11.85324  & 0.1464019 & 5.240631  & 0.001    \\\\\n",
       "\tResidual & 275       & 69.11045  & 0.8535981 &       NA  &    NA    \\\\\n",
       "\tTotal & 284       & 80.96369  & 1.0000000 &       NA  &    NA    \\\\\n",
       "\\end{tabular}\n"
      ],
      "text/markdown": [
       "\n",
       "| <!--/--> | Df | SumOfSqs | R2 | F | Pr(>F) |\n",
       "|---|---|---|---|---|---|\n",
       "| Host_Family:Host_Genus |   9       | 11.85324  | 0.1464019 | 5.240631  | 0.001     |\n",
       "| Residual | 275       | 69.11045  | 0.8535981 |       NA  |    NA     |\n",
       "| Total | 284       | 80.96369  | 1.0000000 |       NA  |    NA     |\n",
       "\n"
      ],
      "text/plain": [
       "                       Df  SumOfSqs R2        F        Pr(>F)\n",
       "Host_Family:Host_Genus   9 11.85324 0.1464019 5.240631 0.001 \n",
       "Residual               275 69.11045 0.8535981       NA    NA \n",
       "Total                  284 80.96369 1.0000000       NA    NA "
      ]
     },
     "metadata": {},
     "output_type": "display_data"
    },
    {
     "data": {
      "text/html": [
       "<table>\n",
       "<thead><tr><th></th><th scope=col>Df</th><th scope=col>SumOfSqs</th><th scope=col>R2</th><th scope=col>F</th><th scope=col>Pr(&gt;F)</th></tr></thead>\n",
       "<tbody>\n",
       "\t<tr><th scope=row>Host_Family:Host_Genus:Host_species</th><td> 16      </td><td>16.99788 </td><td>0.2099445</td><td>4.451043 </td><td>0.001    </td></tr>\n",
       "\t<tr><th scope=row>Residual</th><td>268      </td><td>63.96581 </td><td>0.7900555</td><td>      NA </td><td>   NA    </td></tr>\n",
       "\t<tr><th scope=row>Total</th><td>284      </td><td>80.96369 </td><td>1.0000000</td><td>      NA </td><td>   NA    </td></tr>\n",
       "</tbody>\n",
       "</table>\n"
      ],
      "text/latex": [
       "\\begin{tabular}{r|lllll}\n",
       "  & Df & SumOfSqs & R2 & F & Pr(>F)\\\\\n",
       "\\hline\n",
       "\tHost\\_Family:Host\\_Genus:Host\\_species &  16       & 16.99788  & 0.2099445 & 4.451043  & 0.001    \\\\\n",
       "\tResidual & 268       & 63.96581  & 0.7900555 &       NA  &    NA    \\\\\n",
       "\tTotal & 284       & 80.96369  & 1.0000000 &       NA  &    NA    \\\\\n",
       "\\end{tabular}\n"
      ],
      "text/markdown": [
       "\n",
       "| <!--/--> | Df | SumOfSqs | R2 | F | Pr(>F) |\n",
       "|---|---|---|---|---|---|\n",
       "| Host_Family:Host_Genus:Host_species |  16       | 16.99788  | 0.2099445 | 4.451043  | 0.001     |\n",
       "| Residual | 268       | 63.96581  | 0.7900555 |       NA  |    NA     |\n",
       "| Total | 284       | 80.96369  | 1.0000000 |       NA  |    NA     |\n",
       "\n"
      ],
      "text/plain": [
       "                                    Df  SumOfSqs R2        F        Pr(>F)\n",
       "Host_Family:Host_Genus:Host_species  16 16.99788 0.2099445 4.451043 0.001 \n",
       "Residual                            268 63.96581 0.7900555       NA    NA \n",
       "Total                               284 80.96369 1.0000000       NA    NA "
      ]
     },
     "metadata": {},
     "output_type": "display_data"
    }
   ],
   "source": [
    "adonis2(oral.10.unif ~ Host_Family, nperm=999, data=batoral.10.df)\n",
    "adonis2(oral.10.unif ~ Host_Family:Host_Genus, nperm=999, data=batoral.10.df)\n",
    "adonis2(oral.10.unif ~ Host_Family:Host_Genus:Host_species, nperm=999, data=batoral.10.df)"
   ]
  },
  {
   "cell_type": "code",
   "execution_count": 9,
   "metadata": {},
   "outputs": [
    {
     "data": {
      "text/html": [
       "<table>\n",
       "<thead><tr><th></th><th scope=col>Df</th><th scope=col>SumOfSqs</th><th scope=col>R2</th><th scope=col>F</th><th scope=col>Pr(&gt;F)</th></tr></thead>\n",
       "<tbody>\n",
       "\t<tr><th scope=row>Site_name</th><td> 13      </td><td>15.70977 </td><td>0.1940347</td><td>5.018674 </td><td>0.001    </td></tr>\n",
       "\t<tr><th scope=row>Residual</th><td>271      </td><td>65.25393 </td><td>0.8059653</td><td>      NA </td><td>   NA    </td></tr>\n",
       "\t<tr><th scope=row>Total</th><td>284      </td><td>80.96369 </td><td>1.0000000</td><td>      NA </td><td>   NA    </td></tr>\n",
       "</tbody>\n",
       "</table>\n"
      ],
      "text/latex": [
       "\\begin{tabular}{r|lllll}\n",
       "  & Df & SumOfSqs & R2 & F & Pr(>F)\\\\\n",
       "\\hline\n",
       "\tSite\\_name &  13       & 15.70977  & 0.1940347 & 5.018674  & 0.001    \\\\\n",
       "\tResidual & 271       & 65.25393  & 0.8059653 &       NA  &    NA    \\\\\n",
       "\tTotal & 284       & 80.96369  & 1.0000000 &       NA  &    NA    \\\\\n",
       "\\end{tabular}\n"
      ],
      "text/markdown": [
       "\n",
       "| <!--/--> | Df | SumOfSqs | R2 | F | Pr(>F) |\n",
       "|---|---|---|---|---|---|\n",
       "| Site_name |  13       | 15.70977  | 0.1940347 | 5.018674  | 0.001     |\n",
       "| Residual | 271       | 65.25393  | 0.8059653 |       NA  |    NA     |\n",
       "| Total | 284       | 80.96369  | 1.0000000 |       NA  |    NA     |\n",
       "\n"
      ],
      "text/plain": [
       "          Df  SumOfSqs R2        F        Pr(>F)\n",
       "Site_name  13 15.70977 0.1940347 5.018674 0.001 \n",
       "Residual  271 65.25393 0.8059653       NA    NA \n",
       "Total     284 80.96369 1.0000000       NA    NA "
      ]
     },
     "metadata": {},
     "output_type": "display_data"
    },
    {
     "data": {
      "text/html": [
       "<table>\n",
       "<thead><tr><th></th><th scope=col>Df</th><th scope=col>SumOfSqs</th><th scope=col>R2</th><th scope=col>F</th><th scope=col>Pr(&gt;F)</th></tr></thead>\n",
       "<tbody>\n",
       "\t<tr><th scope=row>Diet</th><td>  1       </td><td> 1.93149  </td><td>0.02385625</td><td>6.916317  </td><td>0.001     </td></tr>\n",
       "\t<tr><th scope=row>Residual</th><td>283       </td><td>79.03220  </td><td>0.97614375</td><td>      NA  </td><td>   NA     </td></tr>\n",
       "\t<tr><th scope=row>Total</th><td>284       </td><td>80.96369  </td><td>1.00000000</td><td>      NA  </td><td>   NA     </td></tr>\n",
       "</tbody>\n",
       "</table>\n"
      ],
      "text/latex": [
       "\\begin{tabular}{r|lllll}\n",
       "  & Df & SumOfSqs & R2 & F & Pr(>F)\\\\\n",
       "\\hline\n",
       "\tDiet &   1        &  1.93149   & 0.02385625 & 6.916317   & 0.001     \\\\\n",
       "\tResidual & 283        & 79.03220   & 0.97614375 &       NA   &    NA     \\\\\n",
       "\tTotal & 284        & 80.96369   & 1.00000000 &       NA   &    NA     \\\\\n",
       "\\end{tabular}\n"
      ],
      "text/markdown": [
       "\n",
       "| <!--/--> | Df | SumOfSqs | R2 | F | Pr(>F) |\n",
       "|---|---|---|---|---|---|\n",
       "| Diet |   1        |  1.93149   | 0.02385625 | 6.916317   | 0.001      |\n",
       "| Residual | 283        | 79.03220   | 0.97614375 |       NA   |    NA      |\n",
       "| Total | 284        | 80.96369   | 1.00000000 |       NA   |    NA      |\n",
       "\n"
      ],
      "text/plain": [
       "         Df  SumOfSqs R2         F        Pr(>F)\n",
       "Diet       1  1.93149 0.02385625 6.916317 0.001 \n",
       "Residual 283 79.03220 0.97614375       NA    NA \n",
       "Total    284 80.96369 1.00000000       NA    NA "
      ]
     },
     "metadata": {},
     "output_type": "display_data"
    },
    {
     "data": {
      "text/html": [
       "<table>\n",
       "<thead><tr><th></th><th scope=col>Df</th><th scope=col>SumOfSqs</th><th scope=col>R2</th><th scope=col>F</th><th scope=col>Pr(&gt;F)</th></tr></thead>\n",
       "<tbody>\n",
       "\t<tr><th scope=row>Site_name</th><td> 12       </td><td> 7.390125 </td><td>0.09127702</td><td>2.786639  </td><td>0.001     </td></tr>\n",
       "\t<tr><th scope=row>Host_species</th><td> 15       </td><td> 8.678244 </td><td>0.10718686</td><td>2.617886  </td><td>0.001     </td></tr>\n",
       "\t<tr><th scope=row>Residual</th><td>256       </td><td>56.575685 </td><td>0.69877845</td><td>      NA  </td><td>   NA     </td></tr>\n",
       "\t<tr><th scope=row>Total</th><td>284       </td><td>80.963694 </td><td>1.00000000</td><td>      NA  </td><td>   NA     </td></tr>\n",
       "</tbody>\n",
       "</table>\n"
      ],
      "text/latex": [
       "\\begin{tabular}{r|lllll}\n",
       "  & Df & SumOfSqs & R2 & F & Pr(>F)\\\\\n",
       "\\hline\n",
       "\tSite\\_name &  12        &  7.390125  & 0.09127702 & 2.786639   & 0.001     \\\\\n",
       "\tHost\\_species &  15        &  8.678244  & 0.10718686 & 2.617886   & 0.001     \\\\\n",
       "\tResidual & 256        & 56.575685  & 0.69877845 &       NA   &    NA     \\\\\n",
       "\tTotal & 284        & 80.963694  & 1.00000000 &       NA   &    NA     \\\\\n",
       "\\end{tabular}\n"
      ],
      "text/markdown": [
       "\n",
       "| <!--/--> | Df | SumOfSqs | R2 | F | Pr(>F) |\n",
       "|---|---|---|---|---|---|\n",
       "| Site_name |  12        |  7.390125  | 0.09127702 | 2.786639   | 0.001      |\n",
       "| Host_species |  15        |  8.678244  | 0.10718686 | 2.617886   | 0.001      |\n",
       "| Residual | 256        | 56.575685  | 0.69877845 |       NA   |    NA      |\n",
       "| Total | 284        | 80.963694  | 1.00000000 |       NA   |    NA      |\n",
       "\n"
      ],
      "text/plain": [
       "             Df  SumOfSqs  R2         F        Pr(>F)\n",
       "Site_name     12  7.390125 0.09127702 2.786639 0.001 \n",
       "Host_species  15  8.678244 0.10718686 2.617886 0.001 \n",
       "Residual     256 56.575685 0.69877845       NA    NA \n",
       "Total        284 80.963694 1.00000000       NA    NA "
      ]
     },
     "metadata": {},
     "output_type": "display_data"
    },
    {
     "data": {
      "text/html": [
       "<table>\n",
       "<thead><tr><th></th><th scope=col>Df</th><th scope=col>SumOfSqs</th><th scope=col>R2</th><th scope=col>F</th><th scope=col>Pr(&gt;F)</th></tr></thead>\n",
       "<tbody>\n",
       "\t<tr><th scope=row>Age</th><td>  2       </td><td> 1.5575781</td><td>0.01923798</td><td>2.820325  </td><td>0.001     </td></tr>\n",
       "\t<tr><th scope=row>Sex</th><td>  1       </td><td> 0.2775428</td><td>0.00342799</td><td>1.005100  </td><td>0.406     </td></tr>\n",
       "\t<tr><th scope=row>Weight</th><td>  1       </td><td> 1.7137020</td><td>0.02116630</td><td>6.206042  </td><td>0.001     </td></tr>\n",
       "\t<tr><th scope=row>Residual</th><td>280       </td><td>77.3176505</td><td>0.95496693</td><td>      NA  </td><td>   NA     </td></tr>\n",
       "\t<tr><th scope=row>Total</th><td>284       </td><td>80.9636944</td><td>1.00000000</td><td>      NA  </td><td>   NA     </td></tr>\n",
       "</tbody>\n",
       "</table>\n"
      ],
      "text/latex": [
       "\\begin{tabular}{r|lllll}\n",
       "  & Df & SumOfSqs & R2 & F & Pr(>F)\\\\\n",
       "\\hline\n",
       "\tAge &   2        &  1.5575781 & 0.01923798 & 2.820325   & 0.001     \\\\\n",
       "\tSex &   1        &  0.2775428 & 0.00342799 & 1.005100   & 0.406     \\\\\n",
       "\tWeight &   1        &  1.7137020 & 0.02116630 & 6.206042   & 0.001     \\\\\n",
       "\tResidual & 280        & 77.3176505 & 0.95496693 &       NA   &    NA     \\\\\n",
       "\tTotal & 284        & 80.9636944 & 1.00000000 &       NA   &    NA     \\\\\n",
       "\\end{tabular}\n"
      ],
      "text/markdown": [
       "\n",
       "| <!--/--> | Df | SumOfSqs | R2 | F | Pr(>F) |\n",
       "|---|---|---|---|---|---|\n",
       "| Age |   2        |  1.5575781 | 0.01923798 | 2.820325   | 0.001      |\n",
       "| Sex |   1        |  0.2775428 | 0.00342799 | 1.005100   | 0.406      |\n",
       "| Weight |   1        |  1.7137020 | 0.02116630 | 6.206042   | 0.001      |\n",
       "| Residual | 280        | 77.3176505 | 0.95496693 |       NA   |    NA      |\n",
       "| Total | 284        | 80.9636944 | 1.00000000 |       NA   |    NA      |\n",
       "\n"
      ],
      "text/plain": [
       "         Df  SumOfSqs   R2         F        Pr(>F)\n",
       "Age        2  1.5575781 0.01923798 2.820325 0.001 \n",
       "Sex        1  0.2775428 0.00342799 1.005100 0.406 \n",
       "Weight     1  1.7137020 0.02116630 6.206042 0.001 \n",
       "Residual 280 77.3176505 0.95496693       NA    NA \n",
       "Total    284 80.9636944 1.00000000       NA    NA "
      ]
     },
     "metadata": {},
     "output_type": "display_data"
    }
   ],
   "source": [
    "adonis2(oral.10.unif ~ Site_name, nperm=999, data=batoral.10.df)\n",
    "adonis2(oral.10.unif ~ Diet, strata=Site_name, nperm=999, data=batoral.10.df)\n",
    "adonis2(oral.10.unif ~ Site_name + Host_species, by=\"margin\", nperm=999, data=batoral.10.df)\n",
    "adonis2(oral.10.unif ~ Age + Sex + Weight, strata = Host_species, by=\"margin\", nperm=999, data=batoral.10.df)"
   ]
  },
  {
   "cell_type": "code",
   "execution_count": 16,
   "metadata": {},
   "outputs": [
    {
     "data": {
      "text/html": [
       "<ol class=list-inline>\n",
       "\t<li>0.0015</li>\n",
       "\t<li>0.406</li>\n",
       "\t<li>0.0015</li>\n",
       "</ol>\n"
      ],
      "text/latex": [
       "\\begin{enumerate*}\n",
       "\\item 0.0015\n",
       "\\item 0.406\n",
       "\\item 0.0015\n",
       "\\end{enumerate*}\n"
      ],
      "text/markdown": [
       "1. 0.0015\n",
       "2. 0.406\n",
       "3. 0.0015\n",
       "\n",
       "\n"
      ],
      "text/plain": [
       "[1] 0.0015 0.4060 0.0015"
      ]
     },
     "metadata": {},
     "output_type": "display_data"
    }
   ],
   "source": [
    "#FDR p-value correction\n",
    "p = c(\"0.001\",\"0.406\",\"0.001\")\n",
    "p.adjust(p, method = \"fdr\", n = length(p))"
   ]
  },
  {
   "cell_type": "markdown",
   "metadata": {},
   "source": [
    "#### SKIN"
   ]
  },
  {
   "cell_type": "code",
   "execution_count": 15,
   "metadata": {},
   "outputs": [
    {
     "data": {
      "text/html": [
       "<table>\n",
       "<thead><tr><th></th><th scope=col>Df</th><th scope=col>SumOfSqs</th><th scope=col>R2</th><th scope=col>F</th><th scope=col>Pr(&gt;F)</th></tr></thead>\n",
       "<tbody>\n",
       "\t<tr><th scope=row>Host_Family</th><td>  7      </td><td>10.75201 </td><td>0.1225568</td><td>6.445    </td><td>0.001    </td></tr>\n",
       "\t<tr><th scope=row>Residual</th><td>323      </td><td>76.97880 </td><td>0.8774432</td><td>   NA    </td><td>   NA    </td></tr>\n",
       "\t<tr><th scope=row>Total</th><td>330      </td><td>87.73080 </td><td>1.0000000</td><td>   NA    </td><td>   NA    </td></tr>\n",
       "</tbody>\n",
       "</table>\n"
      ],
      "text/latex": [
       "\\begin{tabular}{r|lllll}\n",
       "  & Df & SumOfSqs & R2 & F & Pr(>F)\\\\\n",
       "\\hline\n",
       "\tHost\\_Family &   7       & 10.75201  & 0.1225568 & 6.445     & 0.001    \\\\\n",
       "\tResidual & 323       & 76.97880  & 0.8774432 &    NA     &    NA    \\\\\n",
       "\tTotal & 330       & 87.73080  & 1.0000000 &    NA     &    NA    \\\\\n",
       "\\end{tabular}\n"
      ],
      "text/markdown": [
       "\n",
       "| <!--/--> | Df | SumOfSqs | R2 | F | Pr(>F) |\n",
       "|---|---|---|---|---|---|\n",
       "| Host_Family |   7       | 10.75201  | 0.1225568 | 6.445     | 0.001     |\n",
       "| Residual | 323       | 76.97880  | 0.8774432 |    NA     |    NA     |\n",
       "| Total | 330       | 87.73080  | 1.0000000 |    NA     |    NA     |\n",
       "\n"
      ],
      "text/plain": [
       "            Df  SumOfSqs R2        F     Pr(>F)\n",
       "Host_Family   7 10.75201 0.1225568 6.445 0.001 \n",
       "Residual    323 76.97880 0.8774432    NA    NA \n",
       "Total       330 87.73080 1.0000000    NA    NA "
      ]
     },
     "metadata": {},
     "output_type": "display_data"
    },
    {
     "data": {
      "text/html": [
       "<table>\n",
       "<thead><tr><th></th><th scope=col>Df</th><th scope=col>SumOfSqs</th><th scope=col>R2</th><th scope=col>F</th><th scope=col>Pr(&gt;F)</th></tr></thead>\n",
       "<tbody>\n",
       "\t<tr><th scope=row>Host_Family:Host_Genus</th><td>  9      </td><td>12.96862 </td><td>0.1478228</td><td>6.186915 </td><td>0.001    </td></tr>\n",
       "\t<tr><th scope=row>Residual</th><td>321      </td><td>74.76219 </td><td>0.8521772</td><td>      NA </td><td>   NA    </td></tr>\n",
       "\t<tr><th scope=row>Total</th><td>330      </td><td>87.73080 </td><td>1.0000000</td><td>      NA </td><td>   NA    </td></tr>\n",
       "</tbody>\n",
       "</table>\n"
      ],
      "text/latex": [
       "\\begin{tabular}{r|lllll}\n",
       "  & Df & SumOfSqs & R2 & F & Pr(>F)\\\\\n",
       "\\hline\n",
       "\tHost\\_Family:Host\\_Genus &   9       & 12.96862  & 0.1478228 & 6.186915  & 0.001    \\\\\n",
       "\tResidual & 321       & 74.76219  & 0.8521772 &       NA  &    NA    \\\\\n",
       "\tTotal & 330       & 87.73080  & 1.0000000 &       NA  &    NA    \\\\\n",
       "\\end{tabular}\n"
      ],
      "text/markdown": [
       "\n",
       "| <!--/--> | Df | SumOfSqs | R2 | F | Pr(>F) |\n",
       "|---|---|---|---|---|---|\n",
       "| Host_Family:Host_Genus |   9       | 12.96862  | 0.1478228 | 6.186915  | 0.001     |\n",
       "| Residual | 321       | 74.76219  | 0.8521772 |       NA  |    NA     |\n",
       "| Total | 330       | 87.73080  | 1.0000000 |       NA  |    NA     |\n",
       "\n"
      ],
      "text/plain": [
       "                       Df  SumOfSqs R2        F        Pr(>F)\n",
       "Host_Family:Host_Genus   9 12.96862 0.1478228 6.186915 0.001 \n",
       "Residual               321 74.76219 0.8521772       NA    NA \n",
       "Total                  330 87.73080 1.0000000       NA    NA "
      ]
     },
     "metadata": {},
     "output_type": "display_data"
    },
    {
     "data": {
      "text/html": [
       "<table>\n",
       "<thead><tr><th></th><th scope=col>Df</th><th scope=col>SumOfSqs</th><th scope=col>R2</th><th scope=col>F</th><th scope=col>Pr(&gt;F)</th></tr></thead>\n",
       "<tbody>\n",
       "\t<tr><th scope=row>Host_Family:Host_Genus:Host_species</th><td> 16      </td><td>19.07207 </td><td>0.2173931</td><td>5.451445 </td><td>0.001    </td></tr>\n",
       "\t<tr><th scope=row>Residual</th><td>314      </td><td>68.65873 </td><td>0.7826069</td><td>      NA </td><td>   NA    </td></tr>\n",
       "\t<tr><th scope=row>Total</th><td>330      </td><td>87.73080 </td><td>1.0000000</td><td>      NA </td><td>   NA    </td></tr>\n",
       "</tbody>\n",
       "</table>\n"
      ],
      "text/latex": [
       "\\begin{tabular}{r|lllll}\n",
       "  & Df & SumOfSqs & R2 & F & Pr(>F)\\\\\n",
       "\\hline\n",
       "\tHost\\_Family:Host\\_Genus:Host\\_species &  16       & 19.07207  & 0.2173931 & 5.451445  & 0.001    \\\\\n",
       "\tResidual & 314       & 68.65873  & 0.7826069 &       NA  &    NA    \\\\\n",
       "\tTotal & 330       & 87.73080  & 1.0000000 &       NA  &    NA    \\\\\n",
       "\\end{tabular}\n"
      ],
      "text/markdown": [
       "\n",
       "| <!--/--> | Df | SumOfSqs | R2 | F | Pr(>F) |\n",
       "|---|---|---|---|---|---|\n",
       "| Host_Family:Host_Genus:Host_species |  16       | 19.07207  | 0.2173931 | 5.451445  | 0.001     |\n",
       "| Residual | 314       | 68.65873  | 0.7826069 |       NA  |    NA     |\n",
       "| Total | 330       | 87.73080  | 1.0000000 |       NA  |    NA     |\n",
       "\n"
      ],
      "text/plain": [
       "                                    Df  SumOfSqs R2        F        Pr(>F)\n",
       "Host_Family:Host_Genus:Host_species  16 19.07207 0.2173931 5.451445 0.001 \n",
       "Residual                            314 68.65873 0.7826069       NA    NA \n",
       "Total                               330 87.73080 1.0000000       NA    NA "
      ]
     },
     "metadata": {},
     "output_type": "display_data"
    }
   ],
   "source": [
    "adonis2(skin.10.unif ~ Host_Family, nperm=999, data=batskin.10.df)\n",
    "adonis2(skin.10.unif ~ Host_Family:Host_Genus, nperm=999, data=batskin.10.df)\n",
    "adonis2(skin.10.unif ~ Host_Family:Host_Genus:Host_species, nperm=999, data=batskin.10.df)"
   ]
  },
  {
   "cell_type": "code",
   "execution_count": 10,
   "metadata": {},
   "outputs": [
    {
     "data": {
      "text/html": [
       "<table>\n",
       "<thead><tr><th></th><th scope=col>Df</th><th scope=col>SumOfSqs</th><th scope=col>R2</th><th scope=col>F</th><th scope=col>Pr(&gt;F)</th></tr></thead>\n",
       "<tbody>\n",
       "\t<tr><th scope=row>Site_name</th><td> 15     </td><td>23.43509</td><td>0.267125</td><td>7.654272</td><td>0.001   </td></tr>\n",
       "\t<tr><th scope=row>Residual</th><td>315     </td><td>64.29571</td><td>0.732875</td><td>      NA</td><td>   NA   </td></tr>\n",
       "\t<tr><th scope=row>Total</th><td>330     </td><td>87.73080</td><td>1.000000</td><td>      NA</td><td>   NA   </td></tr>\n",
       "</tbody>\n",
       "</table>\n"
      ],
      "text/latex": [
       "\\begin{tabular}{r|lllll}\n",
       "  & Df & SumOfSqs & R2 & F & Pr(>F)\\\\\n",
       "\\hline\n",
       "\tSite\\_name &  15      & 23.43509 & 0.267125 & 7.654272 & 0.001   \\\\\n",
       "\tResidual & 315      & 64.29571 & 0.732875 &       NA &    NA   \\\\\n",
       "\tTotal & 330      & 87.73080 & 1.000000 &       NA &    NA   \\\\\n",
       "\\end{tabular}\n"
      ],
      "text/markdown": [
       "\n",
       "| <!--/--> | Df | SumOfSqs | R2 | F | Pr(>F) |\n",
       "|---|---|---|---|---|---|\n",
       "| Site_name |  15      | 23.43509 | 0.267125 | 7.654272 | 0.001    |\n",
       "| Residual | 315      | 64.29571 | 0.732875 |       NA |    NA    |\n",
       "| Total | 330      | 87.73080 | 1.000000 |       NA |    NA    |\n",
       "\n"
      ],
      "text/plain": [
       "          Df  SumOfSqs R2       F        Pr(>F)\n",
       "Site_name  15 23.43509 0.267125 7.654272 0.001 \n",
       "Residual  315 64.29571 0.732875       NA    NA \n",
       "Total     330 87.73080 1.000000       NA    NA "
      ]
     },
     "metadata": {},
     "output_type": "display_data"
    },
    {
     "data": {
      "text/html": [
       "<table>\n",
       "<thead><tr><th></th><th scope=col>Df</th><th scope=col>SumOfSqs</th><th scope=col>R2</th><th scope=col>F</th><th scope=col>Pr(&gt;F)</th></tr></thead>\n",
       "<tbody>\n",
       "\t<tr><th scope=row>Diet</th><td>  1       </td><td> 4.689223 </td><td>0.05345013</td><td>18.5781   </td><td>0.001     </td></tr>\n",
       "\t<tr><th scope=row>Residual</th><td>329       </td><td>83.041579 </td><td>0.94654987</td><td>     NA   </td><td>   NA     </td></tr>\n",
       "\t<tr><th scope=row>Total</th><td>330       </td><td>87.730802 </td><td>1.00000000</td><td>     NA   </td><td>   NA     </td></tr>\n",
       "</tbody>\n",
       "</table>\n"
      ],
      "text/latex": [
       "\\begin{tabular}{r|lllll}\n",
       "  & Df & SumOfSqs & R2 & F & Pr(>F)\\\\\n",
       "\\hline\n",
       "\tDiet &   1        &  4.689223  & 0.05345013 & 18.5781    & 0.001     \\\\\n",
       "\tResidual & 329        & 83.041579  & 0.94654987 &      NA    &    NA     \\\\\n",
       "\tTotal & 330        & 87.730802  & 1.00000000 &      NA    &    NA     \\\\\n",
       "\\end{tabular}\n"
      ],
      "text/markdown": [
       "\n",
       "| <!--/--> | Df | SumOfSqs | R2 | F | Pr(>F) |\n",
       "|---|---|---|---|---|---|\n",
       "| Diet |   1        |  4.689223  | 0.05345013 | 18.5781    | 0.001      |\n",
       "| Residual | 329        | 83.041579  | 0.94654987 |      NA    |    NA      |\n",
       "| Total | 330        | 87.730802  | 1.00000000 |      NA    |    NA      |\n",
       "\n"
      ],
      "text/plain": [
       "         Df  SumOfSqs  R2         F       Pr(>F)\n",
       "Diet       1  4.689223 0.05345013 18.5781 0.001 \n",
       "Residual 329 83.041579 0.94654987      NA    NA \n",
       "Total    330 87.730802 1.00000000      NA    NA "
      ]
     },
     "metadata": {},
     "output_type": "display_data"
    },
    {
     "data": {
      "text/html": [
       "<table>\n",
       "<thead><tr><th></th><th scope=col>Df</th><th scope=col>SumOfSqs</th><th scope=col>R2</th><th scope=col>F</th><th scope=col>Pr(&gt;F)</th></tr></thead>\n",
       "<tbody>\n",
       "\t<tr><th scope=row>Site_name</th><td> 14       </td><td>10.888050 </td><td>0.12410749</td><td>4.038646  </td><td>0.001     </td></tr>\n",
       "\t<tr><th scope=row>Host_species</th><td> 15       </td><td> 6.525029 </td><td>0.07437558</td><td>2.258941  </td><td>0.001     </td></tr>\n",
       "\t<tr><th scope=row>Residual</th><td>300       </td><td>57.770684 </td><td>0.65849944</td><td>      NA  </td><td>   NA     </td></tr>\n",
       "\t<tr><th scope=row>Total</th><td>330       </td><td>87.730802 </td><td>1.00000000</td><td>      NA  </td><td>   NA     </td></tr>\n",
       "</tbody>\n",
       "</table>\n"
      ],
      "text/latex": [
       "\\begin{tabular}{r|lllll}\n",
       "  & Df & SumOfSqs & R2 & F & Pr(>F)\\\\\n",
       "\\hline\n",
       "\tSite\\_name &  14        & 10.888050  & 0.12410749 & 4.038646   & 0.001     \\\\\n",
       "\tHost\\_species &  15        &  6.525029  & 0.07437558 & 2.258941   & 0.001     \\\\\n",
       "\tResidual & 300        & 57.770684  & 0.65849944 &       NA   &    NA     \\\\\n",
       "\tTotal & 330        & 87.730802  & 1.00000000 &       NA   &    NA     \\\\\n",
       "\\end{tabular}\n"
      ],
      "text/markdown": [
       "\n",
       "| <!--/--> | Df | SumOfSqs | R2 | F | Pr(>F) |\n",
       "|---|---|---|---|---|---|\n",
       "| Site_name |  14        | 10.888050  | 0.12410749 | 4.038646   | 0.001      |\n",
       "| Host_species |  15        |  6.525029  | 0.07437558 | 2.258941   | 0.001      |\n",
       "| Residual | 300        | 57.770684  | 0.65849944 |       NA   |    NA      |\n",
       "| Total | 330        | 87.730802  | 1.00000000 |       NA   |    NA      |\n",
       "\n"
      ],
      "text/plain": [
       "             Df  SumOfSqs  R2         F        Pr(>F)\n",
       "Site_name     14 10.888050 0.12410749 4.038646 0.001 \n",
       "Host_species  15  6.525029 0.07437558 2.258941 0.001 \n",
       "Residual     300 57.770684 0.65849944       NA    NA \n",
       "Total        330 87.730802 1.00000000       NA    NA "
      ]
     },
     "metadata": {},
     "output_type": "display_data"
    },
    {
     "data": {
      "text/html": [
       "<table>\n",
       "<thead><tr><th></th><th scope=col>Df</th><th scope=col>SumOfSqs</th><th scope=col>R2</th><th scope=col>F</th><th scope=col>Pr(&gt;F)</th></tr></thead>\n",
       "<tbody>\n",
       "\t<tr><th scope=row>Age</th><td>  2        </td><td> 1.9411396 </td><td>0.022126090</td><td> 3.889784  </td><td>0.001      </td></tr>\n",
       "\t<tr><th scope=row>Sex</th><td>  1        </td><td> 0.3331122 </td><td>0.003796981</td><td> 1.335025  </td><td>0.069      </td></tr>\n",
       "\t<tr><th scope=row>Weight</th><td>  1        </td><td> 2.9459179 </td><td>0.033579060</td><td>11.806452  </td><td>0.001      </td></tr>\n",
       "\t<tr><th scope=row>Residual</th><td>326        </td><td>81.3427479 </td><td>0.927185733</td><td>       NA  </td><td>   NA      </td></tr>\n",
       "\t<tr><th scope=row>Total</th><td>330        </td><td>87.7308020 </td><td>1.000000000</td><td>       NA  </td><td>   NA      </td></tr>\n",
       "</tbody>\n",
       "</table>\n"
      ],
      "text/latex": [
       "\\begin{tabular}{r|lllll}\n",
       "  & Df & SumOfSqs & R2 & F & Pr(>F)\\\\\n",
       "\\hline\n",
       "\tAge &   2         &  1.9411396  & 0.022126090 &  3.889784   & 0.001      \\\\\n",
       "\tSex &   1         &  0.3331122  & 0.003796981 &  1.335025   & 0.069      \\\\\n",
       "\tWeight &   1         &  2.9459179  & 0.033579060 & 11.806452   & 0.001      \\\\\n",
       "\tResidual & 326         & 81.3427479  & 0.927185733 &        NA   &    NA      \\\\\n",
       "\tTotal & 330         & 87.7308020  & 1.000000000 &        NA   &    NA      \\\\\n",
       "\\end{tabular}\n"
      ],
      "text/markdown": [
       "\n",
       "| <!--/--> | Df | SumOfSqs | R2 | F | Pr(>F) |\n",
       "|---|---|---|---|---|---|\n",
       "| Age |   2         |  1.9411396  | 0.022126090 |  3.889784   | 0.001       |\n",
       "| Sex |   1         |  0.3331122  | 0.003796981 |  1.335025   | 0.069       |\n",
       "| Weight |   1         |  2.9459179  | 0.033579060 | 11.806452   | 0.001       |\n",
       "| Residual | 326         | 81.3427479  | 0.927185733 |        NA   |    NA       |\n",
       "| Total | 330         | 87.7308020  | 1.000000000 |        NA   |    NA       |\n",
       "\n"
      ],
      "text/plain": [
       "         Df  SumOfSqs   R2          F         Pr(>F)\n",
       "Age        2  1.9411396 0.022126090  3.889784 0.001 \n",
       "Sex        1  0.3331122 0.003796981  1.335025 0.069 \n",
       "Weight     1  2.9459179 0.033579060 11.806452 0.001 \n",
       "Residual 326 81.3427479 0.927185733        NA    NA \n",
       "Total    330 87.7308020 1.000000000        NA    NA "
      ]
     },
     "metadata": {},
     "output_type": "display_data"
    }
   ],
   "source": [
    "adonis2(skin.10.unif ~ Site_name, nperm=999, data=batskin.10.df)\n",
    "adonis2(skin.10.unif ~ Diet, strata=Site_name, nperm=999, data=batskin.10.df)\n",
    "adonis2(skin.10.unif ~ Site_name + Host_species, by=\"margin\", nperm=999, data=batskin.10.df)\n",
    "adonis2(skin.10.unif ~ Age + Sex + Weight, strata = Host_species, by=\"margin\", nperm=999, data=batskin.10.df)"
   ]
  },
  {
   "cell_type": "code",
   "execution_count": 17,
   "metadata": {},
   "outputs": [
    {
     "data": {
      "text/html": [
       "<ol class=list-inline>\n",
       "\t<li>0.0015</li>\n",
       "\t<li>0.069</li>\n",
       "\t<li>0.0015</li>\n",
       "</ol>\n"
      ],
      "text/latex": [
       "\\begin{enumerate*}\n",
       "\\item 0.0015\n",
       "\\item 0.069\n",
       "\\item 0.0015\n",
       "\\end{enumerate*}\n"
      ],
      "text/markdown": [
       "1. 0.0015\n",
       "2. 0.069\n",
       "3. 0.0015\n",
       "\n",
       "\n"
      ],
      "text/plain": [
       "[1] 0.0015 0.0690 0.0015"
      ]
     },
     "metadata": {},
     "output_type": "display_data"
    }
   ],
   "source": [
    "#FDR p-value correction\n",
    "p = c(\"0.001\",\"0.069\",\"0.001\")\n",
    "p.adjust(p, method = \"fdr\", n = length(p))"
   ]
  },
  {
   "cell_type": "markdown",
   "metadata": {},
   "source": [
    "### Restricting samples to species for which N >= 20"
   ]
  },
  {
   "cell_type": "code",
   "execution_count": 11,
   "metadata": {},
   "outputs": [],
   "source": [
    "batfecal.20.wunif = readRDS(\"/gpfs/data/gilbert-lab/Lutz/Batmicrobiome/Nature_data_results/Bdiv/nona_updates_19April2019/fecal.20.nona.wunif.rds\")\n",
    "batoral.20.wunif = readRDS(\"/gpfs/data/gilbert-lab/Lutz/Batmicrobiome/Nature_data_results/Bdiv/nona_updates_19April2019/oral.20.nona.wunif.rds\")\n",
    "batskin.20.wunif = readRDS(\"/gpfs/data/gilbert-lab/Lutz/Batmicrobiome/Nature_data_results/Bdiv/nona_updates_19April2019/skin.20.nona.wunif.rds\")\n"
   ]
  },
  {
   "cell_type": "code",
   "execution_count": 18,
   "metadata": {},
   "outputs": [],
   "source": [
    "batfecal.20.df = read.csv(\"/gpfs/data/gilbert-lab/Lutz/Batmicrobiome/Nature_data_results/CSVfiles/batfecal.20.df.csv\")\n",
    "batoral.20.df = read.csv(\"/gpfs/data/gilbert-lab/Lutz/Batmicrobiome/Nature_data_results/CSVfiles/batoral.20.df.csv\")\n",
    "batskin.20.df = read.csv(\"/gpfs/data/gilbert-lab/Lutz/Batmicrobiome/Nature_data_results/CSVfiles/batskin.20.df.csv\")"
   ]
  },
  {
   "cell_type": "code",
   "execution_count": 19,
   "metadata": {},
   "outputs": [
    {
     "data": {
      "text/html": [
       "11"
      ],
      "text/latex": [
       "11"
      ],
      "text/markdown": [
       "11"
      ],
      "text/plain": [
       "[1] 11"
      ]
     },
     "metadata": {},
     "output_type": "display_data"
    },
    {
     "data": {
      "text/html": [
       "11"
      ],
      "text/latex": [
       "11"
      ],
      "text/markdown": [
       "11"
      ],
      "text/plain": [
       "[1] 11"
      ]
     },
     "metadata": {},
     "output_type": "display_data"
    },
    {
     "data": {
      "text/html": [
       "11"
      ],
      "text/latex": [
       "11"
      ],
      "text/markdown": [
       "11"
      ],
      "text/plain": [
       "[1] 11"
      ]
     },
     "metadata": {},
     "output_type": "display_data"
    }
   ],
   "source": [
    "df1 <- uniqueN(batfecal.20.df$Host_species)\n",
    "df1\n",
    "\n",
    "df2 <- uniqueN(batoral.20.df$Host_species)\n",
    "df2\n",
    "\n",
    "df3 <- uniqueN(batskin.20.df$Host_species)\n",
    "df3"
   ]
  },
  {
   "cell_type": "markdown",
   "metadata": {},
   "source": [
    "#### FECAL"
   ]
  },
  {
   "cell_type": "code",
   "execution_count": 63,
   "metadata": {},
   "outputs": [
    {
     "data": {
      "text/html": [
       "<table>\n",
       "<thead><tr><th></th><th scope=col>Df</th><th scope=col>SumOfSqs</th><th scope=col>R2</th><th scope=col>F</th><th scope=col>Pr(&gt;F)</th></tr></thead>\n",
       "<tbody>\n",
       "\t<tr><th scope=row>Host_Family</th><td>  4      </td><td>0.9665238</td><td>0.1109064</td><td>8.139344 </td><td>0.001    </td></tr>\n",
       "\t<tr><th scope=row>Residual</th><td>261      </td><td>7.7482504</td><td>0.8890936</td><td>      NA </td><td>   NA    </td></tr>\n",
       "\t<tr><th scope=row>Total</th><td>265      </td><td>8.7147742</td><td>1.0000000</td><td>      NA </td><td>   NA    </td></tr>\n",
       "</tbody>\n",
       "</table>\n"
      ],
      "text/latex": [
       "\\begin{tabular}{r|lllll}\n",
       "  & Df & SumOfSqs & R2 & F & Pr(>F)\\\\\n",
       "\\hline\n",
       "\tHost\\_Family &   4       & 0.9665238 & 0.1109064 & 8.139344  & 0.001    \\\\\n",
       "\tResidual & 261       & 7.7482504 & 0.8890936 &       NA  &    NA    \\\\\n",
       "\tTotal & 265       & 8.7147742 & 1.0000000 &       NA  &    NA    \\\\\n",
       "\\end{tabular}\n"
      ],
      "text/markdown": [
       "\n",
       "| <!--/--> | Df | SumOfSqs | R2 | F | Pr(>F) |\n",
       "|---|---|---|---|---|---|\n",
       "| Host_Family |   4       | 0.9665238 | 0.1109064 | 8.139344  | 0.001     |\n",
       "| Residual | 261       | 7.7482504 | 0.8890936 |       NA  |    NA     |\n",
       "| Total | 265       | 8.7147742 | 1.0000000 |       NA  |    NA     |\n",
       "\n"
      ],
      "text/plain": [
       "            Df  SumOfSqs  R2        F        Pr(>F)\n",
       "Host_Family   4 0.9665238 0.1109064 8.139344 0.001 \n",
       "Residual    261 7.7482504 0.8890936       NA    NA \n",
       "Total       265 8.7147742 1.0000000       NA    NA "
      ]
     },
     "metadata": {},
     "output_type": "display_data"
    },
    {
     "data": {
      "text/html": [
       "<table>\n",
       "<thead><tr><th></th><th scope=col>Df</th><th scope=col>SumOfSqs</th><th scope=col>R2</th><th scope=col>F</th><th scope=col>Pr(&gt;F)</th></tr></thead>\n",
       "<tbody>\n",
       "\t<tr><th scope=row>Host_Family:Host_Genus</th><td>  5      </td><td>1.321112 </td><td>0.1515946</td><td>9.291451 </td><td>0.001    </td></tr>\n",
       "\t<tr><th scope=row>Residual</th><td>260      </td><td>7.393662 </td><td>0.8484054</td><td>      NA </td><td>   NA    </td></tr>\n",
       "\t<tr><th scope=row>Total</th><td>265      </td><td>8.714774 </td><td>1.0000000</td><td>      NA </td><td>   NA    </td></tr>\n",
       "</tbody>\n",
       "</table>\n"
      ],
      "text/latex": [
       "\\begin{tabular}{r|lllll}\n",
       "  & Df & SumOfSqs & R2 & F & Pr(>F)\\\\\n",
       "\\hline\n",
       "\tHost\\_Family:Host\\_Genus &   5       & 1.321112  & 0.1515946 & 9.291451  & 0.001    \\\\\n",
       "\tResidual & 260       & 7.393662  & 0.8484054 &       NA  &    NA    \\\\\n",
       "\tTotal & 265       & 8.714774  & 1.0000000 &       NA  &    NA    \\\\\n",
       "\\end{tabular}\n"
      ],
      "text/markdown": [
       "\n",
       "| <!--/--> | Df | SumOfSqs | R2 | F | Pr(>F) |\n",
       "|---|---|---|---|---|---|\n",
       "| Host_Family:Host_Genus |   5       | 1.321112  | 0.1515946 | 9.291451  | 0.001     |\n",
       "| Residual | 260       | 7.393662  | 0.8484054 |       NA  |    NA     |\n",
       "| Total | 265       | 8.714774  | 1.0000000 |       NA  |    NA     |\n",
       "\n"
      ],
      "text/plain": [
       "                       Df  SumOfSqs R2        F        Pr(>F)\n",
       "Host_Family:Host_Genus   5 1.321112 0.1515946 9.291451 0.001 \n",
       "Residual               260 7.393662 0.8484054       NA    NA \n",
       "Total                  265 8.714774 1.0000000       NA    NA "
      ]
     },
     "metadata": {},
     "output_type": "display_data"
    },
    {
     "data": {
      "text/html": [
       "<table>\n",
       "<thead><tr><th></th><th scope=col>Df</th><th scope=col>SumOfSqs</th><th scope=col>R2</th><th scope=col>F</th><th scope=col>Pr(&gt;F)</th></tr></thead>\n",
       "<tbody>\n",
       "\t<tr><th scope=row>Host_Family:Host_Genus:Host_species</th><td> 10     </td><td>1.580232</td><td>0.181328</td><td>5.648004</td><td>0.001   </td></tr>\n",
       "\t<tr><th scope=row>Residual</th><td>255     </td><td>7.134542</td><td>0.818672</td><td>      NA</td><td>   NA   </td></tr>\n",
       "\t<tr><th scope=row>Total</th><td>265     </td><td>8.714774</td><td>1.000000</td><td>      NA</td><td>   NA   </td></tr>\n",
       "</tbody>\n",
       "</table>\n"
      ],
      "text/latex": [
       "\\begin{tabular}{r|lllll}\n",
       "  & Df & SumOfSqs & R2 & F & Pr(>F)\\\\\n",
       "\\hline\n",
       "\tHost\\_Family:Host\\_Genus:Host\\_species &  10      & 1.580232 & 0.181328 & 5.648004 & 0.001   \\\\\n",
       "\tResidual & 255      & 7.134542 & 0.818672 &       NA &    NA   \\\\\n",
       "\tTotal & 265      & 8.714774 & 1.000000 &       NA &    NA   \\\\\n",
       "\\end{tabular}\n"
      ],
      "text/markdown": [
       "\n",
       "| <!--/--> | Df | SumOfSqs | R2 | F | Pr(>F) |\n",
       "|---|---|---|---|---|---|\n",
       "| Host_Family:Host_Genus:Host_species |  10      | 1.580232 | 0.181328 | 5.648004 | 0.001    |\n",
       "| Residual | 255      | 7.134542 | 0.818672 |       NA |    NA    |\n",
       "| Total | 265      | 8.714774 | 1.000000 |       NA |    NA    |\n",
       "\n"
      ],
      "text/plain": [
       "                                    Df  SumOfSqs R2       F        Pr(>F)\n",
       "Host_Family:Host_Genus:Host_species  10 1.580232 0.181328 5.648004 0.001 \n",
       "Residual                            255 7.134542 0.818672       NA    NA \n",
       "Total                               265 8.714774 1.000000       NA    NA "
      ]
     },
     "metadata": {},
     "output_type": "display_data"
    }
   ],
   "source": [
    "adonis2(batfecal.20.wunif ~ Host_Family, nperm=999, data=batfecal.20.df)\n",
    "adonis2(batfecal.20.wunif ~ Host_Family:Host_Genus, nperm=999, data=batfecal.20.df)\n",
    "adonis2(batfecal.20.wunif ~ Host_Family:Host_Genus:Host_species, nperm=999, data=batfecal.20.df)"
   ]
  },
  {
   "cell_type": "code",
   "execution_count": 12,
   "metadata": {},
   "outputs": [
    {
     "data": {
      "text/html": [
       "<table>\n",
       "<thead><tr><th></th><th scope=col>Df</th><th scope=col>SumOfSqs</th><th scope=col>R2</th><th scope=col>F</th><th scope=col>Pr(&gt;F)</th></tr></thead>\n",
       "<tbody>\n",
       "\t<tr><th scope=row>Site_name</th><td> 14      </td><td>1.797673 </td><td>0.2062788</td><td>4.659425 </td><td>0.001    </td></tr>\n",
       "\t<tr><th scope=row>Residual</th><td>251      </td><td>6.917101 </td><td>0.7937212</td><td>      NA </td><td>   NA    </td></tr>\n",
       "\t<tr><th scope=row>Total</th><td>265      </td><td>8.714774 </td><td>1.0000000</td><td>      NA </td><td>   NA    </td></tr>\n",
       "</tbody>\n",
       "</table>\n"
      ],
      "text/latex": [
       "\\begin{tabular}{r|lllll}\n",
       "  & Df & SumOfSqs & R2 & F & Pr(>F)\\\\\n",
       "\\hline\n",
       "\tSite\\_name &  14       & 1.797673  & 0.2062788 & 4.659425  & 0.001    \\\\\n",
       "\tResidual & 251       & 6.917101  & 0.7937212 &       NA  &    NA    \\\\\n",
       "\tTotal & 265       & 8.714774  & 1.0000000 &       NA  &    NA    \\\\\n",
       "\\end{tabular}\n"
      ],
      "text/markdown": [
       "\n",
       "| <!--/--> | Df | SumOfSqs | R2 | F | Pr(>F) |\n",
       "|---|---|---|---|---|---|\n",
       "| Site_name |  14       | 1.797673  | 0.2062788 | 4.659425  | 0.001     |\n",
       "| Residual | 251       | 6.917101  | 0.7937212 |       NA  |    NA     |\n",
       "| Total | 265       | 8.714774  | 1.0000000 |       NA  |    NA     |\n",
       "\n"
      ],
      "text/plain": [
       "          Df  SumOfSqs R2        F        Pr(>F)\n",
       "Site_name  14 1.797673 0.2062788 4.659425 0.001 \n",
       "Residual  251 6.917101 0.7937212       NA    NA \n",
       "Total     265 8.714774 1.0000000       NA    NA "
      ]
     },
     "metadata": {},
     "output_type": "display_data"
    },
    {
     "data": {
      "text/html": [
       "<table>\n",
       "<thead><tr><th></th><th scope=col>Df</th><th scope=col>SumOfSqs</th><th scope=col>R2</th><th scope=col>F</th><th scope=col>Pr(&gt;F)</th></tr></thead>\n",
       "<tbody>\n",
       "\t<tr><th scope=row>Diet</th><td>  1       </td><td>0.682547  </td><td>0.07832068</td><td>22.43368  </td><td>0.001     </td></tr>\n",
       "\t<tr><th scope=row>Residual</th><td>264       </td><td>8.032227  </td><td>0.92167932</td><td>      NA  </td><td>   NA     </td></tr>\n",
       "\t<tr><th scope=row>Total</th><td>265       </td><td>8.714774  </td><td>1.00000000</td><td>      NA  </td><td>   NA     </td></tr>\n",
       "</tbody>\n",
       "</table>\n"
      ],
      "text/latex": [
       "\\begin{tabular}{r|lllll}\n",
       "  & Df & SumOfSqs & R2 & F & Pr(>F)\\\\\n",
       "\\hline\n",
       "\tDiet &   1        & 0.682547   & 0.07832068 & 22.43368   & 0.001     \\\\\n",
       "\tResidual & 264        & 8.032227   & 0.92167932 &       NA   &    NA     \\\\\n",
       "\tTotal & 265        & 8.714774   & 1.00000000 &       NA   &    NA     \\\\\n",
       "\\end{tabular}\n"
      ],
      "text/markdown": [
       "\n",
       "| <!--/--> | Df | SumOfSqs | R2 | F | Pr(>F) |\n",
       "|---|---|---|---|---|---|\n",
       "| Diet |   1        | 0.682547   | 0.07832068 | 22.43368   | 0.001      |\n",
       "| Residual | 264        | 8.032227   | 0.92167932 |       NA   |    NA      |\n",
       "| Total | 265        | 8.714774   | 1.00000000 |       NA   |    NA      |\n",
       "\n"
      ],
      "text/plain": [
       "         Df  SumOfSqs R2         F        Pr(>F)\n",
       "Diet       1 0.682547 0.07832068 22.43368 0.001 \n",
       "Residual 264 8.032227 0.92167932       NA    NA \n",
       "Total    265 8.714774 1.00000000       NA    NA "
      ]
     },
     "metadata": {},
     "output_type": "display_data"
    },
    {
     "data": {
      "text/html": [
       "<table>\n",
       "<thead><tr><th></th><th scope=col>Df</th><th scope=col>SumOfSqs</th><th scope=col>R2</th><th scope=col>F</th><th scope=col>Pr(&gt;F)</th></tr></thead>\n",
       "<tbody>\n",
       "\t<tr><th scope=row>Site_name</th><td> 13       </td><td>0.8065112 </td><td>0.09254528</td><td>2.372542  </td><td>0.001     </td></tr>\n",
       "\t<tr><th scope=row>Host_species</th><td>  9       </td><td>0.5890702 </td><td>0.06759443</td><td>2.503060  </td><td>0.001     </td></tr>\n",
       "\t<tr><th scope=row>Residual</th><td>242       </td><td>6.3280308 </td><td>0.72612676</td><td>      NA  </td><td>   NA     </td></tr>\n",
       "\t<tr><th scope=row>Total</th><td>265       </td><td>8.7147742 </td><td>1.00000000</td><td>      NA  </td><td>   NA     </td></tr>\n",
       "</tbody>\n",
       "</table>\n"
      ],
      "text/latex": [
       "\\begin{tabular}{r|lllll}\n",
       "  & Df & SumOfSqs & R2 & F & Pr(>F)\\\\\n",
       "\\hline\n",
       "\tSite\\_name &  13        & 0.8065112  & 0.09254528 & 2.372542   & 0.001     \\\\\n",
       "\tHost\\_species &   9        & 0.5890702  & 0.06759443 & 2.503060   & 0.001     \\\\\n",
       "\tResidual & 242        & 6.3280308  & 0.72612676 &       NA   &    NA     \\\\\n",
       "\tTotal & 265        & 8.7147742  & 1.00000000 &       NA   &    NA     \\\\\n",
       "\\end{tabular}\n"
      ],
      "text/markdown": [
       "\n",
       "| <!--/--> | Df | SumOfSqs | R2 | F | Pr(>F) |\n",
       "|---|---|---|---|---|---|\n",
       "| Site_name |  13        | 0.8065112  | 0.09254528 | 2.372542   | 0.001      |\n",
       "| Host_species |   9        | 0.5890702  | 0.06759443 | 2.503060   | 0.001      |\n",
       "| Residual | 242        | 6.3280308  | 0.72612676 |       NA   |    NA      |\n",
       "| Total | 265        | 8.7147742  | 1.00000000 |       NA   |    NA      |\n",
       "\n"
      ],
      "text/plain": [
       "             Df  SumOfSqs  R2         F        Pr(>F)\n",
       "Site_name     13 0.8065112 0.09254528 2.372542 0.001 \n",
       "Host_species   9 0.5890702 0.06759443 2.503060 0.001 \n",
       "Residual     242 6.3280308 0.72612676       NA    NA \n",
       "Total        265 8.7147742 1.00000000       NA    NA "
      ]
     },
     "metadata": {},
     "output_type": "display_data"
    },
    {
     "data": {
      "text/html": [
       "<table>\n",
       "<thead><tr><th></th><th scope=col>Df</th><th scope=col>SumOfSqs</th><th scope=col>R2</th><th scope=col>F</th><th scope=col>Pr(&gt;F)</th></tr></thead>\n",
       "<tbody>\n",
       "\t<tr><th scope=row>Age</th><td>  2        </td><td>0.11521846 </td><td>0.013221050</td><td> 1.8797779 </td><td>0.036      </td></tr>\n",
       "\t<tr><th scope=row>Sex</th><td>  1        </td><td>0.02024005 </td><td>0.002322498</td><td> 0.6604287 </td><td>0.754      </td></tr>\n",
       "\t<tr><th scope=row>Weight</th><td>  1        </td><td>0.53664807 </td><td>0.061579114</td><td>17.5107214 </td><td>0.001      </td></tr>\n",
       "\t<tr><th scope=row>Residual</th><td>261        </td><td>7.99882221 </td><td>0.917846180</td><td>        NA </td><td>   NA      </td></tr>\n",
       "\t<tr><th scope=row>Total</th><td>265        </td><td>8.71477420 </td><td>1.000000000</td><td>        NA </td><td>   NA      </td></tr>\n",
       "</tbody>\n",
       "</table>\n"
      ],
      "text/latex": [
       "\\begin{tabular}{r|lllll}\n",
       "  & Df & SumOfSqs & R2 & F & Pr(>F)\\\\\n",
       "\\hline\n",
       "\tAge &   2         & 0.11521846  & 0.013221050 &  1.8797779  & 0.036      \\\\\n",
       "\tSex &   1         & 0.02024005  & 0.002322498 &  0.6604287  & 0.754      \\\\\n",
       "\tWeight &   1         & 0.53664807  & 0.061579114 & 17.5107214  & 0.001      \\\\\n",
       "\tResidual & 261         & 7.99882221  & 0.917846180 &         NA  &    NA      \\\\\n",
       "\tTotal & 265         & 8.71477420  & 1.000000000 &         NA  &    NA      \\\\\n",
       "\\end{tabular}\n"
      ],
      "text/markdown": [
       "\n",
       "| <!--/--> | Df | SumOfSqs | R2 | F | Pr(>F) |\n",
       "|---|---|---|---|---|---|\n",
       "| Age |   2         | 0.11521846  | 0.013221050 |  1.8797779  | 0.036       |\n",
       "| Sex |   1         | 0.02024005  | 0.002322498 |  0.6604287  | 0.754       |\n",
       "| Weight |   1         | 0.53664807  | 0.061579114 | 17.5107214  | 0.001       |\n",
       "| Residual | 261         | 7.99882221  | 0.917846180 |         NA  |    NA       |\n",
       "| Total | 265         | 8.71477420  | 1.000000000 |         NA  |    NA       |\n",
       "\n"
      ],
      "text/plain": [
       "         Df  SumOfSqs   R2          F          Pr(>F)\n",
       "Age        2 0.11521846 0.013221050  1.8797779 0.036 \n",
       "Sex        1 0.02024005 0.002322498  0.6604287 0.754 \n",
       "Weight     1 0.53664807 0.061579114 17.5107214 0.001 \n",
       "Residual 261 7.99882221 0.917846180         NA    NA \n",
       "Total    265 8.71477420 1.000000000         NA    NA "
      ]
     },
     "metadata": {},
     "output_type": "display_data"
    }
   ],
   "source": [
    "adonis2(batfecal.20.wunif ~ Site_name, nperm=999, data=batfecal.20.df)\n",
    "adonis2(batfecal.20.wunif ~ Diet, strata=Site_name, nperm=999, data=batfecal.20.df)\n",
    "adonis2(batfecal.20.wunif ~ Site_name + Host_species, by=\"margin\", nperm=999, data=batfecal.20.df)\n",
    "adonis2(batfecal.20.wunif ~ Age + Sex + Weight, strata = Host_species, by=\"margin\", nperm=999, data=batfecal.20.df)"
   ]
  },
  {
   "cell_type": "code",
   "execution_count": 18,
   "metadata": {},
   "outputs": [
    {
     "data": {
      "text/html": [
       "<ol class=list-inline>\n",
       "\t<li>0.054</li>\n",
       "\t<li>0.754</li>\n",
       "\t<li>0.003</li>\n",
       "</ol>\n"
      ],
      "text/latex": [
       "\\begin{enumerate*}\n",
       "\\item 0.054\n",
       "\\item 0.754\n",
       "\\item 0.003\n",
       "\\end{enumerate*}\n"
      ],
      "text/markdown": [
       "1. 0.054\n",
       "2. 0.754\n",
       "3. 0.003\n",
       "\n",
       "\n"
      ],
      "text/plain": [
       "[1] 0.054 0.754 0.003"
      ]
     },
     "metadata": {},
     "output_type": "display_data"
    }
   ],
   "source": [
    "#FDR p-value correction\n",
    "p = c(\"0.036\",\"0.754\",\"0.001\")\n",
    "p.adjust(p, method = \"fdr\", n = length(p))"
   ]
  },
  {
   "cell_type": "markdown",
   "metadata": {},
   "source": [
    "#### ORAL"
   ]
  },
  {
   "cell_type": "code",
   "execution_count": 67,
   "metadata": {},
   "outputs": [
    {
     "data": {
      "text/html": [
       "<table>\n",
       "<thead><tr><th></th><th scope=col>Df</th><th scope=col>SumOfSqs</th><th scope=col>R2</th><th scope=col>F</th><th scope=col>Pr(&gt;F)</th></tr></thead>\n",
       "<tbody>\n",
       "\t<tr><th scope=row>Host_Family</th><td>  4      </td><td>2.528800 </td><td>0.3142558</td><td>26.12137 </td><td>0.001    </td></tr>\n",
       "\t<tr><th scope=row>Residual</th><td>228      </td><td>5.518148 </td><td>0.6857442</td><td>      NA </td><td>   NA    </td></tr>\n",
       "\t<tr><th scope=row>Total</th><td>232      </td><td>8.046948 </td><td>1.0000000</td><td>      NA </td><td>   NA    </td></tr>\n",
       "</tbody>\n",
       "</table>\n"
      ],
      "text/latex": [
       "\\begin{tabular}{r|lllll}\n",
       "  & Df & SumOfSqs & R2 & F & Pr(>F)\\\\\n",
       "\\hline\n",
       "\tHost\\_Family &   4       & 2.528800  & 0.3142558 & 26.12137  & 0.001    \\\\\n",
       "\tResidual & 228       & 5.518148  & 0.6857442 &       NA  &    NA    \\\\\n",
       "\tTotal & 232       & 8.046948  & 1.0000000 &       NA  &    NA    \\\\\n",
       "\\end{tabular}\n"
      ],
      "text/markdown": [
       "\n",
       "| <!--/--> | Df | SumOfSqs | R2 | F | Pr(>F) |\n",
       "|---|---|---|---|---|---|\n",
       "| Host_Family |   4       | 2.528800  | 0.3142558 | 26.12137  | 0.001     |\n",
       "| Residual | 228       | 5.518148  | 0.6857442 |       NA  |    NA     |\n",
       "| Total | 232       | 8.046948  | 1.0000000 |       NA  |    NA     |\n",
       "\n"
      ],
      "text/plain": [
       "            Df  SumOfSqs R2        F        Pr(>F)\n",
       "Host_Family   4 2.528800 0.3142558 26.12137 0.001 \n",
       "Residual    228 5.518148 0.6857442       NA    NA \n",
       "Total       232 8.046948 1.0000000       NA    NA "
      ]
     },
     "metadata": {},
     "output_type": "display_data"
    },
    {
     "data": {
      "text/html": [
       "<table>\n",
       "<thead><tr><th></th><th scope=col>Df</th><th scope=col>SumOfSqs</th><th scope=col>R2</th><th scope=col>F</th><th scope=col>Pr(&gt;F)</th></tr></thead>\n",
       "<tbody>\n",
       "\t<tr><th scope=row>Host_Family:Host_Genus</th><td>  5      </td><td>2.573272 </td><td>0.3197824</td><td>21.34334 </td><td>0.001    </td></tr>\n",
       "\t<tr><th scope=row>Residual</th><td>227      </td><td>5.473676 </td><td>0.6802176</td><td>      NA </td><td>   NA    </td></tr>\n",
       "\t<tr><th scope=row>Total</th><td>232      </td><td>8.046948 </td><td>1.0000000</td><td>      NA </td><td>   NA    </td></tr>\n",
       "</tbody>\n",
       "</table>\n"
      ],
      "text/latex": [
       "\\begin{tabular}{r|lllll}\n",
       "  & Df & SumOfSqs & R2 & F & Pr(>F)\\\\\n",
       "\\hline\n",
       "\tHost\\_Family:Host\\_Genus &   5       & 2.573272  & 0.3197824 & 21.34334  & 0.001    \\\\\n",
       "\tResidual & 227       & 5.473676  & 0.6802176 &       NA  &    NA    \\\\\n",
       "\tTotal & 232       & 8.046948  & 1.0000000 &       NA  &    NA    \\\\\n",
       "\\end{tabular}\n"
      ],
      "text/markdown": [
       "\n",
       "| <!--/--> | Df | SumOfSqs | R2 | F | Pr(>F) |\n",
       "|---|---|---|---|---|---|\n",
       "| Host_Family:Host_Genus |   5       | 2.573272  | 0.3197824 | 21.34334  | 0.001     |\n",
       "| Residual | 227       | 5.473676  | 0.6802176 |       NA  |    NA     |\n",
       "| Total | 232       | 8.046948  | 1.0000000 |       NA  |    NA     |\n",
       "\n"
      ],
      "text/plain": [
       "                       Df  SumOfSqs R2        F        Pr(>F)\n",
       "Host_Family:Host_Genus   5 2.573272 0.3197824 21.34334 0.001 \n",
       "Residual               227 5.473676 0.6802176       NA    NA \n",
       "Total                  232 8.046948 1.0000000       NA    NA "
      ]
     },
     "metadata": {},
     "output_type": "display_data"
    },
    {
     "data": {
      "text/html": [
       "<table>\n",
       "<thead><tr><th></th><th scope=col>Df</th><th scope=col>SumOfSqs</th><th scope=col>R2</th><th scope=col>F</th><th scope=col>Pr(&gt;F)</th></tr></thead>\n",
       "<tbody>\n",
       "\t<tr><th scope=row>Host_Family:Host_Genus:Host_species</th><td> 10      </td><td>3.419519 </td><td>0.4249461</td><td>16.40507 </td><td>0.001    </td></tr>\n",
       "\t<tr><th scope=row>Residual</th><td>222      </td><td>4.627429 </td><td>0.5750539</td><td>      NA </td><td>   NA    </td></tr>\n",
       "\t<tr><th scope=row>Total</th><td>232      </td><td>8.046948 </td><td>1.0000000</td><td>      NA </td><td>   NA    </td></tr>\n",
       "</tbody>\n",
       "</table>\n"
      ],
      "text/latex": [
       "\\begin{tabular}{r|lllll}\n",
       "  & Df & SumOfSqs & R2 & F & Pr(>F)\\\\\n",
       "\\hline\n",
       "\tHost\\_Family:Host\\_Genus:Host\\_species &  10       & 3.419519  & 0.4249461 & 16.40507  & 0.001    \\\\\n",
       "\tResidual & 222       & 4.627429  & 0.5750539 &       NA  &    NA    \\\\\n",
       "\tTotal & 232       & 8.046948  & 1.0000000 &       NA  &    NA    \\\\\n",
       "\\end{tabular}\n"
      ],
      "text/markdown": [
       "\n",
       "| <!--/--> | Df | SumOfSqs | R2 | F | Pr(>F) |\n",
       "|---|---|---|---|---|---|\n",
       "| Host_Family:Host_Genus:Host_species |  10       | 3.419519  | 0.4249461 | 16.40507  | 0.001     |\n",
       "| Residual | 222       | 4.627429  | 0.5750539 |       NA  |    NA     |\n",
       "| Total | 232       | 8.046948  | 1.0000000 |       NA  |    NA     |\n",
       "\n"
      ],
      "text/plain": [
       "                                    Df  SumOfSqs R2        F        Pr(>F)\n",
       "Host_Family:Host_Genus:Host_species  10 3.419519 0.4249461 16.40507 0.001 \n",
       "Residual                            222 4.627429 0.5750539       NA    NA \n",
       "Total                               232 8.046948 1.0000000       NA    NA "
      ]
     },
     "metadata": {},
     "output_type": "display_data"
    }
   ],
   "source": [
    "adonis2(batoral.20.wunif ~ Host_Family, nperm=999, data=batoral.20.df)\n",
    "adonis2(batoral.20.wunif ~ Host_Family:Host_Genus, nperm=999, data=batoral.20.df)\n",
    "adonis2(batoral.20.wunif ~ Host_Family:Host_Genus:Host_species, nperm=999, data=batoral.20.df)"
   ]
  },
  {
   "cell_type": "code",
   "execution_count": 27,
   "metadata": {},
   "outputs": [
    {
     "data": {
      "text/html": [
       "<table>\n",
       "<thead><tr><th></th><th scope=col>Df</th><th scope=col>SumOfSqs</th><th scope=col>R2</th><th scope=col>F</th><th scope=col>Pr(&gt;F)</th></tr></thead>\n",
       "<tbody>\n",
       "\t<tr><th scope=row>Site_name</th><td> 13      </td><td>2.675917 </td><td>0.3325381</td><td>8.392971 </td><td>0.001    </td></tr>\n",
       "\t<tr><th scope=row>Residual</th><td>219      </td><td>5.371031 </td><td>0.6674619</td><td>      NA </td><td>   NA    </td></tr>\n",
       "\t<tr><th scope=row>Total</th><td>232      </td><td>8.046948 </td><td>1.0000000</td><td>      NA </td><td>   NA    </td></tr>\n",
       "</tbody>\n",
       "</table>\n"
      ],
      "text/latex": [
       "\\begin{tabular}{r|lllll}\n",
       "  & Df & SumOfSqs & R2 & F & Pr(>F)\\\\\n",
       "\\hline\n",
       "\tSite\\_name &  13       & 2.675917  & 0.3325381 & 8.392971  & 0.001    \\\\\n",
       "\tResidual & 219       & 5.371031  & 0.6674619 &       NA  &    NA    \\\\\n",
       "\tTotal & 232       & 8.046948  & 1.0000000 &       NA  &    NA    \\\\\n",
       "\\end{tabular}\n"
      ],
      "text/markdown": [
       "\n",
       "| <!--/--> | Df | SumOfSqs | R2 | F | Pr(>F) |\n",
       "|---|---|---|---|---|---|\n",
       "| Site_name |  13       | 2.675917  | 0.3325381 | 8.392971  | 0.001     |\n",
       "| Residual | 219       | 5.371031  | 0.6674619 |       NA  |    NA     |\n",
       "| Total | 232       | 8.046948  | 1.0000000 |       NA  |    NA     |\n",
       "\n"
      ],
      "text/plain": [
       "          Df  SumOfSqs R2        F        Pr(>F)\n",
       "Site_name  13 2.675917 0.3325381 8.392971 0.001 \n",
       "Residual  219 5.371031 0.6674619       NA    NA \n",
       "Total     232 8.046948 1.0000000       NA    NA "
      ]
     },
     "metadata": {},
     "output_type": "display_data"
    },
    {
     "data": {
      "text/html": [
       "<table>\n",
       "<thead><tr><th></th><th scope=col>Df</th><th scope=col>SumOfSqs</th><th scope=col>R2</th><th scope=col>F</th><th scope=col>Pr(&gt;F)</th></tr></thead>\n",
       "<tbody>\n",
       "\t<tr><th scope=row>Diet</th><td>  1      </td><td>1.761307 </td><td>0.2188789</td><td>64.7288  </td><td>0.001    </td></tr>\n",
       "\t<tr><th scope=row>Residual</th><td>231      </td><td>6.285641 </td><td>0.7811211</td><td>     NA  </td><td>   NA    </td></tr>\n",
       "\t<tr><th scope=row>Total</th><td>232      </td><td>8.046948 </td><td>1.0000000</td><td>     NA  </td><td>   NA    </td></tr>\n",
       "</tbody>\n",
       "</table>\n"
      ],
      "text/latex": [
       "\\begin{tabular}{r|lllll}\n",
       "  & Df & SumOfSqs & R2 & F & Pr(>F)\\\\\n",
       "\\hline\n",
       "\tDiet &   1       & 1.761307  & 0.2188789 & 64.7288   & 0.001    \\\\\n",
       "\tResidual & 231       & 6.285641  & 0.7811211 &      NA   &    NA    \\\\\n",
       "\tTotal & 232       & 8.046948  & 1.0000000 &      NA   &    NA    \\\\\n",
       "\\end{tabular}\n"
      ],
      "text/markdown": [
       "\n",
       "| <!--/--> | Df | SumOfSqs | R2 | F | Pr(>F) |\n",
       "|---|---|---|---|---|---|\n",
       "| Diet |   1       | 1.761307  | 0.2188789 | 64.7288   | 0.001     |\n",
       "| Residual | 231       | 6.285641  | 0.7811211 |      NA   |    NA     |\n",
       "| Total | 232       | 8.046948  | 1.0000000 |      NA   |    NA     |\n",
       "\n"
      ],
      "text/plain": [
       "         Df  SumOfSqs R2        F       Pr(>F)\n",
       "Diet       1 1.761307 0.2188789 64.7288 0.001 \n",
       "Residual 231 6.285641 0.7811211      NA    NA \n",
       "Total    232 8.046948 1.0000000      NA    NA "
      ]
     },
     "metadata": {},
     "output_type": "display_data"
    },
    {
     "data": {
      "text/html": [
       "<table>\n",
       "<thead><tr><th></th><th scope=col>Df</th><th scope=col>SumOfSqs</th><th scope=col>R2</th><th scope=col>F</th><th scope=col>Pr(&gt;F)</th></tr></thead>\n",
       "<tbody>\n",
       "\t<tr><th scope=row>Site_name</th><td> 12       </td><td>0.496012  </td><td>0.06163976</td><td>2.101025  </td><td>0.001     </td></tr>\n",
       "\t<tr><th scope=row>Host_species</th><td>  9       </td><td>1.239614  </td><td>0.15404772</td><td>7.001067  </td><td>0.001     </td></tr>\n",
       "\t<tr><th scope=row>Residual</th><td>210       </td><td>4.131417  </td><td>0.51341417</td><td>      NA  </td><td>   NA     </td></tr>\n",
       "\t<tr><th scope=row>Total</th><td>232       </td><td>8.046948  </td><td>1.00000000</td><td>      NA  </td><td>   NA     </td></tr>\n",
       "</tbody>\n",
       "</table>\n"
      ],
      "text/latex": [
       "\\begin{tabular}{r|lllll}\n",
       "  & Df & SumOfSqs & R2 & F & Pr(>F)\\\\\n",
       "\\hline\n",
       "\tSite\\_name &  12        & 0.496012   & 0.06163976 & 2.101025   & 0.001     \\\\\n",
       "\tHost\\_species &   9        & 1.239614   & 0.15404772 & 7.001067   & 0.001     \\\\\n",
       "\tResidual & 210        & 4.131417   & 0.51341417 &       NA   &    NA     \\\\\n",
       "\tTotal & 232        & 8.046948   & 1.00000000 &       NA   &    NA     \\\\\n",
       "\\end{tabular}\n"
      ],
      "text/markdown": [
       "\n",
       "| <!--/--> | Df | SumOfSqs | R2 | F | Pr(>F) |\n",
       "|---|---|---|---|---|---|\n",
       "| Site_name |  12        | 0.496012   | 0.06163976 | 2.101025   | 0.001      |\n",
       "| Host_species |   9        | 1.239614   | 0.15404772 | 7.001067   | 0.001      |\n",
       "| Residual | 210        | 4.131417   | 0.51341417 |       NA   |    NA      |\n",
       "| Total | 232        | 8.046948   | 1.00000000 |       NA   |    NA      |\n",
       "\n"
      ],
      "text/plain": [
       "             Df  SumOfSqs R2         F        Pr(>F)\n",
       "Site_name     12 0.496012 0.06163976 2.101025 0.001 \n",
       "Host_species   9 1.239614 0.15404772 7.001067 0.001 \n",
       "Residual     210 4.131417 0.51341417       NA    NA \n",
       "Total        232 8.046948 1.00000000       NA    NA "
      ]
     },
     "metadata": {},
     "output_type": "display_data"
    },
    {
     "data": {
      "text/html": [
       "<table>\n",
       "<thead><tr><th></th><th scope=col>Df</th><th scope=col>SumOfSqs</th><th scope=col>R2</th><th scope=col>F</th><th scope=col>Pr(&gt;F)</th></tr></thead>\n",
       "<tbody>\n",
       "\t<tr><th scope=row>Age</th><td>  2       </td><td>0.1752010 </td><td>0.02177235</td><td> 3.082505 </td><td>0.003     </td></tr>\n",
       "\t<tr><th scope=row>Sex</th><td>  1       </td><td>0.1099954 </td><td>0.01366920</td><td> 3.870541 </td><td>0.005     </td></tr>\n",
       "\t<tr><th scope=row>Weight</th><td>  1       </td><td>1.1133880 </td><td>0.13836152</td><td>39.178137 </td><td>0.001     </td></tr>\n",
       "\t<tr><th scope=row>Residual</th><td>228       </td><td>6.4794419 </td><td>0.80520488</td><td>       NA </td><td>   NA     </td></tr>\n",
       "\t<tr><th scope=row>Total</th><td>232       </td><td>8.0469482 </td><td>1.00000000</td><td>       NA </td><td>   NA     </td></tr>\n",
       "</tbody>\n",
       "</table>\n"
      ],
      "text/latex": [
       "\\begin{tabular}{r|lllll}\n",
       "  & Df & SumOfSqs & R2 & F & Pr(>F)\\\\\n",
       "\\hline\n",
       "\tAge &   2        & 0.1752010  & 0.02177235 &  3.082505  & 0.003     \\\\\n",
       "\tSex &   1        & 0.1099954  & 0.01366920 &  3.870541  & 0.005     \\\\\n",
       "\tWeight &   1        & 1.1133880  & 0.13836152 & 39.178137  & 0.001     \\\\\n",
       "\tResidual & 228        & 6.4794419  & 0.80520488 &        NA  &    NA     \\\\\n",
       "\tTotal & 232        & 8.0469482  & 1.00000000 &        NA  &    NA     \\\\\n",
       "\\end{tabular}\n"
      ],
      "text/markdown": [
       "\n",
       "| <!--/--> | Df | SumOfSqs | R2 | F | Pr(>F) |\n",
       "|---|---|---|---|---|---|\n",
       "| Age |   2        | 0.1752010  | 0.02177235 |  3.082505  | 0.003      |\n",
       "| Sex |   1        | 0.1099954  | 0.01366920 |  3.870541  | 0.005      |\n",
       "| Weight |   1        | 1.1133880  | 0.13836152 | 39.178137  | 0.001      |\n",
       "| Residual | 228        | 6.4794419  | 0.80520488 |        NA  |    NA      |\n",
       "| Total | 232        | 8.0469482  | 1.00000000 |        NA  |    NA      |\n",
       "\n"
      ],
      "text/plain": [
       "         Df  SumOfSqs  R2         F         Pr(>F)\n",
       "Age        2 0.1752010 0.02177235  3.082505 0.003 \n",
       "Sex        1 0.1099954 0.01366920  3.870541 0.005 \n",
       "Weight     1 1.1133880 0.13836152 39.178137 0.001 \n",
       "Residual 228 6.4794419 0.80520488        NA    NA \n",
       "Total    232 8.0469482 1.00000000        NA    NA "
      ]
     },
     "metadata": {},
     "output_type": "display_data"
    }
   ],
   "source": [
    "adonis2(batoral.20.wunif ~ Site_name, nperm=999, data=batoral.20.df)\n",
    "adonis2(batoral.20.wunif ~ Diet, strata=Site_name, nperm=999, data=batoral.20.df)\n",
    "adonis2(batoral.20.wunif ~ Site_name + Host_species, by=\"margin\", nperm=999, data=batoral.20.df)\n",
    "adonis2(batoral.20.wunif ~ Age + Sex + Weight, strata = Host_species, by=\"margin\", nperm=999, data=batoral.20.df)"
   ]
  },
  {
   "cell_type": "code",
   "execution_count": 28,
   "metadata": {},
   "outputs": [
    {
     "data": {
      "text/html": [
       "<ol class=list-inline>\n",
       "\t<li>0.0045</li>\n",
       "\t<li>0.005</li>\n",
       "\t<li>0.003</li>\n",
       "</ol>\n"
      ],
      "text/latex": [
       "\\begin{enumerate*}\n",
       "\\item 0.0045\n",
       "\\item 0.005\n",
       "\\item 0.003\n",
       "\\end{enumerate*}\n"
      ],
      "text/markdown": [
       "1. 0.0045\n",
       "2. 0.005\n",
       "3. 0.003\n",
       "\n",
       "\n"
      ],
      "text/plain": [
       "[1] 0.0045 0.0050 0.0030"
      ]
     },
     "metadata": {},
     "output_type": "display_data"
    }
   ],
   "source": [
    "#FDR p-value correction\n",
    "p = c(\"0.003\",\"0.005\",\"0.001\")\n",
    "p.adjust(p, method = \"fdr\", n = length(p))"
   ]
  },
  {
   "cell_type": "markdown",
   "metadata": {},
   "source": [
    "#### SKIN"
   ]
  },
  {
   "cell_type": "code",
   "execution_count": 70,
   "metadata": {},
   "outputs": [
    {
     "data": {
      "text/html": [
       "<table>\n",
       "<thead><tr><th></th><th scope=col>Df</th><th scope=col>SumOfSqs</th><th scope=col>R2</th><th scope=col>F</th><th scope=col>Pr(&gt;F)</th></tr></thead>\n",
       "<tbody>\n",
       "\t<tr><th scope=row>Host_Family</th><td>  4      </td><td>1.414328 </td><td>0.1486588</td><td>11.61204 </td><td>0.001    </td></tr>\n",
       "\t<tr><th scope=row>Residual</th><td>266      </td><td>8.099593 </td><td>0.8513412</td><td>      NA </td><td>   NA    </td></tr>\n",
       "\t<tr><th scope=row>Total</th><td>270      </td><td>9.513921 </td><td>1.0000000</td><td>      NA </td><td>   NA    </td></tr>\n",
       "</tbody>\n",
       "</table>\n"
      ],
      "text/latex": [
       "\\begin{tabular}{r|lllll}\n",
       "  & Df & SumOfSqs & R2 & F & Pr(>F)\\\\\n",
       "\\hline\n",
       "\tHost\\_Family &   4       & 1.414328  & 0.1486588 & 11.61204  & 0.001    \\\\\n",
       "\tResidual & 266       & 8.099593  & 0.8513412 &       NA  &    NA    \\\\\n",
       "\tTotal & 270       & 9.513921  & 1.0000000 &       NA  &    NA    \\\\\n",
       "\\end{tabular}\n"
      ],
      "text/markdown": [
       "\n",
       "| <!--/--> | Df | SumOfSqs | R2 | F | Pr(>F) |\n",
       "|---|---|---|---|---|---|\n",
       "| Host_Family |   4       | 1.414328  | 0.1486588 | 11.61204  | 0.001     |\n",
       "| Residual | 266       | 8.099593  | 0.8513412 |       NA  |    NA     |\n",
       "| Total | 270       | 9.513921  | 1.0000000 |       NA  |    NA     |\n",
       "\n"
      ],
      "text/plain": [
       "            Df  SumOfSqs R2        F        Pr(>F)\n",
       "Host_Family   4 1.414328 0.1486588 11.61204 0.001 \n",
       "Residual    266 8.099593 0.8513412       NA    NA \n",
       "Total       270 9.513921 1.0000000       NA    NA "
      ]
     },
     "metadata": {},
     "output_type": "display_data"
    },
    {
     "data": {
      "text/html": [
       "<table>\n",
       "<thead><tr><th></th><th scope=col>Df</th><th scope=col>SumOfSqs</th><th scope=col>R2</th><th scope=col>F</th><th scope=col>Pr(&gt;F)</th></tr></thead>\n",
       "<tbody>\n",
       "\t<tr><th scope=row>Host_Family:Host_Genus</th><td>  5      </td><td>1.683453 </td><td>0.1769462</td><td>11.39434 </td><td>0.001    </td></tr>\n",
       "\t<tr><th scope=row>Residual</th><td>265      </td><td>7.830469 </td><td>0.8230538</td><td>      NA </td><td>   NA    </td></tr>\n",
       "\t<tr><th scope=row>Total</th><td>270      </td><td>9.513921 </td><td>1.0000000</td><td>      NA </td><td>   NA    </td></tr>\n",
       "</tbody>\n",
       "</table>\n"
      ],
      "text/latex": [
       "\\begin{tabular}{r|lllll}\n",
       "  & Df & SumOfSqs & R2 & F & Pr(>F)\\\\\n",
       "\\hline\n",
       "\tHost\\_Family:Host\\_Genus &   5       & 1.683453  & 0.1769462 & 11.39434  & 0.001    \\\\\n",
       "\tResidual & 265       & 7.830469  & 0.8230538 &       NA  &    NA    \\\\\n",
       "\tTotal & 270       & 9.513921  & 1.0000000 &       NA  &    NA    \\\\\n",
       "\\end{tabular}\n"
      ],
      "text/markdown": [
       "\n",
       "| <!--/--> | Df | SumOfSqs | R2 | F | Pr(>F) |\n",
       "|---|---|---|---|---|---|\n",
       "| Host_Family:Host_Genus |   5       | 1.683453  | 0.1769462 | 11.39434  | 0.001     |\n",
       "| Residual | 265       | 7.830469  | 0.8230538 |       NA  |    NA     |\n",
       "| Total | 270       | 9.513921  | 1.0000000 |       NA  |    NA     |\n",
       "\n"
      ],
      "text/plain": [
       "                       Df  SumOfSqs R2        F        Pr(>F)\n",
       "Host_Family:Host_Genus   5 1.683453 0.1769462 11.39434 0.001 \n",
       "Residual               265 7.830469 0.8230538       NA    NA \n",
       "Total                  270 9.513921 1.0000000       NA    NA "
      ]
     },
     "metadata": {},
     "output_type": "display_data"
    },
    {
     "data": {
      "text/html": [
       "<table>\n",
       "<thead><tr><th></th><th scope=col>Df</th><th scope=col>SumOfSqs</th><th scope=col>R2</th><th scope=col>F</th><th scope=col>Pr(&gt;F)</th></tr></thead>\n",
       "<tbody>\n",
       "\t<tr><th scope=row>Host_Family:Host_Genus:Host_species</th><td> 10      </td><td>2.430933 </td><td>0.2555133</td><td>8.92339  </td><td>0.001    </td></tr>\n",
       "\t<tr><th scope=row>Residual</th><td>260      </td><td>7.082988 </td><td>0.7444867</td><td>     NA  </td><td>   NA    </td></tr>\n",
       "\t<tr><th scope=row>Total</th><td>270      </td><td>9.513921 </td><td>1.0000000</td><td>     NA  </td><td>   NA    </td></tr>\n",
       "</tbody>\n",
       "</table>\n"
      ],
      "text/latex": [
       "\\begin{tabular}{r|lllll}\n",
       "  & Df & SumOfSqs & R2 & F & Pr(>F)\\\\\n",
       "\\hline\n",
       "\tHost\\_Family:Host\\_Genus:Host\\_species &  10       & 2.430933  & 0.2555133 & 8.92339   & 0.001    \\\\\n",
       "\tResidual & 260       & 7.082988  & 0.7444867 &      NA   &    NA    \\\\\n",
       "\tTotal & 270       & 9.513921  & 1.0000000 &      NA   &    NA    \\\\\n",
       "\\end{tabular}\n"
      ],
      "text/markdown": [
       "\n",
       "| <!--/--> | Df | SumOfSqs | R2 | F | Pr(>F) |\n",
       "|---|---|---|---|---|---|\n",
       "| Host_Family:Host_Genus:Host_species |  10       | 2.430933  | 0.2555133 | 8.92339   | 0.001     |\n",
       "| Residual | 260       | 7.082988  | 0.7444867 |      NA   |    NA     |\n",
       "| Total | 270       | 9.513921  | 1.0000000 |      NA   |    NA     |\n",
       "\n"
      ],
      "text/plain": [
       "                                    Df  SumOfSqs R2        F       Pr(>F)\n",
       "Host_Family:Host_Genus:Host_species  10 2.430933 0.2555133 8.92339 0.001 \n",
       "Residual                            260 7.082988 0.7444867      NA    NA \n",
       "Total                               270 9.513921 1.0000000      NA    NA "
      ]
     },
     "metadata": {},
     "output_type": "display_data"
    }
   ],
   "source": [
    "adonis2(batskin.20.wunif ~ Host_Family, nperm=999, data=batskin.20.df)\n",
    "adonis2(batskin.20.wunif ~ Host_Family:Host_Genus, nperm=999, data=batskin.20.df)\n",
    "adonis2(batskin.20.wunif ~ Host_Family:Host_Genus:Host_species, nperm=999, data=batskin.20.df)"
   ]
  },
  {
   "cell_type": "code",
   "execution_count": 21,
   "metadata": {},
   "outputs": [
    {
     "data": {
      "text/html": [
       "<table>\n",
       "<thead><tr><th></th><th scope=col>Df</th><th scope=col>SumOfSqs</th><th scope=col>R2</th><th scope=col>F</th><th scope=col>Pr(&gt;F)</th></tr></thead>\n",
       "<tbody>\n",
       "\t<tr><th scope=row>Site_name</th><td> 15      </td><td>4.138439 </td><td>0.4349877</td><td>13.08784 </td><td>0.001    </td></tr>\n",
       "\t<tr><th scope=row>Residual</th><td>255      </td><td>5.375482 </td><td>0.5650123</td><td>      NA </td><td>   NA    </td></tr>\n",
       "\t<tr><th scope=row>Total</th><td>270      </td><td>9.513921 </td><td>1.0000000</td><td>      NA </td><td>   NA    </td></tr>\n",
       "</tbody>\n",
       "</table>\n"
      ],
      "text/latex": [
       "\\begin{tabular}{r|lllll}\n",
       "  & Df & SumOfSqs & R2 & F & Pr(>F)\\\\\n",
       "\\hline\n",
       "\tSite\\_name &  15       & 4.138439  & 0.4349877 & 13.08784  & 0.001    \\\\\n",
       "\tResidual & 255       & 5.375482  & 0.5650123 &       NA  &    NA    \\\\\n",
       "\tTotal & 270       & 9.513921  & 1.0000000 &       NA  &    NA    \\\\\n",
       "\\end{tabular}\n"
      ],
      "text/markdown": [
       "\n",
       "| <!--/--> | Df | SumOfSqs | R2 | F | Pr(>F) |\n",
       "|---|---|---|---|---|---|\n",
       "| Site_name |  15       | 4.138439  | 0.4349877 | 13.08784  | 0.001     |\n",
       "| Residual | 255       | 5.375482  | 0.5650123 |       NA  |    NA     |\n",
       "| Total | 270       | 9.513921  | 1.0000000 |       NA  |    NA     |\n",
       "\n"
      ],
      "text/plain": [
       "          Df  SumOfSqs R2        F        Pr(>F)\n",
       "Site_name  15 4.138439 0.4349877 13.08784 0.001 \n",
       "Residual  255 5.375482 0.5650123       NA    NA \n",
       "Total     270 9.513921 1.0000000       NA    NA "
      ]
     },
     "metadata": {},
     "output_type": "display_data"
    },
    {
     "data": {
      "text/html": [
       "<table>\n",
       "<thead><tr><th></th><th scope=col>Df</th><th scope=col>SumOfSqs</th><th scope=col>R2</th><th scope=col>F</th><th scope=col>Pr(&gt;F)</th></tr></thead>\n",
       "<tbody>\n",
       "\t<tr><th scope=row>Diet</th><td>  1       </td><td>0.5959921 </td><td>0.06264421</td><td>17.97748  </td><td>0.001     </td></tr>\n",
       "\t<tr><th scope=row>Residual</th><td>269       </td><td>8.9179291 </td><td>0.93735579</td><td>      NA  </td><td>   NA     </td></tr>\n",
       "\t<tr><th scope=row>Total</th><td>270       </td><td>9.5139212 </td><td>1.00000000</td><td>      NA  </td><td>   NA     </td></tr>\n",
       "</tbody>\n",
       "</table>\n"
      ],
      "text/latex": [
       "\\begin{tabular}{r|lllll}\n",
       "  & Df & SumOfSqs & R2 & F & Pr(>F)\\\\\n",
       "\\hline\n",
       "\tDiet &   1        & 0.5959921  & 0.06264421 & 17.97748   & 0.001     \\\\\n",
       "\tResidual & 269        & 8.9179291  & 0.93735579 &       NA   &    NA     \\\\\n",
       "\tTotal & 270        & 9.5139212  & 1.00000000 &       NA   &    NA     \\\\\n",
       "\\end{tabular}\n"
      ],
      "text/markdown": [
       "\n",
       "| <!--/--> | Df | SumOfSqs | R2 | F | Pr(>F) |\n",
       "|---|---|---|---|---|---|\n",
       "| Diet |   1        | 0.5959921  | 0.06264421 | 17.97748   | 0.001      |\n",
       "| Residual | 269        | 8.9179291  | 0.93735579 |       NA   |    NA      |\n",
       "| Total | 270        | 9.5139212  | 1.00000000 |       NA   |    NA      |\n",
       "\n"
      ],
      "text/plain": [
       "         Df  SumOfSqs  R2         F        Pr(>F)\n",
       "Diet       1 0.5959921 0.06264421 17.97748 0.001 \n",
       "Residual 269 8.9179291 0.93735579       NA    NA \n",
       "Total    270 9.5139212 1.00000000       NA    NA "
      ]
     },
     "metadata": {},
     "output_type": "display_data"
    },
    {
     "data": {
      "text/html": [
       "<table>\n",
       "<thead><tr><th></th><th scope=col>Df</th><th scope=col>SumOfSqs</th><th scope=col>R2</th><th scope=col>F</th><th scope=col>Pr(&gt;F)</th></tr></thead>\n",
       "<tbody>\n",
       "\t<tr><th scope=row>Site_name</th><td> 14       </td><td>2.5306252 </td><td>0.26599182</td><td>9.767829  </td><td>0.001     </td></tr>\n",
       "\t<tr><th scope=row>Host_species</th><td>  9       </td><td>0.8231197 </td><td>0.08651739</td><td>4.942182  </td><td>0.001     </td></tr>\n",
       "\t<tr><th scope=row>Residual</th><td>246       </td><td>4.5523628 </td><td>0.47849490</td><td>      NA  </td><td>   NA     </td></tr>\n",
       "\t<tr><th scope=row>Total</th><td>270       </td><td>9.5139212 </td><td>1.00000000</td><td>      NA  </td><td>   NA     </td></tr>\n",
       "</tbody>\n",
       "</table>\n"
      ],
      "text/latex": [
       "\\begin{tabular}{r|lllll}\n",
       "  & Df & SumOfSqs & R2 & F & Pr(>F)\\\\\n",
       "\\hline\n",
       "\tSite\\_name &  14        & 2.5306252  & 0.26599182 & 9.767829   & 0.001     \\\\\n",
       "\tHost\\_species &   9        & 0.8231197  & 0.08651739 & 4.942182   & 0.001     \\\\\n",
       "\tResidual & 246        & 4.5523628  & 0.47849490 &       NA   &    NA     \\\\\n",
       "\tTotal & 270        & 9.5139212  & 1.00000000 &       NA   &    NA     \\\\\n",
       "\\end{tabular}\n"
      ],
      "text/markdown": [
       "\n",
       "| <!--/--> | Df | SumOfSqs | R2 | F | Pr(>F) |\n",
       "|---|---|---|---|---|---|\n",
       "| Site_name |  14        | 2.5306252  | 0.26599182 | 9.767829   | 0.001      |\n",
       "| Host_species |   9        | 0.8231197  | 0.08651739 | 4.942182   | 0.001      |\n",
       "| Residual | 246        | 4.5523628  | 0.47849490 |       NA   |    NA      |\n",
       "| Total | 270        | 9.5139212  | 1.00000000 |       NA   |    NA      |\n",
       "\n"
      ],
      "text/plain": [
       "             Df  SumOfSqs  R2         F        Pr(>F)\n",
       "Site_name     14 2.5306252 0.26599182 9.767829 0.001 \n",
       "Host_species   9 0.8231197 0.08651739 4.942182 0.001 \n",
       "Residual     246 4.5523628 0.47849490       NA    NA \n",
       "Total        270 9.5139212 1.00000000       NA    NA "
      ]
     },
     "metadata": {},
     "output_type": "display_data"
    },
    {
     "data": {
      "text/html": [
       "<table>\n",
       "<thead><tr><th></th><th scope=col>Df</th><th scope=col>SumOfSqs</th><th scope=col>R2</th><th scope=col>F</th><th scope=col>Pr(&gt;F)</th></tr></thead>\n",
       "<tbody>\n",
       "\t<tr><th scope=row>Age</th><td>  2        </td><td>0.22960947 </td><td>0.024134052</td><td> 3.498618  </td><td>0.001      </td></tr>\n",
       "\t<tr><th scope=row>Sex</th><td>  1        </td><td>0.05823363 </td><td>0.006120887</td><td> 1.774642  </td><td>0.046      </td></tr>\n",
       "\t<tr><th scope=row>Weight</th><td>  1        </td><td>0.40199659 </td><td>0.042253513</td><td>12.250650  </td><td>0.001      </td></tr>\n",
       "\t<tr><th scope=row>Residual</th><td>266        </td><td>8.72860566 </td><td>0.917456164</td><td>       NA  </td><td>   NA      </td></tr>\n",
       "\t<tr><th scope=row>Total</th><td>270        </td><td>9.51392122 </td><td>1.000000000</td><td>       NA  </td><td>   NA      </td></tr>\n",
       "</tbody>\n",
       "</table>\n"
      ],
      "text/latex": [
       "\\begin{tabular}{r|lllll}\n",
       "  & Df & SumOfSqs & R2 & F & Pr(>F)\\\\\n",
       "\\hline\n",
       "\tAge &   2         & 0.22960947  & 0.024134052 &  3.498618   & 0.001      \\\\\n",
       "\tSex &   1         & 0.05823363  & 0.006120887 &  1.774642   & 0.046      \\\\\n",
       "\tWeight &   1         & 0.40199659  & 0.042253513 & 12.250650   & 0.001      \\\\\n",
       "\tResidual & 266         & 8.72860566  & 0.917456164 &        NA   &    NA      \\\\\n",
       "\tTotal & 270         & 9.51392122  & 1.000000000 &        NA   &    NA      \\\\\n",
       "\\end{tabular}\n"
      ],
      "text/markdown": [
       "\n",
       "| <!--/--> | Df | SumOfSqs | R2 | F | Pr(>F) |\n",
       "|---|---|---|---|---|---|\n",
       "| Age |   2         | 0.22960947  | 0.024134052 |  3.498618   | 0.001       |\n",
       "| Sex |   1         | 0.05823363  | 0.006120887 |  1.774642   | 0.046       |\n",
       "| Weight |   1         | 0.40199659  | 0.042253513 | 12.250650   | 0.001       |\n",
       "| Residual | 266         | 8.72860566  | 0.917456164 |        NA   |    NA       |\n",
       "| Total | 270         | 9.51392122  | 1.000000000 |        NA   |    NA       |\n",
       "\n"
      ],
      "text/plain": [
       "         Df  SumOfSqs   R2          F         Pr(>F)\n",
       "Age        2 0.22960947 0.024134052  3.498618 0.001 \n",
       "Sex        1 0.05823363 0.006120887  1.774642 0.046 \n",
       "Weight     1 0.40199659 0.042253513 12.250650 0.001 \n",
       "Residual 266 8.72860566 0.917456164        NA    NA \n",
       "Total    270 9.51392122 1.000000000        NA    NA "
      ]
     },
     "metadata": {},
     "output_type": "display_data"
    }
   ],
   "source": [
    "adonis2(batskin.20.wunif ~ Site_name, nperm=999, data=batskin.20.df)\n",
    "adonis2(batskin.20.wunif ~ Diet, strata=Site_name, nperm=999, data=batskin.20.df)\n",
    "adonis2(batskin.20.wunif ~ Site_name + Host_species, by=\"margin\", nperm=999, data=batskin.20.df)\n",
    "adonis2(batskin.20.wunif ~ Age + Sex + Weight, strata = Host_species, by=\"margin\", nperm=999, data=batskin.20.df)"
   ]
  },
  {
   "cell_type": "code",
   "execution_count": 29,
   "metadata": {},
   "outputs": [
    {
     "data": {
      "text/html": [
       "<ol class=list-inline>\n",
       "\t<li>0.0015</li>\n",
       "\t<li>0.046</li>\n",
       "\t<li>0.0015</li>\n",
       "</ol>\n"
      ],
      "text/latex": [
       "\\begin{enumerate*}\n",
       "\\item 0.0015\n",
       "\\item 0.046\n",
       "\\item 0.0015\n",
       "\\end{enumerate*}\n"
      ],
      "text/markdown": [
       "1. 0.0015\n",
       "2. 0.046\n",
       "3. 0.0015\n",
       "\n",
       "\n"
      ],
      "text/plain": [
       "[1] 0.0015 0.0460 0.0015"
      ]
     },
     "metadata": {},
     "output_type": "display_data"
    }
   ],
   "source": [
    "#FDR p-value correction\n",
    "p = c(\"0.001\",\"0.046\",\"0.001\")\n",
    "p.adjust(p, method = \"fdr\", n = length(p))"
   ]
  }
 ],
 "metadata": {
  "kernelspec": {
   "display_name": "R 3.4.1",
   "language": "R",
   "name": "ir3.4.1"
  },
  "language_info": {
   "codemirror_mode": "r",
   "file_extension": ".r",
   "mimetype": "text/x-r-source",
   "name": "R",
   "pygments_lexer": "r",
   "version": "3.4.1"
  }
 },
 "nbformat": 4,
 "nbformat_minor": 2
}
