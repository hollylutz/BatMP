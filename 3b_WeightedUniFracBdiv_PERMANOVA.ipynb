{
 "cells": [
  {
   "cell_type": "code",
   "execution_count": 4,
   "metadata": {},
   "outputs": [],
   "source": [
    "library(phyloseq)\n",
    "library(ggplot2)\n",
    "library(vegan)\n",
    "library(readr)\n",
    "library(data.table)\n",
    "library(dplyr)\n",
    "library(stats)\n",
    "library(plotly)\n",
    "library(RColorBrewer)\n",
    "library(ape)\n",
    "library(nlme)\n",
    "library(micropower)\n",
    "library(reshape2)"
   ]
  },
  {
   "cell_type": "code",
   "execution_count": 3,
   "metadata": {},
   "outputs": [
    {
     "name": "stderr",
     "output_type": "stream",
     "text": [
      "Warning message in strsplit(msg, \"\\n\"):\n",
      "“input string 1 is invalid in this locale”Warning message:\n",
      "“'sampleSums' is deprecated.\n",
      "Use 'sample_sums' instead.\n",
      "See help(\"Deprecated\") and help(\"phyloseq-deprecated\").”"
     ]
    }
   ],
   "source": [
    "#CREATE PHYLOSEQ OBJECT - No NA's\n",
    "setwd(\"/gpfs/data/gilbert-lab/Lutz/Batmicrobiome/batrun_finaldata_for_phyloseq_Oct2017\")\n",
    "\n",
    "biom <- import_biom(\"BIOMfiles/final.alldata.biom\")\n",
    "map <- import_qiime_sample_data(\"/gpfs/data/gilbert-lab/Lutz/Batmicrobiome/Nature_data_results/CSVfiles/mapfile.complete.nona.txt\")\n",
    "tree <- read_tree(\"/gpfs/data/gilbert-lab/Lutz/Batmicrobiome/batrun_finaldata_for_phyloseq_Oct2017/make_phylo.tre\")\n",
    "batrun <- merge_phyloseq(biom,tree,map)\n",
    "\n",
    "#FILTER DATA\n",
    "batrun_nt <- prune_samples((sample_sums(batrun) > 1000), batrun)\n",
    "\n",
    "#TRANSFORM DATA\n",
    "batrun_t <- prune_samples((sampleSums(batrun_nt) > 1000), batrun_nt) %>%\n",
    "    transform_sample_counts(function(x) x / sum(x))"
   ]
  },
  {
   "cell_type": "code",
   "execution_count": 4,
   "metadata": {},
   "outputs": [],
   "source": [
    "saveRDS(batrun_nt, \"/gpfs/data/gilbert-lab/Lutz/Batmicrobiome/Nature_data_results/RDSfiles/batrun_nt.nona.rds\")\n",
    "saveRDS(batrun_t, \"/gpfs/data/gilbert-lab/Lutz/Batmicrobiome/Nature_data_results/RDSfiles/batrun_t.nona.rds\")"
   ]
  },
  {
   "cell_type": "code",
   "execution_count": 5,
   "metadata": {},
   "outputs": [],
   "source": [
    "fecal = subset_samples(batrun_t, SampleType==\"FecalFTA\")\n",
    "oral = subset_samples(batrun_t, SampleType==\"TongueEtOH\")\n",
    "skin = subset_samples(batrun_t, SampleType==\"SkinEtOH\")"
   ]
  },
  {
   "cell_type": "code",
   "execution_count": 17,
   "metadata": {},
   "outputs": [],
   "source": [
    "fecal = readRDS(\"/gpfs/data/gilbert-lab/Lutz/Batmicrobiome/Nature_data_results/RDSfiles/fecal_t.nona.rds\")\n",
    "oral = readRDS(\"/gpfs/data/gilbert-lab/Lutz/Batmicrobiome/Nature_data_results/RDSfiles/oral_t.nona.rds\")\n",
    "skin = readRDS(\"/gpfs/data/gilbert-lab/Lutz/Batmicrobiome/Nature_data_results/RDSfiles/skin_t.nona.rds\")"
   ]
  },
  {
   "cell_type": "code",
   "execution_count": 7,
   "metadata": {},
   "outputs": [],
   "source": [
    "fecal.df = data.frame(sample_data(fecal))\n",
    "oral.df = data.frame(sample_data(oral))\n",
    "skin.df = data.frame(sample_data(skin))\n",
    "\n",
    "write.csv(fecal.df, \"/gpfs/data/gilbert-lab/Lutz/Batmicrobiome/Nature_data_results/RDSfiles/fecal_t.nona.df.csv\")\n",
    "write.csv(oral.df, \"/gpfs/data/gilbert-lab/Lutz/Batmicrobiome/Nature_data_results/RDSfiles/oral_t.nona.df.csv\")\n",
    "write.csv(skin.df, \"/gpfs/data/gilbert-lab/Lutz/Batmicrobiome/Nature_data_results/RDSfiles/skin_t.nona.df.csv\")"
   ]
  },
  {
   "cell_type": "code",
   "execution_count": 8,
   "metadata": {},
   "outputs": [
    {
     "name": "stderr",
     "output_type": "stream",
     "text": [
      "Warning message in UniFrac(physeq, weighted = TRUE, ...):\n",
      "“Randomly assigning root as -- CACGTAGGGGGCAAGCGTTGTCCGGATTCATTGGGCGTAAAGAGCTCGTAGGCGGTTCGGTAAGTCGGGTGTGAAACCTCCAGGCTCAACCTGGAGACGCCACCCGATACTGCTGTGACTAGAGTCCAGTAGGGGAGCGTGGAATTCCTG -- in the phylogenetic tree in the data you provided.”Warning message in UniFrac(physeq, weighted = TRUE, ...):\n",
      "“Randomly assigning root as -- TACGTAGGGTGCGAGCGTTATCCGGAATTATTGGGCGTAAAGAGCTTGTAGGCGGTTTGTCGCGTCTGCTGTGAAAGCCCGGGGCTTAACTCCGGGTCTGCAGTGGGTACGGGCAGGCTAGAGTGATGTAGGGGTAACTGGAATTCCTGG -- in the phylogenetic tree in the data you provided.”Warning message in UniFrac(physeq, weighted = TRUE, ...):\n",
      "“Randomly assigning root as -- GACAGAGGGTGCAAACGTTGTTCGGAATTACTGGGCGTAAAGCGCGTGTAGGCGGCCCGAAAAGTTGGATGTGAAAGCCCTGGGCTTAACCTAGGAAGTGCATTCAAAACTGTCGGGCTTGAGTTCTGGAGAGGAAGGCGGAATTCTCGG -- in the phylogenetic tree in the data you provided.”"
     ]
    }
   ],
   "source": [
    "fecal.wunif = distance(fecal, method = \"wunifrac\", type = \"samples\")\n",
    "oral.wunif = distance(oral, method = \"wunifrac\", type = \"samples\")\n",
    "skin.wunif = distance(skin, method = \"wunifrac\", type = \"samples\")"
   ]
  },
  {
   "cell_type": "code",
   "execution_count": 9,
   "metadata": {},
   "outputs": [],
   "source": [
    "saveRDS(fecal.wunif, \"/gpfs/data/gilbert-lab/Lutz/Batmicrobiome/Nature_data_results/Bdiv/nona_updates_19April2019/fecal.nona.wunif.rds\")\n",
    "saveRDS(oral.wunif, \"/gpfs/data/gilbert-lab/Lutz/Batmicrobiome/Nature_data_results/Bdiv/nona_updates_19April2019/oral.nona.wunif.rds\")\n",
    "saveRDS(skin.wunif, \"/gpfs/data/gilbert-lab/Lutz/Batmicrobiome/Nature_data_results/Bdiv/nona_updates_19April2019/skin.nona.wunif.rds\")\n"
   ]
  },
  {
   "cell_type": "code",
   "execution_count": 6,
   "metadata": {},
   "outputs": [],
   "source": [
    "fecal.df = read.csv(\"/gpfs/data/gilbert-lab/Lutz/Batmicrobiome/Nature_data_results/RDSfiles/fecal_t.nona.df.csv\")\n",
    "oral.df = read.csv(\"/gpfs/data/gilbert-lab/Lutz/Batmicrobiome/Nature_data_results/RDSfiles/oral_t.nona.df.csv\")\n",
    "skin.df = read.csv(\"/gpfs/data/gilbert-lab/Lutz/Batmicrobiome/Nature_data_results/RDSfiles/skin_t.nona.df.csv\")"
   ]
  },
  {
   "cell_type": "code",
   "execution_count": 1,
   "metadata": {},
   "outputs": [],
   "source": [
    "fecal.wunif = readRDS(\"/gpfs/data/gilbert-lab/Lutz/Batmicrobiome/Nature_data_results/Bdiv/nona_updates_19April2019/fecal.nona.wunif.rds\")\n",
    "oral.wunif = readRDS(\"/gpfs/data/gilbert-lab/Lutz/Batmicrobiome/Nature_data_results/Bdiv/nona_updates_19April2019/oral.nona.wunif.rds\")\n",
    "skin.wunif = readRDS(\"/gpfs/data/gilbert-lab/Lutz/Batmicrobiome/Nature_data_results/Bdiv/nona_updates_19April2019/skin.nona.wunif.rds\")\n"
   ]
  },
  {
   "cell_type": "markdown",
   "metadata": {},
   "source": [
    "### PERMANOVA of taxonomic ranks, nested"
   ]
  },
  {
   "cell_type": "code",
   "execution_count": 15,
   "metadata": {},
   "outputs": [
    {
     "data": {
      "text/html": [
       "<table>\n",
       "<thead><tr><th></th><th scope=col>Df</th><th scope=col>SumOfSqs</th><th scope=col>R2</th><th scope=col>F</th><th scope=col>Pr(&gt;F)</th></tr></thead>\n",
       "<tbody>\n",
       "\t<tr><th scope=row>Host_Family</th><td>  8       </td><td> 2.6256   </td><td>0.09992504</td><td>4.66278   </td><td>0.001     </td></tr>\n",
       "\t<tr><th scope=row>Residual</th><td>336       </td><td>23.6501   </td><td>0.90007496</td><td>     NA   </td><td>   NA     </td></tr>\n",
       "\t<tr><th scope=row>Total</th><td>344       </td><td>26.2757   </td><td>1.00000000</td><td>     NA   </td><td>   NA     </td></tr>\n",
       "</tbody>\n",
       "</table>\n"
      ],
      "text/latex": [
       "\\begin{tabular}{r|lllll}\n",
       "  & Df & SumOfSqs & R2 & F & Pr(>F)\\\\\n",
       "\\hline\n",
       "\tHost\\_Family &   8        &  2.6256    & 0.09992504 & 4.66278    & 0.001     \\\\\n",
       "\tResidual & 336        & 23.6501    & 0.90007496 &      NA    &    NA     \\\\\n",
       "\tTotal & 344        & 26.2757    & 1.00000000 &      NA    &    NA     \\\\\n",
       "\\end{tabular}\n"
      ],
      "text/markdown": [
       "\n",
       "| <!--/--> | Df | SumOfSqs | R2 | F | Pr(>F) |\n",
       "|---|---|---|---|---|---|\n",
       "| Host_Family |   8        |  2.6256    | 0.09992504 | 4.66278    | 0.001      |\n",
       "| Residual | 336        | 23.6501    | 0.90007496 |      NA    |    NA      |\n",
       "| Total | 344        | 26.2757    | 1.00000000 |      NA    |    NA      |\n",
       "\n"
      ],
      "text/plain": [
       "            Df  SumOfSqs R2         F       Pr(>F)\n",
       "Host_Family   8  2.6256  0.09992504 4.66278 0.001 \n",
       "Residual    336 23.6501  0.90007496      NA    NA \n",
       "Total       344 26.2757  1.00000000      NA    NA "
      ]
     },
     "metadata": {},
     "output_type": "display_data"
    },
    {
     "data": {
      "text/html": [
       "<table>\n",
       "<thead><tr><th></th><th scope=col>Df</th><th scope=col>SumOfSqs</th><th scope=col>R2</th><th scope=col>F</th><th scope=col>Pr(&gt;F)</th></tr></thead>\n",
       "<tbody>\n",
       "\t<tr><th scope=row>Host_Family:Host_Genus</th><td> 17      </td><td> 4.973166</td><td>0.1892687</td><td>4.490561 </td><td>0.001    </td></tr>\n",
       "\t<tr><th scope=row>Residual</th><td>327      </td><td>21.302530</td><td>0.8107313</td><td>      NA </td><td>   NA    </td></tr>\n",
       "\t<tr><th scope=row>Total</th><td>344      </td><td>26.275696</td><td>1.0000000</td><td>      NA </td><td>   NA    </td></tr>\n",
       "</tbody>\n",
       "</table>\n"
      ],
      "text/latex": [
       "\\begin{tabular}{r|lllll}\n",
       "  & Df & SumOfSqs & R2 & F & Pr(>F)\\\\\n",
       "\\hline\n",
       "\tHost\\_Family:Host\\_Genus &  17       &  4.973166 & 0.1892687 & 4.490561  & 0.001    \\\\\n",
       "\tResidual & 327       & 21.302530 & 0.8107313 &       NA  &    NA    \\\\\n",
       "\tTotal & 344       & 26.275696 & 1.0000000 &       NA  &    NA    \\\\\n",
       "\\end{tabular}\n"
      ],
      "text/markdown": [
       "\n",
       "| <!--/--> | Df | SumOfSqs | R2 | F | Pr(>F) |\n",
       "|---|---|---|---|---|---|\n",
       "| Host_Family:Host_Genus |  17       |  4.973166 | 0.1892687 | 4.490561  | 0.001     |\n",
       "| Residual | 327       | 21.302530 | 0.8107313 |       NA  |    NA     |\n",
       "| Total | 344       | 26.275696 | 1.0000000 |       NA  |    NA     |\n",
       "\n"
      ],
      "text/plain": [
       "                       Df  SumOfSqs  R2        F        Pr(>F)\n",
       "Host_Family:Host_Genus  17  4.973166 0.1892687 4.490561 0.001 \n",
       "Residual               327 21.302530 0.8107313       NA    NA \n",
       "Total                  344 26.275696 1.0000000       NA    NA "
      ]
     },
     "metadata": {},
     "output_type": "display_data"
    },
    {
     "data": {
      "text/html": [
       "<table>\n",
       "<thead><tr><th></th><th scope=col>Df</th><th scope=col>SumOfSqs</th><th scope=col>R2</th><th scope=col>F</th><th scope=col>Pr(&gt;F)</th></tr></thead>\n",
       "<tbody>\n",
       "\t<tr><th scope=row>Host_Family:Host_Genus:Host_species</th><td> 25      </td><td> 6.388973</td><td>0.2431514</td><td>4.099383 </td><td>0.001    </td></tr>\n",
       "\t<tr><th scope=row>Residual</th><td>319      </td><td>19.886723</td><td>0.7568486</td><td>      NA </td><td>   NA    </td></tr>\n",
       "\t<tr><th scope=row>Total</th><td>344      </td><td>26.275696</td><td>1.0000000</td><td>      NA </td><td>   NA    </td></tr>\n",
       "</tbody>\n",
       "</table>\n"
      ],
      "text/latex": [
       "\\begin{tabular}{r|lllll}\n",
       "  & Df & SumOfSqs & R2 & F & Pr(>F)\\\\\n",
       "\\hline\n",
       "\tHost\\_Family:Host\\_Genus:Host\\_species &  25       &  6.388973 & 0.2431514 & 4.099383  & 0.001    \\\\\n",
       "\tResidual & 319       & 19.886723 & 0.7568486 &       NA  &    NA    \\\\\n",
       "\tTotal & 344       & 26.275696 & 1.0000000 &       NA  &    NA    \\\\\n",
       "\\end{tabular}\n"
      ],
      "text/markdown": [
       "\n",
       "| <!--/--> | Df | SumOfSqs | R2 | F | Pr(>F) |\n",
       "|---|---|---|---|---|---|\n",
       "| Host_Family:Host_Genus:Host_species |  25       |  6.388973 | 0.2431514 | 4.099383  | 0.001     |\n",
       "| Residual | 319       | 19.886723 | 0.7568486 |       NA  |    NA     |\n",
       "| Total | 344       | 26.275696 | 1.0000000 |       NA  |    NA     |\n",
       "\n"
      ],
      "text/plain": [
       "                                    Df  SumOfSqs  R2        F        Pr(>F)\n",
       "Host_Family:Host_Genus:Host_species  25  6.388973 0.2431514 4.099383 0.001 \n",
       "Residual                            319 19.886723 0.7568486       NA    NA \n",
       "Total                               344 26.275696 1.0000000       NA    NA "
      ]
     },
     "metadata": {},
     "output_type": "display_data"
    }
   ],
   "source": [
    "# FECAL\n",
    "adonis2(fecal.wunif ~ Host_Family, nperm=999, data=fecal.df)\n",
    "adonis2(fecal.wunif ~ Host_Family:Host_Genus, nperm=999, data=fecal.df)\n",
    "adonis2(fecal.wunif ~ Host_Family:Host_Genus:Host_species, nperm=999, data=fecal.df)\n"
   ]
  },
  {
   "cell_type": "code",
   "execution_count": 16,
   "metadata": {},
   "outputs": [
    {
     "data": {
      "text/html": [
       "<table>\n",
       "<thead><tr><th></th><th scope=col>Df</th><th scope=col>SumOfSqs</th><th scope=col>R2</th><th scope=col>F</th><th scope=col>Pr(&gt;F)</th></tr></thead>\n",
       "<tbody>\n",
       "\t<tr><th scope=row>Host_Family</th><td>  8      </td><td> 4.407509</td><td>0.3004263</td><td>16.42616 </td><td>0.001    </td></tr>\n",
       "\t<tr><th scope=row>Residual</th><td>306      </td><td>10.263338</td><td>0.6995737</td><td>      NA </td><td>   NA    </td></tr>\n",
       "\t<tr><th scope=row>Total</th><td>314      </td><td>14.670847</td><td>1.0000000</td><td>      NA </td><td>   NA    </td></tr>\n",
       "</tbody>\n",
       "</table>\n"
      ],
      "text/latex": [
       "\\begin{tabular}{r|lllll}\n",
       "  & Df & SumOfSqs & R2 & F & Pr(>F)\\\\\n",
       "\\hline\n",
       "\tHost\\_Family &   8       &  4.407509 & 0.3004263 & 16.42616  & 0.001    \\\\\n",
       "\tResidual & 306       & 10.263338 & 0.6995737 &       NA  &    NA    \\\\\n",
       "\tTotal & 314       & 14.670847 & 1.0000000 &       NA  &    NA    \\\\\n",
       "\\end{tabular}\n"
      ],
      "text/markdown": [
       "\n",
       "| <!--/--> | Df | SumOfSqs | R2 | F | Pr(>F) |\n",
       "|---|---|---|---|---|---|\n",
       "| Host_Family |   8       |  4.407509 | 0.3004263 | 16.42616  | 0.001     |\n",
       "| Residual | 306       | 10.263338 | 0.6995737 |       NA  |    NA     |\n",
       "| Total | 314       | 14.670847 | 1.0000000 |       NA  |    NA     |\n",
       "\n"
      ],
      "text/plain": [
       "            Df  SumOfSqs  R2        F        Pr(>F)\n",
       "Host_Family   8  4.407509 0.3004263 16.42616 0.001 \n",
       "Residual    306 10.263338 0.6995737       NA    NA \n",
       "Total       314 14.670847 1.0000000       NA    NA "
      ]
     },
     "metadata": {},
     "output_type": "display_data"
    },
    {
     "data": {
      "text/html": [
       "<table>\n",
       "<thead><tr><th></th><th scope=col>Df</th><th scope=col>SumOfSqs</th><th scope=col>R2</th><th scope=col>F</th><th scope=col>Pr(&gt;F)</th></tr></thead>\n",
       "<tbody>\n",
       "\t<tr><th scope=row>Host_Family:Host_Genus</th><td> 17      </td><td> 5.122967</td><td>0.3491937</td><td>9.373939 </td><td>0.001    </td></tr>\n",
       "\t<tr><th scope=row>Residual</th><td>297      </td><td> 9.547880</td><td>0.6508063</td><td>      NA </td><td>   NA    </td></tr>\n",
       "\t<tr><th scope=row>Total</th><td>314      </td><td>14.670847</td><td>1.0000000</td><td>      NA </td><td>   NA    </td></tr>\n",
       "</tbody>\n",
       "</table>\n"
      ],
      "text/latex": [
       "\\begin{tabular}{r|lllll}\n",
       "  & Df & SumOfSqs & R2 & F & Pr(>F)\\\\\n",
       "\\hline\n",
       "\tHost\\_Family:Host\\_Genus &  17       &  5.122967 & 0.3491937 & 9.373939  & 0.001    \\\\\n",
       "\tResidual & 297       &  9.547880 & 0.6508063 &       NA  &    NA    \\\\\n",
       "\tTotal & 314       & 14.670847 & 1.0000000 &       NA  &    NA    \\\\\n",
       "\\end{tabular}\n"
      ],
      "text/markdown": [
       "\n",
       "| <!--/--> | Df | SumOfSqs | R2 | F | Pr(>F) |\n",
       "|---|---|---|---|---|---|\n",
       "| Host_Family:Host_Genus |  17       |  5.122967 | 0.3491937 | 9.373939  | 0.001     |\n",
       "| Residual | 297       |  9.547880 | 0.6508063 |       NA  |    NA     |\n",
       "| Total | 314       | 14.670847 | 1.0000000 |       NA  |    NA     |\n",
       "\n"
      ],
      "text/plain": [
       "                       Df  SumOfSqs  R2        F        Pr(>F)\n",
       "Host_Family:Host_Genus  17  5.122967 0.3491937 9.373939 0.001 \n",
       "Residual               297  9.547880 0.6508063       NA    NA \n",
       "Total                  314 14.670847 1.0000000       NA    NA "
      ]
     },
     "metadata": {},
     "output_type": "display_data"
    },
    {
     "data": {
      "text/html": [
       "<table>\n",
       "<thead><tr><th></th><th scope=col>Df</th><th scope=col>SumOfSqs</th><th scope=col>R2</th><th scope=col>F</th><th scope=col>Pr(&gt;F)</th></tr></thead>\n",
       "<tbody>\n",
       "\t<tr><th scope=row>Host_Family:Host_Genus:Host_species</th><td> 27      </td><td> 7.181519</td><td>0.4895095</td><td>10.19276 </td><td>0.001    </td></tr>\n",
       "\t<tr><th scope=row>Residual</th><td>287      </td><td> 7.489328</td><td>0.5104905</td><td>      NA </td><td>   NA    </td></tr>\n",
       "\t<tr><th scope=row>Total</th><td>314      </td><td>14.670847</td><td>1.0000000</td><td>      NA </td><td>   NA    </td></tr>\n",
       "</tbody>\n",
       "</table>\n"
      ],
      "text/latex": [
       "\\begin{tabular}{r|lllll}\n",
       "  & Df & SumOfSqs & R2 & F & Pr(>F)\\\\\n",
       "\\hline\n",
       "\tHost\\_Family:Host\\_Genus:Host\\_species &  27       &  7.181519 & 0.4895095 & 10.19276  & 0.001    \\\\\n",
       "\tResidual & 287       &  7.489328 & 0.5104905 &       NA  &    NA    \\\\\n",
       "\tTotal & 314       & 14.670847 & 1.0000000 &       NA  &    NA    \\\\\n",
       "\\end{tabular}\n"
      ],
      "text/markdown": [
       "\n",
       "| <!--/--> | Df | SumOfSqs | R2 | F | Pr(>F) |\n",
       "|---|---|---|---|---|---|\n",
       "| Host_Family:Host_Genus:Host_species |  27       |  7.181519 | 0.4895095 | 10.19276  | 0.001     |\n",
       "| Residual | 287       |  7.489328 | 0.5104905 |       NA  |    NA     |\n",
       "| Total | 314       | 14.670847 | 1.0000000 |       NA  |    NA     |\n",
       "\n"
      ],
      "text/plain": [
       "                                    Df  SumOfSqs  R2        F        Pr(>F)\n",
       "Host_Family:Host_Genus:Host_species  27  7.181519 0.4895095 10.19276 0.001 \n",
       "Residual                            287  7.489328 0.5104905       NA    NA \n",
       "Total                               314 14.670847 1.0000000       NA    NA "
      ]
     },
     "metadata": {},
     "output_type": "display_data"
    }
   ],
   "source": [
    "# ORAL\n",
    "adonis2(oral.wunif ~ Host_Family, nperm=999, data=oral.df)\n",
    "adonis2(oral.wunif ~ Host_Family:Host_Genus, nperm=999, data=oral.df)\n",
    "adonis2(oral.wunif ~ Host_Family:Host_Genus:Host_species, nperm=999, data=oral.df)\n"
   ]
  },
  {
   "cell_type": "code",
   "execution_count": 17,
   "metadata": {},
   "outputs": [
    {
     "data": {
      "text/html": [
       "<table>\n",
       "<thead><tr><th></th><th scope=col>Df</th><th scope=col>SumOfSqs</th><th scope=col>R2</th><th scope=col>F</th><th scope=col>Pr(&gt;F)</th></tr></thead>\n",
       "<tbody>\n",
       "\t<tr><th scope=row>Host_Family</th><td>  8      </td><td> 4.114379</td><td>0.1993104</td><td>11.10821 </td><td>0.001    </td></tr>\n",
       "\t<tr><th scope=row>Residual</th><td>357      </td><td>16.528692</td><td>0.8006896</td><td>      NA </td><td>   NA    </td></tr>\n",
       "\t<tr><th scope=row>Total</th><td>365      </td><td>20.643071</td><td>1.0000000</td><td>      NA </td><td>   NA    </td></tr>\n",
       "</tbody>\n",
       "</table>\n"
      ],
      "text/latex": [
       "\\begin{tabular}{r|lllll}\n",
       "  & Df & SumOfSqs & R2 & F & Pr(>F)\\\\\n",
       "\\hline\n",
       "\tHost\\_Family &   8       &  4.114379 & 0.1993104 & 11.10821  & 0.001    \\\\\n",
       "\tResidual & 357       & 16.528692 & 0.8006896 &       NA  &    NA    \\\\\n",
       "\tTotal & 365       & 20.643071 & 1.0000000 &       NA  &    NA    \\\\\n",
       "\\end{tabular}\n"
      ],
      "text/markdown": [
       "\n",
       "| <!--/--> | Df | SumOfSqs | R2 | F | Pr(>F) |\n",
       "|---|---|---|---|---|---|\n",
       "| Host_Family |   8       |  4.114379 | 0.1993104 | 11.10821  | 0.001     |\n",
       "| Residual | 357       | 16.528692 | 0.8006896 |       NA  |    NA     |\n",
       "| Total | 365       | 20.643071 | 1.0000000 |       NA  |    NA     |\n",
       "\n"
      ],
      "text/plain": [
       "            Df  SumOfSqs  R2        F        Pr(>F)\n",
       "Host_Family   8  4.114379 0.1993104 11.10821 0.001 \n",
       "Residual    357 16.528692 0.8006896       NA    NA \n",
       "Total       365 20.643071 1.0000000       NA    NA "
      ]
     },
     "metadata": {},
     "output_type": "display_data"
    },
    {
     "data": {
      "text/html": [
       "<table>\n",
       "<thead><tr><th></th><th scope=col>Df</th><th scope=col>SumOfSqs</th><th scope=col>R2</th><th scope=col>F</th><th scope=col>Pr(&gt;F)</th></tr></thead>\n",
       "<tbody>\n",
       "\t<tr><th scope=row>Host_Family:Host_Genus</th><td> 16      </td><td> 5.435218</td><td>0.2632951</td><td>7.79569  </td><td>0.001    </td></tr>\n",
       "\t<tr><th scope=row>Residual</th><td>349      </td><td>15.207852</td><td>0.7367049</td><td>     NA  </td><td>   NA    </td></tr>\n",
       "\t<tr><th scope=row>Total</th><td>365      </td><td>20.643071</td><td>1.0000000</td><td>     NA  </td><td>   NA    </td></tr>\n",
       "</tbody>\n",
       "</table>\n"
      ],
      "text/latex": [
       "\\begin{tabular}{r|lllll}\n",
       "  & Df & SumOfSqs & R2 & F & Pr(>F)\\\\\n",
       "\\hline\n",
       "\tHost\\_Family:Host\\_Genus &  16       &  5.435218 & 0.2632951 & 7.79569   & 0.001    \\\\\n",
       "\tResidual & 349       & 15.207852 & 0.7367049 &      NA   &    NA    \\\\\n",
       "\tTotal & 365       & 20.643071 & 1.0000000 &      NA   &    NA    \\\\\n",
       "\\end{tabular}\n"
      ],
      "text/markdown": [
       "\n",
       "| <!--/--> | Df | SumOfSqs | R2 | F | Pr(>F) |\n",
       "|---|---|---|---|---|---|\n",
       "| Host_Family:Host_Genus |  16       |  5.435218 | 0.2632951 | 7.79569   | 0.001     |\n",
       "| Residual | 349       | 15.207852 | 0.7367049 |      NA   |    NA     |\n",
       "| Total | 365       | 20.643071 | 1.0000000 |      NA   |    NA     |\n",
       "\n"
      ],
      "text/plain": [
       "                       Df  SumOfSqs  R2        F       Pr(>F)\n",
       "Host_Family:Host_Genus  16  5.435218 0.2632951 7.79569 0.001 \n",
       "Residual               349 15.207852 0.7367049      NA    NA \n",
       "Total                  365 20.643071 1.0000000      NA    NA "
      ]
     },
     "metadata": {},
     "output_type": "display_data"
    },
    {
     "data": {
      "text/html": [
       "<table>\n",
       "<thead><tr><th></th><th scope=col>Df</th><th scope=col>SumOfSqs</th><th scope=col>R2</th><th scope=col>F</th><th scope=col>Pr(&gt;F)</th></tr></thead>\n",
       "<tbody>\n",
       "\t<tr><th scope=row>Host_Family:Host_Genus:Host_species</th><td> 27      </td><td> 8.269915</td><td>0.4006146</td><td>8.367072 </td><td>0.001    </td></tr>\n",
       "\t<tr><th scope=row>Residual</th><td>338      </td><td>12.373156</td><td>0.5993854</td><td>      NA </td><td>   NA    </td></tr>\n",
       "\t<tr><th scope=row>Total</th><td>365      </td><td>20.643071</td><td>1.0000000</td><td>      NA </td><td>   NA    </td></tr>\n",
       "</tbody>\n",
       "</table>\n"
      ],
      "text/latex": [
       "\\begin{tabular}{r|lllll}\n",
       "  & Df & SumOfSqs & R2 & F & Pr(>F)\\\\\n",
       "\\hline\n",
       "\tHost\\_Family:Host\\_Genus:Host\\_species &  27       &  8.269915 & 0.4006146 & 8.367072  & 0.001    \\\\\n",
       "\tResidual & 338       & 12.373156 & 0.5993854 &       NA  &    NA    \\\\\n",
       "\tTotal & 365       & 20.643071 & 1.0000000 &       NA  &    NA    \\\\\n",
       "\\end{tabular}\n"
      ],
      "text/markdown": [
       "\n",
       "| <!--/--> | Df | SumOfSqs | R2 | F | Pr(>F) |\n",
       "|---|---|---|---|---|---|\n",
       "| Host_Family:Host_Genus:Host_species |  27       |  8.269915 | 0.4006146 | 8.367072  | 0.001     |\n",
       "| Residual | 338       | 12.373156 | 0.5993854 |       NA  |    NA     |\n",
       "| Total | 365       | 20.643071 | 1.0000000 |       NA  |    NA     |\n",
       "\n"
      ],
      "text/plain": [
       "                                    Df  SumOfSqs  R2        F        Pr(>F)\n",
       "Host_Family:Host_Genus:Host_species  27  8.269915 0.4006146 8.367072 0.001 \n",
       "Residual                            338 12.373156 0.5993854       NA    NA \n",
       "Total                               365 20.643071 1.0000000       NA    NA "
      ]
     },
     "metadata": {},
     "output_type": "display_data"
    }
   ],
   "source": [
    "# SKIN\n",
    "adonis2(skin.wunif ~ Host_Family, nperm=999, data=skin.df)\n",
    "adonis2(skin.wunif ~ Host_Family:Host_Genus, nperm=999, data=skin.df)\n",
    "adonis2(skin.wunif ~ Host_Family:Host_Genus:Host_species, nperm=999, data=skin.df)\n"
   ]
  },
  {
   "cell_type": "markdown",
   "metadata": {},
   "source": [
    "### PERMANOVA of host variables"
   ]
  },
  {
   "cell_type": "code",
   "execution_count": 7,
   "metadata": {},
   "outputs": [
    {
     "data": {
      "text/html": [
       "<table>\n",
       "<thead><tr><th></th><th scope=col>Df</th><th scope=col>SumOfSqs</th><th scope=col>R2</th><th scope=col>F</th><th scope=col>Pr(&gt;F)</th></tr></thead>\n",
       "<tbody>\n",
       "\t<tr><th scope=row>Site_name</th><td> 16      </td><td> 4.17091 </td><td>0.1587364</td><td>3.868106 </td><td>0.001    </td></tr>\n",
       "\t<tr><th scope=row>Residual</th><td>328      </td><td>22.10479 </td><td>0.8412636</td><td>      NA </td><td>   NA    </td></tr>\n",
       "\t<tr><th scope=row>Total</th><td>344      </td><td>26.27570 </td><td>1.0000000</td><td>      NA </td><td>   NA    </td></tr>\n",
       "</tbody>\n",
       "</table>\n"
      ],
      "text/latex": [
       "\\begin{tabular}{r|lllll}\n",
       "  & Df & SumOfSqs & R2 & F & Pr(>F)\\\\\n",
       "\\hline\n",
       "\tSite\\_name &  16       &  4.17091  & 0.1587364 & 3.868106  & 0.001    \\\\\n",
       "\tResidual & 328       & 22.10479  & 0.8412636 &       NA  &    NA    \\\\\n",
       "\tTotal & 344       & 26.27570  & 1.0000000 &       NA  &    NA    \\\\\n",
       "\\end{tabular}\n"
      ],
      "text/markdown": [
       "\n",
       "| <!--/--> | Df | SumOfSqs | R2 | F | Pr(>F) |\n",
       "|---|---|---|---|---|---|\n",
       "| Site_name |  16       |  4.17091  | 0.1587364 | 3.868106  | 0.001     |\n",
       "| Residual | 328       | 22.10479  | 0.8412636 |       NA  |    NA     |\n",
       "| Total | 344       | 26.27570  | 1.0000000 |       NA  |    NA     |\n",
       "\n"
      ],
      "text/plain": [
       "          Df  SumOfSqs R2        F        Pr(>F)\n",
       "Site_name  16  4.17091 0.1587364 3.868106 0.001 \n",
       "Residual  328 22.10479 0.8412636       NA    NA \n",
       "Total     344 26.27570 1.0000000       NA    NA "
      ]
     },
     "metadata": {},
     "output_type": "display_data"
    },
    {
     "data": {
      "text/html": [
       "<table>\n",
       "<thead><tr><th></th><th scope=col>Df</th><th scope=col>SumOfSqs</th><th scope=col>R2</th><th scope=col>F</th><th scope=col>Pr(&gt;F)</th></tr></thead>\n",
       "<tbody>\n",
       "\t<tr><th scope=row>Diet</th><td>  1       </td><td> 1.120455 </td><td>0.04264225</td><td>15.27777  </td><td>0.001     </td></tr>\n",
       "\t<tr><th scope=row>Residual</th><td>343       </td><td>25.155242 </td><td>0.95735775</td><td>      NA  </td><td>   NA     </td></tr>\n",
       "\t<tr><th scope=row>Total</th><td>344       </td><td>26.275696 </td><td>1.00000000</td><td>      NA  </td><td>   NA     </td></tr>\n",
       "</tbody>\n",
       "</table>\n"
      ],
      "text/latex": [
       "\\begin{tabular}{r|lllll}\n",
       "  & Df & SumOfSqs & R2 & F & Pr(>F)\\\\\n",
       "\\hline\n",
       "\tDiet &   1        &  1.120455  & 0.04264225 & 15.27777   & 0.001     \\\\\n",
       "\tResidual & 343        & 25.155242  & 0.95735775 &       NA   &    NA     \\\\\n",
       "\tTotal & 344        & 26.275696  & 1.00000000 &       NA   &    NA     \\\\\n",
       "\\end{tabular}\n"
      ],
      "text/markdown": [
       "\n",
       "| <!--/--> | Df | SumOfSqs | R2 | F | Pr(>F) |\n",
       "|---|---|---|---|---|---|\n",
       "| Diet |   1        |  1.120455  | 0.04264225 | 15.27777   | 0.001      |\n",
       "| Residual | 343        | 25.155242  | 0.95735775 |       NA   |    NA      |\n",
       "| Total | 344        | 26.275696  | 1.00000000 |       NA   |    NA      |\n",
       "\n"
      ],
      "text/plain": [
       "         Df  SumOfSqs  R2         F        Pr(>F)\n",
       "Diet       1  1.120455 0.04264225 15.27777 0.001 \n",
       "Residual 343 25.155242 0.95735775       NA    NA \n",
       "Total    344 26.275696 1.00000000       NA    NA "
      ]
     },
     "metadata": {},
     "output_type": "display_data"
    },
    {
     "data": {
      "text/html": [
       "<table>\n",
       "<thead><tr><th></th><th scope=col>Df</th><th scope=col>SumOfSqs</th><th scope=col>R2</th><th scope=col>F</th><th scope=col>Pr(&gt;F)</th></tr></thead>\n",
       "<tbody>\n",
       "\t<tr><th scope=row>Site_name</th><td> 15         </td><td>1.901436e+00</td><td>7.236483e-02</td><td>2.142628    </td><td>0.001       </td></tr>\n",
       "\t<tr><th scope=row>Host_species</th><td> 23         </td><td>3.679929e+00</td><td>1.400507e-01</td><td>2.704381    </td><td>0.001       </td></tr>\n",
       "\t<tr><th scope=row>Diet</th><td>  0         </td><td>3.552714e-15</td><td>1.352091e-16</td><td>     Inf    </td><td>   NA       </td></tr>\n",
       "\t<tr><th scope=row>Residual</th><td>304         </td><td>1.798529e+01</td><td>6.844837e-01</td><td>      NA    </td><td>   NA       </td></tr>\n",
       "\t<tr><th scope=row>Total</th><td>344         </td><td>2.627570e+01</td><td>1.000000e+00</td><td>      NA    </td><td>   NA       </td></tr>\n",
       "</tbody>\n",
       "</table>\n"
      ],
      "text/latex": [
       "\\begin{tabular}{r|lllll}\n",
       "  & Df & SumOfSqs & R2 & F & Pr(>F)\\\\\n",
       "\\hline\n",
       "\tSite\\_name &  15          & 1.901436e+00 & 7.236483e-02 & 2.142628     & 0.001       \\\\\n",
       "\tHost\\_species &  23          & 3.679929e+00 & 1.400507e-01 & 2.704381     & 0.001       \\\\\n",
       "\tDiet &   0          & 3.552714e-15 & 1.352091e-16 &      Inf     &    NA       \\\\\n",
       "\tResidual & 304          & 1.798529e+01 & 6.844837e-01 &       NA     &    NA       \\\\\n",
       "\tTotal & 344          & 2.627570e+01 & 1.000000e+00 &       NA     &    NA       \\\\\n",
       "\\end{tabular}\n"
      ],
      "text/markdown": [
       "\n",
       "| <!--/--> | Df | SumOfSqs | R2 | F | Pr(>F) |\n",
       "|---|---|---|---|---|---|\n",
       "| Site_name |  15          | 1.901436e+00 | 7.236483e-02 | 2.142628     | 0.001        |\n",
       "| Host_species |  23          | 3.679929e+00 | 1.400507e-01 | 2.704381     | 0.001        |\n",
       "| Diet |   0          | 3.552714e-15 | 1.352091e-16 |      Inf     |    NA        |\n",
       "| Residual | 304          | 1.798529e+01 | 6.844837e-01 |       NA     |    NA        |\n",
       "| Total | 344          | 2.627570e+01 | 1.000000e+00 |       NA     |    NA        |\n",
       "\n"
      ],
      "text/plain": [
       "             Df  SumOfSqs     R2           F        Pr(>F)\n",
       "Site_name     15 1.901436e+00 7.236483e-02 2.142628 0.001 \n",
       "Host_species  23 3.679929e+00 1.400507e-01 2.704381 0.001 \n",
       "Diet           0 3.552714e-15 1.352091e-16      Inf    NA \n",
       "Residual     304 1.798529e+01 6.844837e-01       NA    NA \n",
       "Total        344 2.627570e+01 1.000000e+00       NA    NA "
      ]
     },
     "metadata": {},
     "output_type": "display_data"
    },
    {
     "data": {
      "text/html": [
       "<table>\n",
       "<thead><tr><th></th><th scope=col>Df</th><th scope=col>SumOfSqs</th><th scope=col>R2</th><th scope=col>F</th><th scope=col>Pr(&gt;F)</th></tr></thead>\n",
       "<tbody>\n",
       "\t<tr><th scope=row>Age</th><td>  2        </td><td> 0.26657107</td><td>0.010145157</td><td> 1.8175397 </td><td>0.039      </td></tr>\n",
       "\t<tr><th scope=row>Sex</th><td>  1        </td><td> 0.04227201</td><td>0.001608788</td><td> 0.5764396 </td><td>0.854      </td></tr>\n",
       "\t<tr><th scope=row>Weight</th><td>  1        </td><td> 0.95914109</td><td>0.036502975</td><td>13.0792663 </td><td>0.001      </td></tr>\n",
       "\t<tr><th scope=row>Residual</th><td>340        </td><td>24.93320046</td><td>0.948907313</td><td>        NA </td><td>   NA      </td></tr>\n",
       "\t<tr><th scope=row>Total</th><td>344        </td><td>26.27569639</td><td>1.000000000</td><td>        NA </td><td>   NA      </td></tr>\n",
       "</tbody>\n",
       "</table>\n"
      ],
      "text/latex": [
       "\\begin{tabular}{r|lllll}\n",
       "  & Df & SumOfSqs & R2 & F & Pr(>F)\\\\\n",
       "\\hline\n",
       "\tAge &   2         &  0.26657107 & 0.010145157 &  1.8175397  & 0.039      \\\\\n",
       "\tSex &   1         &  0.04227201 & 0.001608788 &  0.5764396  & 0.854      \\\\\n",
       "\tWeight &   1         &  0.95914109 & 0.036502975 & 13.0792663  & 0.001      \\\\\n",
       "\tResidual & 340         & 24.93320046 & 0.948907313 &         NA  &    NA      \\\\\n",
       "\tTotal & 344         & 26.27569639 & 1.000000000 &         NA  &    NA      \\\\\n",
       "\\end{tabular}\n"
      ],
      "text/markdown": [
       "\n",
       "| <!--/--> | Df | SumOfSqs | R2 | F | Pr(>F) |\n",
       "|---|---|---|---|---|---|\n",
       "| Age |   2         |  0.26657107 | 0.010145157 |  1.8175397  | 0.039       |\n",
       "| Sex |   1         |  0.04227201 | 0.001608788 |  0.5764396  | 0.854       |\n",
       "| Weight |   1         |  0.95914109 | 0.036502975 | 13.0792663  | 0.001       |\n",
       "| Residual | 340         | 24.93320046 | 0.948907313 |         NA  |    NA       |\n",
       "| Total | 344         | 26.27569639 | 1.000000000 |         NA  |    NA       |\n",
       "\n"
      ],
      "text/plain": [
       "         Df  SumOfSqs    R2          F          Pr(>F)\n",
       "Age        2  0.26657107 0.010145157  1.8175397 0.039 \n",
       "Sex        1  0.04227201 0.001608788  0.5764396 0.854 \n",
       "Weight     1  0.95914109 0.036502975 13.0792663 0.001 \n",
       "Residual 340 24.93320046 0.948907313         NA    NA \n",
       "Total    344 26.27569639 1.000000000         NA    NA "
      ]
     },
     "metadata": {},
     "output_type": "display_data"
    }
   ],
   "source": [
    "# FECAL\n",
    "adonis2(fecal.wunif ~ Site_name, nperm=999, data=fecal.df)\n",
    "adonis2(fecal.wunif ~ Diet, strata = Site_name, nperm=999, data=fecal.df)\n",
    "adonis2(fecal.wunif ~ Site_name + Host_species + Diet, by=\"margin\", nperm=999, data=fecal.df)\n",
    "adonis2(fecal.wunif ~ Age + Sex + Weight, strata = Host_species, by=\"margin\", nperm=999, data=fecal.df)"
   ]
  },
  {
   "cell_type": "code",
   "execution_count": 34,
   "metadata": {},
   "outputs": [
    {
     "data": {
      "text/html": [
       "<ol class=list-inline>\n",
       "\t<li>0.0585</li>\n",
       "\t<li>0.859</li>\n",
       "\t<li>0.003</li>\n",
       "</ol>\n"
      ],
      "text/latex": [
       "\\begin{enumerate*}\n",
       "\\item 0.0585\n",
       "\\item 0.859\n",
       "\\item 0.003\n",
       "\\end{enumerate*}\n"
      ],
      "text/markdown": [
       "1. 0.0585\n",
       "2. 0.859\n",
       "3. 0.003\n",
       "\n",
       "\n"
      ],
      "text/plain": [
       "[1] 0.0585 0.8590 0.0030"
      ]
     },
     "metadata": {},
     "output_type": "display_data"
    }
   ],
   "source": [
    "#FDR p-value correction\n",
    "p = c(\"0.039\",\"0.859\",\"0.001\")\n",
    "p.adjust(p, method = \"fdr\", n = length(p))"
   ]
  },
  {
   "cell_type": "code",
   "execution_count": 14,
   "metadata": {},
   "outputs": [
    {
     "data": {
      "text/html": [
       "<table>\n",
       "<thead><tr><th></th><th scope=col>Df</th><th scope=col>SumOfSqs</th><th scope=col>R2</th><th scope=col>F</th><th scope=col>Pr(&gt;F)</th></tr></thead>\n",
       "<tbody>\n",
       "\t<tr><th scope=row>Site_name</th><td> 15      </td><td> 3.67107 </td><td>0.2502289</td><td>6.65256  </td><td>0.001    </td></tr>\n",
       "\t<tr><th scope=row>Residual</th><td>299      </td><td>10.99978 </td><td>0.7497711</td><td>     NA  </td><td>   NA    </td></tr>\n",
       "\t<tr><th scope=row>Total</th><td>314      </td><td>14.67085 </td><td>1.0000000</td><td>     NA  </td><td>   NA    </td></tr>\n",
       "</tbody>\n",
       "</table>\n"
      ],
      "text/latex": [
       "\\begin{tabular}{r|lllll}\n",
       "  & Df & SumOfSqs & R2 & F & Pr(>F)\\\\\n",
       "\\hline\n",
       "\tSite\\_name &  15       &  3.67107  & 0.2502289 & 6.65256   & 0.001    \\\\\n",
       "\tResidual & 299       & 10.99978  & 0.7497711 &      NA   &    NA    \\\\\n",
       "\tTotal & 314       & 14.67085  & 1.0000000 &      NA   &    NA    \\\\\n",
       "\\end{tabular}\n"
      ],
      "text/markdown": [
       "\n",
       "| <!--/--> | Df | SumOfSqs | R2 | F | Pr(>F) |\n",
       "|---|---|---|---|---|---|\n",
       "| Site_name |  15       |  3.67107  | 0.2502289 | 6.65256   | 0.001     |\n",
       "| Residual | 299       | 10.99978  | 0.7497711 |      NA   |    NA     |\n",
       "| Total | 314       | 14.67085  | 1.0000000 |      NA   |    NA     |\n",
       "\n"
      ],
      "text/plain": [
       "          Df  SumOfSqs R2        F       Pr(>F)\n",
       "Site_name  15  3.67107 0.2502289 6.65256 0.001 \n",
       "Residual  299 10.99978 0.7497711      NA    NA \n",
       "Total     314 14.67085 1.0000000      NA    NA "
      ]
     },
     "metadata": {},
     "output_type": "display_data"
    },
    {
     "data": {
      "text/html": [
       "<table>\n",
       "<thead><tr><th></th><th scope=col>Df</th><th scope=col>SumOfSqs</th><th scope=col>R2</th><th scope=col>F</th><th scope=col>Pr(&gt;F)</th></tr></thead>\n",
       "<tbody>\n",
       "\t<tr><th scope=row>Diet</th><td>  1      </td><td> 2.08935 </td><td>0.1424151</td><td>51.97843 </td><td>0.001    </td></tr>\n",
       "\t<tr><th scope=row>Residual</th><td>313      </td><td>12.58150 </td><td>0.8575849</td><td>      NA </td><td>   NA    </td></tr>\n",
       "\t<tr><th scope=row>Total</th><td>314      </td><td>14.67085 </td><td>1.0000000</td><td>      NA </td><td>   NA    </td></tr>\n",
       "</tbody>\n",
       "</table>\n"
      ],
      "text/latex": [
       "\\begin{tabular}{r|lllll}\n",
       "  & Df & SumOfSqs & R2 & F & Pr(>F)\\\\\n",
       "\\hline\n",
       "\tDiet &   1       &  2.08935  & 0.1424151 & 51.97843  & 0.001    \\\\\n",
       "\tResidual & 313       & 12.58150  & 0.8575849 &       NA  &    NA    \\\\\n",
       "\tTotal & 314       & 14.67085  & 1.0000000 &       NA  &    NA    \\\\\n",
       "\\end{tabular}\n"
      ],
      "text/markdown": [
       "\n",
       "| <!--/--> | Df | SumOfSqs | R2 | F | Pr(>F) |\n",
       "|---|---|---|---|---|---|\n",
       "| Diet |   1       |  2.08935  | 0.1424151 | 51.97843  | 0.001     |\n",
       "| Residual | 313       | 12.58150  | 0.8575849 |       NA  |    NA     |\n",
       "| Total | 314       | 14.67085  | 1.0000000 |       NA  |    NA     |\n",
       "\n"
      ],
      "text/plain": [
       "         Df  SumOfSqs R2        F        Pr(>F)\n",
       "Diet       1  2.08935 0.1424151 51.97843 0.001 \n",
       "Residual 313 12.58150 0.8575849       NA    NA \n",
       "Total    314 14.67085 1.0000000       NA    NA "
      ]
     },
     "metadata": {},
     "output_type": "display_data"
    },
    {
     "data": {
      "text/html": [
       "<table>\n",
       "<thead><tr><th></th><th scope=col>Df</th><th scope=col>SumOfSqs</th><th scope=col>R2</th><th scope=col>F</th><th scope=col>Pr(&gt;F)</th></tr></thead>\n",
       "<tbody>\n",
       "\t<tr><th scope=row>Site_name</th><td> 13       </td><td> 0.7024475</td><td>0.0478805 </td><td>2.181478  </td><td>0.001     </td></tr>\n",
       "\t<tr><th scope=row>Host_species</th><td> 25       </td><td> 4.2128964</td><td>0.2871611 </td><td>6.803324  </td><td>0.001     </td></tr>\n",
       "\t<tr><th scope=row>Residual</th><td>274       </td><td> 6.7868803</td><td>0.4626100 </td><td>      NA  </td><td>   NA     </td></tr>\n",
       "\t<tr><th scope=row>Total</th><td>314       </td><td>14.6708472</td><td>1.0000000 </td><td>      NA  </td><td>   NA     </td></tr>\n",
       "</tbody>\n",
       "</table>\n"
      ],
      "text/latex": [
       "\\begin{tabular}{r|lllll}\n",
       "  & Df & SumOfSqs & R2 & F & Pr(>F)\\\\\n",
       "\\hline\n",
       "\tSite\\_name &  13        &  0.7024475 & 0.0478805  & 2.181478   & 0.001     \\\\\n",
       "\tHost\\_species &  25        &  4.2128964 & 0.2871611  & 6.803324   & 0.001     \\\\\n",
       "\tResidual & 274        &  6.7868803 & 0.4626100  &       NA   &    NA     \\\\\n",
       "\tTotal & 314        & 14.6708472 & 1.0000000  &       NA   &    NA     \\\\\n",
       "\\end{tabular}\n"
      ],
      "text/markdown": [
       "\n",
       "| <!--/--> | Df | SumOfSqs | R2 | F | Pr(>F) |\n",
       "|---|---|---|---|---|---|\n",
       "| Site_name |  13        |  0.7024475 | 0.0478805  | 2.181478   | 0.001      |\n",
       "| Host_species |  25        |  4.2128964 | 0.2871611  | 6.803324   | 0.001      |\n",
       "| Residual | 274        |  6.7868803 | 0.4626100  |       NA   |    NA      |\n",
       "| Total | 314        | 14.6708472 | 1.0000000  |       NA   |    NA      |\n",
       "\n"
      ],
      "text/plain": [
       "             Df  SumOfSqs   R2        F        Pr(>F)\n",
       "Site_name     13  0.7024475 0.0478805 2.181478 0.001 \n",
       "Host_species  25  4.2128964 0.2871611 6.803324 0.001 \n",
       "Residual     274  6.7868803 0.4626100       NA    NA \n",
       "Total        314 14.6708472 1.0000000       NA    NA "
      ]
     },
     "metadata": {},
     "output_type": "display_data"
    },
    {
     "data": {
      "text/html": [
       "<table>\n",
       "<thead><tr><th></th><th scope=col>Df</th><th scope=col>SumOfSqs</th><th scope=col>R2</th><th scope=col>F</th><th scope=col>Pr(&gt;F)</th></tr></thead>\n",
       "<tbody>\n",
       "\t<tr><th scope=row>Age</th><td>  2        </td><td> 0.2535351 </td><td>0.017281558</td><td> 3.083883  </td><td>0.003      </td></tr>\n",
       "\t<tr><th scope=row>Sex</th><td>  1        </td><td> 0.1389525 </td><td>0.009471337</td><td> 3.380308  </td><td>0.009      </td></tr>\n",
       "\t<tr><th scope=row>Weight</th><td>  1        </td><td> 1.3041164 </td><td>0.088891691</td><td>31.725328  </td><td>0.001      </td></tr>\n",
       "\t<tr><th scope=row>Residual</th><td>310        </td><td>12.7430073 </td><td>0.868593829</td><td>       NA  </td><td>   NA      </td></tr>\n",
       "\t<tr><th scope=row>Total</th><td>314        </td><td>14.6708472 </td><td>1.000000000</td><td>       NA  </td><td>   NA      </td></tr>\n",
       "</tbody>\n",
       "</table>\n"
      ],
      "text/latex": [
       "\\begin{tabular}{r|lllll}\n",
       "  & Df & SumOfSqs & R2 & F & Pr(>F)\\\\\n",
       "\\hline\n",
       "\tAge &   2         &  0.2535351  & 0.017281558 &  3.083883   & 0.003      \\\\\n",
       "\tSex &   1         &  0.1389525  & 0.009471337 &  3.380308   & 0.009      \\\\\n",
       "\tWeight &   1         &  1.3041164  & 0.088891691 & 31.725328   & 0.001      \\\\\n",
       "\tResidual & 310         & 12.7430073  & 0.868593829 &        NA   &    NA      \\\\\n",
       "\tTotal & 314         & 14.6708472  & 1.000000000 &        NA   &    NA      \\\\\n",
       "\\end{tabular}\n"
      ],
      "text/markdown": [
       "\n",
       "| <!--/--> | Df | SumOfSqs | R2 | F | Pr(>F) |\n",
       "|---|---|---|---|---|---|\n",
       "| Age |   2         |  0.2535351  | 0.017281558 |  3.083883   | 0.003       |\n",
       "| Sex |   1         |  0.1389525  | 0.009471337 |  3.380308   | 0.009       |\n",
       "| Weight |   1         |  1.3041164  | 0.088891691 | 31.725328   | 0.001       |\n",
       "| Residual | 310         | 12.7430073  | 0.868593829 |        NA   |    NA       |\n",
       "| Total | 314         | 14.6708472  | 1.000000000 |        NA   |    NA       |\n",
       "\n"
      ],
      "text/plain": [
       "         Df  SumOfSqs   R2          F         Pr(>F)\n",
       "Age        2  0.2535351 0.017281558  3.083883 0.003 \n",
       "Sex        1  0.1389525 0.009471337  3.380308 0.009 \n",
       "Weight     1  1.3041164 0.088891691 31.725328 0.001 \n",
       "Residual 310 12.7430073 0.868593829        NA    NA \n",
       "Total    314 14.6708472 1.000000000        NA    NA "
      ]
     },
     "metadata": {},
     "output_type": "display_data"
    }
   ],
   "source": [
    "# ORAL\n",
    "adonis2(oral.wunif ~ Site_name, nperm=999, data=oral.df)\n",
    "adonis2(oral.wunif ~ Diet, strata = Site_name, nperm=999, data=oral.df)\n",
    "adonis2(oral.wunif ~ Site_name + Host_species, by=\"margin\", nperm=999, data=oral.df)\n",
    "adonis2(oral.wunif ~ Age + Sex + Weight, strata = Host_species, by=\"margin\", nperm=999, data=oral.df)"
   ]
  },
  {
   "cell_type": "code",
   "execution_count": 36,
   "metadata": {},
   "outputs": [
    {
     "data": {
      "text/html": [
       "<ol class=list-inline>\n",
       "\t<li>0.006</li>\n",
       "\t<li>0.01</li>\n",
       "\t<li>0.003</li>\n",
       "</ol>\n"
      ],
      "text/latex": [
       "\\begin{enumerate*}\n",
       "\\item 0.006\n",
       "\\item 0.01\n",
       "\\item 0.003\n",
       "\\end{enumerate*}\n"
      ],
      "text/markdown": [
       "1. 0.006\n",
       "2. 0.01\n",
       "3. 0.003\n",
       "\n",
       "\n"
      ],
      "text/plain": [
       "[1] 0.006 0.010 0.003"
      ]
     },
     "metadata": {},
     "output_type": "display_data"
    }
   ],
   "source": [
    "#FDR p-value correction\n",
    "p = c(\"0.004\",\"0.010\",\"0.001\")\n",
    "p.adjust(p, method = \"fdr\", n = length(p))"
   ]
  },
  {
   "cell_type": "code",
   "execution_count": 15,
   "metadata": {},
   "outputs": [
    {
     "data": {
      "text/html": [
       "<table>\n",
       "<thead><tr><th></th><th scope=col>Df</th><th scope=col>SumOfSqs</th><th scope=col>R2</th><th scope=col>F</th><th scope=col>Pr(&gt;F)</th></tr></thead>\n",
       "<tbody>\n",
       "\t<tr><th scope=row>Site_name</th><td> 16      </td><td> 8.893148</td><td>0.4308055</td><td>16.5092  </td><td>0.001    </td></tr>\n",
       "\t<tr><th scope=row>Residual</th><td>349      </td><td>11.749922</td><td>0.5691945</td><td>     NA  </td><td>   NA    </td></tr>\n",
       "\t<tr><th scope=row>Total</th><td>365      </td><td>20.643071</td><td>1.0000000</td><td>     NA  </td><td>   NA    </td></tr>\n",
       "</tbody>\n",
       "</table>\n"
      ],
      "text/latex": [
       "\\begin{tabular}{r|lllll}\n",
       "  & Df & SumOfSqs & R2 & F & Pr(>F)\\\\\n",
       "\\hline\n",
       "\tSite\\_name &  16       &  8.893148 & 0.4308055 & 16.5092   & 0.001    \\\\\n",
       "\tResidual & 349       & 11.749922 & 0.5691945 &      NA   &    NA    \\\\\n",
       "\tTotal & 365       & 20.643071 & 1.0000000 &      NA   &    NA    \\\\\n",
       "\\end{tabular}\n"
      ],
      "text/markdown": [
       "\n",
       "| <!--/--> | Df | SumOfSqs | R2 | F | Pr(>F) |\n",
       "|---|---|---|---|---|---|\n",
       "| Site_name |  16       |  8.893148 | 0.4308055 | 16.5092   | 0.001     |\n",
       "| Residual | 349       | 11.749922 | 0.5691945 |      NA   |    NA     |\n",
       "| Total | 365       | 20.643071 | 1.0000000 |      NA   |    NA     |\n",
       "\n"
      ],
      "text/plain": [
       "          Df  SumOfSqs  R2        F       Pr(>F)\n",
       "Site_name  16  8.893148 0.4308055 16.5092 0.001 \n",
       "Residual  349 11.749922 0.5691945      NA    NA \n",
       "Total     365 20.643071 1.0000000      NA    NA "
      ]
     },
     "metadata": {},
     "output_type": "display_data"
    },
    {
     "data": {
      "text/html": [
       "<table>\n",
       "<thead><tr><th></th><th scope=col>Df</th><th scope=col>SumOfSqs</th><th scope=col>R2</th><th scope=col>F</th><th scope=col>Pr(&gt;F)</th></tr></thead>\n",
       "<tbody>\n",
       "\t<tr><th scope=row>Diet</th><td>  1       </td><td> 1.135076 </td><td>0.05498582</td><td>21.17941  </td><td>0.001     </td></tr>\n",
       "\t<tr><th scope=row>Residual</th><td>364       </td><td>19.507995 </td><td>0.94501418</td><td>      NA  </td><td>   NA     </td></tr>\n",
       "\t<tr><th scope=row>Total</th><td>365       </td><td>20.643071 </td><td>1.00000000</td><td>      NA  </td><td>   NA     </td></tr>\n",
       "</tbody>\n",
       "</table>\n"
      ],
      "text/latex": [
       "\\begin{tabular}{r|lllll}\n",
       "  & Df & SumOfSqs & R2 & F & Pr(>F)\\\\\n",
       "\\hline\n",
       "\tDiet &   1        &  1.135076  & 0.05498582 & 21.17941   & 0.001     \\\\\n",
       "\tResidual & 364        & 19.507995  & 0.94501418 &       NA   &    NA     \\\\\n",
       "\tTotal & 365        & 20.643071  & 1.00000000 &       NA   &    NA     \\\\\n",
       "\\end{tabular}\n"
      ],
      "text/markdown": [
       "\n",
       "| <!--/--> | Df | SumOfSqs | R2 | F | Pr(>F) |\n",
       "|---|---|---|---|---|---|\n",
       "| Diet |   1        |  1.135076  | 0.05498582 | 21.17941   | 0.001      |\n",
       "| Residual | 364        | 19.507995  | 0.94501418 |       NA   |    NA      |\n",
       "| Total | 365        | 20.643071  | 1.00000000 |       NA   |    NA      |\n",
       "\n"
      ],
      "text/plain": [
       "         Df  SumOfSqs  R2         F        Pr(>F)\n",
       "Diet       1  1.135076 0.05498582 21.17941 0.001 \n",
       "Residual 364 19.507995 0.94501418       NA    NA \n",
       "Total    365 20.643071 1.00000000       NA    NA "
      ]
     },
     "metadata": {},
     "output_type": "display_data"
    },
    {
     "data": {
      "text/html": [
       "<table>\n",
       "<thead><tr><th></th><th scope=col>Df</th><th scope=col>SumOfSqs</th><th scope=col>R2</th><th scope=col>F</th><th scope=col>Pr(&gt;F)</th></tr></thead>\n",
       "<tbody>\n",
       "\t<tr><th scope=row>Site_name</th><td> 15      </td><td> 3.762177</td><td>0.1822489</td><td>9.408016 </td><td>0.001    </td></tr>\n",
       "\t<tr><th scope=row>Host_species</th><td> 26      </td><td> 3.138944</td><td>0.1520580</td><td>4.528561 </td><td>0.001    </td></tr>\n",
       "\t<tr><th scope=row>Residual</th><td>323      </td><td> 8.610978</td><td>0.4171365</td><td>      NA </td><td>   NA    </td></tr>\n",
       "\t<tr><th scope=row>Total</th><td>365      </td><td>20.643071</td><td>1.0000000</td><td>      NA </td><td>   NA    </td></tr>\n",
       "</tbody>\n",
       "</table>\n"
      ],
      "text/latex": [
       "\\begin{tabular}{r|lllll}\n",
       "  & Df & SumOfSqs & R2 & F & Pr(>F)\\\\\n",
       "\\hline\n",
       "\tSite\\_name &  15       &  3.762177 & 0.1822489 & 9.408016  & 0.001    \\\\\n",
       "\tHost\\_species &  26       &  3.138944 & 0.1520580 & 4.528561  & 0.001    \\\\\n",
       "\tResidual & 323       &  8.610978 & 0.4171365 &       NA  &    NA    \\\\\n",
       "\tTotal & 365       & 20.643071 & 1.0000000 &       NA  &    NA    \\\\\n",
       "\\end{tabular}\n"
      ],
      "text/markdown": [
       "\n",
       "| <!--/--> | Df | SumOfSqs | R2 | F | Pr(>F) |\n",
       "|---|---|---|---|---|---|\n",
       "| Site_name |  15       |  3.762177 | 0.1822489 | 9.408016  | 0.001     |\n",
       "| Host_species |  26       |  3.138944 | 0.1520580 | 4.528561  | 0.001     |\n",
       "| Residual | 323       |  8.610978 | 0.4171365 |       NA  |    NA     |\n",
       "| Total | 365       | 20.643071 | 1.0000000 |       NA  |    NA     |\n",
       "\n"
      ],
      "text/plain": [
       "             Df  SumOfSqs  R2        F        Pr(>F)\n",
       "Site_name     15  3.762177 0.1822489 9.408016 0.001 \n",
       "Host_species  26  3.138944 0.1520580 4.528561 0.001 \n",
       "Residual     323  8.610978 0.4171365       NA    NA \n",
       "Total        365 20.643071 1.0000000       NA    NA "
      ]
     },
     "metadata": {},
     "output_type": "display_data"
    },
    {
     "data": {
      "text/html": [
       "<table>\n",
       "<thead><tr><th></th><th scope=col>Df</th><th scope=col>SumOfSqs</th><th scope=col>R2</th><th scope=col>F</th><th scope=col>Pr(&gt;F)</th></tr></thead>\n",
       "<tbody>\n",
       "\t<tr><th scope=row>Age</th><td>  2        </td><td> 0.43168635</td><td>0.020911925</td><td> 4.065434  </td><td>0.001      </td></tr>\n",
       "\t<tr><th scope=row>Sex</th><td>  1        </td><td> 0.07307444</td><td>0.003539902</td><td> 1.376367  </td><td>0.161      </td></tr>\n",
       "\t<tr><th scope=row>Weight</th><td>  1        </td><td> 0.75401896</td><td>0.036526492</td><td>14.202045  </td><td>0.001      </td></tr>\n",
       "\t<tr><th scope=row>Residual</th><td>361        </td><td>19.16631261</td><td>0.928462277</td><td>       NA  </td><td>   NA      </td></tr>\n",
       "\t<tr><th scope=row>Total</th><td>365        </td><td>20.64307090</td><td>1.000000000</td><td>       NA  </td><td>   NA      </td></tr>\n",
       "</tbody>\n",
       "</table>\n"
      ],
      "text/latex": [
       "\\begin{tabular}{r|lllll}\n",
       "  & Df & SumOfSqs & R2 & F & Pr(>F)\\\\\n",
       "\\hline\n",
       "\tAge &   2         &  0.43168635 & 0.020911925 &  4.065434   & 0.001      \\\\\n",
       "\tSex &   1         &  0.07307444 & 0.003539902 &  1.376367   & 0.161      \\\\\n",
       "\tWeight &   1         &  0.75401896 & 0.036526492 & 14.202045   & 0.001      \\\\\n",
       "\tResidual & 361         & 19.16631261 & 0.928462277 &        NA   &    NA      \\\\\n",
       "\tTotal & 365         & 20.64307090 & 1.000000000 &        NA   &    NA      \\\\\n",
       "\\end{tabular}\n"
      ],
      "text/markdown": [
       "\n",
       "| <!--/--> | Df | SumOfSqs | R2 | F | Pr(>F) |\n",
       "|---|---|---|---|---|---|\n",
       "| Age |   2         |  0.43168635 | 0.020911925 |  4.065434   | 0.001       |\n",
       "| Sex |   1         |  0.07307444 | 0.003539902 |  1.376367   | 0.161       |\n",
       "| Weight |   1         |  0.75401896 | 0.036526492 | 14.202045   | 0.001       |\n",
       "| Residual | 361         | 19.16631261 | 0.928462277 |        NA   |    NA       |\n",
       "| Total | 365         | 20.64307090 | 1.000000000 |        NA   |    NA       |\n",
       "\n"
      ],
      "text/plain": [
       "         Df  SumOfSqs    R2          F         Pr(>F)\n",
       "Age        2  0.43168635 0.020911925  4.065434 0.001 \n",
       "Sex        1  0.07307444 0.003539902  1.376367 0.161 \n",
       "Weight     1  0.75401896 0.036526492 14.202045 0.001 \n",
       "Residual 361 19.16631261 0.928462277        NA    NA \n",
       "Total    365 20.64307090 1.000000000        NA    NA "
      ]
     },
     "metadata": {},
     "output_type": "display_data"
    }
   ],
   "source": [
    "# SKIN\n",
    "adonis2(skin.wunif ~ Site_name, nperm=999, data=skin.df)\n",
    "adonis2(skin.wunif ~ Diet, strata = Site_name, nperm=999, data=skin.df)\n",
    "adonis2(skin.wunif ~ Site_name + Host_species, by=\"margin\", nperm=999, data=skin.df)\n",
    "adonis2(skin.wunif ~ Age + Sex + Weight, strata = Host_species, by=\"margin\", nperm=999, data=skin.df)"
   ]
  },
  {
   "cell_type": "code",
   "execution_count": 8,
   "metadata": {},
   "outputs": [
    {
     "data": {
      "text/html": [
       "<ol class=list-inline>\n",
       "\t<li>0.0015</li>\n",
       "\t<li>0.161</li>\n",
       "\t<li>0.0015</li>\n",
       "</ol>\n"
      ],
      "text/latex": [
       "\\begin{enumerate*}\n",
       "\\item 0.0015\n",
       "\\item 0.161\n",
       "\\item 0.0015\n",
       "\\end{enumerate*}\n"
      ],
      "text/markdown": [
       "1. 0.0015\n",
       "2. 0.161\n",
       "3. 0.0015\n",
       "\n",
       "\n"
      ],
      "text/plain": [
       "[1] 0.0015 0.1610 0.0015"
      ]
     },
     "metadata": {},
     "output_type": "display_data"
    }
   ],
   "source": [
    "#FDR p-value correction\n",
    "p = c(\"0.001\",\"0.161\",\"0.001\")\n",
    "p.adjust(p, method = \"fdr\", n = length(p))"
   ]
  },
  {
   "cell_type": "markdown",
   "metadata": {},
   "source": [
    "### Restricting samples to species for which N >= 10"
   ]
  },
  {
   "cell_type": "code",
   "execution_count": 2,
   "metadata": {},
   "outputs": [],
   "source": [
    "fecal.10.wunif = readRDS(\"/gpfs/data/gilbert-lab/Lutz/Batmicrobiome/Nature_data_results/Bdiv/nona_updates_19April2019/fecal.10.nona.wunif.rds\")\n",
    "oral.10.wunif = readRDS(\"/gpfs/data/gilbert-lab/Lutz/Batmicrobiome/Nature_data_results/Bdiv/nona_updates_19April2019/oral.10.nona.wunif.rds\")\n",
    "skin.10.wunif = readRDS(\"/gpfs/data/gilbert-lab/Lutz/Batmicrobiome/Nature_data_results/Bdiv/nona_updates_19April2019/skin.10.nona.wunif.rds\")"
   ]
  },
  {
   "cell_type": "code",
   "execution_count": 3,
   "metadata": {},
   "outputs": [],
   "source": [
    "batfecal.10.df = read.csv(\"/gpfs/data/gilbert-lab/Lutz/Batmicrobiome/Nature_data_results/CSVfiles/batfecal.10.df.csv\")\n",
    "batoral.10.df = read.csv(\"/gpfs/data/gilbert-lab/Lutz/Batmicrobiome/Nature_data_results/CSVfiles/batoral.10.df.csv\")\n",
    "batskin.10.df = read.csv(\"/gpfs/data/gilbert-lab/Lutz/Batmicrobiome/Nature_data_results/CSVfiles/batskin.10.df.csv\")"
   ]
  },
  {
   "cell_type": "markdown",
   "metadata": {},
   "source": [
    "#### FECAL"
   ]
  },
  {
   "cell_type": "code",
   "execution_count": 48,
   "metadata": {},
   "outputs": [
    {
     "data": {
      "text/html": [
       "<table>\n",
       "<thead><tr><th></th><th scope=col>Df</th><th scope=col>SumOfSqs</th><th scope=col>R2</th><th scope=col>F</th><th scope=col>Pr(&gt;F)</th></tr></thead>\n",
       "<tbody>\n",
       "\t<tr><th scope=row>Host_Family</th><td>  7      </td><td> 3.816932</td><td>0.1095103</td><td>5.498859 </td><td>0.001    </td></tr>\n",
       "\t<tr><th scope=row>Residual</th><td>313      </td><td>31.037606</td><td>0.8904897</td><td>      NA </td><td>   NA    </td></tr>\n",
       "\t<tr><th scope=row>Total</th><td>320      </td><td>34.854539</td><td>1.0000000</td><td>      NA </td><td>   NA    </td></tr>\n",
       "</tbody>\n",
       "</table>\n"
      ],
      "text/latex": [
       "\\begin{tabular}{r|lllll}\n",
       "  & Df & SumOfSqs & R2 & F & Pr(>F)\\\\\n",
       "\\hline\n",
       "\tHost\\_Family &   7       &  3.816932 & 0.1095103 & 5.498859  & 0.001    \\\\\n",
       "\tResidual & 313       & 31.037606 & 0.8904897 &       NA  &    NA    \\\\\n",
       "\tTotal & 320       & 34.854539 & 1.0000000 &       NA  &    NA    \\\\\n",
       "\\end{tabular}\n"
      ],
      "text/markdown": [
       "\n",
       "| <!--/--> | Df | SumOfSqs | R2 | F | Pr(>F) |\n",
       "|---|---|---|---|---|---|\n",
       "| Host_Family |   7       |  3.816932 | 0.1095103 | 5.498859  | 0.001     |\n",
       "| Residual | 313       | 31.037606 | 0.8904897 |       NA  |    NA     |\n",
       "| Total | 320       | 34.854539 | 1.0000000 |       NA  |    NA     |\n",
       "\n"
      ],
      "text/plain": [
       "            Df  SumOfSqs  R2        F        Pr(>F)\n",
       "Host_Family   7  3.816932 0.1095103 5.498859 0.001 \n",
       "Residual    313 31.037606 0.8904897       NA    NA \n",
       "Total       320 34.854539 1.0000000       NA    NA "
      ]
     },
     "metadata": {},
     "output_type": "display_data"
    },
    {
     "data": {
      "text/html": [
       "<table>\n",
       "<thead><tr><th></th><th scope=col>Df</th><th scope=col>SumOfSqs</th><th scope=col>R2</th><th scope=col>F</th><th scope=col>Pr(&gt;F)</th></tr></thead>\n",
       "<tbody>\n",
       "\t<tr><th scope=row>Host_Family:Host_Genus</th><td>  9      </td><td> 5.492922</td><td>0.1575956</td><td>6.464596 </td><td>0.001    </td></tr>\n",
       "\t<tr><th scope=row>Residual</th><td>311      </td><td>29.361616</td><td>0.8424044</td><td>      NA </td><td>   NA    </td></tr>\n",
       "\t<tr><th scope=row>Total</th><td>320      </td><td>34.854539</td><td>1.0000000</td><td>      NA </td><td>   NA    </td></tr>\n",
       "</tbody>\n",
       "</table>\n"
      ],
      "text/latex": [
       "\\begin{tabular}{r|lllll}\n",
       "  & Df & SumOfSqs & R2 & F & Pr(>F)\\\\\n",
       "\\hline\n",
       "\tHost\\_Family:Host\\_Genus &   9       &  5.492922 & 0.1575956 & 6.464596  & 0.001    \\\\\n",
       "\tResidual & 311       & 29.361616 & 0.8424044 &       NA  &    NA    \\\\\n",
       "\tTotal & 320       & 34.854539 & 1.0000000 &       NA  &    NA    \\\\\n",
       "\\end{tabular}\n"
      ],
      "text/markdown": [
       "\n",
       "| <!--/--> | Df | SumOfSqs | R2 | F | Pr(>F) |\n",
       "|---|---|---|---|---|---|\n",
       "| Host_Family:Host_Genus |   9       |  5.492922 | 0.1575956 | 6.464596  | 0.001     |\n",
       "| Residual | 311       | 29.361616 | 0.8424044 |       NA  |    NA     |\n",
       "| Total | 320       | 34.854539 | 1.0000000 |       NA  |    NA     |\n",
       "\n"
      ],
      "text/plain": [
       "                       Df  SumOfSqs  R2        F        Pr(>F)\n",
       "Host_Family:Host_Genus   9  5.492922 0.1575956 6.464596 0.001 \n",
       "Residual               311 29.361616 0.8424044       NA    NA \n",
       "Total                  320 34.854539 1.0000000       NA    NA "
      ]
     },
     "metadata": {},
     "output_type": "display_data"
    },
    {
     "data": {
      "text/html": [
       "<table>\n",
       "<thead><tr><th></th><th scope=col>Df</th><th scope=col>SumOfSqs</th><th scope=col>R2</th><th scope=col>F</th><th scope=col>Pr(&gt;F)</th></tr></thead>\n",
       "<tbody>\n",
       "\t<tr><th scope=row>Host_Family:Host_Genus:Host_species</th><td> 16      </td><td> 7.398947</td><td>0.2122807</td><td>5.120268 </td><td>0.001    </td></tr>\n",
       "\t<tr><th scope=row>Residual</th><td>304      </td><td>27.455592</td><td>0.7877193</td><td>      NA </td><td>   NA    </td></tr>\n",
       "\t<tr><th scope=row>Total</th><td>320      </td><td>34.854539</td><td>1.0000000</td><td>      NA </td><td>   NA    </td></tr>\n",
       "</tbody>\n",
       "</table>\n"
      ],
      "text/latex": [
       "\\begin{tabular}{r|lllll}\n",
       "  & Df & SumOfSqs & R2 & F & Pr(>F)\\\\\n",
       "\\hline\n",
       "\tHost\\_Family:Host\\_Genus:Host\\_species &  16       &  7.398947 & 0.2122807 & 5.120268  & 0.001    \\\\\n",
       "\tResidual & 304       & 27.455592 & 0.7877193 &       NA  &    NA    \\\\\n",
       "\tTotal & 320       & 34.854539 & 1.0000000 &       NA  &    NA    \\\\\n",
       "\\end{tabular}\n"
      ],
      "text/markdown": [
       "\n",
       "| <!--/--> | Df | SumOfSqs | R2 | F | Pr(>F) |\n",
       "|---|---|---|---|---|---|\n",
       "| Host_Family:Host_Genus:Host_species |  16       |  7.398947 | 0.2122807 | 5.120268  | 0.001     |\n",
       "| Residual | 304       | 27.455592 | 0.7877193 |       NA  |    NA     |\n",
       "| Total | 320       | 34.854539 | 1.0000000 |       NA  |    NA     |\n",
       "\n"
      ],
      "text/plain": [
       "                                    Df  SumOfSqs  R2        F        Pr(>F)\n",
       "Host_Family:Host_Genus:Host_species  16  7.398947 0.2122807 5.120268 0.001 \n",
       "Residual                            304 27.455592 0.7877193       NA    NA \n",
       "Total                               320 34.854539 1.0000000       NA    NA "
      ]
     },
     "metadata": {},
     "output_type": "display_data"
    }
   ],
   "source": [
    "adonis2(fecal.10.wunif ~ Host_Family, nperm=999, data=batfecal.10.df)\n",
    "adonis2(fecal.10.wunif ~ Host_Family:Host_Genus, nperm=999, data=batfecal.10.df)\n",
    "adonis2(fecal.10.wunif ~ Host_Family:Host_Genus:Host_species, nperm=999, data=batfecal.10.df)"
   ]
  },
  {
   "cell_type": "code",
   "execution_count": 6,
   "metadata": {},
   "outputs": [
    {
     "data": {
      "text/html": [
       "<table>\n",
       "<thead><tr><th></th><th scope=col>Df</th><th scope=col>SumOfSqs</th><th scope=col>R2</th><th scope=col>F</th><th scope=col>Pr(&gt;F)</th></tr></thead>\n",
       "<tbody>\n",
       "\t<tr><th scope=row>Site_name</th><td> 14      </td><td> 5.772704</td><td>0.1656227</td><td>4.338613 </td><td>0.001    </td></tr>\n",
       "\t<tr><th scope=row>Residual</th><td>306      </td><td>29.081834</td><td>0.8343773</td><td>      NA </td><td>   NA    </td></tr>\n",
       "\t<tr><th scope=row>Total</th><td>320      </td><td>34.854539</td><td>1.0000000</td><td>      NA </td><td>   NA    </td></tr>\n",
       "</tbody>\n",
       "</table>\n"
      ],
      "text/latex": [
       "\\begin{tabular}{r|lllll}\n",
       "  & Df & SumOfSqs & R2 & F & Pr(>F)\\\\\n",
       "\\hline\n",
       "\tSite\\_name &  14       &  5.772704 & 0.1656227 & 4.338613  & 0.001    \\\\\n",
       "\tResidual & 306       & 29.081834 & 0.8343773 &       NA  &    NA    \\\\\n",
       "\tTotal & 320       & 34.854539 & 1.0000000 &       NA  &    NA    \\\\\n",
       "\\end{tabular}\n"
      ],
      "text/markdown": [
       "\n",
       "| <!--/--> | Df | SumOfSqs | R2 | F | Pr(>F) |\n",
       "|---|---|---|---|---|---|\n",
       "| Site_name |  14       |  5.772704 | 0.1656227 | 4.338613  | 0.001     |\n",
       "| Residual | 306       | 29.081834 | 0.8343773 |       NA  |    NA     |\n",
       "| Total | 320       | 34.854539 | 1.0000000 |       NA  |    NA     |\n",
       "\n"
      ],
      "text/plain": [
       "          Df  SumOfSqs  R2        F        Pr(>F)\n",
       "Site_name  14  5.772704 0.1656227 4.338613 0.001 \n",
       "Residual  306 29.081834 0.8343773       NA    NA \n",
       "Total     320 34.854539 1.0000000       NA    NA "
      ]
     },
     "metadata": {},
     "output_type": "display_data"
    },
    {
     "data": {
      "text/html": [
       "<table>\n",
       "<thead><tr><th></th><th scope=col>Df</th><th scope=col>SumOfSqs</th><th scope=col>R2</th><th scope=col>F</th><th scope=col>Pr(&gt;F)</th></tr></thead>\n",
       "<tbody>\n",
       "\t<tr><th scope=row>Diet</th><td>  1       </td><td> 1.912089 </td><td>0.05485911</td><td>18.51582  </td><td>0.001     </td></tr>\n",
       "\t<tr><th scope=row>Residual</th><td>319       </td><td>32.942449 </td><td>0.94514089</td><td>      NA  </td><td>   NA     </td></tr>\n",
       "\t<tr><th scope=row>Total</th><td>320       </td><td>34.854539 </td><td>1.00000000</td><td>      NA  </td><td>   NA     </td></tr>\n",
       "</tbody>\n",
       "</table>\n"
      ],
      "text/latex": [
       "\\begin{tabular}{r|lllll}\n",
       "  & Df & SumOfSqs & R2 & F & Pr(>F)\\\\\n",
       "\\hline\n",
       "\tDiet &   1        &  1.912089  & 0.05485911 & 18.51582   & 0.001     \\\\\n",
       "\tResidual & 319        & 32.942449  & 0.94514089 &       NA   &    NA     \\\\\n",
       "\tTotal & 320        & 34.854539  & 1.00000000 &       NA   &    NA     \\\\\n",
       "\\end{tabular}\n"
      ],
      "text/markdown": [
       "\n",
       "| <!--/--> | Df | SumOfSqs | R2 | F | Pr(>F) |\n",
       "|---|---|---|---|---|---|\n",
       "| Diet |   1        |  1.912089  | 0.05485911 | 18.51582   | 0.001      |\n",
       "| Residual | 319        | 32.942449  | 0.94514089 |       NA   |    NA      |\n",
       "| Total | 320        | 34.854539  | 1.00000000 |       NA   |    NA      |\n",
       "\n"
      ],
      "text/plain": [
       "         Df  SumOfSqs  R2         F        Pr(>F)\n",
       "Diet       1  1.912089 0.05485911 18.51582 0.001 \n",
       "Residual 319 32.942449 0.94514089       NA    NA \n",
       "Total    320 34.854539 1.00000000       NA    NA "
      ]
     },
     "metadata": {},
     "output_type": "display_data"
    },
    {
     "data": {
      "text/html": [
       "<table>\n",
       "<thead><tr><th></th><th scope=col>Df</th><th scope=col>SumOfSqs</th><th scope=col>R2</th><th scope=col>F</th><th scope=col>Pr(&gt;F)</th></tr></thead>\n",
       "<tbody>\n",
       "\t<tr><th scope=row>Site_name</th><td> 13       </td><td> 2.411586 </td><td>0.06919002</td><td>2.155503  </td><td>0.001     </td></tr>\n",
       "\t<tr><th scope=row>Host_species</th><td> 15       </td><td> 4.037829 </td><td>0.11584800</td><td>3.127849  </td><td>0.001     </td></tr>\n",
       "\t<tr><th scope=row>Residual</th><td>291       </td><td>25.044006 </td><td>0.71852926</td><td>      NA  </td><td>   NA     </td></tr>\n",
       "\t<tr><th scope=row>Total</th><td>320       </td><td>34.854539 </td><td>1.00000000</td><td>      NA  </td><td>   NA     </td></tr>\n",
       "</tbody>\n",
       "</table>\n"
      ],
      "text/latex": [
       "\\begin{tabular}{r|lllll}\n",
       "  & Df & SumOfSqs & R2 & F & Pr(>F)\\\\\n",
       "\\hline\n",
       "\tSite\\_name &  13        &  2.411586  & 0.06919002 & 2.155503   & 0.001     \\\\\n",
       "\tHost\\_species &  15        &  4.037829  & 0.11584800 & 3.127849   & 0.001     \\\\\n",
       "\tResidual & 291        & 25.044006  & 0.71852926 &       NA   &    NA     \\\\\n",
       "\tTotal & 320        & 34.854539  & 1.00000000 &       NA   &    NA     \\\\\n",
       "\\end{tabular}\n"
      ],
      "text/markdown": [
       "\n",
       "| <!--/--> | Df | SumOfSqs | R2 | F | Pr(>F) |\n",
       "|---|---|---|---|---|---|\n",
       "| Site_name |  13        |  2.411586  | 0.06919002 | 2.155503   | 0.001      |\n",
       "| Host_species |  15        |  4.037829  | 0.11584800 | 3.127849   | 0.001      |\n",
       "| Residual | 291        | 25.044006  | 0.71852926 |       NA   |    NA      |\n",
       "| Total | 320        | 34.854539  | 1.00000000 |       NA   |    NA      |\n",
       "\n"
      ],
      "text/plain": [
       "             Df  SumOfSqs  R2         F        Pr(>F)\n",
       "Site_name     13  2.411586 0.06919002 2.155503 0.001 \n",
       "Host_species  15  4.037829 0.11584800 3.127849 0.001 \n",
       "Residual     291 25.044006 0.71852926       NA    NA \n",
       "Total        320 34.854539 1.00000000       NA    NA "
      ]
     },
     "metadata": {},
     "output_type": "display_data"
    },
    {
     "data": {
      "text/html": [
       "<table>\n",
       "<thead><tr><th></th><th scope=col>Df</th><th scope=col>SumOfSqs</th><th scope=col>R2</th><th scope=col>F</th><th scope=col>Pr(&gt;F)</th></tr></thead>\n",
       "<tbody>\n",
       "\t<tr><th scope=row>Age</th><td>  2        </td><td> 0.39556180</td><td>0.011348932</td><td> 1.914271  </td><td>0.023      </td></tr>\n",
       "\t<tr><th scope=row>Sex</th><td>  1        </td><td> 0.08654554</td><td>0.002483049</td><td> 0.837652  </td><td>0.571      </td></tr>\n",
       "\t<tr><th scope=row>Weight</th><td>  1        </td><td> 1.61269586</td><td>0.046269322</td><td>15.608869  </td><td>0.001      </td></tr>\n",
       "\t<tr><th scope=row>Residual</th><td>316        </td><td>32.64886679</td><td>0.936717803</td><td>       NA  </td><td>   NA      </td></tr>\n",
       "\t<tr><th scope=row>Total</th><td>320        </td><td>34.85453855</td><td>1.000000000</td><td>       NA  </td><td>   NA      </td></tr>\n",
       "</tbody>\n",
       "</table>\n"
      ],
      "text/latex": [
       "\\begin{tabular}{r|lllll}\n",
       "  & Df & SumOfSqs & R2 & F & Pr(>F)\\\\\n",
       "\\hline\n",
       "\tAge &   2         &  0.39556180 & 0.011348932 &  1.914271   & 0.023      \\\\\n",
       "\tSex &   1         &  0.08654554 & 0.002483049 &  0.837652   & 0.571      \\\\\n",
       "\tWeight &   1         &  1.61269586 & 0.046269322 & 15.608869   & 0.001      \\\\\n",
       "\tResidual & 316         & 32.64886679 & 0.936717803 &        NA   &    NA      \\\\\n",
       "\tTotal & 320         & 34.85453855 & 1.000000000 &        NA   &    NA      \\\\\n",
       "\\end{tabular}\n"
      ],
      "text/markdown": [
       "\n",
       "| <!--/--> | Df | SumOfSqs | R2 | F | Pr(>F) |\n",
       "|---|---|---|---|---|---|\n",
       "| Age |   2         |  0.39556180 | 0.011348932 |  1.914271   | 0.023       |\n",
       "| Sex |   1         |  0.08654554 | 0.002483049 |  0.837652   | 0.571       |\n",
       "| Weight |   1         |  1.61269586 | 0.046269322 | 15.608869   | 0.001       |\n",
       "| Residual | 316         | 32.64886679 | 0.936717803 |        NA   |    NA       |\n",
       "| Total | 320         | 34.85453855 | 1.000000000 |        NA   |    NA       |\n",
       "\n"
      ],
      "text/plain": [
       "         Df  SumOfSqs    R2          F         Pr(>F)\n",
       "Age        2  0.39556180 0.011348932  1.914271 0.023 \n",
       "Sex        1  0.08654554 0.002483049  0.837652 0.571 \n",
       "Weight     1  1.61269586 0.046269322 15.608869 0.001 \n",
       "Residual 316 32.64886679 0.936717803        NA    NA \n",
       "Total    320 34.85453855 1.000000000        NA    NA "
      ]
     },
     "metadata": {},
     "output_type": "display_data"
    }
   ],
   "source": [
    "adonis2(fecal.10.wunif ~ Site_name, nperm=999, data=batfecal.10.df)\n",
    "adonis2(fecal.10.wunif ~ Diet, strata=Site_name, nperm=999, data=batfecal.10.df)\n",
    "adonis2(fecal.10.wunif ~ Site_name + Host_species, by=\"margin\", nperm=999, data=batfecal.10.df)\n",
    "adonis2(fecal.10.wunif ~ Age + Sex + Weight, strata = Host_species, by=\"margin\", nperm=999, data=batfecal.10.df)"
   ]
  },
  {
   "cell_type": "code",
   "execution_count": 20,
   "metadata": {},
   "outputs": [
    {
     "data": {
      "text/html": [
       "<ol class=list-inline>\n",
       "\t<li>0.0345</li>\n",
       "\t<li>0.571</li>\n",
       "\t<li>0.003</li>\n",
       "</ol>\n"
      ],
      "text/latex": [
       "\\begin{enumerate*}\n",
       "\\item 0.0345\n",
       "\\item 0.571\n",
       "\\item 0.003\n",
       "\\end{enumerate*}\n"
      ],
      "text/markdown": [
       "1. 0.0345\n",
       "2. 0.571\n",
       "3. 0.003\n",
       "\n",
       "\n"
      ],
      "text/plain": [
       "[1] 0.0345 0.5710 0.0030"
      ]
     },
     "metadata": {},
     "output_type": "display_data"
    }
   ],
   "source": [
    "#FDR p-value correction\n",
    "p = c(\"0.023\",\"0.571\",\"0.001\")\n",
    "p.adjust(p, method = \"fdr\", n = length(p))"
   ]
  },
  {
   "cell_type": "markdown",
   "metadata": {},
   "source": [
    "#### ORAL"
   ]
  },
  {
   "cell_type": "code",
   "execution_count": 49,
   "metadata": {},
   "outputs": [
    {
     "data": {
      "text/html": [
       "<table>\n",
       "<thead><tr><th></th><th scope=col>Df</th><th scope=col>SumOfSqs</th><th scope=col>R2</th><th scope=col>F</th><th scope=col>Pr(&gt;F)</th></tr></thead>\n",
       "<tbody>\n",
       "\t<tr><th scope=row>Host_Family</th><td>  7      </td><td> 5.746699</td><td>0.3160845</td><td>18.28868 </td><td>0.001    </td></tr>\n",
       "\t<tr><th scope=row>Residual</th><td>277      </td><td>12.434197</td><td>0.6839155</td><td>      NA </td><td>   NA    </td></tr>\n",
       "\t<tr><th scope=row>Total</th><td>284      </td><td>18.180896</td><td>1.0000000</td><td>      NA </td><td>   NA    </td></tr>\n",
       "</tbody>\n",
       "</table>\n"
      ],
      "text/latex": [
       "\\begin{tabular}{r|lllll}\n",
       "  & Df & SumOfSqs & R2 & F & Pr(>F)\\\\\n",
       "\\hline\n",
       "\tHost\\_Family &   7       &  5.746699 & 0.3160845 & 18.28868  & 0.001    \\\\\n",
       "\tResidual & 277       & 12.434197 & 0.6839155 &       NA  &    NA    \\\\\n",
       "\tTotal & 284       & 18.180896 & 1.0000000 &       NA  &    NA    \\\\\n",
       "\\end{tabular}\n"
      ],
      "text/markdown": [
       "\n",
       "| <!--/--> | Df | SumOfSqs | R2 | F | Pr(>F) |\n",
       "|---|---|---|---|---|---|\n",
       "| Host_Family |   7       |  5.746699 | 0.3160845 | 18.28868  | 0.001     |\n",
       "| Residual | 277       | 12.434197 | 0.6839155 |       NA  |    NA     |\n",
       "| Total | 284       | 18.180896 | 1.0000000 |       NA  |    NA     |\n",
       "\n"
      ],
      "text/plain": [
       "            Df  SumOfSqs  R2        F        Pr(>F)\n",
       "Host_Family   7  5.746699 0.3160845 18.28868 0.001 \n",
       "Residual    277 12.434197 0.6839155       NA    NA \n",
       "Total       284 18.180896 1.0000000       NA    NA "
      ]
     },
     "metadata": {},
     "output_type": "display_data"
    },
    {
     "data": {
      "text/html": [
       "<table>\n",
       "<thead><tr><th></th><th scope=col>Df</th><th scope=col>SumOfSqs</th><th scope=col>R2</th><th scope=col>F</th><th scope=col>Pr(&gt;F)</th></tr></thead>\n",
       "<tbody>\n",
       "\t<tr><th scope=row>Host_Family:Host_Genus</th><td>  9      </td><td> 6.049637</td><td>0.3327469</td><td>15.2375  </td><td>0.001    </td></tr>\n",
       "\t<tr><th scope=row>Residual</th><td>275      </td><td>12.131258</td><td>0.6672531</td><td>     NA  </td><td>   NA    </td></tr>\n",
       "\t<tr><th scope=row>Total</th><td>284      </td><td>18.180896</td><td>1.0000000</td><td>     NA  </td><td>   NA    </td></tr>\n",
       "</tbody>\n",
       "</table>\n"
      ],
      "text/latex": [
       "\\begin{tabular}{r|lllll}\n",
       "  & Df & SumOfSqs & R2 & F & Pr(>F)\\\\\n",
       "\\hline\n",
       "\tHost\\_Family:Host\\_Genus &   9       &  6.049637 & 0.3327469 & 15.2375   & 0.001    \\\\\n",
       "\tResidual & 275       & 12.131258 & 0.6672531 &      NA   &    NA    \\\\\n",
       "\tTotal & 284       & 18.180896 & 1.0000000 &      NA   &    NA    \\\\\n",
       "\\end{tabular}\n"
      ],
      "text/markdown": [
       "\n",
       "| <!--/--> | Df | SumOfSqs | R2 | F | Pr(>F) |\n",
       "|---|---|---|---|---|---|\n",
       "| Host_Family:Host_Genus |   9       |  6.049637 | 0.3327469 | 15.2375   | 0.001     |\n",
       "| Residual | 275       | 12.131258 | 0.6672531 |      NA   |    NA     |\n",
       "| Total | 284       | 18.180896 | 1.0000000 |      NA   |    NA     |\n",
       "\n"
      ],
      "text/plain": [
       "                       Df  SumOfSqs  R2        F       Pr(>F)\n",
       "Host_Family:Host_Genus   9  6.049637 0.3327469 15.2375 0.001 \n",
       "Residual               275 12.131258 0.6672531      NA    NA \n",
       "Total                  284 18.180896 1.0000000      NA    NA "
      ]
     },
     "metadata": {},
     "output_type": "display_data"
    },
    {
     "data": {
      "text/html": [
       "<table>\n",
       "<thead><tr><th></th><th scope=col>Df</th><th scope=col>SumOfSqs</th><th scope=col>R2</th><th scope=col>F</th><th scope=col>Pr(&gt;F)</th></tr></thead>\n",
       "<tbody>\n",
       "\t<tr><th scope=row>Host_Family:Host_Genus:Host_species</th><td> 16      </td><td> 8.560470</td><td>0.4708497</td><td>14.90452 </td><td>0.001    </td></tr>\n",
       "\t<tr><th scope=row>Residual</th><td>268      </td><td> 9.620426</td><td>0.5291503</td><td>      NA </td><td>   NA    </td></tr>\n",
       "\t<tr><th scope=row>Total</th><td>284      </td><td>18.180896</td><td>1.0000000</td><td>      NA </td><td>   NA    </td></tr>\n",
       "</tbody>\n",
       "</table>\n"
      ],
      "text/latex": [
       "\\begin{tabular}{r|lllll}\n",
       "  & Df & SumOfSqs & R2 & F & Pr(>F)\\\\\n",
       "\\hline\n",
       "\tHost\\_Family:Host\\_Genus:Host\\_species &  16       &  8.560470 & 0.4708497 & 14.90452  & 0.001    \\\\\n",
       "\tResidual & 268       &  9.620426 & 0.5291503 &       NA  &    NA    \\\\\n",
       "\tTotal & 284       & 18.180896 & 1.0000000 &       NA  &    NA    \\\\\n",
       "\\end{tabular}\n"
      ],
      "text/markdown": [
       "\n",
       "| <!--/--> | Df | SumOfSqs | R2 | F | Pr(>F) |\n",
       "|---|---|---|---|---|---|\n",
       "| Host_Family:Host_Genus:Host_species |  16       |  8.560470 | 0.4708497 | 14.90452  | 0.001     |\n",
       "| Residual | 268       |  9.620426 | 0.5291503 |       NA  |    NA     |\n",
       "| Total | 284       | 18.180896 | 1.0000000 |       NA  |    NA     |\n",
       "\n"
      ],
      "text/plain": [
       "                                    Df  SumOfSqs  R2        F        Pr(>F)\n",
       "Host_Family:Host_Genus:Host_species  16  8.560470 0.4708497 14.90452 0.001 \n",
       "Residual                            268  9.620426 0.5291503       NA    NA \n",
       "Total                               284 18.180896 1.0000000       NA    NA "
      ]
     },
     "metadata": {},
     "output_type": "display_data"
    }
   ],
   "source": [
    "adonis2(oral.10.wunif ~ Host_Family, nperm=999, data=batoral.10.df)\n",
    "adonis2(oral.10.wunif ~ Host_Family:Host_Genus, nperm=999, data=batoral.10.df)\n",
    "adonis2(oral.10.wunif ~ Host_Family:Host_Genus:Host_species, nperm=999, data=batoral.10.df)"
   ]
  },
  {
   "cell_type": "code",
   "execution_count": 7,
   "metadata": {},
   "outputs": [
    {
     "data": {
      "text/html": [
       "<table>\n",
       "<thead><tr><th></th><th scope=col>Df</th><th scope=col>SumOfSqs</th><th scope=col>R2</th><th scope=col>F</th><th scope=col>Pr(&gt;F)</th></tr></thead>\n",
       "<tbody>\n",
       "\t<tr><th scope=row>Site_name</th><td> 13      </td><td> 5.24214 </td><td>0.2883323</td><td>8.445823 </td><td>0.001    </td></tr>\n",
       "\t<tr><th scope=row>Residual</th><td>271      </td><td>12.93876 </td><td>0.7116677</td><td>      NA </td><td>   NA    </td></tr>\n",
       "\t<tr><th scope=row>Total</th><td>284      </td><td>18.18090 </td><td>1.0000000</td><td>      NA </td><td>   NA    </td></tr>\n",
       "</tbody>\n",
       "</table>\n"
      ],
      "text/latex": [
       "\\begin{tabular}{r|lllll}\n",
       "  & Df & SumOfSqs & R2 & F & Pr(>F)\\\\\n",
       "\\hline\n",
       "\tSite\\_name &  13       &  5.24214  & 0.2883323 & 8.445823  & 0.001    \\\\\n",
       "\tResidual & 271       & 12.93876  & 0.7116677 &       NA  &    NA    \\\\\n",
       "\tTotal & 284       & 18.18090  & 1.0000000 &       NA  &    NA    \\\\\n",
       "\\end{tabular}\n"
      ],
      "text/markdown": [
       "\n",
       "| <!--/--> | Df | SumOfSqs | R2 | F | Pr(>F) |\n",
       "|---|---|---|---|---|---|\n",
       "| Site_name |  13       |  5.24214  | 0.2883323 | 8.445823  | 0.001     |\n",
       "| Residual | 271       | 12.93876  | 0.7116677 |       NA  |    NA     |\n",
       "| Total | 284       | 18.18090  | 1.0000000 |       NA  |    NA     |\n",
       "\n"
      ],
      "text/plain": [
       "          Df  SumOfSqs R2        F        Pr(>F)\n",
       "Site_name  13  5.24214 0.2883323 8.445823 0.001 \n",
       "Residual  271 12.93876 0.7116677       NA    NA \n",
       "Total     284 18.18090 1.0000000       NA    NA "
      ]
     },
     "metadata": {},
     "output_type": "display_data"
    },
    {
     "data": {
      "text/html": [
       "<table>\n",
       "<thead><tr><th></th><th scope=col>Df</th><th scope=col>SumOfSqs</th><th scope=col>R2</th><th scope=col>F</th><th scope=col>Pr(&gt;F)</th></tr></thead>\n",
       "<tbody>\n",
       "\t<tr><th scope=row>Diet</th><td>  1      </td><td> 3.070469</td><td>0.1688844</td><td>57.50617 </td><td>0.001    </td></tr>\n",
       "\t<tr><th scope=row>Residual</th><td>283      </td><td>15.110427</td><td>0.8311156</td><td>      NA </td><td>   NA    </td></tr>\n",
       "\t<tr><th scope=row>Total</th><td>284      </td><td>18.180896</td><td>1.0000000</td><td>      NA </td><td>   NA    </td></tr>\n",
       "</tbody>\n",
       "</table>\n"
      ],
      "text/latex": [
       "\\begin{tabular}{r|lllll}\n",
       "  & Df & SumOfSqs & R2 & F & Pr(>F)\\\\\n",
       "\\hline\n",
       "\tDiet &   1       &  3.070469 & 0.1688844 & 57.50617  & 0.001    \\\\\n",
       "\tResidual & 283       & 15.110427 & 0.8311156 &       NA  &    NA    \\\\\n",
       "\tTotal & 284       & 18.180896 & 1.0000000 &       NA  &    NA    \\\\\n",
       "\\end{tabular}\n"
      ],
      "text/markdown": [
       "\n",
       "| <!--/--> | Df | SumOfSqs | R2 | F | Pr(>F) |\n",
       "|---|---|---|---|---|---|\n",
       "| Diet |   1       |  3.070469 | 0.1688844 | 57.50617  | 0.001     |\n",
       "| Residual | 283       | 15.110427 | 0.8311156 |       NA  |    NA     |\n",
       "| Total | 284       | 18.180896 | 1.0000000 |       NA  |    NA     |\n",
       "\n"
      ],
      "text/plain": [
       "         Df  SumOfSqs  R2        F        Pr(>F)\n",
       "Diet       1  3.070469 0.1688844 57.50617 0.001 \n",
       "Residual 283 15.110427 0.8311156       NA    NA \n",
       "Total    284 18.180896 1.0000000       NA    NA "
      ]
     },
     "metadata": {},
     "output_type": "display_data"
    },
    {
     "data": {
      "text/html": [
       "<table>\n",
       "<thead><tr><th></th><th scope=col>Df</th><th scope=col>SumOfSqs</th><th scope=col>R2</th><th scope=col>F</th><th scope=col>Pr(&gt;F)</th></tr></thead>\n",
       "<tbody>\n",
       "\t<tr><th scope=row>Site_name</th><td> 12       </td><td> 0.8957853</td><td>0.04927069</td><td>2.190358  </td><td>0.001     </td></tr>\n",
       "\t<tr><th scope=row>Host_species</th><td> 15       </td><td> 4.2141157</td><td>0.23178812</td><td>8.243424  </td><td>0.001     </td></tr>\n",
       "\t<tr><th scope=row>Residual</th><td>256       </td><td> 8.7246404</td><td>0.47987957</td><td>      NA  </td><td>   NA     </td></tr>\n",
       "\t<tr><th scope=row>Total</th><td>284       </td><td>18.1808958</td><td>1.00000000</td><td>      NA  </td><td>   NA     </td></tr>\n",
       "</tbody>\n",
       "</table>\n"
      ],
      "text/latex": [
       "\\begin{tabular}{r|lllll}\n",
       "  & Df & SumOfSqs & R2 & F & Pr(>F)\\\\\n",
       "\\hline\n",
       "\tSite\\_name &  12        &  0.8957853 & 0.04927069 & 2.190358   & 0.001     \\\\\n",
       "\tHost\\_species &  15        &  4.2141157 & 0.23178812 & 8.243424   & 0.001     \\\\\n",
       "\tResidual & 256        &  8.7246404 & 0.47987957 &       NA   &    NA     \\\\\n",
       "\tTotal & 284        & 18.1808958 & 1.00000000 &       NA   &    NA     \\\\\n",
       "\\end{tabular}\n"
      ],
      "text/markdown": [
       "\n",
       "| <!--/--> | Df | SumOfSqs | R2 | F | Pr(>F) |\n",
       "|---|---|---|---|---|---|\n",
       "| Site_name |  12        |  0.8957853 | 0.04927069 | 2.190358   | 0.001      |\n",
       "| Host_species |  15        |  4.2141157 | 0.23178812 | 8.243424   | 0.001      |\n",
       "| Residual | 256        |  8.7246404 | 0.47987957 |       NA   |    NA      |\n",
       "| Total | 284        | 18.1808958 | 1.00000000 |       NA   |    NA      |\n",
       "\n"
      ],
      "text/plain": [
       "             Df  SumOfSqs   R2         F        Pr(>F)\n",
       "Site_name     12  0.8957853 0.04927069 2.190358 0.001 \n",
       "Host_species  15  4.2141157 0.23178812 8.243424 0.001 \n",
       "Residual     256  8.7246404 0.47987957       NA    NA \n",
       "Total        284 18.1808958 1.00000000       NA    NA "
      ]
     },
     "metadata": {},
     "output_type": "display_data"
    },
    {
     "data": {
      "text/html": [
       "<table>\n",
       "<thead><tr><th></th><th scope=col>Df</th><th scope=col>SumOfSqs</th><th scope=col>R2</th><th scope=col>F</th><th scope=col>Pr(&gt;F)</th></tr></thead>\n",
       "<tbody>\n",
       "\t<tr><th scope=row>Age</th><td>  2       </td><td> 0.3797058</td><td>0.02088488</td><td> 3.431244 </td><td>0.002     </td></tr>\n",
       "\t<tr><th scope=row>Sex</th><td>  1       </td><td> 0.1917880</td><td>0.01054888</td><td> 3.466218 </td><td>0.011     </td></tr>\n",
       "\t<tr><th scope=row>Weight</th><td>  1       </td><td> 1.8124485</td><td>0.09968973</td><td>32.756695 </td><td>0.001     </td></tr>\n",
       "\t<tr><th scope=row>Residual</th><td>280       </td><td>15.4925760</td><td>0.85213491</td><td>       NA </td><td>   NA     </td></tr>\n",
       "\t<tr><th scope=row>Total</th><td>284       </td><td>18.1808958</td><td>1.00000000</td><td>       NA </td><td>   NA     </td></tr>\n",
       "</tbody>\n",
       "</table>\n"
      ],
      "text/latex": [
       "\\begin{tabular}{r|lllll}\n",
       "  & Df & SumOfSqs & R2 & F & Pr(>F)\\\\\n",
       "\\hline\n",
       "\tAge &   2        &  0.3797058 & 0.02088488 &  3.431244  & 0.002     \\\\\n",
       "\tSex &   1        &  0.1917880 & 0.01054888 &  3.466218  & 0.011     \\\\\n",
       "\tWeight &   1        &  1.8124485 & 0.09968973 & 32.756695  & 0.001     \\\\\n",
       "\tResidual & 280        & 15.4925760 & 0.85213491 &        NA  &    NA     \\\\\n",
       "\tTotal & 284        & 18.1808958 & 1.00000000 &        NA  &    NA     \\\\\n",
       "\\end{tabular}\n"
      ],
      "text/markdown": [
       "\n",
       "| <!--/--> | Df | SumOfSqs | R2 | F | Pr(>F) |\n",
       "|---|---|---|---|---|---|\n",
       "| Age |   2        |  0.3797058 | 0.02088488 |  3.431244  | 0.002      |\n",
       "| Sex |   1        |  0.1917880 | 0.01054888 |  3.466218  | 0.011      |\n",
       "| Weight |   1        |  1.8124485 | 0.09968973 | 32.756695  | 0.001      |\n",
       "| Residual | 280        | 15.4925760 | 0.85213491 |        NA  |    NA      |\n",
       "| Total | 284        | 18.1808958 | 1.00000000 |        NA  |    NA      |\n",
       "\n"
      ],
      "text/plain": [
       "         Df  SumOfSqs   R2         F         Pr(>F)\n",
       "Age        2  0.3797058 0.02088488  3.431244 0.002 \n",
       "Sex        1  0.1917880 0.01054888  3.466218 0.011 \n",
       "Weight     1  1.8124485 0.09968973 32.756695 0.001 \n",
       "Residual 280 15.4925760 0.85213491        NA    NA \n",
       "Total    284 18.1808958 1.00000000        NA    NA "
      ]
     },
     "metadata": {},
     "output_type": "display_data"
    }
   ],
   "source": [
    "adonis2(oral.10.wunif ~ Site_name, nperm=999, data=batoral.10.df)\n",
    "adonis2(oral.10.wunif ~ Diet, strata=Site_name, nperm=999, data=batoral.10.df)\n",
    "adonis2(oral.10.wunif ~ Site_name + Host_species, by=\"margin\", nperm=999, data=batoral.10.df)\n",
    "adonis2(oral.10.wunif ~ Age + Sex + Weight, strata = Host_species, by=\"margin\", nperm=999, data=batoral.10.df)"
   ]
  },
  {
   "cell_type": "code",
   "execution_count": 21,
   "metadata": {},
   "outputs": [
    {
     "data": {
      "text/html": [
       "<ol class=list-inline>\n",
       "\t<li>0.003</li>\n",
       "\t<li>0.011</li>\n",
       "\t<li>0.003</li>\n",
       "</ol>\n"
      ],
      "text/latex": [
       "\\begin{enumerate*}\n",
       "\\item 0.003\n",
       "\\item 0.011\n",
       "\\item 0.003\n",
       "\\end{enumerate*}\n"
      ],
      "text/markdown": [
       "1. 0.003\n",
       "2. 0.011\n",
       "3. 0.003\n",
       "\n",
       "\n"
      ],
      "text/plain": [
       "[1] 0.003 0.011 0.003"
      ]
     },
     "metadata": {},
     "output_type": "display_data"
    }
   ],
   "source": [
    "#FDR p-value correction\n",
    "p = c(\"0.002\",\"0.011\",\"0.001\")\n",
    "p.adjust(p, method = \"fdr\", n = length(p))"
   ]
  },
  {
   "cell_type": "markdown",
   "metadata": {},
   "source": [
    "#### SKIN"
   ]
  },
  {
   "cell_type": "code",
   "execution_count": 53,
   "metadata": {},
   "outputs": [
    {
     "data": {
      "text/html": [
       "<table>\n",
       "<thead><tr><th></th><th scope=col>Df</th><th scope=col>SumOfSqs</th><th scope=col>R2</th><th scope=col>F</th><th scope=col>Pr(&gt;F)</th></tr></thead>\n",
       "<tbody>\n",
       "\t<tr><th scope=row>Host_Family</th><td>  7      </td><td> 3.631193</td><td>0.2061637</td><td>11.98356 </td><td>0.001    </td></tr>\n",
       "\t<tr><th scope=row>Residual</th><td>323      </td><td>13.981963</td><td>0.7938363</td><td>      NA </td><td>   NA    </td></tr>\n",
       "\t<tr><th scope=row>Total</th><td>330      </td><td>17.613157</td><td>1.0000000</td><td>      NA </td><td>   NA    </td></tr>\n",
       "</tbody>\n",
       "</table>\n"
      ],
      "text/latex": [
       "\\begin{tabular}{r|lllll}\n",
       "  & Df & SumOfSqs & R2 & F & Pr(>F)\\\\\n",
       "\\hline\n",
       "\tHost\\_Family &   7       &  3.631193 & 0.2061637 & 11.98356  & 0.001    \\\\\n",
       "\tResidual & 323       & 13.981963 & 0.7938363 &       NA  &    NA    \\\\\n",
       "\tTotal & 330       & 17.613157 & 1.0000000 &       NA  &    NA    \\\\\n",
       "\\end{tabular}\n"
      ],
      "text/markdown": [
       "\n",
       "| <!--/--> | Df | SumOfSqs | R2 | F | Pr(>F) |\n",
       "|---|---|---|---|---|---|\n",
       "| Host_Family |   7       |  3.631193 | 0.2061637 | 11.98356  | 0.001     |\n",
       "| Residual | 323       | 13.981963 | 0.7938363 |       NA  |    NA     |\n",
       "| Total | 330       | 17.613157 | 1.0000000 |       NA  |    NA     |\n",
       "\n"
      ],
      "text/plain": [
       "            Df  SumOfSqs  R2        F        Pr(>F)\n",
       "Host_Family   7  3.631193 0.2061637 11.98356 0.001 \n",
       "Residual    323 13.981963 0.7938363       NA    NA \n",
       "Total       330 17.613157 1.0000000       NA    NA "
      ]
     },
     "metadata": {},
     "output_type": "display_data"
    },
    {
     "data": {
      "text/html": [
       "<table>\n",
       "<thead><tr><th></th><th scope=col>Df</th><th scope=col>SumOfSqs</th><th scope=col>R2</th><th scope=col>F</th><th scope=col>Pr(&gt;F)</th></tr></thead>\n",
       "<tbody>\n",
       "\t<tr><th scope=row>Host_Family:Host_Genus</th><td>  9      </td><td> 4.357978</td><td>0.2474274</td><td>11.72633 </td><td>0.001    </td></tr>\n",
       "\t<tr><th scope=row>Residual</th><td>321      </td><td>13.255179</td><td>0.7525726</td><td>      NA </td><td>   NA    </td></tr>\n",
       "\t<tr><th scope=row>Total</th><td>330      </td><td>17.613157</td><td>1.0000000</td><td>      NA </td><td>   NA    </td></tr>\n",
       "</tbody>\n",
       "</table>\n"
      ],
      "text/latex": [
       "\\begin{tabular}{r|lllll}\n",
       "  & Df & SumOfSqs & R2 & F & Pr(>F)\\\\\n",
       "\\hline\n",
       "\tHost\\_Family:Host\\_Genus &   9       &  4.357978 & 0.2474274 & 11.72633  & 0.001    \\\\\n",
       "\tResidual & 321       & 13.255179 & 0.7525726 &       NA  &    NA    \\\\\n",
       "\tTotal & 330       & 17.613157 & 1.0000000 &       NA  &    NA    \\\\\n",
       "\\end{tabular}\n"
      ],
      "text/markdown": [
       "\n",
       "| <!--/--> | Df | SumOfSqs | R2 | F | Pr(>F) |\n",
       "|---|---|---|---|---|---|\n",
       "| Host_Family:Host_Genus |   9       |  4.357978 | 0.2474274 | 11.72633  | 0.001     |\n",
       "| Residual | 321       | 13.255179 | 0.7525726 |       NA  |    NA     |\n",
       "| Total | 330       | 17.613157 | 1.0000000 |       NA  |    NA     |\n",
       "\n"
      ],
      "text/plain": [
       "                       Df  SumOfSqs  R2        F        Pr(>F)\n",
       "Host_Family:Host_Genus   9  4.357978 0.2474274 11.72633 0.001 \n",
       "Residual               321 13.255179 0.7525726       NA    NA \n",
       "Total                  330 17.613157 1.0000000       NA    NA "
      ]
     },
     "metadata": {},
     "output_type": "display_data"
    },
    {
     "data": {
      "text/html": [
       "<table>\n",
       "<thead><tr><th></th><th scope=col>Df</th><th scope=col>SumOfSqs</th><th scope=col>R2</th><th scope=col>F</th><th scope=col>Pr(&gt;F)</th></tr></thead>\n",
       "<tbody>\n",
       "\t<tr><th scope=row>Host_Family:Host_Genus:Host_species</th><td> 16      </td><td> 6.618895</td><td>0.3757927</td><td>11.81487 </td><td>0.001    </td></tr>\n",
       "\t<tr><th scope=row>Residual</th><td>314      </td><td>10.994262</td><td>0.6242073</td><td>      NA </td><td>   NA    </td></tr>\n",
       "\t<tr><th scope=row>Total</th><td>330      </td><td>17.613157</td><td>1.0000000</td><td>      NA </td><td>   NA    </td></tr>\n",
       "</tbody>\n",
       "</table>\n"
      ],
      "text/latex": [
       "\\begin{tabular}{r|lllll}\n",
       "  & Df & SumOfSqs & R2 & F & Pr(>F)\\\\\n",
       "\\hline\n",
       "\tHost\\_Family:Host\\_Genus:Host\\_species &  16       &  6.618895 & 0.3757927 & 11.81487  & 0.001    \\\\\n",
       "\tResidual & 314       & 10.994262 & 0.6242073 &       NA  &    NA    \\\\\n",
       "\tTotal & 330       & 17.613157 & 1.0000000 &       NA  &    NA    \\\\\n",
       "\\end{tabular}\n"
      ],
      "text/markdown": [
       "\n",
       "| <!--/--> | Df | SumOfSqs | R2 | F | Pr(>F) |\n",
       "|---|---|---|---|---|---|\n",
       "| Host_Family:Host_Genus:Host_species |  16       |  6.618895 | 0.3757927 | 11.81487  | 0.001     |\n",
       "| Residual | 314       | 10.994262 | 0.6242073 |       NA  |    NA     |\n",
       "| Total | 330       | 17.613157 | 1.0000000 |       NA  |    NA     |\n",
       "\n"
      ],
      "text/plain": [
       "                                    Df  SumOfSqs  R2        F        Pr(>F)\n",
       "Host_Family:Host_Genus:Host_species  16  6.618895 0.3757927 11.81487 0.001 \n",
       "Residual                            314 10.994262 0.6242073       NA    NA \n",
       "Total                               330 17.613157 1.0000000       NA    NA "
      ]
     },
     "metadata": {},
     "output_type": "display_data"
    }
   ],
   "source": [
    "adonis2(skin.10.wunif ~ Host_Family, nperm=999, data=batskin.10.df)\n",
    "adonis2(skin.10.wunif ~ Host_Family:Host_Genus, nperm=999, data=batskin.10.df)\n",
    "adonis2(skin.10.wunif ~ Host_Family:Host_Genus:Host_species, nperm=999, data=batskin.10.df)"
   ]
  },
  {
   "cell_type": "code",
   "execution_count": 8,
   "metadata": {},
   "outputs": [
    {
     "data": {
      "text/html": [
       "<table>\n",
       "<thead><tr><th></th><th scope=col>Df</th><th scope=col>SumOfSqs</th><th scope=col>R2</th><th scope=col>F</th><th scope=col>Pr(&gt;F)</th></tr></thead>\n",
       "<tbody>\n",
       "\t<tr><th scope=row>Site_name</th><td> 15      </td><td> 7.966549</td><td>0.4523067</td><td>17.34263 </td><td>0.001    </td></tr>\n",
       "\t<tr><th scope=row>Residual</th><td>315      </td><td> 9.646608</td><td>0.5476933</td><td>      NA </td><td>   NA    </td></tr>\n",
       "\t<tr><th scope=row>Total</th><td>330      </td><td>17.613157</td><td>1.0000000</td><td>      NA </td><td>   NA    </td></tr>\n",
       "</tbody>\n",
       "</table>\n"
      ],
      "text/latex": [
       "\\begin{tabular}{r|lllll}\n",
       "  & Df & SumOfSqs & R2 & F & Pr(>F)\\\\\n",
       "\\hline\n",
       "\tSite\\_name &  15       &  7.966549 & 0.4523067 & 17.34263  & 0.001    \\\\\n",
       "\tResidual & 315       &  9.646608 & 0.5476933 &       NA  &    NA    \\\\\n",
       "\tTotal & 330       & 17.613157 & 1.0000000 &       NA  &    NA    \\\\\n",
       "\\end{tabular}\n"
      ],
      "text/markdown": [
       "\n",
       "| <!--/--> | Df | SumOfSqs | R2 | F | Pr(>F) |\n",
       "|---|---|---|---|---|---|\n",
       "| Site_name |  15       |  7.966549 | 0.4523067 | 17.34263  | 0.001     |\n",
       "| Residual | 315       |  9.646608 | 0.5476933 |       NA  |    NA     |\n",
       "| Total | 330       | 17.613157 | 1.0000000 |       NA  |    NA     |\n",
       "\n"
      ],
      "text/plain": [
       "          Df  SumOfSqs  R2        F        Pr(>F)\n",
       "Site_name  15  7.966549 0.4523067 17.34263 0.001 \n",
       "Residual  315  9.646608 0.5476933       NA    NA \n",
       "Total     330 17.613157 1.0000000       NA    NA "
      ]
     },
     "metadata": {},
     "output_type": "display_data"
    },
    {
     "data": {
      "text/html": [
       "<table>\n",
       "<thead><tr><th></th><th scope=col>Df</th><th scope=col>SumOfSqs</th><th scope=col>R2</th><th scope=col>F</th><th scope=col>Pr(&gt;F)</th></tr></thead>\n",
       "<tbody>\n",
       "\t<tr><th scope=row>Diet</th><td>  1       </td><td> 0.9984843</td><td>0.05668969</td><td>19.77176  </td><td>0.001     </td></tr>\n",
       "\t<tr><th scope=row>Residual</th><td>329       </td><td>16.6146724</td><td>0.94331031</td><td>      NA  </td><td>   NA     </td></tr>\n",
       "\t<tr><th scope=row>Total</th><td>330       </td><td>17.6131567</td><td>1.00000000</td><td>      NA  </td><td>   NA     </td></tr>\n",
       "</tbody>\n",
       "</table>\n"
      ],
      "text/latex": [
       "\\begin{tabular}{r|lllll}\n",
       "  & Df & SumOfSqs & R2 & F & Pr(>F)\\\\\n",
       "\\hline\n",
       "\tDiet &   1        &  0.9984843 & 0.05668969 & 19.77176   & 0.001     \\\\\n",
       "\tResidual & 329        & 16.6146724 & 0.94331031 &       NA   &    NA     \\\\\n",
       "\tTotal & 330        & 17.6131567 & 1.00000000 &       NA   &    NA     \\\\\n",
       "\\end{tabular}\n"
      ],
      "text/markdown": [
       "\n",
       "| <!--/--> | Df | SumOfSqs | R2 | F | Pr(>F) |\n",
       "|---|---|---|---|---|---|\n",
       "| Diet |   1        |  0.9984843 | 0.05668969 | 19.77176   | 0.001      |\n",
       "| Residual | 329        | 16.6146724 | 0.94331031 |       NA   |    NA      |\n",
       "| Total | 330        | 17.6131567 | 1.00000000 |       NA   |    NA      |\n",
       "\n"
      ],
      "text/plain": [
       "         Df  SumOfSqs   R2         F        Pr(>F)\n",
       "Diet       1  0.9984843 0.05668969 19.77176 0.001 \n",
       "Residual 329 16.6146724 0.94331031       NA    NA \n",
       "Total    330 17.6131567 1.00000000       NA    NA "
      ]
     },
     "metadata": {},
     "output_type": "display_data"
    },
    {
     "data": {
      "text/html": [
       "<table>\n",
       "<thead><tr><th></th><th scope=col>Df</th><th scope=col>SumOfSqs</th><th scope=col>R2</th><th scope=col>F</th><th scope=col>Pr(&gt;F)</th></tr></thead>\n",
       "<tbody>\n",
       "\t<tr><th scope=row>Site_name</th><td> 14      </td><td> 3.442658</td><td>0.1954594</td><td>9.768949 </td><td>0.001    </td></tr>\n",
       "\t<tr><th scope=row>Host_species</th><td> 15      </td><td> 2.095004</td><td>0.1189454</td><td>5.548500 </td><td>0.001    </td></tr>\n",
       "\t<tr><th scope=row>Residual</th><td>300      </td><td> 7.551604</td><td>0.4287479</td><td>      NA </td><td>   NA    </td></tr>\n",
       "\t<tr><th scope=row>Total</th><td>330      </td><td>17.613157</td><td>1.0000000</td><td>      NA </td><td>   NA    </td></tr>\n",
       "</tbody>\n",
       "</table>\n"
      ],
      "text/latex": [
       "\\begin{tabular}{r|lllll}\n",
       "  & Df & SumOfSqs & R2 & F & Pr(>F)\\\\\n",
       "\\hline\n",
       "\tSite\\_name &  14       &  3.442658 & 0.1954594 & 9.768949  & 0.001    \\\\\n",
       "\tHost\\_species &  15       &  2.095004 & 0.1189454 & 5.548500  & 0.001    \\\\\n",
       "\tResidual & 300       &  7.551604 & 0.4287479 &       NA  &    NA    \\\\\n",
       "\tTotal & 330       & 17.613157 & 1.0000000 &       NA  &    NA    \\\\\n",
       "\\end{tabular}\n"
      ],
      "text/markdown": [
       "\n",
       "| <!--/--> | Df | SumOfSqs | R2 | F | Pr(>F) |\n",
       "|---|---|---|---|---|---|\n",
       "| Site_name |  14       |  3.442658 | 0.1954594 | 9.768949  | 0.001     |\n",
       "| Host_species |  15       |  2.095004 | 0.1189454 | 5.548500  | 0.001     |\n",
       "| Residual | 300       |  7.551604 | 0.4287479 |       NA  |    NA     |\n",
       "| Total | 330       | 17.613157 | 1.0000000 |       NA  |    NA     |\n",
       "\n"
      ],
      "text/plain": [
       "             Df  SumOfSqs  R2        F        Pr(>F)\n",
       "Site_name     14  3.442658 0.1954594 9.768949 0.001 \n",
       "Host_species  15  2.095004 0.1189454 5.548500 0.001 \n",
       "Residual     300  7.551604 0.4287479       NA    NA \n",
       "Total        330 17.613157 1.0000000       NA    NA "
      ]
     },
     "metadata": {},
     "output_type": "display_data"
    },
    {
     "data": {
      "text/html": [
       "<table>\n",
       "<thead><tr><th></th><th scope=col>Df</th><th scope=col>SumOfSqs</th><th scope=col>R2</th><th scope=col>F</th><th scope=col>Pr(&gt;F)</th></tr></thead>\n",
       "<tbody>\n",
       "\t<tr><th scope=row>Age</th><td>  2        </td><td> 0.40235253</td><td>0.022843863</td><td> 4.019966  </td><td>0.001      </td></tr>\n",
       "\t<tr><th scope=row>Sex</th><td>  1        </td><td> 0.06535965</td><td>0.003710842</td><td> 1.306037  </td><td>0.173      </td></tr>\n",
       "\t<tr><th scope=row>Weight</th><td>  1        </td><td> 0.62649701</td><td>0.035569831</td><td>12.518857  </td><td>0.001      </td></tr>\n",
       "\t<tr><th scope=row>Residual</th><td>326        </td><td>16.31443040</td><td>0.926263855</td><td>       NA  </td><td>   NA      </td></tr>\n",
       "\t<tr><th scope=row>Total</th><td>330        </td><td>17.61315668</td><td>1.000000000</td><td>       NA  </td><td>   NA      </td></tr>\n",
       "</tbody>\n",
       "</table>\n"
      ],
      "text/latex": [
       "\\begin{tabular}{r|lllll}\n",
       "  & Df & SumOfSqs & R2 & F & Pr(>F)\\\\\n",
       "\\hline\n",
       "\tAge &   2         &  0.40235253 & 0.022843863 &  4.019966   & 0.001      \\\\\n",
       "\tSex &   1         &  0.06535965 & 0.003710842 &  1.306037   & 0.173      \\\\\n",
       "\tWeight &   1         &  0.62649701 & 0.035569831 & 12.518857   & 0.001      \\\\\n",
       "\tResidual & 326         & 16.31443040 & 0.926263855 &        NA   &    NA      \\\\\n",
       "\tTotal & 330         & 17.61315668 & 1.000000000 &        NA   &    NA      \\\\\n",
       "\\end{tabular}\n"
      ],
      "text/markdown": [
       "\n",
       "| <!--/--> | Df | SumOfSqs | R2 | F | Pr(>F) |\n",
       "|---|---|---|---|---|---|\n",
       "| Age |   2         |  0.40235253 | 0.022843863 |  4.019966   | 0.001       |\n",
       "| Sex |   1         |  0.06535965 | 0.003710842 |  1.306037   | 0.173       |\n",
       "| Weight |   1         |  0.62649701 | 0.035569831 | 12.518857   | 0.001       |\n",
       "| Residual | 326         | 16.31443040 | 0.926263855 |        NA   |    NA       |\n",
       "| Total | 330         | 17.61315668 | 1.000000000 |        NA   |    NA       |\n",
       "\n"
      ],
      "text/plain": [
       "         Df  SumOfSqs    R2          F         Pr(>F)\n",
       "Age        2  0.40235253 0.022843863  4.019966 0.001 \n",
       "Sex        1  0.06535965 0.003710842  1.306037 0.173 \n",
       "Weight     1  0.62649701 0.035569831 12.518857 0.001 \n",
       "Residual 326 16.31443040 0.926263855        NA    NA \n",
       "Total    330 17.61315668 1.000000000        NA    NA "
      ]
     },
     "metadata": {},
     "output_type": "display_data"
    }
   ],
   "source": [
    "adonis2(skin.10.wunif ~ Site_name, nperm=999, data=batskin.10.df)\n",
    "adonis2(skin.10.wunif ~ Diet, srtata=Site_name, nperm=999, data=batskin.10.df)\n",
    "adonis2(skin.10.wunif ~ Site_name + Host_species, by=\"margin\", nperm=999, data=batskin.10.df)\n",
    "adonis2(skin.10.wunif ~ Age + Sex + Weight, strata = Host_species, by=\"margin\", nperm=999, data=batskin.10.df)"
   ]
  },
  {
   "cell_type": "code",
   "execution_count": 22,
   "metadata": {},
   "outputs": [
    {
     "data": {
      "text/html": [
       "<ol class=list-inline>\n",
       "\t<li>0.0015</li>\n",
       "\t<li>0.173</li>\n",
       "\t<li>0.0015</li>\n",
       "</ol>\n"
      ],
      "text/latex": [
       "\\begin{enumerate*}\n",
       "\\item 0.0015\n",
       "\\item 0.173\n",
       "\\item 0.0015\n",
       "\\end{enumerate*}\n"
      ],
      "text/markdown": [
       "1. 0.0015\n",
       "2. 0.173\n",
       "3. 0.0015\n",
       "\n",
       "\n"
      ],
      "text/plain": [
       "[1] 0.0015 0.1730 0.0015"
      ]
     },
     "metadata": {},
     "output_type": "display_data"
    }
   ],
   "source": [
    "#FDR p-value correction\n",
    "p = c(\"0.001\",\"0.173\",\"0.001\")\n",
    "p.adjust(p, method = \"fdr\", n = length(p))"
   ]
  },
  {
   "cell_type": "markdown",
   "metadata": {},
   "source": [
    "### Restricting samples to species for which N >= 20"
   ]
  },
  {
   "cell_type": "code",
   "execution_count": 10,
   "metadata": {},
   "outputs": [],
   "source": [
    "batfecal.20.wunif = readRDS(\"/gpfs/data/gilbert-lab/Lutz/Batmicrobiome/Nature_data_results/Bdiv/nona_updates_19April2019/fecal.20.nona.wunif.rds\")\n",
    "batoral.20.wunif = readRDS(\"/gpfs/data/gilbert-lab/Lutz/Batmicrobiome/Nature_data_results/Bdiv/nona_updates_19April2019/oral.20.nona.wunif.rds\")\n",
    "batskin.20.wunif = readRDS(\"/gpfs/data/gilbert-lab/Lutz/Batmicrobiome/Nature_data_results/Bdiv/nona_updates_19April2019/skin.20.nona.wunif.rds\")\n"
   ]
  },
  {
   "cell_type": "code",
   "execution_count": 11,
   "metadata": {},
   "outputs": [],
   "source": [
    "batfecal.20.df = read.csv(\"/gpfs/data/gilbert-lab/Lutz/Batmicrobiome/Nature_data_results/CSVfiles/batfecal.20.df.csv\")\n",
    "batoral.20.df = read.csv(\"/gpfs/data/gilbert-lab/Lutz/Batmicrobiome/Nature_data_results/CSVfiles/batoral.20.df.csv\")\n",
    "batskin.20.df = read.csv(\"/gpfs/data/gilbert-lab/Lutz/Batmicrobiome/Nature_data_results/CSVfiles/batskin.20.df.csv\")"
   ]
  },
  {
   "cell_type": "markdown",
   "metadata": {},
   "source": [
    "#### FECAL"
   ]
  },
  {
   "cell_type": "code",
   "execution_count": 63,
   "metadata": {},
   "outputs": [
    {
     "data": {
      "text/html": [
       "<table>\n",
       "<thead><tr><th></th><th scope=col>Df</th><th scope=col>SumOfSqs</th><th scope=col>R2</th><th scope=col>F</th><th scope=col>Pr(&gt;F)</th></tr></thead>\n",
       "<tbody>\n",
       "\t<tr><th scope=row>Host_Family</th><td>  4      </td><td>0.9665238</td><td>0.1109064</td><td>8.139344 </td><td>0.001    </td></tr>\n",
       "\t<tr><th scope=row>Residual</th><td>261      </td><td>7.7482504</td><td>0.8890936</td><td>      NA </td><td>   NA    </td></tr>\n",
       "\t<tr><th scope=row>Total</th><td>265      </td><td>8.7147742</td><td>1.0000000</td><td>      NA </td><td>   NA    </td></tr>\n",
       "</tbody>\n",
       "</table>\n"
      ],
      "text/latex": [
       "\\begin{tabular}{r|lllll}\n",
       "  & Df & SumOfSqs & R2 & F & Pr(>F)\\\\\n",
       "\\hline\n",
       "\tHost\\_Family &   4       & 0.9665238 & 0.1109064 & 8.139344  & 0.001    \\\\\n",
       "\tResidual & 261       & 7.7482504 & 0.8890936 &       NA  &    NA    \\\\\n",
       "\tTotal & 265       & 8.7147742 & 1.0000000 &       NA  &    NA    \\\\\n",
       "\\end{tabular}\n"
      ],
      "text/markdown": [
       "\n",
       "| <!--/--> | Df | SumOfSqs | R2 | F | Pr(>F) |\n",
       "|---|---|---|---|---|---|\n",
       "| Host_Family |   4       | 0.9665238 | 0.1109064 | 8.139344  | 0.001     |\n",
       "| Residual | 261       | 7.7482504 | 0.8890936 |       NA  |    NA     |\n",
       "| Total | 265       | 8.7147742 | 1.0000000 |       NA  |    NA     |\n",
       "\n"
      ],
      "text/plain": [
       "            Df  SumOfSqs  R2        F        Pr(>F)\n",
       "Host_Family   4 0.9665238 0.1109064 8.139344 0.001 \n",
       "Residual    261 7.7482504 0.8890936       NA    NA \n",
       "Total       265 8.7147742 1.0000000       NA    NA "
      ]
     },
     "metadata": {},
     "output_type": "display_data"
    },
    {
     "data": {
      "text/html": [
       "<table>\n",
       "<thead><tr><th></th><th scope=col>Df</th><th scope=col>SumOfSqs</th><th scope=col>R2</th><th scope=col>F</th><th scope=col>Pr(&gt;F)</th></tr></thead>\n",
       "<tbody>\n",
       "\t<tr><th scope=row>Host_Family:Host_Genus</th><td>  5      </td><td>1.321112 </td><td>0.1515946</td><td>9.291451 </td><td>0.001    </td></tr>\n",
       "\t<tr><th scope=row>Residual</th><td>260      </td><td>7.393662 </td><td>0.8484054</td><td>      NA </td><td>   NA    </td></tr>\n",
       "\t<tr><th scope=row>Total</th><td>265      </td><td>8.714774 </td><td>1.0000000</td><td>      NA </td><td>   NA    </td></tr>\n",
       "</tbody>\n",
       "</table>\n"
      ],
      "text/latex": [
       "\\begin{tabular}{r|lllll}\n",
       "  & Df & SumOfSqs & R2 & F & Pr(>F)\\\\\n",
       "\\hline\n",
       "\tHost\\_Family:Host\\_Genus &   5       & 1.321112  & 0.1515946 & 9.291451  & 0.001    \\\\\n",
       "\tResidual & 260       & 7.393662  & 0.8484054 &       NA  &    NA    \\\\\n",
       "\tTotal & 265       & 8.714774  & 1.0000000 &       NA  &    NA    \\\\\n",
       "\\end{tabular}\n"
      ],
      "text/markdown": [
       "\n",
       "| <!--/--> | Df | SumOfSqs | R2 | F | Pr(>F) |\n",
       "|---|---|---|---|---|---|\n",
       "| Host_Family:Host_Genus |   5       | 1.321112  | 0.1515946 | 9.291451  | 0.001     |\n",
       "| Residual | 260       | 7.393662  | 0.8484054 |       NA  |    NA     |\n",
       "| Total | 265       | 8.714774  | 1.0000000 |       NA  |    NA     |\n",
       "\n"
      ],
      "text/plain": [
       "                       Df  SumOfSqs R2        F        Pr(>F)\n",
       "Host_Family:Host_Genus   5 1.321112 0.1515946 9.291451 0.001 \n",
       "Residual               260 7.393662 0.8484054       NA    NA \n",
       "Total                  265 8.714774 1.0000000       NA    NA "
      ]
     },
     "metadata": {},
     "output_type": "display_data"
    },
    {
     "data": {
      "text/html": [
       "<table>\n",
       "<thead><tr><th></th><th scope=col>Df</th><th scope=col>SumOfSqs</th><th scope=col>R2</th><th scope=col>F</th><th scope=col>Pr(&gt;F)</th></tr></thead>\n",
       "<tbody>\n",
       "\t<tr><th scope=row>Host_Family:Host_Genus:Host_species</th><td> 10     </td><td>1.580232</td><td>0.181328</td><td>5.648004</td><td>0.001   </td></tr>\n",
       "\t<tr><th scope=row>Residual</th><td>255     </td><td>7.134542</td><td>0.818672</td><td>      NA</td><td>   NA   </td></tr>\n",
       "\t<tr><th scope=row>Total</th><td>265     </td><td>8.714774</td><td>1.000000</td><td>      NA</td><td>   NA   </td></tr>\n",
       "</tbody>\n",
       "</table>\n"
      ],
      "text/latex": [
       "\\begin{tabular}{r|lllll}\n",
       "  & Df & SumOfSqs & R2 & F & Pr(>F)\\\\\n",
       "\\hline\n",
       "\tHost\\_Family:Host\\_Genus:Host\\_species &  10      & 1.580232 & 0.181328 & 5.648004 & 0.001   \\\\\n",
       "\tResidual & 255      & 7.134542 & 0.818672 &       NA &    NA   \\\\\n",
       "\tTotal & 265      & 8.714774 & 1.000000 &       NA &    NA   \\\\\n",
       "\\end{tabular}\n"
      ],
      "text/markdown": [
       "\n",
       "| <!--/--> | Df | SumOfSqs | R2 | F | Pr(>F) |\n",
       "|---|---|---|---|---|---|\n",
       "| Host_Family:Host_Genus:Host_species |  10      | 1.580232 | 0.181328 | 5.648004 | 0.001    |\n",
       "| Residual | 255      | 7.134542 | 0.818672 |       NA |    NA    |\n",
       "| Total | 265      | 8.714774 | 1.000000 |       NA |    NA    |\n",
       "\n"
      ],
      "text/plain": [
       "                                    Df  SumOfSqs R2       F        Pr(>F)\n",
       "Host_Family:Host_Genus:Host_species  10 1.580232 0.181328 5.648004 0.001 \n",
       "Residual                            255 7.134542 0.818672       NA    NA \n",
       "Total                               265 8.714774 1.000000       NA    NA "
      ]
     },
     "metadata": {},
     "output_type": "display_data"
    }
   ],
   "source": [
    "adonis2(batfecal.20.wunif ~ Host_Family, nperm=999, data=batfecal.20.df)\n",
    "adonis2(batfecal.20.wunif ~ Host_Family:Host_Genus, nperm=999, data=batfecal.20.df)\n",
    "adonis2(batfecal.20.wunif ~ Host_Family:Host_Genus:Host_species, nperm=999, data=batfecal.20.df)"
   ]
  },
  {
   "cell_type": "code",
   "execution_count": 27,
   "metadata": {},
   "outputs": [
    {
     "data": {
      "text/html": [
       "<table>\n",
       "<thead><tr><th></th><th scope=col>Df</th><th scope=col>SumOfSqs</th><th scope=col>R2</th><th scope=col>F</th><th scope=col>Pr(&gt;F)</th></tr></thead>\n",
       "<tbody>\n",
       "\t<tr><th scope=row>Site_name</th><td> 14      </td><td>1.797673 </td><td>0.2062788</td><td>4.659425 </td><td>0.001    </td></tr>\n",
       "\t<tr><th scope=row>Residual</th><td>251      </td><td>6.917101 </td><td>0.7937212</td><td>      NA </td><td>   NA    </td></tr>\n",
       "\t<tr><th scope=row>Total</th><td>265      </td><td>8.714774 </td><td>1.0000000</td><td>      NA </td><td>   NA    </td></tr>\n",
       "</tbody>\n",
       "</table>\n"
      ],
      "text/latex": [
       "\\begin{tabular}{r|lllll}\n",
       "  & Df & SumOfSqs & R2 & F & Pr(>F)\\\\\n",
       "\\hline\n",
       "\tSite\\_name &  14       & 1.797673  & 0.2062788 & 4.659425  & 0.001    \\\\\n",
       "\tResidual & 251       & 6.917101  & 0.7937212 &       NA  &    NA    \\\\\n",
       "\tTotal & 265       & 8.714774  & 1.0000000 &       NA  &    NA    \\\\\n",
       "\\end{tabular}\n"
      ],
      "text/markdown": [
       "\n",
       "| <!--/--> | Df | SumOfSqs | R2 | F | Pr(>F) |\n",
       "|---|---|---|---|---|---|\n",
       "| Site_name |  14       | 1.797673  | 0.2062788 | 4.659425  | 0.001     |\n",
       "| Residual | 251       | 6.917101  | 0.7937212 |       NA  |    NA     |\n",
       "| Total | 265       | 8.714774  | 1.0000000 |       NA  |    NA     |\n",
       "\n"
      ],
      "text/plain": [
       "          Df  SumOfSqs R2        F        Pr(>F)\n",
       "Site_name  14 1.797673 0.2062788 4.659425 0.001 \n",
       "Residual  251 6.917101 0.7937212       NA    NA \n",
       "Total     265 8.714774 1.0000000       NA    NA "
      ]
     },
     "metadata": {},
     "output_type": "display_data"
    },
    {
     "data": {
      "text/html": [
       "<table>\n",
       "<thead><tr><th></th><th scope=col>Df</th><th scope=col>SumOfSqs</th><th scope=col>R2</th><th scope=col>F</th><th scope=col>Pr(&gt;F)</th></tr></thead>\n",
       "<tbody>\n",
       "\t<tr><th scope=row>Diet</th><td>  1       </td><td>0.682547  </td><td>0.07832068</td><td>22.43368  </td><td>0.001     </td></tr>\n",
       "\t<tr><th scope=row>Residual</th><td>264       </td><td>8.032227  </td><td>0.92167932</td><td>      NA  </td><td>   NA     </td></tr>\n",
       "\t<tr><th scope=row>Total</th><td>265       </td><td>8.714774  </td><td>1.00000000</td><td>      NA  </td><td>   NA     </td></tr>\n",
       "</tbody>\n",
       "</table>\n"
      ],
      "text/latex": [
       "\\begin{tabular}{r|lllll}\n",
       "  & Df & SumOfSqs & R2 & F & Pr(>F)\\\\\n",
       "\\hline\n",
       "\tDiet &   1        & 0.682547   & 0.07832068 & 22.43368   & 0.001     \\\\\n",
       "\tResidual & 264        & 8.032227   & 0.92167932 &       NA   &    NA     \\\\\n",
       "\tTotal & 265        & 8.714774   & 1.00000000 &       NA   &    NA     \\\\\n",
       "\\end{tabular}\n"
      ],
      "text/markdown": [
       "\n",
       "| <!--/--> | Df | SumOfSqs | R2 | F | Pr(>F) |\n",
       "|---|---|---|---|---|---|\n",
       "| Diet |   1        | 0.682547   | 0.07832068 | 22.43368   | 0.001      |\n",
       "| Residual | 264        | 8.032227   | 0.92167932 |       NA   |    NA      |\n",
       "| Total | 265        | 8.714774   | 1.00000000 |       NA   |    NA      |\n",
       "\n"
      ],
      "text/plain": [
       "         Df  SumOfSqs R2         F        Pr(>F)\n",
       "Diet       1 0.682547 0.07832068 22.43368 0.001 \n",
       "Residual 264 8.032227 0.92167932       NA    NA \n",
       "Total    265 8.714774 1.00000000       NA    NA "
      ]
     },
     "metadata": {},
     "output_type": "display_data"
    },
    {
     "data": {
      "text/html": [
       "<table>\n",
       "<thead><tr><th></th><th scope=col>Df</th><th scope=col>SumOfSqs</th><th scope=col>R2</th><th scope=col>F</th><th scope=col>Pr(&gt;F)</th></tr></thead>\n",
       "<tbody>\n",
       "\t<tr><th scope=row>Site_name</th><td> 13       </td><td>0.8065112 </td><td>0.09254528</td><td>2.372542  </td><td>0.001     </td></tr>\n",
       "\t<tr><th scope=row>Host_species</th><td>  9       </td><td>0.5890702 </td><td>0.06759443</td><td>2.503060  </td><td>0.001     </td></tr>\n",
       "\t<tr><th scope=row>Residual</th><td>242       </td><td>6.3280308 </td><td>0.72612676</td><td>      NA  </td><td>   NA     </td></tr>\n",
       "\t<tr><th scope=row>Total</th><td>265       </td><td>8.7147742 </td><td>1.00000000</td><td>      NA  </td><td>   NA     </td></tr>\n",
       "</tbody>\n",
       "</table>\n"
      ],
      "text/latex": [
       "\\begin{tabular}{r|lllll}\n",
       "  & Df & SumOfSqs & R2 & F & Pr(>F)\\\\\n",
       "\\hline\n",
       "\tSite\\_name &  13        & 0.8065112  & 0.09254528 & 2.372542   & 0.001     \\\\\n",
       "\tHost\\_species &   9        & 0.5890702  & 0.06759443 & 2.503060   & 0.001     \\\\\n",
       "\tResidual & 242        & 6.3280308  & 0.72612676 &       NA   &    NA     \\\\\n",
       "\tTotal & 265        & 8.7147742  & 1.00000000 &       NA   &    NA     \\\\\n",
       "\\end{tabular}\n"
      ],
      "text/markdown": [
       "\n",
       "| <!--/--> | Df | SumOfSqs | R2 | F | Pr(>F) |\n",
       "|---|---|---|---|---|---|\n",
       "| Site_name |  13        | 0.8065112  | 0.09254528 | 2.372542   | 0.001      |\n",
       "| Host_species |   9        | 0.5890702  | 0.06759443 | 2.503060   | 0.001      |\n",
       "| Residual | 242        | 6.3280308  | 0.72612676 |       NA   |    NA      |\n",
       "| Total | 265        | 8.7147742  | 1.00000000 |       NA   |    NA      |\n",
       "\n"
      ],
      "text/plain": [
       "             Df  SumOfSqs  R2         F        Pr(>F)\n",
       "Site_name     13 0.8065112 0.09254528 2.372542 0.001 \n",
       "Host_species   9 0.5890702 0.06759443 2.503060 0.001 \n",
       "Residual     242 6.3280308 0.72612676       NA    NA \n",
       "Total        265 8.7147742 1.00000000       NA    NA "
      ]
     },
     "metadata": {},
     "output_type": "display_data"
    },
    {
     "data": {
      "text/html": [
       "<table>\n",
       "<thead><tr><th></th><th scope=col>Df</th><th scope=col>SumOfSqs</th><th scope=col>R2</th><th scope=col>F</th><th scope=col>Pr(&gt;F)</th></tr></thead>\n",
       "<tbody>\n",
       "\t<tr><th scope=row>Age</th><td>  2        </td><td>0.11521846 </td><td>0.013221050</td><td> 1.8797779 </td><td>0.046      </td></tr>\n",
       "\t<tr><th scope=row>Sex</th><td>  1        </td><td>0.02024005 </td><td>0.002322498</td><td> 0.6604287 </td><td>0.752      </td></tr>\n",
       "\t<tr><th scope=row>Weight</th><td>  1        </td><td>0.53664807 </td><td>0.061579114</td><td>17.5107214 </td><td>0.001      </td></tr>\n",
       "\t<tr><th scope=row>Residual</th><td>261        </td><td>7.99882221 </td><td>0.917846180</td><td>        NA </td><td>   NA      </td></tr>\n",
       "\t<tr><th scope=row>Total</th><td>265        </td><td>8.71477420 </td><td>1.000000000</td><td>        NA </td><td>   NA      </td></tr>\n",
       "</tbody>\n",
       "</table>\n"
      ],
      "text/latex": [
       "\\begin{tabular}{r|lllll}\n",
       "  & Df & SumOfSqs & R2 & F & Pr(>F)\\\\\n",
       "\\hline\n",
       "\tAge &   2         & 0.11521846  & 0.013221050 &  1.8797779  & 0.046      \\\\\n",
       "\tSex &   1         & 0.02024005  & 0.002322498 &  0.6604287  & 0.752      \\\\\n",
       "\tWeight &   1         & 0.53664807  & 0.061579114 & 17.5107214  & 0.001      \\\\\n",
       "\tResidual & 261         & 7.99882221  & 0.917846180 &         NA  &    NA      \\\\\n",
       "\tTotal & 265         & 8.71477420  & 1.000000000 &         NA  &    NA      \\\\\n",
       "\\end{tabular}\n"
      ],
      "text/markdown": [
       "\n",
       "| <!--/--> | Df | SumOfSqs | R2 | F | Pr(>F) |\n",
       "|---|---|---|---|---|---|\n",
       "| Age |   2         | 0.11521846  | 0.013221050 |  1.8797779  | 0.046       |\n",
       "| Sex |   1         | 0.02024005  | 0.002322498 |  0.6604287  | 0.752       |\n",
       "| Weight |   1         | 0.53664807  | 0.061579114 | 17.5107214  | 0.001       |\n",
       "| Residual | 261         | 7.99882221  | 0.917846180 |         NA  |    NA       |\n",
       "| Total | 265         | 8.71477420  | 1.000000000 |         NA  |    NA       |\n",
       "\n"
      ],
      "text/plain": [
       "         Df  SumOfSqs   R2          F          Pr(>F)\n",
       "Age        2 0.11521846 0.013221050  1.8797779 0.046 \n",
       "Sex        1 0.02024005 0.002322498  0.6604287 0.752 \n",
       "Weight     1 0.53664807 0.061579114 17.5107214 0.001 \n",
       "Residual 261 7.99882221 0.917846180         NA    NA \n",
       "Total    265 8.71477420 1.000000000         NA    NA "
      ]
     },
     "metadata": {},
     "output_type": "display_data"
    }
   ],
   "source": [
    "adonis2(batfecal.20.wunif ~ Site_name, nperm=999, data=batfecal.20.df)\n",
    "adonis2(batfecal.20.wunif ~ Diet, strata=Site_name, nperm=999, data=batfecal.20.df)\n",
    "adonis2(batfecal.20.wunif ~ Site_name + Host_species, by=\"margin\", nperm=999, data=batfecal.20.df)\n",
    "adonis2(batfecal.20.wunif ~ Age + Sex + Weight, strata = Host_species, by=\"margin\", nperm=999, data=batfecal.20.df)"
   ]
  },
  {
   "cell_type": "code",
   "execution_count": 28,
   "metadata": {},
   "outputs": [
    {
     "data": {
      "text/html": [
       "<ol class=list-inline>\n",
       "\t<li>0.069</li>\n",
       "\t<li>0.752</li>\n",
       "\t<li>0.003</li>\n",
       "</ol>\n"
      ],
      "text/latex": [
       "\\begin{enumerate*}\n",
       "\\item 0.069\n",
       "\\item 0.752\n",
       "\\item 0.003\n",
       "\\end{enumerate*}\n"
      ],
      "text/markdown": [
       "1. 0.069\n",
       "2. 0.752\n",
       "3. 0.003\n",
       "\n",
       "\n"
      ],
      "text/plain": [
       "[1] 0.069 0.752 0.003"
      ]
     },
     "metadata": {},
     "output_type": "display_data"
    }
   ],
   "source": [
    "#FDR p-value correction\n",
    "p = c(\"0.046\",\"0.752\",\"0.001\")\n",
    "p.adjust(p, method = \"fdr\", n = length(p))"
   ]
  },
  {
   "cell_type": "markdown",
   "metadata": {},
   "source": [
    "#### ORAL"
   ]
  },
  {
   "cell_type": "code",
   "execution_count": 67,
   "metadata": {},
   "outputs": [
    {
     "data": {
      "text/html": [
       "<table>\n",
       "<thead><tr><th></th><th scope=col>Df</th><th scope=col>SumOfSqs</th><th scope=col>R2</th><th scope=col>F</th><th scope=col>Pr(&gt;F)</th></tr></thead>\n",
       "<tbody>\n",
       "\t<tr><th scope=row>Host_Family</th><td>  4      </td><td>2.528800 </td><td>0.3142558</td><td>26.12137 </td><td>0.001    </td></tr>\n",
       "\t<tr><th scope=row>Residual</th><td>228      </td><td>5.518148 </td><td>0.6857442</td><td>      NA </td><td>   NA    </td></tr>\n",
       "\t<tr><th scope=row>Total</th><td>232      </td><td>8.046948 </td><td>1.0000000</td><td>      NA </td><td>   NA    </td></tr>\n",
       "</tbody>\n",
       "</table>\n"
      ],
      "text/latex": [
       "\\begin{tabular}{r|lllll}\n",
       "  & Df & SumOfSqs & R2 & F & Pr(>F)\\\\\n",
       "\\hline\n",
       "\tHost\\_Family &   4       & 2.528800  & 0.3142558 & 26.12137  & 0.001    \\\\\n",
       "\tResidual & 228       & 5.518148  & 0.6857442 &       NA  &    NA    \\\\\n",
       "\tTotal & 232       & 8.046948  & 1.0000000 &       NA  &    NA    \\\\\n",
       "\\end{tabular}\n"
      ],
      "text/markdown": [
       "\n",
       "| <!--/--> | Df | SumOfSqs | R2 | F | Pr(>F) |\n",
       "|---|---|---|---|---|---|\n",
       "| Host_Family |   4       | 2.528800  | 0.3142558 | 26.12137  | 0.001     |\n",
       "| Residual | 228       | 5.518148  | 0.6857442 |       NA  |    NA     |\n",
       "| Total | 232       | 8.046948  | 1.0000000 |       NA  |    NA     |\n",
       "\n"
      ],
      "text/plain": [
       "            Df  SumOfSqs R2        F        Pr(>F)\n",
       "Host_Family   4 2.528800 0.3142558 26.12137 0.001 \n",
       "Residual    228 5.518148 0.6857442       NA    NA \n",
       "Total       232 8.046948 1.0000000       NA    NA "
      ]
     },
     "metadata": {},
     "output_type": "display_data"
    },
    {
     "data": {
      "text/html": [
       "<table>\n",
       "<thead><tr><th></th><th scope=col>Df</th><th scope=col>SumOfSqs</th><th scope=col>R2</th><th scope=col>F</th><th scope=col>Pr(&gt;F)</th></tr></thead>\n",
       "<tbody>\n",
       "\t<tr><th scope=row>Host_Family:Host_Genus</th><td>  5      </td><td>2.573272 </td><td>0.3197824</td><td>21.34334 </td><td>0.001    </td></tr>\n",
       "\t<tr><th scope=row>Residual</th><td>227      </td><td>5.473676 </td><td>0.6802176</td><td>      NA </td><td>   NA    </td></tr>\n",
       "\t<tr><th scope=row>Total</th><td>232      </td><td>8.046948 </td><td>1.0000000</td><td>      NA </td><td>   NA    </td></tr>\n",
       "</tbody>\n",
       "</table>\n"
      ],
      "text/latex": [
       "\\begin{tabular}{r|lllll}\n",
       "  & Df & SumOfSqs & R2 & F & Pr(>F)\\\\\n",
       "\\hline\n",
       "\tHost\\_Family:Host\\_Genus &   5       & 2.573272  & 0.3197824 & 21.34334  & 0.001    \\\\\n",
       "\tResidual & 227       & 5.473676  & 0.6802176 &       NA  &    NA    \\\\\n",
       "\tTotal & 232       & 8.046948  & 1.0000000 &       NA  &    NA    \\\\\n",
       "\\end{tabular}\n"
      ],
      "text/markdown": [
       "\n",
       "| <!--/--> | Df | SumOfSqs | R2 | F | Pr(>F) |\n",
       "|---|---|---|---|---|---|\n",
       "| Host_Family:Host_Genus |   5       | 2.573272  | 0.3197824 | 21.34334  | 0.001     |\n",
       "| Residual | 227       | 5.473676  | 0.6802176 |       NA  |    NA     |\n",
       "| Total | 232       | 8.046948  | 1.0000000 |       NA  |    NA     |\n",
       "\n"
      ],
      "text/plain": [
       "                       Df  SumOfSqs R2        F        Pr(>F)\n",
       "Host_Family:Host_Genus   5 2.573272 0.3197824 21.34334 0.001 \n",
       "Residual               227 5.473676 0.6802176       NA    NA \n",
       "Total                  232 8.046948 1.0000000       NA    NA "
      ]
     },
     "metadata": {},
     "output_type": "display_data"
    },
    {
     "data": {
      "text/html": [
       "<table>\n",
       "<thead><tr><th></th><th scope=col>Df</th><th scope=col>SumOfSqs</th><th scope=col>R2</th><th scope=col>F</th><th scope=col>Pr(&gt;F)</th></tr></thead>\n",
       "<tbody>\n",
       "\t<tr><th scope=row>Host_Family:Host_Genus:Host_species</th><td> 10      </td><td>3.419519 </td><td>0.4249461</td><td>16.40507 </td><td>0.001    </td></tr>\n",
       "\t<tr><th scope=row>Residual</th><td>222      </td><td>4.627429 </td><td>0.5750539</td><td>      NA </td><td>   NA    </td></tr>\n",
       "\t<tr><th scope=row>Total</th><td>232      </td><td>8.046948 </td><td>1.0000000</td><td>      NA </td><td>   NA    </td></tr>\n",
       "</tbody>\n",
       "</table>\n"
      ],
      "text/latex": [
       "\\begin{tabular}{r|lllll}\n",
       "  & Df & SumOfSqs & R2 & F & Pr(>F)\\\\\n",
       "\\hline\n",
       "\tHost\\_Family:Host\\_Genus:Host\\_species &  10       & 3.419519  & 0.4249461 & 16.40507  & 0.001    \\\\\n",
       "\tResidual & 222       & 4.627429  & 0.5750539 &       NA  &    NA    \\\\\n",
       "\tTotal & 232       & 8.046948  & 1.0000000 &       NA  &    NA    \\\\\n",
       "\\end{tabular}\n"
      ],
      "text/markdown": [
       "\n",
       "| <!--/--> | Df | SumOfSqs | R2 | F | Pr(>F) |\n",
       "|---|---|---|---|---|---|\n",
       "| Host_Family:Host_Genus:Host_species |  10       | 3.419519  | 0.4249461 | 16.40507  | 0.001     |\n",
       "| Residual | 222       | 4.627429  | 0.5750539 |       NA  |    NA     |\n",
       "| Total | 232       | 8.046948  | 1.0000000 |       NA  |    NA     |\n",
       "\n"
      ],
      "text/plain": [
       "                                    Df  SumOfSqs R2        F        Pr(>F)\n",
       "Host_Family:Host_Genus:Host_species  10 3.419519 0.4249461 16.40507 0.001 \n",
       "Residual                            222 4.627429 0.5750539       NA    NA \n",
       "Total                               232 8.046948 1.0000000       NA    NA "
      ]
     },
     "metadata": {},
     "output_type": "display_data"
    }
   ],
   "source": [
    "adonis2(batoral.20.wunif ~ Host_Family, nperm=999, data=batoral.20.df)\n",
    "adonis2(batoral.20.wunif ~ Host_Family:Host_Genus, nperm=999, data=batoral.20.df)\n",
    "adonis2(batoral.20.wunif ~ Host_Family:Host_Genus:Host_species, nperm=999, data=batoral.20.df)"
   ]
  },
  {
   "cell_type": "code",
   "execution_count": 13,
   "metadata": {},
   "outputs": [
    {
     "data": {
      "text/html": [
       "<table>\n",
       "<thead><tr><th></th><th scope=col>Df</th><th scope=col>SumOfSqs</th><th scope=col>R2</th><th scope=col>F</th><th scope=col>Pr(&gt;F)</th></tr></thead>\n",
       "<tbody>\n",
       "\t<tr><th scope=row>Site_name</th><td> 13      </td><td>2.675917 </td><td>0.3325381</td><td>8.392971 </td><td>0.001    </td></tr>\n",
       "\t<tr><th scope=row>Residual</th><td>219      </td><td>5.371031 </td><td>0.6674619</td><td>      NA </td><td>   NA    </td></tr>\n",
       "\t<tr><th scope=row>Total</th><td>232      </td><td>8.046948 </td><td>1.0000000</td><td>      NA </td><td>   NA    </td></tr>\n",
       "</tbody>\n",
       "</table>\n"
      ],
      "text/latex": [
       "\\begin{tabular}{r|lllll}\n",
       "  & Df & SumOfSqs & R2 & F & Pr(>F)\\\\\n",
       "\\hline\n",
       "\tSite\\_name &  13       & 2.675917  & 0.3325381 & 8.392971  & 0.001    \\\\\n",
       "\tResidual & 219       & 5.371031  & 0.6674619 &       NA  &    NA    \\\\\n",
       "\tTotal & 232       & 8.046948  & 1.0000000 &       NA  &    NA    \\\\\n",
       "\\end{tabular}\n"
      ],
      "text/markdown": [
       "\n",
       "| <!--/--> | Df | SumOfSqs | R2 | F | Pr(>F) |\n",
       "|---|---|---|---|---|---|\n",
       "| Site_name |  13       | 2.675917  | 0.3325381 | 8.392971  | 0.001     |\n",
       "| Residual | 219       | 5.371031  | 0.6674619 |       NA  |    NA     |\n",
       "| Total | 232       | 8.046948  | 1.0000000 |       NA  |    NA     |\n",
       "\n"
      ],
      "text/plain": [
       "          Df  SumOfSqs R2        F        Pr(>F)\n",
       "Site_name  13 2.675917 0.3325381 8.392971 0.001 \n",
       "Residual  219 5.371031 0.6674619       NA    NA \n",
       "Total     232 8.046948 1.0000000       NA    NA "
      ]
     },
     "metadata": {},
     "output_type": "display_data"
    },
    {
     "data": {
      "text/html": [
       "<table>\n",
       "<thead><tr><th></th><th scope=col>Df</th><th scope=col>SumOfSqs</th><th scope=col>R2</th><th scope=col>F</th><th scope=col>Pr(&gt;F)</th></tr></thead>\n",
       "<tbody>\n",
       "\t<tr><th scope=row>Diet</th><td>  1      </td><td>1.761307 </td><td>0.2188789</td><td>64.7288  </td><td>0.001    </td></tr>\n",
       "\t<tr><th scope=row>Residual</th><td>231      </td><td>6.285641 </td><td>0.7811211</td><td>     NA  </td><td>   NA    </td></tr>\n",
       "\t<tr><th scope=row>Total</th><td>232      </td><td>8.046948 </td><td>1.0000000</td><td>     NA  </td><td>   NA    </td></tr>\n",
       "</tbody>\n",
       "</table>\n"
      ],
      "text/latex": [
       "\\begin{tabular}{r|lllll}\n",
       "  & Df & SumOfSqs & R2 & F & Pr(>F)\\\\\n",
       "\\hline\n",
       "\tDiet &   1       & 1.761307  & 0.2188789 & 64.7288   & 0.001    \\\\\n",
       "\tResidual & 231       & 6.285641  & 0.7811211 &      NA   &    NA    \\\\\n",
       "\tTotal & 232       & 8.046948  & 1.0000000 &      NA   &    NA    \\\\\n",
       "\\end{tabular}\n"
      ],
      "text/markdown": [
       "\n",
       "| <!--/--> | Df | SumOfSqs | R2 | F | Pr(>F) |\n",
       "|---|---|---|---|---|---|\n",
       "| Diet |   1       | 1.761307  | 0.2188789 | 64.7288   | 0.001     |\n",
       "| Residual | 231       | 6.285641  | 0.7811211 |      NA   |    NA     |\n",
       "| Total | 232       | 8.046948  | 1.0000000 |      NA   |    NA     |\n",
       "\n"
      ],
      "text/plain": [
       "         Df  SumOfSqs R2        F       Pr(>F)\n",
       "Diet       1 1.761307 0.2188789 64.7288 0.001 \n",
       "Residual 231 6.285641 0.7811211      NA    NA \n",
       "Total    232 8.046948 1.0000000      NA    NA "
      ]
     },
     "metadata": {},
     "output_type": "display_data"
    },
    {
     "data": {
      "text/html": [
       "<table>\n",
       "<thead><tr><th></th><th scope=col>Df</th><th scope=col>SumOfSqs</th><th scope=col>R2</th><th scope=col>F</th><th scope=col>Pr(&gt;F)</th></tr></thead>\n",
       "<tbody>\n",
       "\t<tr><th scope=row>Site_name</th><td> 12       </td><td>0.496012  </td><td>0.06163976</td><td>2.101025  </td><td>0.001     </td></tr>\n",
       "\t<tr><th scope=row>Host_species</th><td>  9       </td><td>1.239614  </td><td>0.15404772</td><td>7.001067  </td><td>0.001     </td></tr>\n",
       "\t<tr><th scope=row>Residual</th><td>210       </td><td>4.131417  </td><td>0.51341417</td><td>      NA  </td><td>   NA     </td></tr>\n",
       "\t<tr><th scope=row>Total</th><td>232       </td><td>8.046948  </td><td>1.00000000</td><td>      NA  </td><td>   NA     </td></tr>\n",
       "</tbody>\n",
       "</table>\n"
      ],
      "text/latex": [
       "\\begin{tabular}{r|lllll}\n",
       "  & Df & SumOfSqs & R2 & F & Pr(>F)\\\\\n",
       "\\hline\n",
       "\tSite\\_name &  12        & 0.496012   & 0.06163976 & 2.101025   & 0.001     \\\\\n",
       "\tHost\\_species &   9        & 1.239614   & 0.15404772 & 7.001067   & 0.001     \\\\\n",
       "\tResidual & 210        & 4.131417   & 0.51341417 &       NA   &    NA     \\\\\n",
       "\tTotal & 232        & 8.046948   & 1.00000000 &       NA   &    NA     \\\\\n",
       "\\end{tabular}\n"
      ],
      "text/markdown": [
       "\n",
       "| <!--/--> | Df | SumOfSqs | R2 | F | Pr(>F) |\n",
       "|---|---|---|---|---|---|\n",
       "| Site_name |  12        | 0.496012   | 0.06163976 | 2.101025   | 0.001      |\n",
       "| Host_species |   9        | 1.239614   | 0.15404772 | 7.001067   | 0.001      |\n",
       "| Residual | 210        | 4.131417   | 0.51341417 |       NA   |    NA      |\n",
       "| Total | 232        | 8.046948   | 1.00000000 |       NA   |    NA      |\n",
       "\n"
      ],
      "text/plain": [
       "             Df  SumOfSqs R2         F        Pr(>F)\n",
       "Site_name     12 0.496012 0.06163976 2.101025 0.001 \n",
       "Host_species   9 1.239614 0.15404772 7.001067 0.001 \n",
       "Residual     210 4.131417 0.51341417       NA    NA \n",
       "Total        232 8.046948 1.00000000       NA    NA "
      ]
     },
     "metadata": {},
     "output_type": "display_data"
    },
    {
     "data": {
      "text/html": [
       "<table>\n",
       "<thead><tr><th></th><th scope=col>Df</th><th scope=col>SumOfSqs</th><th scope=col>R2</th><th scope=col>F</th><th scope=col>Pr(&gt;F)</th></tr></thead>\n",
       "<tbody>\n",
       "\t<tr><th scope=row>Age</th><td>  2       </td><td>0.1752010 </td><td>0.02177235</td><td> 3.082505 </td><td>0.005     </td></tr>\n",
       "\t<tr><th scope=row>Sex</th><td>  1       </td><td>0.1099954 </td><td>0.01366920</td><td> 3.870541 </td><td>0.008     </td></tr>\n",
       "\t<tr><th scope=row>Weight</th><td>  1       </td><td>1.1133880 </td><td>0.13836152</td><td>39.178137 </td><td>0.001     </td></tr>\n",
       "\t<tr><th scope=row>Residual</th><td>228       </td><td>6.4794419 </td><td>0.80520488</td><td>       NA </td><td>   NA     </td></tr>\n",
       "\t<tr><th scope=row>Total</th><td>232       </td><td>8.0469482 </td><td>1.00000000</td><td>       NA </td><td>   NA     </td></tr>\n",
       "</tbody>\n",
       "</table>\n"
      ],
      "text/latex": [
       "\\begin{tabular}{r|lllll}\n",
       "  & Df & SumOfSqs & R2 & F & Pr(>F)\\\\\n",
       "\\hline\n",
       "\tAge &   2        & 0.1752010  & 0.02177235 &  3.082505  & 0.005     \\\\\n",
       "\tSex &   1        & 0.1099954  & 0.01366920 &  3.870541  & 0.008     \\\\\n",
       "\tWeight &   1        & 1.1133880  & 0.13836152 & 39.178137  & 0.001     \\\\\n",
       "\tResidual & 228        & 6.4794419  & 0.80520488 &        NA  &    NA     \\\\\n",
       "\tTotal & 232        & 8.0469482  & 1.00000000 &        NA  &    NA     \\\\\n",
       "\\end{tabular}\n"
      ],
      "text/markdown": [
       "\n",
       "| <!--/--> | Df | SumOfSqs | R2 | F | Pr(>F) |\n",
       "|---|---|---|---|---|---|\n",
       "| Age |   2        | 0.1752010  | 0.02177235 |  3.082505  | 0.005      |\n",
       "| Sex |   1        | 0.1099954  | 0.01366920 |  3.870541  | 0.008      |\n",
       "| Weight |   1        | 1.1133880  | 0.13836152 | 39.178137  | 0.001      |\n",
       "| Residual | 228        | 6.4794419  | 0.80520488 |        NA  |    NA      |\n",
       "| Total | 232        | 8.0469482  | 1.00000000 |        NA  |    NA      |\n",
       "\n"
      ],
      "text/plain": [
       "         Df  SumOfSqs  R2         F         Pr(>F)\n",
       "Age        2 0.1752010 0.02177235  3.082505 0.005 \n",
       "Sex        1 0.1099954 0.01366920  3.870541 0.008 \n",
       "Weight     1 1.1133880 0.13836152 39.178137 0.001 \n",
       "Residual 228 6.4794419 0.80520488        NA    NA \n",
       "Total    232 8.0469482 1.00000000        NA    NA "
      ]
     },
     "metadata": {},
     "output_type": "display_data"
    }
   ],
   "source": [
    "adonis2(batoral.20.wunif ~ Site_name, nperm=999, data=batoral.20.df)\n",
    "adonis2(batoral.20.wunif ~ Diet, strata=Site_name, nperm=999, data=batoral.20.df)\n",
    "adonis2(batoral.20.wunif ~ Site_name + Host_species, by=\"margin\", nperm=999, data=batoral.20.df)\n",
    "adonis2(batoral.20.wunif ~ Age + Sex + Weight, strata = Host_species, by=\"margin\", nperm=999, data=batoral.20.df)"
   ]
  },
  {
   "cell_type": "code",
   "execution_count": 29,
   "metadata": {},
   "outputs": [
    {
     "data": {
      "text/html": [
       "<ol class=list-inline>\n",
       "\t<li>0.0075</li>\n",
       "\t<li>0.008</li>\n",
       "\t<li>0.003</li>\n",
       "</ol>\n"
      ],
      "text/latex": [
       "\\begin{enumerate*}\n",
       "\\item 0.0075\n",
       "\\item 0.008\n",
       "\\item 0.003\n",
       "\\end{enumerate*}\n"
      ],
      "text/markdown": [
       "1. 0.0075\n",
       "2. 0.008\n",
       "3. 0.003\n",
       "\n",
       "\n"
      ],
      "text/plain": [
       "[1] 0.0075 0.0080 0.0030"
      ]
     },
     "metadata": {},
     "output_type": "display_data"
    }
   ],
   "source": [
    "#FDR p-value correction\n",
    "p = c(\"0.005\",\"0.008\",\"0.001\")\n",
    "p.adjust(p, method = \"fdr\", n = length(p))"
   ]
  },
  {
   "cell_type": "markdown",
   "metadata": {},
   "source": [
    "#### SKIN"
   ]
  },
  {
   "cell_type": "code",
   "execution_count": 70,
   "metadata": {},
   "outputs": [
    {
     "data": {
      "text/html": [
       "<table>\n",
       "<thead><tr><th></th><th scope=col>Df</th><th scope=col>SumOfSqs</th><th scope=col>R2</th><th scope=col>F</th><th scope=col>Pr(&gt;F)</th></tr></thead>\n",
       "<tbody>\n",
       "\t<tr><th scope=row>Host_Family</th><td>  4      </td><td>1.414328 </td><td>0.1486588</td><td>11.61204 </td><td>0.001    </td></tr>\n",
       "\t<tr><th scope=row>Residual</th><td>266      </td><td>8.099593 </td><td>0.8513412</td><td>      NA </td><td>   NA    </td></tr>\n",
       "\t<tr><th scope=row>Total</th><td>270      </td><td>9.513921 </td><td>1.0000000</td><td>      NA </td><td>   NA    </td></tr>\n",
       "</tbody>\n",
       "</table>\n"
      ],
      "text/latex": [
       "\\begin{tabular}{r|lllll}\n",
       "  & Df & SumOfSqs & R2 & F & Pr(>F)\\\\\n",
       "\\hline\n",
       "\tHost\\_Family &   4       & 1.414328  & 0.1486588 & 11.61204  & 0.001    \\\\\n",
       "\tResidual & 266       & 8.099593  & 0.8513412 &       NA  &    NA    \\\\\n",
       "\tTotal & 270       & 9.513921  & 1.0000000 &       NA  &    NA    \\\\\n",
       "\\end{tabular}\n"
      ],
      "text/markdown": [
       "\n",
       "| <!--/--> | Df | SumOfSqs | R2 | F | Pr(>F) |\n",
       "|---|---|---|---|---|---|\n",
       "| Host_Family |   4       | 1.414328  | 0.1486588 | 11.61204  | 0.001     |\n",
       "| Residual | 266       | 8.099593  | 0.8513412 |       NA  |    NA     |\n",
       "| Total | 270       | 9.513921  | 1.0000000 |       NA  |    NA     |\n",
       "\n"
      ],
      "text/plain": [
       "            Df  SumOfSqs R2        F        Pr(>F)\n",
       "Host_Family   4 1.414328 0.1486588 11.61204 0.001 \n",
       "Residual    266 8.099593 0.8513412       NA    NA \n",
       "Total       270 9.513921 1.0000000       NA    NA "
      ]
     },
     "metadata": {},
     "output_type": "display_data"
    },
    {
     "data": {
      "text/html": [
       "<table>\n",
       "<thead><tr><th></th><th scope=col>Df</th><th scope=col>SumOfSqs</th><th scope=col>R2</th><th scope=col>F</th><th scope=col>Pr(&gt;F)</th></tr></thead>\n",
       "<tbody>\n",
       "\t<tr><th scope=row>Host_Family:Host_Genus</th><td>  5      </td><td>1.683453 </td><td>0.1769462</td><td>11.39434 </td><td>0.001    </td></tr>\n",
       "\t<tr><th scope=row>Residual</th><td>265      </td><td>7.830469 </td><td>0.8230538</td><td>      NA </td><td>   NA    </td></tr>\n",
       "\t<tr><th scope=row>Total</th><td>270      </td><td>9.513921 </td><td>1.0000000</td><td>      NA </td><td>   NA    </td></tr>\n",
       "</tbody>\n",
       "</table>\n"
      ],
      "text/latex": [
       "\\begin{tabular}{r|lllll}\n",
       "  & Df & SumOfSqs & R2 & F & Pr(>F)\\\\\n",
       "\\hline\n",
       "\tHost\\_Family:Host\\_Genus &   5       & 1.683453  & 0.1769462 & 11.39434  & 0.001    \\\\\n",
       "\tResidual & 265       & 7.830469  & 0.8230538 &       NA  &    NA    \\\\\n",
       "\tTotal & 270       & 9.513921  & 1.0000000 &       NA  &    NA    \\\\\n",
       "\\end{tabular}\n"
      ],
      "text/markdown": [
       "\n",
       "| <!--/--> | Df | SumOfSqs | R2 | F | Pr(>F) |\n",
       "|---|---|---|---|---|---|\n",
       "| Host_Family:Host_Genus |   5       | 1.683453  | 0.1769462 | 11.39434  | 0.001     |\n",
       "| Residual | 265       | 7.830469  | 0.8230538 |       NA  |    NA     |\n",
       "| Total | 270       | 9.513921  | 1.0000000 |       NA  |    NA     |\n",
       "\n"
      ],
      "text/plain": [
       "                       Df  SumOfSqs R2        F        Pr(>F)\n",
       "Host_Family:Host_Genus   5 1.683453 0.1769462 11.39434 0.001 \n",
       "Residual               265 7.830469 0.8230538       NA    NA \n",
       "Total                  270 9.513921 1.0000000       NA    NA "
      ]
     },
     "metadata": {},
     "output_type": "display_data"
    },
    {
     "data": {
      "text/html": [
       "<table>\n",
       "<thead><tr><th></th><th scope=col>Df</th><th scope=col>SumOfSqs</th><th scope=col>R2</th><th scope=col>F</th><th scope=col>Pr(&gt;F)</th></tr></thead>\n",
       "<tbody>\n",
       "\t<tr><th scope=row>Host_Family:Host_Genus:Host_species</th><td> 10      </td><td>2.430933 </td><td>0.2555133</td><td>8.92339  </td><td>0.001    </td></tr>\n",
       "\t<tr><th scope=row>Residual</th><td>260      </td><td>7.082988 </td><td>0.7444867</td><td>     NA  </td><td>   NA    </td></tr>\n",
       "\t<tr><th scope=row>Total</th><td>270      </td><td>9.513921 </td><td>1.0000000</td><td>     NA  </td><td>   NA    </td></tr>\n",
       "</tbody>\n",
       "</table>\n"
      ],
      "text/latex": [
       "\\begin{tabular}{r|lllll}\n",
       "  & Df & SumOfSqs & R2 & F & Pr(>F)\\\\\n",
       "\\hline\n",
       "\tHost\\_Family:Host\\_Genus:Host\\_species &  10       & 2.430933  & 0.2555133 & 8.92339   & 0.001    \\\\\n",
       "\tResidual & 260       & 7.082988  & 0.7444867 &      NA   &    NA    \\\\\n",
       "\tTotal & 270       & 9.513921  & 1.0000000 &      NA   &    NA    \\\\\n",
       "\\end{tabular}\n"
      ],
      "text/markdown": [
       "\n",
       "| <!--/--> | Df | SumOfSqs | R2 | F | Pr(>F) |\n",
       "|---|---|---|---|---|---|\n",
       "| Host_Family:Host_Genus:Host_species |  10       | 2.430933  | 0.2555133 | 8.92339   | 0.001     |\n",
       "| Residual | 260       | 7.082988  | 0.7444867 |      NA   |    NA     |\n",
       "| Total | 270       | 9.513921  | 1.0000000 |      NA   |    NA     |\n",
       "\n"
      ],
      "text/plain": [
       "                                    Df  SumOfSqs R2        F       Pr(>F)\n",
       "Host_Family:Host_Genus:Host_species  10 2.430933 0.2555133 8.92339 0.001 \n",
       "Residual                            260 7.082988 0.7444867      NA    NA \n",
       "Total                               270 9.513921 1.0000000      NA    NA "
      ]
     },
     "metadata": {},
     "output_type": "display_data"
    }
   ],
   "source": [
    "adonis2(batskin.20.wunif ~ Host_Family, nperm=999, data=batskin.20.df)\n",
    "adonis2(batskin.20.wunif ~ Host_Family:Host_Genus, nperm=999, data=batskin.20.df)\n",
    "adonis2(batskin.20.wunif ~ Host_Family:Host_Genus:Host_species, nperm=999, data=batskin.20.df)"
   ]
  },
  {
   "cell_type": "code",
   "execution_count": 32,
   "metadata": {},
   "outputs": [
    {
     "data": {
      "text/html": [
       "<table>\n",
       "<thead><tr><th></th><th scope=col>Df</th><th scope=col>SumOfSqs</th><th scope=col>R2</th><th scope=col>F</th><th scope=col>Pr(&gt;F)</th></tr></thead>\n",
       "<tbody>\n",
       "\t<tr><th scope=row>Site_name</th><td> 15      </td><td>4.138439 </td><td>0.4349877</td><td>13.08784 </td><td>0.001    </td></tr>\n",
       "\t<tr><th scope=row>Residual</th><td>255      </td><td>5.375482 </td><td>0.5650123</td><td>      NA </td><td>   NA    </td></tr>\n",
       "\t<tr><th scope=row>Total</th><td>270      </td><td>9.513921 </td><td>1.0000000</td><td>      NA </td><td>   NA    </td></tr>\n",
       "</tbody>\n",
       "</table>\n"
      ],
      "text/latex": [
       "\\begin{tabular}{r|lllll}\n",
       "  & Df & SumOfSqs & R2 & F & Pr(>F)\\\\\n",
       "\\hline\n",
       "\tSite\\_name &  15       & 4.138439  & 0.4349877 & 13.08784  & 0.001    \\\\\n",
       "\tResidual & 255       & 5.375482  & 0.5650123 &       NA  &    NA    \\\\\n",
       "\tTotal & 270       & 9.513921  & 1.0000000 &       NA  &    NA    \\\\\n",
       "\\end{tabular}\n"
      ],
      "text/markdown": [
       "\n",
       "| <!--/--> | Df | SumOfSqs | R2 | F | Pr(>F) |\n",
       "|---|---|---|---|---|---|\n",
       "| Site_name |  15       | 4.138439  | 0.4349877 | 13.08784  | 0.001     |\n",
       "| Residual | 255       | 5.375482  | 0.5650123 |       NA  |    NA     |\n",
       "| Total | 270       | 9.513921  | 1.0000000 |       NA  |    NA     |\n",
       "\n"
      ],
      "text/plain": [
       "          Df  SumOfSqs R2        F        Pr(>F)\n",
       "Site_name  15 4.138439 0.4349877 13.08784 0.001 \n",
       "Residual  255 5.375482 0.5650123       NA    NA \n",
       "Total     270 9.513921 1.0000000       NA    NA "
      ]
     },
     "metadata": {},
     "output_type": "display_data"
    },
    {
     "data": {
      "text/html": [
       "<table>\n",
       "<thead><tr><th></th><th scope=col>Df</th><th scope=col>SumOfSqs</th><th scope=col>R2</th><th scope=col>F</th><th scope=col>Pr(&gt;F)</th></tr></thead>\n",
       "<tbody>\n",
       "\t<tr><th scope=row>Diet</th><td>  1       </td><td>0.5959921 </td><td>0.06264421</td><td>17.97748  </td><td>0.001     </td></tr>\n",
       "\t<tr><th scope=row>Residual</th><td>269       </td><td>8.9179291 </td><td>0.93735579</td><td>      NA  </td><td>   NA     </td></tr>\n",
       "\t<tr><th scope=row>Total</th><td>270       </td><td>9.5139212 </td><td>1.00000000</td><td>      NA  </td><td>   NA     </td></tr>\n",
       "</tbody>\n",
       "</table>\n"
      ],
      "text/latex": [
       "\\begin{tabular}{r|lllll}\n",
       "  & Df & SumOfSqs & R2 & F & Pr(>F)\\\\\n",
       "\\hline\n",
       "\tDiet &   1        & 0.5959921  & 0.06264421 & 17.97748   & 0.001     \\\\\n",
       "\tResidual & 269        & 8.9179291  & 0.93735579 &       NA   &    NA     \\\\\n",
       "\tTotal & 270        & 9.5139212  & 1.00000000 &       NA   &    NA     \\\\\n",
       "\\end{tabular}\n"
      ],
      "text/markdown": [
       "\n",
       "| <!--/--> | Df | SumOfSqs | R2 | F | Pr(>F) |\n",
       "|---|---|---|---|---|---|\n",
       "| Diet |   1        | 0.5959921  | 0.06264421 | 17.97748   | 0.001      |\n",
       "| Residual | 269        | 8.9179291  | 0.93735579 |       NA   |    NA      |\n",
       "| Total | 270        | 9.5139212  | 1.00000000 |       NA   |    NA      |\n",
       "\n"
      ],
      "text/plain": [
       "         Df  SumOfSqs  R2         F        Pr(>F)\n",
       "Diet       1 0.5959921 0.06264421 17.97748 0.001 \n",
       "Residual 269 8.9179291 0.93735579       NA    NA \n",
       "Total    270 9.5139212 1.00000000       NA    NA "
      ]
     },
     "metadata": {},
     "output_type": "display_data"
    },
    {
     "data": {
      "text/html": [
       "<table>\n",
       "<thead><tr><th></th><th scope=col>Df</th><th scope=col>SumOfSqs</th><th scope=col>R2</th><th scope=col>F</th><th scope=col>Pr(&gt;F)</th></tr></thead>\n",
       "<tbody>\n",
       "\t<tr><th scope=row>Site_name</th><td> 14       </td><td>2.5306252 </td><td>0.26599182</td><td>9.767829  </td><td>0.001     </td></tr>\n",
       "\t<tr><th scope=row>Host_species</th><td>  9       </td><td>0.8231197 </td><td>0.08651739</td><td>4.942182  </td><td>0.001     </td></tr>\n",
       "\t<tr><th scope=row>Residual</th><td>246       </td><td>4.5523628 </td><td>0.47849490</td><td>      NA  </td><td>   NA     </td></tr>\n",
       "\t<tr><th scope=row>Total</th><td>270       </td><td>9.5139212 </td><td>1.00000000</td><td>      NA  </td><td>   NA     </td></tr>\n",
       "</tbody>\n",
       "</table>\n"
      ],
      "text/latex": [
       "\\begin{tabular}{r|lllll}\n",
       "  & Df & SumOfSqs & R2 & F & Pr(>F)\\\\\n",
       "\\hline\n",
       "\tSite\\_name &  14        & 2.5306252  & 0.26599182 & 9.767829   & 0.001     \\\\\n",
       "\tHost\\_species &   9        & 0.8231197  & 0.08651739 & 4.942182   & 0.001     \\\\\n",
       "\tResidual & 246        & 4.5523628  & 0.47849490 &       NA   &    NA     \\\\\n",
       "\tTotal & 270        & 9.5139212  & 1.00000000 &       NA   &    NA     \\\\\n",
       "\\end{tabular}\n"
      ],
      "text/markdown": [
       "\n",
       "| <!--/--> | Df | SumOfSqs | R2 | F | Pr(>F) |\n",
       "|---|---|---|---|---|---|\n",
       "| Site_name |  14        | 2.5306252  | 0.26599182 | 9.767829   | 0.001      |\n",
       "| Host_species |   9        | 0.8231197  | 0.08651739 | 4.942182   | 0.001      |\n",
       "| Residual | 246        | 4.5523628  | 0.47849490 |       NA   |    NA      |\n",
       "| Total | 270        | 9.5139212  | 1.00000000 |       NA   |    NA      |\n",
       "\n"
      ],
      "text/plain": [
       "             Df  SumOfSqs  R2         F        Pr(>F)\n",
       "Site_name     14 2.5306252 0.26599182 9.767829 0.001 \n",
       "Host_species   9 0.8231197 0.08651739 4.942182 0.001 \n",
       "Residual     246 4.5523628 0.47849490       NA    NA \n",
       "Total        270 9.5139212 1.00000000       NA    NA "
      ]
     },
     "metadata": {},
     "output_type": "display_data"
    },
    {
     "data": {
      "text/html": [
       "<table>\n",
       "<thead><tr><th></th><th scope=col>Df</th><th scope=col>SumOfSqs</th><th scope=col>R2</th><th scope=col>F</th><th scope=col>Pr(&gt;F)</th></tr></thead>\n",
       "<tbody>\n",
       "\t<tr><th scope=row>Age</th><td>  2        </td><td>0.22960947 </td><td>0.024134052</td><td> 3.498618  </td><td>0.001      </td></tr>\n",
       "\t<tr><th scope=row>Sex</th><td>  1        </td><td>0.05823363 </td><td>0.006120887</td><td> 1.774642  </td><td>0.058      </td></tr>\n",
       "\t<tr><th scope=row>Weight</th><td>  1        </td><td>0.40199659 </td><td>0.042253513</td><td>12.250650  </td><td>0.001      </td></tr>\n",
       "\t<tr><th scope=row>Residual</th><td>266        </td><td>8.72860566 </td><td>0.917456164</td><td>       NA  </td><td>   NA      </td></tr>\n",
       "\t<tr><th scope=row>Total</th><td>270        </td><td>9.51392122 </td><td>1.000000000</td><td>       NA  </td><td>   NA      </td></tr>\n",
       "</tbody>\n",
       "</table>\n"
      ],
      "text/latex": [
       "\\begin{tabular}{r|lllll}\n",
       "  & Df & SumOfSqs & R2 & F & Pr(>F)\\\\\n",
       "\\hline\n",
       "\tAge &   2         & 0.22960947  & 0.024134052 &  3.498618   & 0.001      \\\\\n",
       "\tSex &   1         & 0.05823363  & 0.006120887 &  1.774642   & 0.058      \\\\\n",
       "\tWeight &   1         & 0.40199659  & 0.042253513 & 12.250650   & 0.001      \\\\\n",
       "\tResidual & 266         & 8.72860566  & 0.917456164 &        NA   &    NA      \\\\\n",
       "\tTotal & 270         & 9.51392122  & 1.000000000 &        NA   &    NA      \\\\\n",
       "\\end{tabular}\n"
      ],
      "text/markdown": [
       "\n",
       "| <!--/--> | Df | SumOfSqs | R2 | F | Pr(>F) |\n",
       "|---|---|---|---|---|---|\n",
       "| Age |   2         | 0.22960947  | 0.024134052 |  3.498618   | 0.001       |\n",
       "| Sex |   1         | 0.05823363  | 0.006120887 |  1.774642   | 0.058       |\n",
       "| Weight |   1         | 0.40199659  | 0.042253513 | 12.250650   | 0.001       |\n",
       "| Residual | 266         | 8.72860566  | 0.917456164 |        NA   |    NA       |\n",
       "| Total | 270         | 9.51392122  | 1.000000000 |        NA   |    NA       |\n",
       "\n"
      ],
      "text/plain": [
       "         Df  SumOfSqs   R2          F         Pr(>F)\n",
       "Age        2 0.22960947 0.024134052  3.498618 0.001 \n",
       "Sex        1 0.05823363 0.006120887  1.774642 0.058 \n",
       "Weight     1 0.40199659 0.042253513 12.250650 0.001 \n",
       "Residual 266 8.72860566 0.917456164        NA    NA \n",
       "Total    270 9.51392122 1.000000000        NA    NA "
      ]
     },
     "metadata": {},
     "output_type": "display_data"
    }
   ],
   "source": [
    "adonis2(batskin.20.wunif ~ Site_name, nperm=999, data=batskin.20.df)\n",
    "adonis2(batskin.20.wunif ~ Diet, strata=Site_name, nperm=999, data=batskin.20.df)\n",
    "adonis2(batskin.20.wunif ~ Site_name + Host_species, by=\"margin\", nperm=999, data=batskin.20.df)\n",
    "adonis2(batskin.20.wunif ~ Age + Sex + Weight, strata = Host_species, by=\"margin\", nperm=999, data=batskin.20.df)"
   ]
  },
  {
   "cell_type": "code",
   "execution_count": 33,
   "metadata": {},
   "outputs": [
    {
     "data": {
      "text/html": [
       "<ol class=list-inline>\n",
       "\t<li>0.0015</li>\n",
       "\t<li>0.058</li>\n",
       "\t<li>0.0015</li>\n",
       "</ol>\n"
      ],
      "text/latex": [
       "\\begin{enumerate*}\n",
       "\\item 0.0015\n",
       "\\item 0.058\n",
       "\\item 0.0015\n",
       "\\end{enumerate*}\n"
      ],
      "text/markdown": [
       "1. 0.0015\n",
       "2. 0.058\n",
       "3. 0.0015\n",
       "\n",
       "\n"
      ],
      "text/plain": [
       "[1] 0.0015 0.0580 0.0015"
      ]
     },
     "metadata": {},
     "output_type": "display_data"
    }
   ],
   "source": [
    "#FDR p-value correction\n",
    "p = c(\"0.001\",\"0.058\",\"0.001\")\n",
    "p.adjust(p, method = \"fdr\", n = length(p))"
   ]
  }
 ],
 "metadata": {
  "kernelspec": {
   "display_name": "R 3.4.1",
   "language": "R",
   "name": "ir3.4.1"
  },
  "language_info": {
   "codemirror_mode": "r",
   "file_extension": ".r",
   "mimetype": "text/x-r-source",
   "name": "R",
   "pygments_lexer": "r",
   "version": "3.4.1"
  }
 },
 "nbformat": 4,
 "nbformat_minor": 2
}
